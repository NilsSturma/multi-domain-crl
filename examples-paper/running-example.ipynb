{
 "cells": [
  {
   "cell_type": "code",
   "execution_count": 60,
   "id": "55de5d6e",
   "metadata": {},
   "outputs": [],
   "source": [
    "import numpy as np\n",
    "import pandas as pd"
   ]
  },
  {
   "cell_type": "code",
   "execution_count": 61,
   "id": "4a0566b2",
   "metadata": {},
   "outputs": [
    {
     "name": "stdout",
     "output_type": "stream",
     "text": [
      "Defining a21, a41, a43, ge11, ge12, ge13, ge14, ge21, ge22, ge23, ge24, ge31, ge32, ge33, ge34, ge41, ge42, ge43, ge44, gf11, gf12, gf13, gf21, gf22, gf23, gf31, gf32, gf33, gf41, gf42, gf43, gf51, gf52, gf53\n"
     ]
    }
   ],
   "source": [
    "n = 3+16+15\n",
    "order = \"deglex\" # block-monomial order\n",
    "R.< \\\n",
    "    a21, a41, a43, \\\n",
    "    ge11, ge12, ge13, ge14, ge21, ge22, ge23, ge24, ge31, ge32, ge33, ge34, ge41, ge42, ge43, ge44,\\\n",
    "    gf11, gf12, gf13, gf21, gf22, gf23, gf31, gf32, gf33, gf41, gf42, gf43, gf51, gf52, gf53 \\\n",
    "> = PolynomialRing(QQ, n, order=order)\n",
    "R.inject_variables()"
   ]
  },
  {
   "cell_type": "code",
   "execution_count": 62,
   "id": "9f036166",
   "metadata": {},
   "outputs": [
    {
     "data": {
      "text/plain": [
       "[  0   0   0   0   0]\n",
       "[a21   0   0   0   0]\n",
       "[  0   0   0   0   0]\n",
       "[a41   0 a43   0   0]\n",
       "[  0   0   0   0   0]"
      ]
     },
     "execution_count": 62,
     "metadata": {},
     "output_type": "execute_result"
    }
   ],
   "source": [
    "A = matrix([[0, 0, 0, 0, 0],\n",
    "            [a21, 0, 0, 0, 0], \n",
    "            [0, 0, 0, 0, 0], \n",
    "            [a41, 0, a43, 0, 0], \n",
    "            [0, 0, 0, 0, 0]])\n",
    "A"
   ]
  },
  {
   "cell_type": "code",
   "execution_count": 63,
   "id": "5fea5267",
   "metadata": {},
   "outputs": [
    {
     "data": {
      "text/plain": [
       "[ge11 ge12 ge13    0]\n",
       "[ge21    0 ge23    0]\n",
       "[   0 ge32 ge33 ge34]\n",
       "[ge41 ge42 ge43 ge44]"
      ]
     },
     "execution_count": 63,
     "metadata": {},
     "output_type": "execute_result"
    }
   ],
   "source": [
    "G_e = matrix([[ge11, ge12, ge13, 0], \n",
    "              [ge21, 0, ge23, 0], \n",
    "              [0, ge32, ge33, ge34], \n",
    "              [ge41, ge42, ge43, ge44]])\n",
    "G_e"
   ]
  },
  {
   "cell_type": "code",
   "execution_count": 71,
   "id": "95f9a52e",
   "metadata": {},
   "outputs": [
    {
     "data": {
      "text/html": [
       "<html>\\(\\displaystyle \\left(\\begin{array}{rrr}\n",
       "\\mathit{gf}_{11} & 0 & \\mathit{gf}_{13} \\\\\n",
       "\\mathit{gf}_{21} & \\mathit{gf}_{22} & \\mathit{gf}_{23} \\\\\n",
       "0 & \\mathit{gf}_{32} & 0 \\\\\n",
       "\\mathit{gf}_{41} & \\mathit{gf}_{42} & \\mathit{gf}_{43} \\\\\n",
       "\\mathit{gf}_{51} & \\mathit{gf}_{52} & 0\n",
       "\\end{array}\\right)\\)</html>"
      ],
      "text/latex": [
       "$\\displaystyle \\left(\\begin{array}{rrr}\n",
       "\\mathit{gf}_{11} & 0 & \\mathit{gf}_{13} \\\\\n",
       "\\mathit{gf}_{21} & \\mathit{gf}_{22} & \\mathit{gf}_{23} \\\\\n",
       "0 & \\mathit{gf}_{32} & 0 \\\\\n",
       "\\mathit{gf}_{41} & \\mathit{gf}_{42} & \\mathit{gf}_{43} \\\\\n",
       "\\mathit{gf}_{51} & \\mathit{gf}_{52} & 0\n",
       "\\end{array}\\right)$"
      ],
      "text/plain": [
       "[gf11    0 gf13]\n",
       "[gf21 gf22 gf23]\n",
       "[   0 gf32    0]\n",
       "[gf41 gf42 gf43]\n",
       "[gf51 gf52    0]"
      ]
     },
     "execution_count": 71,
     "metadata": {},
     "output_type": "execute_result"
    }
   ],
   "source": [
    "G_f = matrix([[gf11, 0, gf13],\n",
    "              [gf21, gf22, gf23],\n",
    "              [0, gf32, 0],\n",
    "              [gf41, gf42, gf43],\n",
    "              [gf51, gf52, 0]])\n",
    "G_f"
   ]
  },
  {
   "cell_type": "code",
   "execution_count": 72,
   "id": "79bbd276",
   "metadata": {},
   "outputs": [
    {
     "data": {
      "text/html": [
       "<html>\\(\\displaystyle \\left(\\begin{array}{rrrrr}\n",
       "1 & 0 & 0 & 0 & 0 \\\\\n",
       "0 & 1 & 0 & 0 & 0 \\\\\n",
       "0 & 0 & 1 & 0 & 0 \\\\\n",
       "0 & 0 & 0 & 1 & 0 \\\\\n",
       "0 & 0 & 0 & 0 & 1\n",
       "\\end{array}\\right)\\)</html>"
      ],
      "text/latex": [
       "$\\displaystyle \\left(\\begin{array}{rrrrr}\n",
       "1 & 0 & 0 & 0 & 0 \\\\\n",
       "0 & 1 & 0 & 0 & 0 \\\\\n",
       "0 & 0 & 1 & 0 & 0 \\\\\n",
       "0 & 0 & 0 & 1 & 0 \\\\\n",
       "0 & 0 & 0 & 0 & 1\n",
       "\\end{array}\\right)$"
      ],
      "text/plain": [
       "[1 0 0 0 0]\n",
       "[0 1 0 0 0]\n",
       "[0 0 1 0 0]\n",
       "[0 0 0 1 0]\n",
       "[0 0 0 0 1]"
      ]
     },
     "execution_count": 72,
     "metadata": {},
     "output_type": "execute_result"
    }
   ],
   "source": [
    "Id = identity_matrix(5)\n",
    "Id"
   ]
  },
  {
   "cell_type": "code",
   "execution_count": 73,
   "id": "d6232f3d",
   "metadata": {},
   "outputs": [
    {
     "data": {
      "text/html": [
       "<html>\\(\\displaystyle \\left(\\begin{array}{rrrrr}\n",
       "1 & 0 & 0 & 0 & 0 \\\\\n",
       "a_{21} & 1 & 0 & 0 & 0 \\\\\n",
       "0 & 0 & 1 & 0 & 0 \\\\\n",
       "a_{41} & 0 & a_{43} & 1 & 0 \\\\\n",
       "0 & 0 & 0 & 0 & 1\n",
       "\\end{array}\\right)\\)</html>"
      ],
      "text/latex": [
       "$\\displaystyle \\left(\\begin{array}{rrrrr}\n",
       "1 & 0 & 0 & 0 & 0 \\\\\n",
       "a_{21} & 1 & 0 & 0 & 0 \\\\\n",
       "0 & 0 & 1 & 0 & 0 \\\\\n",
       "a_{41} & 0 & a_{43} & 1 & 0 \\\\\n",
       "0 & 0 & 0 & 0 & 1\n",
       "\\end{array}\\right)$"
      ],
      "text/plain": [
       "[  1   0   0   0   0]\n",
       "[a21   1   0   0   0]\n",
       "[  0   0   1   0   0]\n",
       "[a41   0 a43   1   0]\n",
       "[  0   0   0   0   1]"
      ]
     },
     "execution_count": 73,
     "metadata": {},
     "output_type": "execute_result"
    }
   ],
   "source": [
    "(Id - A).inverse()"
   ]
  },
  {
   "cell_type": "code",
   "execution_count": 74,
   "id": "735e01b6",
   "metadata": {},
   "outputs": [
    {
     "data": {
      "text/html": [
       "<html>\\(\\displaystyle \\left(\\begin{array}{rrrrr}\n",
       "\\mathit{ge}_{11} & \\mathit{ge}_{12} & \\mathit{ge}_{13} & 0 & 0 \\\\\n",
       "\\mathit{ge}_{21} & 0 & \\mathit{ge}_{23} & 0 & 0 \\\\\n",
       "0 & \\mathit{ge}_{32} & \\mathit{ge}_{33} & \\mathit{ge}_{34} & 0 \\\\\n",
       "\\mathit{ge}_{41} & \\mathit{ge}_{42} & \\mathit{ge}_{43} & \\mathit{ge}_{44} & 0 \\\\\n",
       "\\mathit{gf}_{11} & 0 & 0 & 0 & \\mathit{gf}_{13} \\\\\n",
       "\\mathit{gf}_{21} & \\mathit{gf}_{22} & 0 & 0 & \\mathit{gf}_{23} \\\\\n",
       "0 & \\mathit{gf}_{32} & 0 & 0 & 0 \\\\\n",
       "\\mathit{gf}_{41} & \\mathit{gf}_{42} & 0 & 0 & \\mathit{gf}_{43} \\\\\n",
       "\\mathit{gf}_{51} & \\mathit{gf}_{52} & 0 & 0 & 0\n",
       "\\end{array}\\right)\\)</html>"
      ],
      "text/latex": [
       "$\\displaystyle \\left(\\begin{array}{rrrrr}\n",
       "\\mathit{ge}_{11} & \\mathit{ge}_{12} & \\mathit{ge}_{13} & 0 & 0 \\\\\n",
       "\\mathit{ge}_{21} & 0 & \\mathit{ge}_{23} & 0 & 0 \\\\\n",
       "0 & \\mathit{ge}_{32} & \\mathit{ge}_{33} & \\mathit{ge}_{34} & 0 \\\\\n",
       "\\mathit{ge}_{41} & \\mathit{ge}_{42} & \\mathit{ge}_{43} & \\mathit{ge}_{44} & 0 \\\\\n",
       "\\mathit{gf}_{11} & 0 & 0 & 0 & \\mathit{gf}_{13} \\\\\n",
       "\\mathit{gf}_{21} & \\mathit{gf}_{22} & 0 & 0 & \\mathit{gf}_{23} \\\\\n",
       "0 & \\mathit{gf}_{32} & 0 & 0 & 0 \\\\\n",
       "\\mathit{gf}_{41} & \\mathit{gf}_{42} & 0 & 0 & \\mathit{gf}_{43} \\\\\n",
       "\\mathit{gf}_{51} & \\mathit{gf}_{52} & 0 & 0 & 0\n",
       "\\end{array}\\right)$"
      ],
      "text/plain": [
       "[ge11 ge12 ge13    0    0]\n",
       "[ge21    0 ge23    0    0]\n",
       "[   0 ge32 ge33 ge34    0]\n",
       "[ge41 ge42 ge43 ge44    0]\n",
       "[gf11    0    0    0 gf13]\n",
       "[gf21 gf22    0    0 gf23]\n",
       "[   0 gf32    0    0    0]\n",
       "[gf41 gf42    0    0 gf43]\n",
       "[gf51 gf52    0    0    0]"
      ]
     },
     "execution_count": 74,
     "metadata": {},
     "output_type": "execute_result"
    }
   ],
   "source": [
    "G = matrix(R, 9,5)\n",
    "\n",
    "# Shared columns\n",
    "G[:4,[0,1]] = G_e[:,[0,1]]\n",
    "G[4:,[0,1]] = G_f[:,[0,1]]\n",
    "\n",
    "# Domain-specific columns\n",
    "G[:4,[2,3]] = G_e[:,[2,3]]\n",
    "G[4:,4] = G_f[:,2]\n",
    "\n",
    "G"
   ]
  },
  {
   "cell_type": "code",
   "execution_count": 75,
   "id": "017a248b",
   "metadata": {},
   "outputs": [],
   "source": [
    "B = G * (Id - A).inverse()"
   ]
  },
  {
   "cell_type": "code",
   "execution_count": 76,
   "id": "cdc56186",
   "metadata": {},
   "outputs": [
    {
     "data": {
      "text/html": [
       "<html>\\(\\displaystyle \\left(\\begin{array}{rrrrr}\n",
       "a_{21} \\mathit{ge}_{12} + \\mathit{ge}_{11} & \\mathit{ge}_{12} & \\mathit{ge}_{13} & 0 & 0 \\\\\n",
       "\\mathit{ge}_{21} & 0 & \\mathit{ge}_{23} & 0 & 0 \\\\\n",
       "a_{21} \\mathit{ge}_{32} + a_{41} \\mathit{ge}_{34} & \\mathit{ge}_{32} & a_{43} \\mathit{ge}_{34} + \\mathit{ge}_{33} & \\mathit{ge}_{34} & 0 \\\\\n",
       "a_{21} \\mathit{ge}_{42} + a_{41} \\mathit{ge}_{44} + \\mathit{ge}_{41} & \\mathit{ge}_{42} & a_{43} \\mathit{ge}_{44} + \\mathit{ge}_{43} & \\mathit{ge}_{44} & 0 \\\\\n",
       "\\mathit{gf}_{11} & 0 & 0 & 0 & \\mathit{gf}_{13} \\\\\n",
       "a_{21} \\mathit{gf}_{22} + \\mathit{gf}_{21} & \\mathit{gf}_{22} & 0 & 0 & \\mathit{gf}_{23} \\\\\n",
       "a_{21} \\mathit{gf}_{32} & \\mathit{gf}_{32} & 0 & 0 & 0 \\\\\n",
       "a_{21} \\mathit{gf}_{42} + \\mathit{gf}_{41} & \\mathit{gf}_{42} & 0 & 0 & \\mathit{gf}_{43} \\\\\n",
       "a_{21} \\mathit{gf}_{52} + \\mathit{gf}_{51} & \\mathit{gf}_{52} & 0 & 0 & 0\n",
       "\\end{array}\\right)\\)</html>"
      ],
      "text/latex": [
       "$\\displaystyle \\left(\\begin{array}{rrrrr}\n",
       "a_{21} \\mathit{ge}_{12} + \\mathit{ge}_{11} & \\mathit{ge}_{12} & \\mathit{ge}_{13} & 0 & 0 \\\\\n",
       "\\mathit{ge}_{21} & 0 & \\mathit{ge}_{23} & 0 & 0 \\\\\n",
       "a_{21} \\mathit{ge}_{32} + a_{41} \\mathit{ge}_{34} & \\mathit{ge}_{32} & a_{43} \\mathit{ge}_{34} + \\mathit{ge}_{33} & \\mathit{ge}_{34} & 0 \\\\\n",
       "a_{21} \\mathit{ge}_{42} + a_{41} \\mathit{ge}_{44} + \\mathit{ge}_{41} & \\mathit{ge}_{42} & a_{43} \\mathit{ge}_{44} + \\mathit{ge}_{43} & \\mathit{ge}_{44} & 0 \\\\\n",
       "\\mathit{gf}_{11} & 0 & 0 & 0 & \\mathit{gf}_{13} \\\\\n",
       "a_{21} \\mathit{gf}_{22} + \\mathit{gf}_{21} & \\mathit{gf}_{22} & 0 & 0 & \\mathit{gf}_{23} \\\\\n",
       "a_{21} \\mathit{gf}_{32} & \\mathit{gf}_{32} & 0 & 0 & 0 \\\\\n",
       "a_{21} \\mathit{gf}_{42} + \\mathit{gf}_{41} & \\mathit{gf}_{42} & 0 & 0 & \\mathit{gf}_{43} \\\\\n",
       "a_{21} \\mathit{gf}_{52} + \\mathit{gf}_{51} & \\mathit{gf}_{52} & 0 & 0 & 0\n",
       "\\end{array}\\right)$"
      ],
      "text/plain": [
       "[           a21*ge12 + ge11                       ge12                       ge13                          0                          0]\n",
       "[                      ge21                          0                       ge23                          0                          0]\n",
       "[       a21*ge32 + a41*ge34                       ge32            a43*ge34 + ge33                       ge34                          0]\n",
       "[a21*ge42 + a41*ge44 + ge41                       ge42            a43*ge44 + ge43                       ge44                          0]\n",
       "[                      gf11                          0                          0                          0                       gf13]\n",
       "[           a21*gf22 + gf21                       gf22                          0                          0                       gf23]\n",
       "[                  a21*gf32                       gf32                          0                          0                          0]\n",
       "[           a21*gf42 + gf41                       gf42                          0                          0                       gf43]\n",
       "[           a21*gf52 + gf51                       gf52                          0                          0                          0]"
      ]
     },
     "execution_count": 76,
     "metadata": {},
     "output_type": "execute_result"
    }
   ],
   "source": [
    "%display latex\n",
    "B"
   ]
  },
  {
   "cell_type": "code",
   "execution_count": null,
   "id": "c35aaa8e",
   "metadata": {},
   "outputs": [],
   "source": []
  }
 ],
 "metadata": {
  "kernelspec": {
   "display_name": "SageMath 9.6",
   "language": "sage",
   "name": "sagemath"
  },
  "language_info": {
   "codemirror_mode": {
    "name": "ipython",
    "version": 3
   },
   "file_extension": ".py",
   "mimetype": "text/x-python",
   "name": "python",
   "nbconvert_exporter": "python",
   "pygments_lexer": "ipython3",
   "version": "3.9.13"
  }
 },
 "nbformat": 4,
 "nbformat_minor": 5
}
