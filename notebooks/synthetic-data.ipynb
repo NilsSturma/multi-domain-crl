{
 "cells": [
  {
   "cell_type": "code",
   "execution_count": 303,
   "id": "fbca0b5d",
   "metadata": {},
   "outputs": [],
   "source": [
    "%matplotlib inline\n",
    "\n",
    "import numpy as np\n",
    "from scipy.stats import beta, skewnorm, uniform, expon, lognorm, weibull_min, chi2, t, gumbel_r, wasserstein_distance, moment\n",
    "from scipy.special import gamma\n",
    "import matplotlib.pyplot as plt\n",
    "from sklearn.decomposition import FastICA\n",
    "from scipy.stats import ks_2samp"
   ]
  },
  {
   "cell_type": "markdown",
   "id": "964cb125",
   "metadata": {},
   "source": [
    "### Distributions of the independent components"
   ]
  },
  {
   "cell_type": "code",
   "execution_count": 347,
   "id": "bcc2974b",
   "metadata": {},
   "outputs": [],
   "source": [
    "rvs = [beta(2,3), beta(2,6), skewnorm(a=6), gumbel_r, lognorm(s=1), weibull_min(c=2), chi2(df=6)]"
   ]
  },
  {
   "cell_type": "code",
   "execution_count": 348,
   "id": "fac6aebe",
   "metadata": {},
   "outputs": [],
   "source": [
    "def sample_normed(n, rv):\n",
    "    return (rv.rvs(size=n) - rv.mean()) / rv.std()"
   ]
  },
  {
   "cell_type": "code",
   "execution_count": 349,
   "id": "a6b2ee8b",
   "metadata": {},
   "outputs": [],
   "source": [
    "n = 5000\n",
    "eps = np.zeros((n,len(rvs)))\n",
    "for i, rv in enumerate(rvs):\n",
    "    eps[:,i] = sample_normed(n,rv)"
   ]
  },
  {
   "cell_type": "code",
   "execution_count": 350,
   "id": "ebd860b4",
   "metadata": {},
   "outputs": [
    {
     "data": {
      "image/png": "[encoded data removed]",
      "text/plain": [
       "<Figure size 1296x165.6 with 7 Axes>"
      ]
     },
     "metadata": {
      "needs_background": "light"
     },
     "output_type": "display_data"
    }
   ],
   "source": [
    "fig, ax = plt.subplots(1, 7, figsize=(18,2.3))\n",
    "\n",
    "for j in range(7):\n",
    "        ax[j].hist(eps[:,j], bins=50)\n",
    "\n",
    "plt.show()"
   ]
  },
  {
   "cell_type": "markdown",
   "id": "c1713190",
   "metadata": {},
   "source": [
    "### Create synthetic observations"
   ]
  },
  {
   "cell_type": "code",
   "execution_count": 351,
   "id": "e59da334",
   "metadata": {},
   "outputs": [],
   "source": [
    "joint_latents = [0,1,2,3]\n",
    "env1_specific = [4]\n",
    "env2_specific = [5]\n",
    "env3_specific = [6]\n",
    "d1 = 13\n",
    "d2 = 14\n",
    "d3 = 15\n",
    "n1 = 25000\n",
    "n2 = 25000\n",
    "n3 = 25000\n",
    "\n",
    "env1_latents = joint_latents + env1_specific\n",
    "env2_latents = joint_latents + env2_specific\n",
    "env3_latents = joint_latents + env3_specific"
   ]
  },
  {
   "cell_type": "code",
   "execution_count": 352,
   "id": "bfa8e5de",
   "metadata": {},
   "outputs": [],
   "source": [
    "def matrix_from_normal(shape, mu=0, sigma=1):\n",
    "    A = np.random.normal(loc=mu, scale=sigma, size=shape)\n",
    "    return A"
   ]
  },
  {
   "cell_type": "code",
   "execution_count": 353,
   "id": "ed194374",
   "metadata": {},
   "outputs": [
    {
     "data": {
      "text/plain": [
       "array([[ 0.66,  0.67, -1.32,  0.08,  1.29],\n",
       "       [-0.57, -0.41, -0.9 ,  0.77, -1.01],\n",
       "       [ 0.13, -1.39,  0.01, -1.47, -0.69],\n",
       "       [-0.44, -0.91, -0.75,  0.67,  0.59],\n",
       "       [-0.78,  0.77, -0.37,  0.99,  1.45],\n",
       "       [ 0.02,  0.16, -0.35, -1.71,  1.11],\n",
       "       [-1.8 , -1.26, -0.44,  0.32,  1.53],\n",
       "       [ 0.8 , -0.67, -1.66, -1.12, -0.06],\n",
       "       [-0.93, -0.2 , -1.02,  1.17, -0.85],\n",
       "       [ 0.64, -0.86, -0.23,  0.32,  0.32],\n",
       "       [-0.  ,  0.64, -1.55,  0.03,  0.49],\n",
       "       [ 0.81,  0.04,  0.64, -0.62, -0.77],\n",
       "       [-0.53,  0.02,  0.58, -1.71,  0.75]])"
      ]
     },
     "execution_count": 353,
     "metadata": {},
     "output_type": "execute_result"
    }
   ],
   "source": [
    "# Sample entries of G1\n",
    "#np.random.seed(101)\n",
    "G1 = matrix_from_normal(shape=(d1,len(env1_latents)))\n",
    "G1.round(2)"
   ]
  },
  {
   "cell_type": "code",
   "execution_count": 354,
   "id": "480b9e82",
   "metadata": {},
   "outputs": [],
   "source": [
    "# G2 and G3\n",
    "#np.random.seed(102)\n",
    "G2 = matrix_from_normal(shape=(d2,len(env2_latents)))\n",
    "\n",
    "#np.random.seed(103)\n",
    "G3 = matrix_from_normal(shape=(d3,len(env3_latents)))"
   ]
  },
  {
   "cell_type": "code",
   "execution_count": 355,
   "id": "f6472c3d",
   "metadata": {},
   "outputs": [],
   "source": [
    "def sample(n, mixing, rvs):\n",
    "    nr_comps = len(rvs)\n",
    "    eps = np.zeros((n,nr_comps))\n",
    "    for i, rv in enumerate(rvs):\n",
    "        eps[:,i] = sample_normed(n,rv)\n",
    "    X = np.matmul(mixing, np.transpose(eps))\n",
    "    return(X)"
   ]
  },
  {
   "cell_type": "code",
   "execution_count": 356,
   "id": "ba9bd550",
   "metadata": {},
   "outputs": [],
   "source": [
    "# Create synthetic data (uncoupled!!)\n",
    "X1 = sample(n1, G1, [rvs[i] for i in env1_latents])\n",
    "X2 = sample(n2, G2, [rvs[i] for i in env2_latents])\n",
    "X3 = sample(n3, G3, [rvs[i] for i in env3_latents])"
   ]
  },
  {
   "cell_type": "markdown",
   "id": "a96f9060",
   "metadata": {},
   "source": [
    "### Apply linear ICA to recover the (empirical) distribution of the sources"
   ]
  },
  {
   "cell_type": "code",
   "execution_count": 357,
   "id": "b28aa711",
   "metadata": {},
   "outputs": [],
   "source": [
    "def rescale_columns(X):\n",
    "    for i in range(X.shape[1]):\n",
    "        X[:,i] = (X[:,i] - X[:,i].mean()) / X[:,i].std()\n",
    "    return X\n",
    "\n",
    "# X1 has shape p x n\n",
    "def get_sources(X, seed=101):\n",
    "    cov = np.cov(X)\n",
    "    rk = np.linalg.matrix_rank(cov)\n",
    "    print(\"Rank:\", rk)\n",
    "    \n",
    "    ICA = FastICA(n_components=rk, random_state=seed, whiten='unit-variance', max_iter=1000) \n",
    "    ICA.fit(np.transpose(X))\n",
    "    print(\"Iterations:\", ICA.n_iter_)\n",
    "    eps = ICA.transform(np.transpose(X))\n",
    "    scaling = eps.std(axis=0)\n",
    "    \n",
    "    eps = rescale_columns(eps)\n",
    "    mixing = np.matmul(ICA.mixing_, np.diag(scaling))    \n",
    "    \n",
    "    return eps, mixing"
   ]
  },
  {
   "cell_type": "code",
   "execution_count": 358,
   "id": "cb43b035",
   "metadata": {},
   "outputs": [
    {
     "name": "stdout",
     "output_type": "stream",
     "text": [
      "Rank: 5\n",
      "Iterations: 7\n"
     ]
    }
   ],
   "source": [
    "eps1, mixing1 = get_sources(X1)"
   ]
  },
  {
   "cell_type": "code",
   "execution_count": 359,
   "id": "52bba0fb",
   "metadata": {},
   "outputs": [
    {
     "data": {
      "text/plain": [
       "array([[-0.21657147,  1.46498903, -0.64166545, -1.29185803,  0.13025176],\n",
       "       [ 0.69238053,  0.72413998,  0.60718864,  1.0156274 ,  0.73321181],\n",
       "       [ 1.25140173, -0.41253406, -0.14023417,  0.69785435, -1.54512602],\n",
       "       [ 1.12359067,  0.43192535,  0.46976615, -0.58591721,  0.61148312],\n",
       "       [-0.57725679,  0.55863027,  0.78622279, -1.45612006,  1.02352864],\n",
       "       [-0.12795693,  0.4036374 , -0.04309246, -1.1243366 , -1.69683311],\n",
       "       [ 1.32164943,  0.01618202,  1.82568053, -1.53497623,  0.22374349],\n",
       "       [ 1.0966562 ,  1.40558975, -0.77540635,  0.07015765, -1.14601683],\n",
       "       [ 0.54281019,  0.89016945,  0.96630707,  0.8594551 ,  1.14442136],\n",
       "       [ 0.91986353, -0.03401019, -0.62342832, -0.3147426 ,  0.28415483],\n",
       "       [-0.13480145,  1.66823198,  0.02435279, -0.49088332,  0.07161292],\n",
       "       [-0.25112417, -0.5858771 , -0.83207943,  0.77575552, -0.60265396],\n",
       "       [-0.29457638, -0.54118522,  0.48727726, -0.76690977, -1.71383655]])"
      ]
     },
     "execution_count": 359,
     "metadata": {},
     "output_type": "execute_result"
    }
   ],
   "source": [
    "mixing1"
   ]
  },
  {
   "cell_type": "code",
   "execution_count": 360,
   "id": "719cb231",
   "metadata": {},
   "outputs": [
    {
     "name": "stdout",
     "output_type": "stream",
     "text": [
      "Rank: 5\n",
      "Iterations: 5\n"
     ]
    }
   ],
   "source": [
    "eps2, mixing2 = get_sources(X2, seed=102)"
   ]
  },
  {
   "cell_type": "code",
   "execution_count": 361,
   "id": "24418615",
   "metadata": {},
   "outputs": [
    {
     "name": "stdout",
     "output_type": "stream",
     "text": [
      "Rank: 5\n",
      "Iterations: 5\n"
     ]
    }
   ],
   "source": [
    "eps3, mixing3 = get_sources(X3, seed=103)"
   ]
  },
  {
   "cell_type": "code",
   "execution_count": 362,
   "id": "e2f9ce5f",
   "metadata": {},
   "outputs": [],
   "source": [
    "# Collect results\n",
    "indep_comps = [eps1, eps2, eps3]\n",
    "mixings = [mixing1, mixing2, mixing3]"
   ]
  },
  {
   "cell_type": "markdown",
   "id": "880f0d43",
   "metadata": {},
   "source": [
    "### Plot recovered distributions"
   ]
  },
  {
   "cell_type": "code",
   "execution_count": 363,
   "id": "da2ef193",
   "metadata": {},
   "outputs": [
    {
     "data": {
      "image/png": "[encoded data removed]",
      "text/plain": [
       "<Figure size 1008x648 with 15 Axes>"
      ]
     },
     "metadata": {
      "needs_background": "light"
     },
     "output_type": "display_data"
    }
   ],
   "source": [
    "fig, ax = plt.subplots(3, 5, figsize=(14, 9))\n",
    "\n",
    "for i in range(3):\n",
    "    for j in range(5):\n",
    "        ax[i,j].hist(indep_comps[i][:,j], bins=50)\n",
    "\n",
    "plt.show()"
   ]
  },
  {
   "cell_type": "markdown",
   "id": "06dad19d",
   "metadata": {},
   "source": [
    "### Matching"
   ]
  },
  {
   "cell_type": "code",
   "execution_count": 364,
   "id": "969cc019",
   "metadata": {},
   "outputs": [],
   "source": [
    "def third_moments_distance(X,Y):\n",
    "    M_X = moment(X, moment=3) # central moment\n",
    "    M_Y = moment(Y, moment=3)\n",
    "    dist = abs(M_X - M_Y)\n",
    "    return dist"
   ]
  },
  {
   "cell_type": "code",
   "execution_count": 365,
   "id": "838795ea",
   "metadata": {},
   "outputs": [],
   "source": [
    "# 1-Wasserstein metric between empirical distributions\n",
    "\n",
    "def wasserstein_dist(X1,X2):\n",
    "    p1 = X1.shape[1]\n",
    "    p2 = X2.shape[1]\n",
    "    D = np.zeros((p1,p2))\n",
    "    for i in range(p1):\n",
    "        for j in range(p2):\n",
    "            D[i,j] = wasserstein_distance(X1[:,i],X2[:,j]) \n",
    "    return D\n",
    "\n",
    "\n",
    "def wasserstein_dist_signed(X1,X2):\n",
    "    p1 = X1.shape[1]\n",
    "    p2 = X2.shape[1]\n",
    "    D_large = np.zeros((p1,2*p2))\n",
    "    X2_large = np.concatenate((X2,-X2),axis=1)\n",
    "    for i in range(p1):\n",
    "        for j in range(2*p2):\n",
    "            D_large[i,j] = wasserstein_distance(X1[:,i],X2_large[:,j]) \n",
    "    D = np.zeros((p1,p2))\n",
    "    for i in range(p2):\n",
    "        D[:,i] = D_large[:,[i,i+p2]].min(axis=1)\n",
    "    return D"
   ]
  },
  {
   "cell_type": "code",
   "execution_count": 366,
   "id": "df01377c",
   "metadata": {},
   "outputs": [],
   "source": [
    "def signed_pvalues_matrix(X1,X2):\n",
    "    p1 = X1.shape[1]\n",
    "    p2 = X2.shape[1]\n",
    "    pvals_large = np.zeros((p1,2*p2))\n",
    "    X2_large = np.concatenate((X2,-X2),axis=1)\n",
    "    for i in range(p1):\n",
    "        for j in range(2*p2):\n",
    "            pvals_large[i,j] = ks_2samp(X1[:,i],X2_large[:,j]).pvalue\n",
    "    pvals = np.zeros((p1,p2))\n",
    "    for i in range(p2):\n",
    "        pvals[:,i] = pvals_large[:,[i,i+p2]].max(axis=1)\n",
    "    return pvals"
   ]
  },
  {
   "cell_type": "code",
   "execution_count": 367,
   "id": "783384ac",
   "metadata": {},
   "outputs": [],
   "source": [
    "def minimum_matching(D, A=10):\n",
    "    p1, p2 = D.shape\n",
    "    threshold = A * D.min()\n",
    "    matching = {}\n",
    "    for i in range(p1):\n",
    "        row_argmin = D[i,:].argmin()\n",
    "        row_min = D[i,:].min()\n",
    "        if (D[:,row_argmin].argmin() == i) and (row_min < threshold):\n",
    "            matching[i] = row_argmin\n",
    "    return matching"
   ]
  },
  {
   "cell_type": "code",
   "execution_count": 368,
   "id": "336ca3f0",
   "metadata": {},
   "outputs": [],
   "source": [
    "def maximum_matching(pvals, level=0.05):\n",
    "    p1, p2 = pvals.shape\n",
    "    matching = {}\n",
    "    for i in range(p1):\n",
    "        row_argmax = pvals[i,:].argmax()\n",
    "        row_max = pvals[i,:].max()\n",
    "        if (pvals[:,row_argmax].argmax() == i) and (row_max >= level):\n",
    "            matching[i] = row_argmax\n",
    "    return matching"
   ]
  },
  {
   "cell_type": "code",
   "execution_count": 369,
   "id": "d07135cc",
   "metadata": {},
   "outputs": [],
   "source": [
    "adj_alpha=0.05/75"
   ]
  },
  {
   "cell_type": "code",
   "execution_count": 370,
   "id": "1d87bcf6",
   "metadata": {},
   "outputs": [
    {
     "data": {
      "text/plain": [
       "array([[0.   , 0.001, 0.   , 0.   , 0.   ],\n",
       "       [0.   , 0.   , 0.   , 0.   , 0.   ],\n",
       "       [0.   , 0.   , 0.813, 0.   , 0.   ],\n",
       "       [0.   , 0.   , 0.   , 0.   , 0.   ],\n",
       "       [0.424, 0.   , 0.   , 0.   , 0.   ]])"
      ]
     },
     "execution_count": 370,
     "metadata": {},
     "output_type": "execute_result"
    }
   ],
   "source": [
    "P12 = signed_pvalues_matrix(eps1,eps2).round(3)\n",
    "P12.round(3)"
   ]
  },
  {
   "cell_type": "code",
   "execution_count": 377,
   "id": "aea94126",
   "metadata": {},
   "outputs": [
    {
     "data": {
      "text/plain": [
       "{0: 1, 2: 2, 4: 0}"
      ]
     },
     "execution_count": 377,
     "metadata": {},
     "output_type": "execute_result"
    }
   ],
   "source": [
    "maximum_matching(P12, level=adj_alpha)"
   ]
  },
  {
   "cell_type": "code",
   "execution_count": 373,
   "id": "8da3bc4b",
   "metadata": {},
   "outputs": [
    {
     "data": {
      "text/plain": [
       "array([[0.   , 0.026, 0.   , 0.   , 0.   ],\n",
       "       [0.005, 0.   , 0.   , 0.   , 0.   ],\n",
       "       [0.   , 0.   , 0.   , 0.968, 0.   ],\n",
       "       [0.   , 0.   , 0.   , 0.   , 0.   ],\n",
       "       [0.   , 0.   , 0.   , 0.   , 0.826]])"
      ]
     },
     "execution_count": 373,
     "metadata": {},
     "output_type": "execute_result"
    }
   ],
   "source": [
    "P13 = signed_pvalues_matrix(eps1,eps3).round(3)\n",
    "P13.round(3)"
   ]
  },
  {
   "cell_type": "code",
   "execution_count": 374,
   "id": "bb021eb1",
   "metadata": {},
   "outputs": [
    {
     "data": {
      "text/plain": [
       "{0: 1, 1: 0, 2: 3, 4: 4}"
      ]
     },
     "execution_count": 374,
     "metadata": {},
     "output_type": "execute_result"
    }
   ],
   "source": [
    "maximum_matching(P13, level=adj_alpha)"
   ]
  },
  {
   "cell_type": "code",
   "execution_count": 375,
   "id": "f9f8d329",
   "metadata": {},
   "outputs": [
    {
     "data": {
      "text/plain": [
       "array([[0.   , 0.026, 0.   , 0.   , 0.   ],\n",
       "       [0.005, 0.   , 0.   , 0.   , 0.   ],\n",
       "       [0.   , 0.   , 0.   , 0.968, 0.   ],\n",
       "       [0.   , 0.   , 0.   , 0.   , 0.   ],\n",
       "       [0.   , 0.   , 0.   , 0.   , 0.826]])"
      ]
     },
     "execution_count": 375,
     "metadata": {},
     "output_type": "execute_result"
    }
   ],
   "source": [
    "P23 = signed_pvalues_matrix(eps1,eps3).round(3)\n",
    "P23.round(3)"
   ]
  },
  {
   "cell_type": "code",
   "execution_count": 376,
   "id": "a894c8cb",
   "metadata": {},
   "outputs": [
    {
     "data": {
      "text/plain": [
       "{0: 1, 1: 0, 2: 3, 4: 4}"
      ]
     },
     "execution_count": 376,
     "metadata": {},
     "output_type": "execute_result"
    }
   ],
   "source": [
    "maximum_matching(P23, level=adj_alpha)"
   ]
  },
  {
   "cell_type": "code",
   "execution_count": 332,
   "id": "78a94e06",
   "metadata": {},
   "outputs": [],
   "source": [
    "# Definition of a joint factor:\n",
    "# A collection of distributions of size |E| such that \n",
    "# - all distibutions within that joint factor match"
   ]
  },
  {
   "cell_type": "code",
   "execution_count": 333,
   "id": "13d8e6aa",
   "metadata": {},
   "outputs": [],
   "source": [
    "def is_consistent(f, matchings):\n",
    "    for i in range(len(f)):\n",
    "        for j in range(i+1, len(f)):\n",
    "            if f[i] not in list(matchings[str(i)+str(j)].keys()):\n",
    "                return False\n",
    "            if matchings[str(i)+str(j)][f[i]] != f[j]:\n",
    "                return False\n",
    "    return True\n",
    "\n",
    "\n",
    "\n",
    "def get_joint_factors(indep_comps):\n",
    "    \n",
    "    nr_env = len(indep_comps)\n",
    "    \n",
    "    matchings = {}\n",
    "    for i in range(nr_env):\n",
    "        for j in range(i+1, nr_env):\n",
    "            D = wasserstein_dist_signed(indep_comps[i],indep_comps[j])\n",
    "            matchings[str(i)+str(j)] = minimum_matching(D)\n",
    "    \n",
    "    # Define potential factors\n",
    "    pot_factors = [[i] for i in list(matchings['01'].keys())] \n",
    "    for f in pot_factors:\n",
    "        for i in range(1,nr_env):\n",
    "            if f[0] not in list(matchings['0'+str(i)].keys()):\n",
    "                continue\n",
    "            else:\n",
    "                f.append(matchings['0'+str(i)][f[0]])\n",
    "    pot_factors = [f for f in pot_factors if len(f)==nr_env]\n",
    "    \n",
    "    # Only keep consistent factors\n",
    "    factors = [f for f in pot_factors if is_consistent(f, matchings)]\n",
    "    \n",
    "    return(factors)"
   ]
  },
  {
   "cell_type": "code",
   "execution_count": 334,
   "id": "673d3c53",
   "metadata": {},
   "outputs": [
    {
     "data": {
      "text/plain": [
       "[[0, 0, 4], [1, 4, 2], [4, 2, 1]]"
      ]
     },
     "execution_count": 334,
     "metadata": {},
     "output_type": "execute_result"
    }
   ],
   "source": [
    "joint_factors = get_joint_factors(indep_comps)\n",
    "joint_factors\n",
    "\n",
    "# Interpretation:\n",
    "# We match the following recovered components:\n",
    "# component 0 of domain 1 WITH component 0 of domain 2 WITH component 2 of domain 3"
   ]
  },
  {
   "cell_type": "markdown",
   "id": "643e0091",
   "metadata": {},
   "source": [
    "### Recover joint mixing matrix"
   ]
  },
  {
   "cell_type": "code",
   "execution_count": 335,
   "id": "0aefd1c4",
   "metadata": {},
   "outputs": [],
   "source": [
    "def matching_sign(distr1, distr2):\n",
    "        normal_dist = wasserstein_distance(distr1,distr2) \n",
    "        flipped_dist = wasserstein_distance(distr1,-distr2)\n",
    "        if normal_dist >= flipped_dist:\n",
    "            return 1\n",
    "        else:\n",
    "            return -1 "
   ]
  },
  {
   "cell_type": "code",
   "execution_count": 336,
   "id": "a38839ed",
   "metadata": {},
   "outputs": [],
   "source": [
    "def add_signs_to_factor(f, indep_comps):\n",
    "    \n",
    "    signs = [1]\n",
    "    \n",
    "    for i in range(1,len(f)):\n",
    "        signs.append(matching_sign(indep_comps[0][:,f[0]], indep_comps[i][:,f[i]]))\n",
    "         \n",
    "    return signs"
   ]
  },
  {
   "cell_type": "code",
   "execution_count": 337,
   "id": "7baa8e23",
   "metadata": {},
   "outputs": [
    {
     "data": {
      "text/plain": [
       "[[1, 1, -1], [1, -1, -1], [1, 1, 1]]"
      ]
     },
     "execution_count": 337,
     "metadata": {},
     "output_type": "execute_result"
    }
   ],
   "source": [
    "joint_factor_signs = [add_signs_to_factor(f, indep_comps) for f in joint_factors]\n",
    "joint_factor_signs"
   ]
  },
  {
   "cell_type": "code",
   "execution_count": 338,
   "id": "7388c099",
   "metadata": {},
   "outputs": [],
   "source": [
    "def joint_mixing_matrix(mixings, joint_factors, joint_factor_signs):\n",
    "    \n",
    "    nr_env = len(mixings)\n",
    "    nr_joint = len(joint_factors)\n",
    "    total_nr_obs = sum([M.shape[0] for M in mixings])\n",
    "    total_nr_lat = sum([M.shape[1]-nr_joint for M in mixings]) + nr_joint\n",
    "    M_large = np.zeros((total_nr_obs, total_nr_lat))\n",
    "    \n",
    "    # Joint columns\n",
    "    for i,f in enumerate(joint_factors):\n",
    "        current_row = 0\n",
    "        for env in range(nr_env):\n",
    "            col = joint_factor_signs[i][env] * mixings[env][:,f[env]]\n",
    "            M_large[np.ix_(np.arange(current_row,(current_row+len(col))),np.array([i]))] \\\n",
    "            = col.reshape((len(col),1))\n",
    "            current_row = current_row + len(col)\n",
    "    \n",
    "    # Domain-specific columns\n",
    "    current_col = len(joint_factors)\n",
    "    current_row = 0\n",
    "    for env in range(nr_env):\n",
    "        M = mixings[env]\n",
    "        nrows, ncols = M.shape\n",
    "        joint_cols = [f[env] for f in joint_factors]\n",
    "        domain_spec_cols = set(np.arange(ncols)) - set(joint_cols)\n",
    "        for i, col in enumerate(domain_spec_cols):\n",
    "            M_large[np.ix_(np.arange(current_row,(current_row+nrows)),np.array([current_col+i]))] \\\n",
    "            = M[:,col].reshape((nrows,1))\n",
    "        current_col = current_col + len(domain_spec_cols)\n",
    "        current_row = current_row + nrows\n",
    "    return(M_large)"
   ]
  },
  {
   "cell_type": "code",
   "execution_count": 339,
   "id": "90cf2a50",
   "metadata": {},
   "outputs": [
    {
     "data": {
      "text/plain": [
       "array([[ 0.08, -0.34,  0.73,  1.4 ,  0.57,  0.  ,  0.  ,  0.  ,  0.  ],\n",
       "       [ 0.25,  0.64, -0.18,  1.75,  0.67,  0.  ,  0.  ,  0.  ,  0.  ],\n",
       "       [ 1.42,  1.19,  0.08,  0.84,  0.57,  0.  ,  0.  ,  0.  ,  0.  ],\n",
       "       [ 0.  ,  0.39,  0.9 ,  0.48, -1.92,  0.  ,  0.  ,  0.  ,  0.  ],\n",
       "       [-0.32, -1.43, -1.93,  0.24, -0.65,  0.  ,  0.  ,  0.  ,  0.  ],\n",
       "       [-0.71, -2.05,  0.11,  0.83,  0.17,  0.  ,  0.  ,  0.  ,  0.  ],\n",
       "       [ 0.2 , -0.09,  1.12,  0.86, -0.36,  0.  ,  0.  ,  0.  ,  0.  ],\n",
       "       [ 0.7 ,  0.19, -1.33, -0.76,  0.63,  0.  ,  0.  ,  0.  ,  0.  ],\n",
       "       [-0.98, -0.12, -0.45, -1.43, -0.16,  0.  ,  0.  ,  0.  ,  0.  ],\n",
       "       [-2.83, -0.39,  1.55, -0.2 , -0.85,  0.  ,  0.  ,  0.  ,  0.  ],\n",
       "       [-0.63,  0.04,  0.76, -0.89, -0.54,  0.  ,  0.  ,  0.  ,  0.  ],\n",
       "       [-0.63, -1.08, -0.1 , -0.04,  1.26,  0.  ,  0.  ,  0.  ,  0.  ],\n",
       "       [-1.04, -0.1 , -0.26,  0.18,  0.77,  0.  ,  0.  ,  0.  ,  0.  ],\n",
       "       [ 1.31,  0.51, -1.08,  0.  ,  0.  ,  0.37,  0.4 ,  0.  ,  0.  ],\n",
       "       [-0.1 ,  1.37, -0.85,  0.  ,  0.  , -0.27, -0.11,  0.  ,  0.  ],\n",
       "       [-1.78,  1.08, -1.33,  0.  ,  0.  , -1.77, -0.44,  0.  ,  0.  ],\n",
       "       [-0.81, -0.39,  0.41,  0.  ,  0.  , -0.9 ,  0.12,  0.  ,  0.  ],\n",
       "       [-0.13,  1.4 , -0.63,  0.  ,  0.  ,  0.95, -0.68,  0.  ,  0.  ],\n",
       "       [ 0.39, -0.08,  0.07,  0.  ,  0.  ,  0.37,  1.46,  0.  ,  0.  ],\n",
       "       [-1.12,  0.29,  1.02,  0.  ,  0.  , -1.93,  1.23,  0.  ,  0.  ],\n",
       "       [ 1.59,  0.09, -0.98,  0.  ,  0.  , -0.77, -0.54,  0.  ,  0.  ],\n",
       "       [ 0.29,  1.08,  0.3 ,  0.  ,  0.  , -0.17,  2.18,  0.  ,  0.  ],\n",
       "       [-0.02, -1.5 , -1.1 ,  0.  ,  0.  , -0.03,  0.56,  0.  ,  0.  ],\n",
       "       [ 0.09, -0.99, -1.36,  0.  ,  0.  , -0.62,  0.45,  0.  ,  0.  ],\n",
       "       [ 1.44, -0.42, -0.21,  0.  ,  0.  , -2.58, -0.99,  0.  ,  0.  ],\n",
       "       [-0.1 ,  0.74, -1.9 ,  0.  ,  0.  ,  1.52,  0.45,  0.  ,  0.  ],\n",
       "       [-1.22, -0.68, -1.69,  0.  ,  0.  , -0.84, -0.45,  0.  ,  0.  ],\n",
       "       [-0.44,  1.3 , -2.39,  0.  ,  0.  ,  0.  ,  0.  ,  0.07, -1.6 ],\n",
       "       [ 0.16,  1.63,  2.32,  0.  ,  0.  ,  0.  ,  0.  , -2.97, -2.22],\n",
       "       [ 1.41, -1.87, -1.23,  0.  ,  0.  ,  0.  ,  0.  , -0.98,  0.09],\n",
       "       [ 0.66,  0.22,  1.48,  0.  ,  0.  ,  0.  ,  0.  ,  0.32, -0.77],\n",
       "       [ 1.32, -0.48,  1.36,  0.  ,  0.  ,  0.  ,  0.  , -0.04,  0.18],\n",
       "       [ 0.  , -1.13,  0.26,  0.  ,  0.  ,  0.  ,  0.  , -1.09, -0.71],\n",
       "       [ 0.56,  0.11, -0.08,  0.  ,  0.  ,  0.  ,  0.  ,  0.08, -0.04],\n",
       "       [-0.36,  0.6 , -1.04,  0.  ,  0.  ,  0.  ,  0.  ,  1.25,  0.91],\n",
       "       [ 1.3 , -0.14, -0.73,  0.  ,  0.  ,  0.  ,  0.  ,  0.88,  2.02],\n",
       "       [ 1.27,  0.74, -0.52,  0.  ,  0.  ,  0.  ,  0.  ,  0.41, -1.16],\n",
       "       [ 0.45,  0.49,  1.49,  0.  ,  0.  ,  0.  ,  0.  , -0.88, -0.21],\n",
       "       [ 0.76, -1.63,  0.64,  0.  ,  0.  ,  0.  ,  0.  ,  0.65, -1.67],\n",
       "       [ 0.47, -0.89,  0.34,  0.  ,  0.  ,  0.  ,  0.  ,  0.94,  0.56],\n",
       "       [ 1.58, -0.73, -1.13,  0.  ,  0.  ,  0.  ,  0.  ,  1.32,  0.32],\n",
       "       [-0.43,  1.28, -1.09,  0.  ,  0.  ,  0.  ,  0.  ,  0.32, -0.43]])"
      ]
     },
     "execution_count": 339,
     "metadata": {},
     "output_type": "execute_result"
    }
   ],
   "source": [
    "B = joint_mixing_matrix(mixings, joint_factors, joint_factor_signs).round(2)\n",
    "B"
   ]
  },
  {
   "cell_type": "markdown",
   "id": "25745209",
   "metadata": {},
   "source": [
    "For comparison:"
   ]
  },
  {
   "cell_type": "code",
   "execution_count": 340,
   "id": "120f2df5",
   "metadata": {},
   "outputs": [
    {
     "data": {
      "text/plain": [
       "array([[ 0.34, -0.75, -0.53, -0.07,  1.42],\n",
       "       [-0.62,  0.18, -0.68, -0.28,  1.76],\n",
       "       [-1.14, -0.1 , -0.57, -1.46,  0.85],\n",
       "       [-0.45, -0.82,  1.92,  0.05,  0.47],\n",
       "       [ 1.45,  1.93,  0.63,  0.33,  0.21],\n",
       "       [ 2.04, -0.13, -0.13,  0.76,  0.84],\n",
       "       [ 0.07, -1.11,  0.39, -0.16,  0.87],\n",
       "       [-0.14,  1.29, -0.66, -0.74, -0.77],\n",
       "       [ 0.11,  0.47,  0.12,  0.98, -1.44],\n",
       "       [ 0.28, -1.46,  0.84,  2.9 , -0.19],\n",
       "       [-0.08, -0.73,  0.54,  0.66, -0.88],\n",
       "       [ 1.1 ,  0.05, -1.24,  0.63, -0.02],\n",
       "       [ 0.11,  0.27, -0.79,  1.02,  0.19]])"
      ]
     },
     "execution_count": 340,
     "metadata": {},
     "output_type": "execute_result"
    }
   ],
   "source": [
    "G1.round(2)"
   ]
  },
  {
   "cell_type": "code",
   "execution_count": 341,
   "id": "547b5b52",
   "metadata": {},
   "outputs": [
    {
     "data": {
      "text/plain": [
       "array([[ 0.53, -1.03, -0.49,  1.32, -0.31],\n",
       "       [ 1.36, -0.84,  0.32, -0.09, -0.09],\n",
       "       [ 1.01, -1.35,  1.74, -1.82, -0.42],\n",
       "       [-0.42,  0.41,  0.71, -0.86, -0.45],\n",
       "       [ 1.43, -0.67, -0.48, -0.04,  1.  ],\n",
       "       [-0.04,  0.16, -1.  ,  0.34, -1.13],\n",
       "       [ 0.24,  1.09,  1.13, -1.28, -1.88],\n",
       "       [ 0.05, -0.96,  0.93,  1.58, -0.02],\n",
       "       [ 1.11,  0.43, -0.82,  0.19, -2.01],\n",
       "       [-1.5 , -1.06, -0.31, -0.04, -0.55],\n",
       "       [-1.02, -1.32,  0.28,  0.06, -0.75],\n",
       "       [-0.54, -0.21,  2.72,  1.36, -0.41],\n",
       "       [ 0.8 , -1.88, -1.54, -0.02,  0.21],\n",
       "       [-0.72, -1.71,  0.87, -1.22, -0.01]])"
      ]
     },
     "execution_count": 341,
     "metadata": {},
     "output_type": "execute_result"
    }
   ],
   "source": [
    "G2.round(2)"
   ]
  },
  {
   "cell_type": "code",
   "execution_count": 342,
   "id": "e9b2366c",
   "metadata": {},
   "outputs": [
    {
     "data": {
      "text/plain": [
       "array([[ 1.3 , -2.41,  1.53, -0.48,  0.  ],\n",
       "       [ 1.64,  2.33,  2.36,  0.19,  2.8 ],\n",
       "       [-1.86, -1.22, -0.09,  1.39,  1.  ],\n",
       "       [ 0.2 ,  1.42,  0.83,  0.65, -0.41],\n",
       "       [-0.49,  1.33, -0.11,  1.31, -0.03],\n",
       "       [-1.12,  0.26,  0.73, -0.  ,  1.06],\n",
       "       [ 0.11, -0.09,  0.05,  0.56, -0.09],\n",
       "       [ 0.6 , -1.03, -0.97, -0.36, -1.18],\n",
       "       [-0.14, -0.7 , -2.03,  1.3 , -0.84],\n",
       "       [ 0.73, -0.59,  1.17,  1.23, -0.43],\n",
       "       [ 0.49,  1.5 ,  0.29,  0.47,  0.79],\n",
       "       [-1.64,  0.52,  1.69,  0.71, -0.7 ],\n",
       "       [-0.9 ,  0.31, -0.57,  0.46, -0.94],\n",
       "       [-0.74, -1.18, -0.35,  1.53, -1.29],\n",
       "       [ 1.28, -1.09,  0.39, -0.44, -0.28]])"
      ]
     },
     "execution_count": 342,
     "metadata": {},
     "output_type": "execute_result"
    }
   ],
   "source": [
    "G3.round(2)"
   ]
  },
  {
   "cell_type": "code",
   "execution_count": 343,
   "id": "c0f479d8",
   "metadata": {},
   "outputs": [
    {
     "data": {
      "text/plain": [
       "array([[ 0.08, -0.34,  1.4 ,  0.57,  0.73],\n",
       "       [ 0.25,  0.64,  1.75,  0.67, -0.18],\n",
       "       [ 1.42,  1.19,  0.84,  0.57,  0.08],\n",
       "       [ 0.  ,  0.39,  0.48, -1.92,  0.9 ],\n",
       "       [-0.32, -1.43,  0.24, -0.65, -1.93],\n",
       "       [-0.71, -2.05,  0.83,  0.17,  0.11],\n",
       "       [ 0.2 , -0.09,  0.86, -0.36,  1.12],\n",
       "       [ 0.7 ,  0.19, -0.76,  0.63, -1.33],\n",
       "       [-0.98, -0.12, -1.43, -0.16, -0.45],\n",
       "       [-2.83, -0.39, -0.2 , -0.85,  1.55],\n",
       "       [-0.63,  0.04, -0.89, -0.54,  0.76],\n",
       "       [-0.63, -1.08, -0.04,  1.26, -0.1 ],\n",
       "       [-1.04, -0.1 ,  0.18,  0.77, -0.26]])"
      ]
     },
     "execution_count": 343,
     "metadata": {},
     "output_type": "execute_result"
    }
   ],
   "source": [
    "mixing1.round(2)"
   ]
  },
  {
   "cell_type": "code",
   "execution_count": 344,
   "id": "46dd959b",
   "metadata": {},
   "outputs": [
    {
     "data": {
      "text/plain": [
       "array([[ 1.31,  0.37, -1.08,  0.4 , -0.51],\n",
       "       [-0.1 , -0.27, -0.85, -0.11, -1.37],\n",
       "       [-1.78, -1.77, -1.33, -0.44, -1.08],\n",
       "       [-0.81, -0.9 ,  0.41,  0.12,  0.39],\n",
       "       [-0.13,  0.95, -0.63, -0.68, -1.4 ],\n",
       "       [ 0.39,  0.37,  0.07,  1.46,  0.08],\n",
       "       [-1.12, -1.93,  1.02,  1.23, -0.29],\n",
       "       [ 1.59, -0.77, -0.98, -0.54, -0.09],\n",
       "       [ 0.29, -0.17,  0.3 ,  2.18, -1.08],\n",
       "       [-0.02, -0.03, -1.1 ,  0.56,  1.5 ],\n",
       "       [ 0.09, -0.62, -1.36,  0.45,  0.99],\n",
       "       [ 1.44, -2.58, -0.21, -0.99,  0.42],\n",
       "       [-0.1 ,  1.52, -1.9 ,  0.45, -0.74],\n",
       "       [-1.22, -0.84, -1.69, -0.45,  0.68]])"
      ]
     },
     "execution_count": 344,
     "metadata": {},
     "output_type": "execute_result"
    }
   ],
   "source": [
    "mixing2.round(2)"
   ]
  },
  {
   "cell_type": "code",
   "execution_count": 345,
   "id": "e81728f2",
   "metadata": {},
   "outputs": [
    {
     "data": {
      "text/plain": [
       "array([[ 0.07, -2.39, -1.3 , -1.6 ,  0.44],\n",
       "       [-2.97,  2.32, -1.63, -2.22, -0.16],\n",
       "       [-0.98, -1.23,  1.87,  0.09, -1.41],\n",
       "       [ 0.32,  1.48, -0.22, -0.77, -0.66],\n",
       "       [-0.04,  1.36,  0.48,  0.18, -1.32],\n",
       "       [-1.09,  0.26,  1.13, -0.71, -0.  ],\n",
       "       [ 0.08, -0.08, -0.11, -0.04, -0.56],\n",
       "       [ 1.25, -1.04, -0.6 ,  0.91,  0.36],\n",
       "       [ 0.88, -0.73,  0.14,  2.02, -1.3 ],\n",
       "       [ 0.41, -0.52, -0.74, -1.16, -1.27],\n",
       "       [-0.88,  1.49, -0.49, -0.21, -0.45],\n",
       "       [ 0.65,  0.64,  1.63, -1.67, -0.76],\n",
       "       [ 0.94,  0.34,  0.89,  0.56, -0.47],\n",
       "       [ 1.32, -1.13,  0.73,  0.32, -1.58],\n",
       "       [ 0.32, -1.09, -1.28, -0.43,  0.43]])"
      ]
     },
     "execution_count": 345,
     "metadata": {},
     "output_type": "execute_result"
    }
   ],
   "source": [
    "mixing3.round(2)"
   ]
  },
  {
   "cell_type": "markdown",
   "id": "1e7d9e4d",
   "metadata": {},
   "source": [
    "Notes: \n",
    "Could sample from \"empirical joint distribution\" now:\n",
    "- Have empirical distribution of each independent component (merge the ones for the joint components).\n",
    "- Sample from the empirical distributions.\n",
    "- Using the joint mixing matrix, this produces samples of the joint distribution.\n",
    "\n",
    "Using the joint mixing matrix we can also transport observations in one domain to another."
   ]
  },
  {
   "cell_type": "code",
   "execution_count": null,
   "id": "eb4545e2",
   "metadata": {},
   "outputs": [],
   "source": []
  },
  {
   "cell_type": "code",
   "execution_count": null,
   "id": "e3ee3f5f",
   "metadata": {},
   "outputs": [],
   "source": []
  }
 ],
 "metadata": {
  "kernelspec": {
   "display_name": "Python 3 (ipykernel)",
   "language": "python",
   "name": "python3"
  },
  "language_info": {
   "codemirror_mode": {
    "name": "ipython",
    "version": 3
   },
   "file_extension": ".py",
   "mimetype": "text/x-python",
   "name": "python",
   "nbconvert_exporter": "python",
   "pygments_lexer": "ipython3",
   "version": "3.9.12"
  }
 },
 "nbformat": 4,
 "nbformat_minor": 5
}
