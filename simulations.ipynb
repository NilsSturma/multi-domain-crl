{
 "cells": [
  {
   "cell_type": "code",
   "execution_count": 1,
   "id": "dbb9ba18",
   "metadata": {},
   "outputs": [],
   "source": [
    "%matplotlib inline\n",
    "\n",
    "import pickle\n",
    "import warnings\n",
    "import numpy as np\n",
    "from time import time\n",
    "import seaborn as sns\n",
    "import matplotlib.pyplot as plt\n",
    "from sklearn.exceptions import ConvergenceWarning\n",
    "from scipy.stats import beta, uniform, expon, lognorm, weibull_min, chi2, t, gumbel_r, skewnorm\n",
    "\n",
    "from src.learner import LinearMDCRL\n",
    "from experiments.rand import rand_model\n",
    "\n",
    "warnings.filterwarnings('ignore')"
   ]
  },
  {
   "cell_type": "markdown",
   "id": "d726991e",
   "metadata": {},
   "source": [
    "## Two domains, varying sample sizes"
   ]
  },
  {
   "cell_type": "code",
   "execution_count": 2,
   "id": "2b4ef4ad",
   "metadata": {},
   "outputs": [],
   "source": [
    "nsamples_list = [1000,2500,5000,10000,25000]\n",
    "nexp = 100\n",
    "measure = \"ks-test\"\n",
    "\n",
    "model_specs = {\n",
    "    \"nr_doms\": 2,\n",
    "    \"joint_idx\": [0,1],\n",
    "    \"domain_spec_idx\": [[2,3],[4,5]],\n",
    "    \"noise_rvs\": [beta(2,3), chi2(df=6), skewnorm(a=6), gumbel_r, \n",
    "                  lognorm(s=1), weibull_min(c=2), expon(scale=0.1)],\n",
    "    \"sample_sizes\":  None,\n",
    "    \"dims\": [10,10],\n",
    "    \"graph_density\": 0.75,\n",
    "    \"mixing_density\": 0.9,\n",
    "    \"mixing_distribution\": 'unif',  # unif or normal\n",
    "    \"two_pure_children\": False\n",
    "}\n",
    "\n",
    "##### Collect all info in dict #####\n",
    "info = {\"results\": dict(),\n",
    "        \"metadata\": dict(\n",
    "            nsamples_list=nsamples_list,\n",
    "            nexp=nexp,\n",
    "            measure=measure,\n",
    "            model_specs=model_specs\n",
    "            )\n",
    "        }"
   ]
  },
  {
   "cell_type": "code",
   "execution_count": 3,
   "id": "e162a67c",
   "metadata": {
    "scrolled": false
   },
   "outputs": [],
   "source": [
    "def run_experiments(info):\n",
    "    metadata = info[\"metadata\"]\n",
    "    nexp = metadata[\"nexp\"]\n",
    "    nsamples_list = metadata[\"nsamples_list\"]\n",
    "    for s_ix, n in enumerate(nsamples_list):\n",
    "        print(n)\n",
    "        for exp_ix in range(nexp):\n",
    "            if not exp_ix%100:\n",
    "                print(exp_ix)\n",
    "            # Sample data\n",
    "            m = info[\"metadata\"][\"model_specs\"].copy()\n",
    "            m[\"sample_sizes\"] = [n for _ in range(m[\"nr_doms\"])]\n",
    "            data, g, B_true = rand_model(m)\n",
    "\n",
    "            # Fit model\n",
    "            model = LinearMDCRL(measure=info[\"metadata\"][\"measure\"])\n",
    "\n",
    "\n",
    "            start_time = time()\n",
    "            model.fit(data)\n",
    "            time_spent = time() - start_time\n",
    "\n",
    "            # Score output\n",
    "            nr_joint = model.nr_joint\n",
    "            if nr_joint <= len(m[\"joint_idx\"]):\n",
    "                error = model.score_only_joint_columns(B_true, len(m[\"joint_idx\"]))\n",
    "            else:\n",
    "                error = None\n",
    "\n",
    "            # Save results\n",
    "            info[\"results\"][(s_ix, exp_ix)] = dict(\n",
    "                nr_joint = nr_joint,\n",
    "                error = error,\n",
    "                time_spent = time_spent\n",
    "            )\n",
    "    return info"
   ]
  },
  {
   "cell_type": "code",
   "execution_count": 4,
   "id": "2a739032",
   "metadata": {},
   "outputs": [
    {
     "name": "stdout",
     "output_type": "stream",
     "text": [
      "1000\n",
      "0\n",
      "2500\n",
      "0\n",
      "5000\n",
      "0\n",
      "10000\n",
      "0\n",
      "25000\n",
      "0\n"
     ]
    }
   ],
   "source": [
    "info = run_experiments(info)"
   ]
  },
  {
   "cell_type": "code",
   "execution_count": 5,
   "id": "dab85f88",
   "metadata": {},
   "outputs": [],
   "source": [
    "# Save\n",
    "filename = f\"experiments/results/nr_doms={model_specs['nr_doms']}_measure={measure}.pkl\"\n",
    "\n",
    "with open(filename, \"wb\") as f:\n",
    "    pickle.dump(info, f)"
   ]
  },
  {
   "cell_type": "code",
   "execution_count": 6,
   "id": "084708b5",
   "metadata": {},
   "outputs": [],
   "source": [
    "# Load\n",
    "#with open(filename, \"rb\") as f:\n",
    "#    info = pickle.load(f)"
   ]
  },
  {
   "cell_type": "code",
   "execution_count": 7,
   "id": "0559179f",
   "metadata": {},
   "outputs": [],
   "source": [
    "# Error rate (too many detections)\n",
    "def get_statistics(info):\n",
    "    metadata = info[\"metadata\"]\n",
    "    nexp = metadata[\"nexp\"]\n",
    "    nsamples_list = metadata[\"nsamples_list\"]\n",
    "    m = metadata[\"model_specs\"]\n",
    "\n",
    "    error_rate = np.zeros(len(nsamples_list))\n",
    "    frobenius = np.zeros(len(nsamples_list))\n",
    "    for s_ix, n in enumerate(nsamples_list):\n",
    "        binary_errors = np.zeros(nexp)\n",
    "        frobenius_errors = np.full(nexp, np.nan)\n",
    "        for exp_ix in range(nexp):\n",
    "            if info[\"results\"][(s_ix, exp_ix)][\"nr_joint\"] > len(m[\"joint_idx\"]):\n",
    "                binary_errors[exp_ix] = 1\n",
    "            else:\n",
    "                frobenius_errors[exp_ix] = info[\"results\"][(s_ix, exp_ix)][\"error\"]\n",
    "        error_rate[s_ix] = binary_errors.mean()\n",
    "        frobenius[s_ix] = np.nanmedian(frobenius_errors)\n",
    "    return (error_rate, frobenius)"
   ]
  },
  {
   "cell_type": "code",
   "execution_count": 8,
   "id": "956a2bc7",
   "metadata": {},
   "outputs": [],
   "source": [
    "error_rate, frobenius = get_statistics(info)"
   ]
  },
  {
   "cell_type": "code",
   "execution_count": 9,
   "id": "d6bc17f6",
   "metadata": {},
   "outputs": [
    {
     "data": {
      "text/plain": [
       "array([0.31, 0.19, 0.09, 0.01, 0.  ])"
      ]
     },
     "execution_count": 9,
     "metadata": {},
     "output_type": "execute_result"
    }
   ],
   "source": [
    "error_rate"
   ]
  },
  {
   "cell_type": "code",
   "execution_count": 10,
   "id": "b8ec1f34",
   "metadata": {},
   "outputs": [
    {
     "data": {
      "text/plain": [
       "array([2.28413239, 0.52230331, 0.29418672, 0.21042166, 0.11971586])"
      ]
     },
     "execution_count": 10,
     "metadata": {},
     "output_type": "execute_result"
    }
   ],
   "source": [
    "frobenius"
   ]
  },
  {
   "cell_type": "code",
   "execution_count": 11,
   "id": "a22d5d47",
   "metadata": {},
   "outputs": [],
   "source": [
    "def plot_error_rate(nsamples_list, error_rate):\n",
    "    sns.set()\n",
    "    #plt.style.use(\"style.mplstyle\")\n",
    "\n",
    "    plt.clf()\n",
    "    plt.plot(nsamples_list, error_rate)\n",
    "    plt.xscale(\"log\")\n",
    "    plt.xlabel(\"Number of samples\")\n",
    "    plt.ylabel(\"Error rate (too many detections)\")\n",
    "    plt.tight_layout()\n",
    "    plt.show()"
   ]
  },
  {
   "cell_type": "code",
   "execution_count": 12,
   "id": "b3dd7342",
   "metadata": {},
   "outputs": [
    {
     "data": {
      "image/png": "[encoded data removed]",
      "text/plain": [
       "<Figure size 432x288 with 1 Axes>"
      ]
     },
     "metadata": {},
     "output_type": "display_data"
    }
   ],
   "source": [
    "plot_error_rate(nsamples_list, error_rate)"
   ]
  },
  {
   "cell_type": "code",
   "execution_count": 13,
   "id": "d42d51de",
   "metadata": {},
   "outputs": [],
   "source": [
    "def plot_frobenius(nsamples_list, frobenius):\n",
    "    sns.set()\n",
    "    #plt.style.use(\"style.mplstyle\")\n",
    "\n",
    "    plt.clf()\n",
    "    plt.plot(nsamples_list, frobenius)\n",
    "    plt.xscale(\"log\")\n",
    "    plt.xlabel(\"Number of samples\")\n",
    "    plt.ylabel(\"Median frobenius error joint columns\")\n",
    "    plt.tight_layout()\n",
    "    plt.show()"
   ]
  },
  {
   "cell_type": "code",
   "execution_count": 14,
   "id": "ad3e141f",
   "metadata": {},
   "outputs": [
    {
     "data": {
      "image/png": "[encoded data removed]",
      "text/plain": [
       "<Figure size 432x288 with 1 Axes>"
      ]
     },
     "metadata": {},
     "output_type": "display_data"
    }
   ],
   "source": [
    "plot_frobenius(nsamples_list, frobenius)"
   ]
  },
  {
   "cell_type": "markdown",
   "id": "0b423d2f",
   "metadata": {},
   "source": [
    "## Three domains"
   ]
  },
  {
   "cell_type": "code",
   "execution_count": 19,
   "id": "1cd56a41",
   "metadata": {},
   "outputs": [],
   "source": [
    "nsamples_list = [1000,2500,5000,10000,25000]\n",
    "nexp = 100\n",
    "measure = \"ks-test\"\n",
    "\n",
    "model_specs = {\n",
    "    \"nr_doms\": 3,\n",
    "    \"joint_idx\": [0,1],\n",
    "    \"domain_spec_idx\": [[2,3],[4,5],[6]],\n",
    "    \"noise_rvs\": [beta(2,3), chi2(df=6), skewnorm(a=6), gumbel_r, \n",
    "                  lognorm(s=1), weibull_min(c=2), expon(scale=0.1)],\n",
    "    \"sample_sizes\":  None,\n",
    "    \"dims\": [10,10,10],\n",
    "    \"graph_density\": 0.75,\n",
    "    \"mixing_density\": 0.9,\n",
    "    \"mixing_distribution\": 'unif',  # unif or normal\n",
    "    \"two_pure_children\": False\n",
    "}\n",
    "\n",
    "##### Collect all info in dict #####\n",
    "info = {\"results\": dict(),\n",
    "        \"metadata\": dict(\n",
    "            nsamples_list=nsamples_list,\n",
    "            nexp=nexp,\n",
    "            measure=measure,\n",
    "            model_specs=model_specs\n",
    "            )\n",
    "        }"
   ]
  },
  {
   "cell_type": "code",
   "execution_count": 20,
   "id": "381b2a5c",
   "metadata": {},
   "outputs": [
    {
     "name": "stdout",
     "output_type": "stream",
     "text": [
      "1000\n",
      "0\n",
      "2500\n",
      "0\n",
      "5000\n",
      "0\n",
      "10000\n",
      "0\n",
      "25000\n",
      "0\n"
     ]
    }
   ],
   "source": [
    "info = run_experiments(info)"
   ]
  },
  {
   "cell_type": "code",
   "execution_count": 21,
   "id": "23b42c1b",
   "metadata": {},
   "outputs": [],
   "source": [
    "error_rate, frobenius = get_statistics(info)"
   ]
  },
  {
   "cell_type": "code",
   "execution_count": 22,
   "id": "c713a821",
   "metadata": {},
   "outputs": [],
   "source": [
    "# Save\n",
    "filename = f\"experiments/results/nr_doms={model_specs['nr_doms']}_measure={measure}.pkl\"\n",
    "\n",
    "with open(filename, \"wb\") as f:\n",
    "    pickle.dump(info, f)"
   ]
  },
  {
   "cell_type": "code",
   "execution_count": 23,
   "id": "dd766c80",
   "metadata": {},
   "outputs": [
    {
     "data": {
      "image/png": "[encoded data removed]",
      "text/plain": [
       "<Figure size 432x288 with 1 Axes>"
      ]
     },
     "metadata": {},
     "output_type": "display_data"
    }
   ],
   "source": [
    "plot_error_rate(nsamples_list, error_rate)"
   ]
  },
  {
   "cell_type": "code",
   "execution_count": 24,
   "id": "f79bbbe7",
   "metadata": {},
   "outputs": [
    {
     "data": {
      "image/png": "[encoded data removed]",
      "text/plain": [
       "<Figure size 432x288 with 1 Axes>"
      ]
     },
     "metadata": {},
     "output_type": "display_data"
    }
   ],
   "source": [
    "plot_frobenius(nsamples_list, frobenius)"
   ]
  },
  {
   "cell_type": "code",
   "execution_count": null,
   "id": "ccff463c",
   "metadata": {},
   "outputs": [],
   "source": [
    "#info"
   ]
  },
  {
   "cell_type": "code",
   "execution_count": null,
   "id": "b3cc6c23",
   "metadata": {},
   "outputs": [],
   "source": []
  }
 ],
 "metadata": {
  "kernelspec": {
   "display_name": "Python 3 (ipykernel)",
   "language": "python",
   "name": "python3"
  },
  "language_info": {
   "codemirror_mode": {
    "name": "ipython",
    "version": 3
   },
   "file_extension": ".py",
   "mimetype": "text/x-python",
   "name": "python",
   "nbconvert_exporter": "python",
   "pygments_lexer": "ipython3",
   "version": "3.9.12"
  }
 },
 "nbformat": 4,
 "nbformat_minor": 5
}
