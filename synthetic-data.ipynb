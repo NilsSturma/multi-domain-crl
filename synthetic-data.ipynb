{
 "cells": [
  {
   "cell_type": "code",
   "execution_count": 522,
   "id": "fbca0b5d",
   "metadata": {},
   "outputs": [],
   "source": [
    "%matplotlib inline\n",
    "\n",
    "import numpy as np\n",
    "from scipy.stats import beta, skewnorm, uniform, expon, lognorm, weibull_min, chi2, t, gumbel_r, wasserstein_distance, moment\n",
    "from scipy.special import gamma\n",
    "import matplotlib.pyplot as plt\n",
    "from sklearn.decomposition import FastICA"
   ]
  },
  {
   "cell_type": "markdown",
   "id": "964cb125",
   "metadata": {},
   "source": [
    "### Distributions of the independent components"
   ]
  },
  {
   "cell_type": "code",
   "execution_count": 523,
   "id": "bcc2974b",
   "metadata": {},
   "outputs": [],
   "source": [
    "rvs = [beta(2,3), expon(scale=0.1), skewnorm(a=6), gumbel_r, lognorm(s=1), weibull_min(c=2), chi2(df=6)]"
   ]
  },
  {
   "cell_type": "code",
   "execution_count": 524,
   "id": "fac6aebe",
   "metadata": {},
   "outputs": [],
   "source": [
    "def sample_normed(n, rv):\n",
    "    return (rv.rvs(size=n) - rv.mean()) / rv.std()"
   ]
  },
  {
   "cell_type": "code",
   "execution_count": 525,
   "id": "a6b2ee8b",
   "metadata": {},
   "outputs": [],
   "source": [
    "n = 5000\n",
    "eps = np.zeros((n,len(rvs)))\n",
    "for i, rv in enumerate(rvs):\n",
    "    eps[:,i] = sample_normed(n,rv)"
   ]
  },
  {
   "cell_type": "code",
   "execution_count": 526,
   "id": "ebd860b4",
   "metadata": {},
   "outputs": [
    {
     "data": {
      "image/png": "[encoded data removed]",
      "text/plain": [
       "<Figure size 1296x165.6 with 7 Axes>"
      ]
     },
     "metadata": {
      "needs_background": "light"
     },
     "output_type": "display_data"
    }
   ],
   "source": [
    "fig, ax = plt.subplots(1, 7, figsize=(18,2.3))\n",
    "\n",
    "for j in range(7):\n",
    "        ax[j].hist(eps[:,j], bins=50)\n",
    "\n",
    "plt.show()"
   ]
  },
  {
   "cell_type": "markdown",
   "id": "c1713190",
   "metadata": {},
   "source": [
    "### Create synthetic observations"
   ]
  },
  {
   "cell_type": "code",
   "execution_count": 527,
   "id": "e59da334",
   "metadata": {},
   "outputs": [],
   "source": [
    "joint_latents = [0,1,2,3]\n",
    "env1_specific = [4]\n",
    "env2_specific = [5]\n",
    "env3_specific = [6]\n",
    "d1 = 13\n",
    "d2 = 14\n",
    "d3 = 15\n",
    "n1 = 3000\n",
    "n2 = 3000\n",
    "n3 = 3000\n",
    "\n",
    "env1_latents = joint_latents + env1_specific\n",
    "env2_latents = joint_latents + env2_specific\n",
    "env3_latents = joint_latents + env3_specific"
   ]
  },
  {
   "cell_type": "code",
   "execution_count": 528,
   "id": "bfa8e5de",
   "metadata": {},
   "outputs": [],
   "source": [
    "def matrix_from_normal(shape, mu=0, sigma=1):\n",
    "    A = np.random.normal(loc=mu, scale=sigma, size=shape)\n",
    "    return A"
   ]
  },
  {
   "cell_type": "code",
   "execution_count": 529,
   "id": "ed194374",
   "metadata": {},
   "outputs": [
    {
     "data": {
      "text/plain": [
       "array([[-0.18, -0.07, -0.34,  0.53,  0.93],\n",
       "       [-0.87, -0.53, -0.33,  0.87,  0.33],\n",
       "       [ 0.05,  0.56,  0.09,  0.79, -0.45],\n",
       "       [-2.18, -1.84, -1.31,  0.41,  0.78],\n",
       "       [ 2.48,  0.07,  0.58, -0.19,  0.94],\n",
       "       [ 1.47, -1.74, -0.44,  1.42,  0.15],\n",
       "       [ 0.31,  0.7 ,  0.14, -1.09, -0.43],\n",
       "       [ 0.64, -2.2 , -0.02,  1.65, -0.86],\n",
       "       [ 2.12, -0.69, -0.14,  2.1 , -0.32],\n",
       "       [ 1.46, -0.97, -0.06, -1.26,  1.82],\n",
       "       [ 1.13, -0.22,  0.84,  0.98,  0.76],\n",
       "       [ 0.52,  0.51, -0.14, -0.94,  0.57],\n",
       "       [ 0.13, -1.  ,  0.82,  0.22,  1.06]])"
      ]
     },
     "execution_count": 529,
     "metadata": {},
     "output_type": "execute_result"
    }
   ],
   "source": [
    "# Sample entries of G1\n",
    "#np.random.seed(101)\n",
    "G1 = matrix_from_normal(shape=(d1,len(env1_latents)))\n",
    "G1.round(2)"
   ]
  },
  {
   "cell_type": "code",
   "execution_count": 530,
   "id": "480b9e82",
   "metadata": {},
   "outputs": [],
   "source": [
    "# G2 and G3\n",
    "#np.random.seed(102)\n",
    "G2 = matrix_from_normal(shape=(d2,len(env2_latents)))\n",
    "\n",
    "#np.random.seed(103)\n",
    "G3 = matrix_from_normal(shape=(d3,len(env3_latents)))"
   ]
  },
  {
   "cell_type": "code",
   "execution_count": 531,
   "id": "f6472c3d",
   "metadata": {},
   "outputs": [],
   "source": [
    "def sample(n, mixing, rvs):\n",
    "    nr_comps = len(rvs)\n",
    "    eps = np.zeros((n,nr_comps))\n",
    "    for i, rv in enumerate(rvs):\n",
    "        eps[:,i] = sample_normed(n,rv)\n",
    "    X = np.matmul(mixing, np.transpose(eps))\n",
    "    return(X)"
   ]
  },
  {
   "cell_type": "code",
   "execution_count": 532,
   "id": "ba9bd550",
   "metadata": {},
   "outputs": [],
   "source": [
    "# Create synthetic data (uncoupled!!)\n",
    "X1 = sample(n1, G1, [rvs[i] for i in env1_latents])\n",
    "X2 = sample(n2, G2, [rvs[i] for i in env2_latents])\n",
    "X3 = sample(n3, G3, [rvs[i] for i in env3_latents])"
   ]
  },
  {
   "cell_type": "markdown",
   "id": "a96f9060",
   "metadata": {},
   "source": [
    "### Apply linear ICA to recover the (empirical) distribution of the sources"
   ]
  },
  {
   "cell_type": "code",
   "execution_count": 533,
   "id": "b28aa711",
   "metadata": {},
   "outputs": [],
   "source": [
    "def rescale_columns(X):\n",
    "    for i in range(X.shape[1]):\n",
    "        X[:,i] = (X[:,i] - X[:,i].mean()) / X[:,i].std()\n",
    "    return X\n",
    "\n",
    "# X1 has shape p x n\n",
    "def get_sources(X, seed=101):\n",
    "    cov = np.cov(X)\n",
    "    rk = np.linalg.matrix_rank(cov)\n",
    "    print(\"Rank:\", rk)\n",
    "    \n",
    "    ICA = FastICA(n_components=rk, random_state=seed, whiten='unit-variance', max_iter=1000) \n",
    "    ICA.fit(np.transpose(X))\n",
    "    print(\"Iterations:\", ICA.n_iter_)\n",
    "    eps = ICA.transform(np.transpose(X))\n",
    "    scaling = eps.std(axis=0)\n",
    "    \n",
    "    eps = rescale_columns(eps)\n",
    "    mixing = np.matmul(ICA.mixing_, np.diag(scaling))    \n",
    "    \n",
    "    return eps, mixing"
   ]
  },
  {
   "cell_type": "code",
   "execution_count": 534,
   "id": "cb43b035",
   "metadata": {},
   "outputs": [
    {
     "name": "stdout",
     "output_type": "stream",
     "text": [
      "Rank: 5\n",
      "Iterations: 6\n"
     ]
    }
   ],
   "source": [
    "eps1, mixing1 = get_sources(X1)"
   ]
  },
  {
   "cell_type": "code",
   "execution_count": 535,
   "id": "52bba0fb",
   "metadata": {},
   "outputs": [
    {
     "data": {
      "text/plain": [
       "array([[-0.36143248,  0.50382005, -0.07008608, -0.94429147, -0.15538964],\n",
       "       [-0.40516447,  0.85306802, -0.54181154, -0.33114093, -0.87021918],\n",
       "       [ 0.05399551,  0.7643919 ,  0.60504284,  0.49952673,  0.04340352],\n",
       "       [-1.40172716,  0.38405518, -1.91692836, -0.8627925 , -2.14607287],\n",
       "       [ 0.70202156, -0.16664549,  0.01869456, -0.9076293 ,  2.46712403],\n",
       "       [-0.42573558,  1.40223586, -1.88259218, -0.08055534,  1.46627828],\n",
       "       [ 0.1950114 , -1.07607143,  0.72476371,  0.41894912,  0.32277017],\n",
       "       [-0.06955801,  1.66767724, -2.33729804,  0.93936612,  0.59185585],\n",
       "       [-0.14465575,  2.05356584, -0.77091168,  0.46485598,  2.11659771],\n",
       "       [ 0.08183054, -1.21812764, -1.07840626, -1.90050705,  1.47968307],\n",
       "       [ 0.8445993 ,  1.00889167, -0.24094804, -0.71257187,  1.09003774],\n",
       "       [-0.06432645, -0.94588056,  0.51471062, -0.6099821 ,  0.5463192 ],\n",
       "       [ 0.81854775,  0.29340564, -1.04958603, -1.0893708 ,  0.071838  ]])"
      ]
     },
     "execution_count": 535,
     "metadata": {},
     "output_type": "execute_result"
    }
   ],
   "source": [
    "mixing1"
   ]
  },
  {
   "cell_type": "code",
   "execution_count": 536,
   "id": "719cb231",
   "metadata": {},
   "outputs": [
    {
     "name": "stdout",
     "output_type": "stream",
     "text": [
      "Rank: 5\n",
      "Iterations: 7\n"
     ]
    }
   ],
   "source": [
    "eps2, mixing2 = get_sources(X2, seed=102)"
   ]
  },
  {
   "cell_type": "code",
   "execution_count": 537,
   "id": "24418615",
   "metadata": {},
   "outputs": [
    {
     "name": "stdout",
     "output_type": "stream",
     "text": [
      "Rank: 5\n",
      "Iterations: 14\n"
     ]
    }
   ],
   "source": [
    "eps3, mixing3 = get_sources(X3, seed=103)"
   ]
  },
  {
   "cell_type": "code",
   "execution_count": 538,
   "id": "e2f9ce5f",
   "metadata": {},
   "outputs": [],
   "source": [
    "# Collect results\n",
    "indep_comps = [eps1, eps2, eps3]\n",
    "mixings = [mixing1, mixing2, mixing3]"
   ]
  },
  {
   "cell_type": "markdown",
   "id": "880f0d43",
   "metadata": {},
   "source": [
    "### Plot recovered distributions"
   ]
  },
  {
   "cell_type": "code",
   "execution_count": 539,
   "id": "da2ef193",
   "metadata": {},
   "outputs": [
    {
     "data": {
      "image/png": "[encoded data removed]",
      "text/plain": [
       "<Figure size 1008x648 with 15 Axes>"
      ]
     },
     "metadata": {
      "needs_background": "light"
     },
     "output_type": "display_data"
    }
   ],
   "source": [
    "fig, ax = plt.subplots(3, 5, figsize=(14, 9))\n",
    "\n",
    "for i in range(3):\n",
    "    for j in range(5):\n",
    "        ax[i,j].hist(indep_comps[i][:,j], bins=50)\n",
    "\n",
    "plt.show()"
   ]
  },
  {
   "cell_type": "markdown",
   "id": "06dad19d",
   "metadata": {},
   "source": [
    "### Matching"
   ]
  },
  {
   "cell_type": "code",
   "execution_count": 540,
   "id": "969cc019",
   "metadata": {},
   "outputs": [],
   "source": [
    "def third_moments_distance(X,Y):\n",
    "    M_X = moment(X, moment=3) # central moment\n",
    "    M_Y = moment(Y, moment=3)\n",
    "    dist = abs(M_X - M_Y)\n",
    "    return dist"
   ]
  },
  {
   "cell_type": "code",
   "execution_count": 541,
   "id": "838795ea",
   "metadata": {},
   "outputs": [],
   "source": [
    "# 1-Wasserstein metric between empirical distributions\n",
    "\n",
    "def wasserstein_dist(X1,X2):\n",
    "    p1 = X1.shape[1]\n",
    "    p2 = X2.shape[1]\n",
    "    D = np.zeros((p1,p2))\n",
    "    for i in range(p1):\n",
    "        for j in range(p2):\n",
    "            D[i,j] = wasserstein_distance(X1[:,i],X2[:,j]) \n",
    "    return D\n",
    "\n",
    "\n",
    "def wasserstein_dist_signed(X1,X2):\n",
    "    p1 = X1.shape[1]\n",
    "    p2 = X2.shape[1]\n",
    "    D_large = np.zeros((p1,2*p2))\n",
    "    X2_large = np.concatenate((X2,-X2),axis=1)\n",
    "    for i in range(p1):\n",
    "        for j in range(2*p2):\n",
    "            D_large[i,j] = wasserstein_distance(X1[:,i],X2_large[:,j]) \n",
    "    D = np.zeros((p1,p2))\n",
    "    for i in range(p2):\n",
    "        D[:,i] = D_large[:,[i,i+p2]].min(axis=1)\n",
    "    return D"
   ]
  },
  {
   "cell_type": "code",
   "execution_count": 542,
   "id": "783384ac",
   "metadata": {},
   "outputs": [],
   "source": [
    "def minimum_matching(D, A=10):\n",
    "    p1, p2 = D.shape\n",
    "    threshold = A * D.min()\n",
    "    matching = {}\n",
    "    for i in range(p1):\n",
    "        row_argmin = D[i,:].argmin()\n",
    "        row_min = D[i,:].min()\n",
    "        if (D[:,row_argmin].argmin() == i) and (row_min < threshold):\n",
    "            matching[i] = row_argmin\n",
    "    return matching"
   ]
  },
  {
   "cell_type": "code",
   "execution_count": 543,
   "id": "6d8687f4",
   "metadata": {},
   "outputs": [
    {
     "data": {
      "text/plain": [
       "array([[0.186, 0.113, 0.064, 0.06 , 0.021],\n",
       "       [0.158, 0.145, 0.027, 0.09 , 0.05 ],\n",
       "       [0.024, 0.292, 0.153, 0.236, 0.189],\n",
       "       [0.217, 0.467, 0.319, 0.412, 0.379],\n",
       "       [0.295, 0.015, 0.15 , 0.054, 0.101]])"
      ]
     },
     "execution_count": 543,
     "metadata": {},
     "output_type": "execute_result"
    }
   ],
   "source": [
    "D12 = wasserstein_dist_signed(eps1,eps2)\n",
    "D12.round(3)"
   ]
  },
  {
   "cell_type": "code",
   "execution_count": 544,
   "id": "c49b2d1a",
   "metadata": {},
   "outputs": [
    {
     "data": {
      "text/plain": [
       "{0: 4, 1: 2, 2: 0, 4: 1}"
      ]
     },
     "execution_count": 544,
     "metadata": {},
     "output_type": "execute_result"
    }
   ],
   "source": [
    "minimum_matching(D12)"
   ]
  },
  {
   "cell_type": "code",
   "execution_count": 545,
   "id": "c76a045e",
   "metadata": {},
   "outputs": [
    {
     "data": {
      "text/plain": [
       "array([[0.099, 0.187, 0.045, 0.05 , 0.026],\n",
       "       [0.13 , 0.16 , 0.027, 0.027, 0.06 ],\n",
       "       [0.278, 0.019, 0.141, 0.155, 0.192],\n",
       "       [0.456, 0.218, 0.327, 0.327, 0.385],\n",
       "       [0.015, 0.296, 0.15 , 0.142, 0.102]])"
      ]
     },
     "execution_count": 545,
     "metadata": {},
     "output_type": "execute_result"
    }
   ],
   "source": [
    "D13 = wasserstein_dist_signed(eps1,eps3)\n",
    "D13.round(3)"
   ]
  },
  {
   "cell_type": "code",
   "execution_count": 546,
   "id": "bb021eb1",
   "metadata": {},
   "outputs": [
    {
     "data": {
      "text/plain": [
       "{0: 4, 1: 3, 2: 1, 4: 0}"
      ]
     },
     "execution_count": 546,
     "metadata": {},
     "output_type": "execute_result"
    }
   ],
   "source": [
    "minimum_matching(D13)"
   ]
  },
  {
   "cell_type": "code",
   "execution_count": 547,
   "id": "922fa9b3",
   "metadata": {},
   "outputs": [
    {
     "data": {
      "text/plain": [
       "array([[0.283, 0.023, 0.145, 0.159, 0.198],\n",
       "       [0.017, 0.298, 0.154, 0.146, 0.106],\n",
       "       [0.143, 0.155, 0.034, 0.027, 0.079],\n",
       "       [0.044, 0.243, 0.098, 0.09 , 0.052],\n",
       "       [0.089, 0.197, 0.055, 0.053, 0.022]])"
      ]
     },
     "execution_count": 547,
     "metadata": {},
     "output_type": "execute_result"
    }
   ],
   "source": [
    "D23 = wasserstein_dist_signed(eps2,eps3)\n",
    "D23.round(3)"
   ]
  },
  {
   "cell_type": "code",
   "execution_count": 548,
   "id": "a894c8cb",
   "metadata": {},
   "outputs": [
    {
     "data": {
      "text/plain": [
       "{0: 1, 1: 0, 2: 3, 4: 4}"
      ]
     },
     "execution_count": 548,
     "metadata": {},
     "output_type": "execute_result"
    }
   ],
   "source": [
    "minimum_matching(D23)"
   ]
  },
  {
   "cell_type": "code",
   "execution_count": 549,
   "id": "78a94e06",
   "metadata": {},
   "outputs": [],
   "source": [
    "# Definition of a joint factor:\n",
    "# A collection of distributions of size |E| such that \n",
    "# - all distibutions within that joint factor match"
   ]
  },
  {
   "cell_type": "code",
   "execution_count": 550,
   "id": "13d8e6aa",
   "metadata": {},
   "outputs": [],
   "source": [
    "def is_consistent(f, matchings):\n",
    "    for i in range(len(f)):\n",
    "        for j in range(i+1, len(f)):\n",
    "            if f[i] not in list(matchings[str(i)+str(j)].keys()):\n",
    "                return False\n",
    "            if matchings[str(i)+str(j)][f[i]] != f[j]:\n",
    "                return False\n",
    "    return True\n",
    "\n",
    "\n",
    "\n",
    "def get_joint_factors(indep_comps):\n",
    "    \n",
    "    nr_env = len(indep_comps)\n",
    "    \n",
    "    matchings = {}\n",
    "    for i in range(nr_env):\n",
    "        for j in range(i+1, nr_env):\n",
    "            D = wasserstein_dist_signed(indep_comps[i],indep_comps[j])\n",
    "            matchings[str(i)+str(j)] = minimum_matching(D)\n",
    "    \n",
    "    # Define potential factors\n",
    "    pot_factors = [[i] for i in list(matchings['01'].keys())] \n",
    "    for f in pot_factors:\n",
    "        for i in range(1,nr_env):\n",
    "            if f[0] not in list(matchings['0'+str(i)].keys()):\n",
    "                continue\n",
    "            else:\n",
    "                f.append(matchings['0'+str(i)][f[0]])\n",
    "    pot_factors = [f for f in pot_factors if len(f)==nr_env]\n",
    "    \n",
    "    # Only keep consistent factors\n",
    "    factors = [f for f in pot_factors if is_consistent(f, matchings)]\n",
    "    \n",
    "    return(factors)"
   ]
  },
  {
   "cell_type": "code",
   "execution_count": 551,
   "id": "673d3c53",
   "metadata": {},
   "outputs": [
    {
     "data": {
      "text/plain": [
       "[[0, 4, 4], [1, 2, 3], [2, 0, 1], [4, 1, 0]]"
      ]
     },
     "execution_count": 551,
     "metadata": {},
     "output_type": "execute_result"
    }
   ],
   "source": [
    "joint_factors = get_joint_factors(indep_comps)\n",
    "joint_factors\n",
    "\n",
    "# Interpretation:\n",
    "# We match the following recovered components:\n",
    "# component 0 of domain 1 WITH component 0 of domain 2 WITH component 2 of domain 3"
   ]
  },
  {
   "cell_type": "markdown",
   "id": "643e0091",
   "metadata": {},
   "source": [
    "### Recover joint mixing matrix"
   ]
  },
  {
   "cell_type": "code",
   "execution_count": 552,
   "id": "0aefd1c4",
   "metadata": {},
   "outputs": [],
   "source": [
    "def matching_sign(distr1, distr2):\n",
    "        normal_dist = wasserstein_distance(distr1,distr2) \n",
    "        flipped_dist = wasserstein_distance(distr1,-distr2)\n",
    "        if normal_dist <= flipped_dist:\n",
    "            return 1\n",
    "        else:\n",
    "            return -1 "
   ]
  },
  {
   "cell_type": "code",
   "execution_count": 553,
   "id": "a38839ed",
   "metadata": {},
   "outputs": [],
   "source": [
    "def add_signs_to_factor(f, indep_comps):\n",
    "    \n",
    "    signs = [1]\n",
    "    \n",
    "    for i in range(1,len(f)):\n",
    "        signs.append(matching_sign(indep_comps[0][:,f[0]], indep_comps[i][:,f[i]]))\n",
    "         \n",
    "    return signs"
   ]
  },
  {
   "cell_type": "code",
   "execution_count": 554,
   "id": "7baa8e23",
   "metadata": {},
   "outputs": [
    {
     "data": {
      "text/plain": [
       "[[1, -1, -1], [1, -1, 1], [1, -1, 1], [1, -1, -1]]"
      ]
     },
     "execution_count": 554,
     "metadata": {},
     "output_type": "execute_result"
    }
   ],
   "source": [
    "joint_factor_signs = [add_signs_to_factor(f, indep_comps) for f in joint_factors]\n",
    "joint_factor_signs"
   ]
  },
  {
   "cell_type": "code",
   "execution_count": 555,
   "id": "7388c099",
   "metadata": {},
   "outputs": [],
   "source": [
    "def joint_mixing_matrix(mixings, joint_factors, joint_factor_signs):\n",
    "    \n",
    "    nr_env = len(mixings)\n",
    "    nr_joint = len(joint_factors)\n",
    "    total_nr_obs = sum([M.shape[0] for M in mixings])\n",
    "    total_nr_lat = sum([M.shape[1]-nr_joint for M in mixings]) + nr_joint\n",
    "    M_large = np.zeros((total_nr_obs, total_nr_lat))\n",
    "    \n",
    "    # Joint columns\n",
    "    for i,f in enumerate(joint_factors):\n",
    "        current_row = 0\n",
    "        for env in range(nr_env):\n",
    "            col = joint_factor_signs[i][env] * mixings[env][:,f[env]]\n",
    "            M_large[np.ix_(np.arange(current_row,(current_row+len(col))),np.array([i]))] \\\n",
    "            = col.reshape((len(col),1))\n",
    "            current_row = current_row + len(col)\n",
    "    \n",
    "    # Domain-specific columns\n",
    "    current_col = len(joint_factors)\n",
    "    current_row = 0\n",
    "    for env in range(nr_env):\n",
    "        M = mixings[env]\n",
    "        nrows, ncols = M.shape\n",
    "        joint_cols = [f[env] for f in joint_factors]\n",
    "        domain_spec_cols = set(np.arange(ncols)) - set(joint_cols)\n",
    "        for i, col in enumerate(domain_spec_cols):\n",
    "            M_large[np.ix_(np.arange(current_row,(current_row+nrows)),np.array([current_col+i]))] \\\n",
    "            = M[:,col].reshape((nrows,1))\n",
    "        current_col = current_col + len(domain_spec_cols)\n",
    "        current_row = current_row + nrows\n",
    "    return(M_large)"
   ]
  },
  {
   "cell_type": "code",
   "execution_count": 556,
   "id": "90cf2a50",
   "metadata": {},
   "outputs": [
    {
     "data": {
      "text/plain": [
       "array([[-0.36,  0.5 , -0.07, -0.16, -0.94,  0.  ,  0.  ],\n",
       "       [-0.41,  0.85, -0.54, -0.87, -0.33,  0.  ,  0.  ],\n",
       "       [ 0.05,  0.76,  0.61,  0.04,  0.5 ,  0.  ,  0.  ],\n",
       "       [-1.4 ,  0.38, -1.92, -2.15, -0.86,  0.  ,  0.  ],\n",
       "       [ 0.7 , -0.17,  0.02,  2.47, -0.91,  0.  ,  0.  ],\n",
       "       [-0.43,  1.4 , -1.88,  1.47, -0.08,  0.  ,  0.  ],\n",
       "       [ 0.2 , -1.08,  0.72,  0.32,  0.42,  0.  ,  0.  ],\n",
       "       [-0.07,  1.67, -2.34,  0.59,  0.94,  0.  ,  0.  ],\n",
       "       [-0.14,  2.05, -0.77,  2.12,  0.46,  0.  ,  0.  ],\n",
       "       [ 0.08, -1.22, -1.08,  1.48, -1.9 ,  0.  ,  0.  ],\n",
       "       [ 0.84,  1.01, -0.24,  1.09, -0.71,  0.  ,  0.  ],\n",
       "       [-0.06, -0.95,  0.51,  0.55, -0.61,  0.  ,  0.  ],\n",
       "       [ 0.82,  0.29, -1.05,  0.07, -1.09,  0.  ,  0.  ],\n",
       "       [-1.7 ,  0.57,  0.9 , -1.38,  0.  , -1.52,  0.  ],\n",
       "       [ 2.13,  0.3 ,  0.77,  0.09,  0.  , -0.35,  0.  ],\n",
       "       [ 1.08,  0.32,  0.28, -1.23,  0.  ,  0.05,  0.  ],\n",
       "       [ 0.24,  0.09,  1.17,  0.03,  0.  ,  0.07,  0.  ],\n",
       "       [ 0.91, -0.56,  0.18, -1.59,  0.  , -0.86,  0.  ],\n",
       "       [-0.24,  1.76, -1.99,  1.21,  0.  , -0.62,  0.  ],\n",
       "       [ 0.18, -1.11, -0.01,  0.37,  0.  ,  2.58,  0.  ],\n",
       "       [-1.72, -0.19, -1.52,  0.22,  0.  , -0.38,  0.  ],\n",
       "       [-0.56,  1.39, -0.82,  1.12,  0.  , -1.6 ,  0.  ],\n",
       "       [ 0.03, -1.14,  0.59, -0.46,  0.  , -1.13,  0.  ],\n",
       "       [-0.05, -1.17, -1.17, -0.29,  0.  , -2.23,  0.  ],\n",
       "       [ 1.74, -0.4 ,  1.35, -1.57,  0.  , -0.75,  0.  ],\n",
       "       [ 0.6 , -0.65,  1.36,  0.76,  0.  , -1.85,  0.  ],\n",
       "       [-0.38, -0.12, -2.06, -0.14,  0.  , -1.11,  0.  ],\n",
       "       [ 0.54,  0.11, -1.24,  0.14,  0.  ,  0.  , -1.85],\n",
       "       [-1.27, -0.78, -0.95,  0.63,  0.  ,  0.  , -1.17],\n",
       "       [ 0.2 , -0.58,  0.19,  0.56,  0.  ,  0.  ,  2.59],\n",
       "       [ 0.67,  0.64,  0.89,  1.01,  0.  ,  0.  ,  0.8 ],\n",
       "       [-0.83, -0.5 ,  2.07,  0.22,  0.  ,  0.  ,  0.09],\n",
       "       [ 1.23,  0.51, -0.97, -0.3 ,  0.  ,  0.  , -1.22],\n",
       "       [ 0.2 , -1.95, -0.38,  1.27,  0.  ,  0.  ,  0.19],\n",
       "       [ 0.57, -0.69,  0.69,  0.67,  0.  ,  0.  , -0.52],\n",
       "       [-1.35,  0.79,  0.47,  0.17,  0.  ,  0.  , -0.21],\n",
       "       [ 1.09, -2.07,  1.14,  0.45,  0.  ,  0.  ,  0.37],\n",
       "       [ 0.53,  0.39, -1.12, -0.64,  0.  ,  0.  ,  1.74],\n",
       "       [ 0.14, -1.62, -1.01,  0.39,  0.  ,  0.  ,  0.04],\n",
       "       [-0.84,  0.56,  1.62,  0.77,  0.  ,  0.  , -0.02],\n",
       "       [-2.53,  1.43, -0.03,  0.22,  0.  ,  0.  ,  0.21],\n",
       "       [-1.12, -1.92,  1.03, -0.31,  0.  ,  0.  ,  1.41]])"
      ]
     },
     "execution_count": 556,
     "metadata": {},
     "output_type": "execute_result"
    }
   ],
   "source": [
    "B = joint_mixing_matrix(mixings, joint_factors, joint_factor_signs).round(2)\n",
    "B"
   ]
  },
  {
   "cell_type": "markdown",
   "id": "25745209",
   "metadata": {},
   "source": [
    "For comparison:"
   ]
  },
  {
   "cell_type": "code",
   "execution_count": 563,
   "id": "120f2df5",
   "metadata": {},
   "outputs": [
    {
     "data": {
      "text/plain": [
       "array([[-0.18, -0.07, -0.34,  0.53,  0.93],\n",
       "       [-0.87, -0.53, -0.33,  0.87,  0.33],\n",
       "       [ 0.05,  0.56,  0.09,  0.79, -0.45],\n",
       "       [-2.18, -1.84, -1.31,  0.41,  0.78],\n",
       "       [ 2.48,  0.07,  0.58, -0.19,  0.94],\n",
       "       [ 1.47, -1.74, -0.44,  1.42,  0.15],\n",
       "       [ 0.31,  0.7 ,  0.14, -1.09, -0.43],\n",
       "       [ 0.64, -2.2 , -0.02,  1.65, -0.86],\n",
       "       [ 2.12, -0.69, -0.14,  2.1 , -0.32],\n",
       "       [ 1.46, -0.97, -0.06, -1.26,  1.82],\n",
       "       [ 1.13, -0.22,  0.84,  0.98,  0.76],\n",
       "       [ 0.52,  0.51, -0.14, -0.94,  0.57],\n",
       "       [ 0.13, -1.  ,  0.82,  0.22,  1.06]])"
      ]
     },
     "execution_count": 563,
     "metadata": {},
     "output_type": "execute_result"
    }
   ],
   "source": [
    "G1.round(2)"
   ]
  },
  {
   "cell_type": "code",
   "execution_count": 564,
   "id": "547b5b52",
   "metadata": {},
   "outputs": [
    {
     "data": {
      "text/plain": [
       "array([[-1.39,  0.79, -1.69,  0.49, -1.63],\n",
       "       [ 0.06,  0.62,  2.16,  0.45, -0.28],\n",
       "       [-1.25,  0.17,  1.  ,  0.4 ,  0.1 ],\n",
       "       [ 0.  ,  1.14,  0.27,  0.12,  0.01],\n",
       "       [-1.64,  0.01,  0.95, -0.48, -0.78],\n",
       "       [ 1.3 , -1.97, -0.38,  1.71, -0.53],\n",
       "       [ 0.37,  0.21,  0.13, -1.11,  2.55],\n",
       "       [ 0.26, -1.42, -1.73, -0.32, -0.37],\n",
       "       [ 1.17, -0.88, -0.55,  1.34, -1.58],\n",
       "       [-0.51,  0.49,  0.21, -1.12, -1.13],\n",
       "       [-0.31, -1.3 ,  0.15, -1.18, -2.11],\n",
       "       [-1.64,  1.12,  1.8 , -0.26, -0.7 ],\n",
       "       [ 0.7 ,  1.19,  0.87, -0.58, -1.88],\n",
       "       [-0.11, -2.08, -0.38, -0.17, -0.99]])"
      ]
     },
     "execution_count": 564,
     "metadata": {},
     "output_type": "execute_result"
    }
   ],
   "source": [
    "G2.round(2)"
   ]
  },
  {
   "cell_type": "code",
   "execution_count": 565,
   "id": "e9b2366c",
   "metadata": {},
   "outputs": [
    {
     "data": {
      "text/plain": [
       "array([[-0.02, -1.15,  0.25,  0.06, -1.98],\n",
       "       [ 0.73, -0.84, -1.4 , -0.86, -1.05],\n",
       "       [ 0.66,  0.07,  0.7 , -0.53,  2.5 ],\n",
       "       [ 0.95,  0.79,  0.85,  0.74,  0.7 ],\n",
       "       [ 0.34,  2.07, -0.79, -0.4 ,  0.3 ],\n",
       "       [-0.52, -0.93,  1.  ,  0.49, -1.43],\n",
       "       [ 1.29, -0.32,  0.42, -1.88,  0.03],\n",
       "       [ 0.6 ,  0.72,  0.57, -0.59, -0.62],\n",
       "       [ 0.3 ,  0.46, -1.43,  0.74,  0.05],\n",
       "       [ 0.39,  1.18,  1.3 , -1.9 ,  0.17],\n",
       "       [-0.63, -1.21,  0.75,  0.32,  1.6 ],\n",
       "       [ 0.41, -0.94,  0.25, -1.62, -0.1 ],\n",
       "       [ 0.86,  1.58, -0.82,  0.63,  0.19],\n",
       "       [ 0.48, -0.08, -2.58,  1.29,  0.65],\n",
       "       [-0.05,  1.05, -0.83, -1.89,  1.59]])"
      ]
     },
     "execution_count": 565,
     "metadata": {},
     "output_type": "execute_result"
    }
   ],
   "source": [
    "G3.round(2)"
   ]
  },
  {
   "cell_type": "code",
   "execution_count": 560,
   "id": "c0f479d8",
   "metadata": {},
   "outputs": [
    {
     "data": {
      "text/plain": [
       "array([[-0.36,  0.5 , -0.07, -0.94, -0.16],\n",
       "       [-0.41,  0.85, -0.54, -0.33, -0.87],\n",
       "       [ 0.05,  0.76,  0.61,  0.5 ,  0.04],\n",
       "       [-1.4 ,  0.38, -1.92, -0.86, -2.15],\n",
       "       [ 0.7 , -0.17,  0.02, -0.91,  2.47],\n",
       "       [-0.43,  1.4 , -1.88, -0.08,  1.47],\n",
       "       [ 0.2 , -1.08,  0.72,  0.42,  0.32],\n",
       "       [-0.07,  1.67, -2.34,  0.94,  0.59],\n",
       "       [-0.14,  2.05, -0.77,  0.46,  2.12],\n",
       "       [ 0.08, -1.22, -1.08, -1.9 ,  1.48],\n",
       "       [ 0.84,  1.01, -0.24, -0.71,  1.09],\n",
       "       [-0.06, -0.95,  0.51, -0.61,  0.55],\n",
       "       [ 0.82,  0.29, -1.05, -1.09,  0.07]])"
      ]
     },
     "execution_count": 560,
     "metadata": {},
     "output_type": "execute_result"
    }
   ],
   "source": [
    "mixing1.round(2)"
   ]
  },
  {
   "cell_type": "code",
   "execution_count": 561,
   "id": "46dd959b",
   "metadata": {},
   "outputs": [
    {
     "data": {
      "text/plain": [
       "array([[-0.9 ,  1.38, -0.57, -1.52,  1.7 ],\n",
       "       [-0.77, -0.09, -0.3 , -0.35, -2.13],\n",
       "       [-0.28,  1.23, -0.32,  0.05, -1.08],\n",
       "       [-1.17, -0.03, -0.09,  0.07, -0.24],\n",
       "       [-0.18,  1.59,  0.56, -0.86, -0.91],\n",
       "       [ 1.99, -1.21, -1.76, -0.62,  0.24],\n",
       "       [ 0.01, -0.37,  1.11,  2.58, -0.18],\n",
       "       [ 1.52, -0.22,  0.19, -0.38,  1.72],\n",
       "       [ 0.82, -1.12, -1.39, -1.6 ,  0.56],\n",
       "       [-0.59,  0.46,  1.14, -1.13, -0.03],\n",
       "       [ 1.17,  0.29,  1.17, -2.23,  0.05],\n",
       "       [-1.35,  1.57,  0.4 , -0.75, -1.74],\n",
       "       [-1.36, -0.76,  0.65, -1.85, -0.6 ],\n",
       "       [ 2.06,  0.14,  0.12, -1.11,  0.38]])"
      ]
     },
     "execution_count": 561,
     "metadata": {},
     "output_type": "execute_result"
    }
   ],
   "source": [
    "mixing2.round(2)"
   ]
  },
  {
   "cell_type": "code",
   "execution_count": 562,
   "id": "e81728f2",
   "metadata": {},
   "outputs": [
    {
     "data": {
      "text/plain": [
       "array([[-0.14, -1.24, -1.85,  0.11, -0.54],\n",
       "       [-0.63, -0.95, -1.17, -0.78,  1.27],\n",
       "       [-0.56,  0.19,  2.59, -0.58, -0.2 ],\n",
       "       [-1.01,  0.89,  0.8 ,  0.64, -0.67],\n",
       "       [-0.22,  2.07,  0.09, -0.5 ,  0.83],\n",
       "       [ 0.3 , -0.97, -1.22,  0.51, -1.23],\n",
       "       [-1.27, -0.38,  0.19, -1.95, -0.2 ],\n",
       "       [-0.67,  0.69, -0.52, -0.69, -0.57],\n",
       "       [-0.17,  0.47, -0.21,  0.79,  1.35],\n",
       "       [-0.45,  1.14,  0.37, -2.07, -1.09],\n",
       "       [ 0.64, -1.12,  1.74,  0.39, -0.53],\n",
       "       [-0.39, -1.01,  0.04, -1.62, -0.14],\n",
       "       [-0.77,  1.62, -0.02,  0.56,  0.84],\n",
       "       [-0.22, -0.03,  0.21,  1.43,  2.53],\n",
       "       [ 0.31,  1.03,  1.41, -1.92,  1.12]])"
      ]
     },
     "execution_count": 562,
     "metadata": {},
     "output_type": "execute_result"
    }
   ],
   "source": [
    "mixing3.round(2)"
   ]
  },
  {
   "cell_type": "markdown",
   "id": "1e7d9e4d",
   "metadata": {},
   "source": [
    "Notes: \n",
    "Could sample from \"empirical joint distribution\" now:\n",
    "- Have empirical distribution of each independent component (merge the ones for the joint components).\n",
    "- Sample from the empirical distributions.\n",
    "- Using the joint mixing matrix, this produces samples of the joint distribution.\n",
    "\n",
    "Using the joint mixing matrix we can also transport observations in one domain to another."
   ]
  },
  {
   "cell_type": "code",
   "execution_count": null,
   "id": "eb4545e2",
   "metadata": {},
   "outputs": [],
   "source": []
  }
 ],
 "metadata": {
  "kernelspec": {
   "display_name": "Python 3 (ipykernel)",
   "language": "python",
   "name": "python3"
  },
  "language_info": {
   "codemirror_mode": {
    "name": "ipython",
    "version": 3
   },
   "file_extension": ".py",
   "mimetype": "text/x-python",
   "name": "python",
   "nbconvert_exporter": "python",
   "pygments_lexer": "ipython3",
   "version": "3.9.12"
  }
 },
 "nbformat": 4,
 "nbformat_minor": 5
}
