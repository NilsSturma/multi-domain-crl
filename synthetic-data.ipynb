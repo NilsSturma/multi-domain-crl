{
 "cells": [
  {
   "cell_type": "code",
   "execution_count": 1,
   "id": "3e1fc96a",
   "metadata": {},
   "outputs": [],
   "source": [
    "%matplotlib inline\n",
    "\n",
    "import numpy as np\n",
    "from scipy.stats import uniform, expon, lognorm, weibull_min, chi2, wasserstein_distance\n",
    "from scipy.special import gamma\n",
    "import matplotlib.pyplot as plt\n",
    "from sklearn.decomposition import FastICA"
   ]
  },
  {
   "cell_type": "code",
   "execution_count": 2,
   "id": "d3179888",
   "metadata": {},
   "outputs": [],
   "source": [
    "rvs = [uniform(), expon(scale=0.1), lognorm(s=1), weibull_min(c=2), chi2(df=4)]"
   ]
  },
  {
   "cell_type": "code",
   "execution_count": 3,
   "id": "99d77bf6",
   "metadata": {},
   "outputs": [],
   "source": [
    "def sample_normed(n, rv):\n",
    "    return (rv.rvs(size=n) - rv.mean()) / rv.std()"
   ]
  },
  {
   "cell_type": "code",
   "execution_count": 4,
   "id": "b1dde6a8",
   "metadata": {},
   "outputs": [],
   "source": [
    "n = 5000\n",
    "eps = np.zeros((n,len(rvs)))\n",
    "for i, rv in enumerate(rvs):\n",
    "    eps[:,i] = sample_normed(n,rv)"
   ]
  },
  {
   "cell_type": "code",
   "execution_count": 5,
   "id": "f0b0cefd",
   "metadata": {},
   "outputs": [],
   "source": [
    "# 1-Wasserstein metric between empirical distributions\n",
    "\n",
    "def wasserstein_dist(X1,X2):\n",
    "    p1 = X1.shape[1]\n",
    "    p2 = X2.shape[1]\n",
    "    D = np.zeros((p1,p2))\n",
    "    for i in range(p1):\n",
    "        for j in range(p2):\n",
    "            D[i,j] = wasserstein_distance(X1[:,i],X2[:,j]) \n",
    "    return D"
   ]
  },
  {
   "cell_type": "code",
   "execution_count": 6,
   "id": "f4345015",
   "metadata": {},
   "outputs": [
    {
     "data": {
      "text/plain": [
       "array([[0.        , 0.37481218, 0.5484035 , 0.16906347, 0.28857013],\n",
       "       [0.37481218, 0.        , 0.22881496, 0.20853596, 0.08940272],\n",
       "       [0.5484035 , 0.22881496, 0.        , 0.39461488, 0.27866645],\n",
       "       [0.16906347, 0.20853596, 0.39461488, 0.        , 0.12460499],\n",
       "       [0.28857013, 0.08940272, 0.27866645, 0.12460499, 0.        ]])"
      ]
     },
     "execution_count": 6,
     "metadata": {},
     "output_type": "execute_result"
    }
   ],
   "source": [
    "wasserstein_dist(eps,eps)"
   ]
  },
  {
   "cell_type": "code",
   "execution_count": 205,
   "id": "43fba183",
   "metadata": {},
   "outputs": [
    {
     "data": {
      "image/png": "[encoded data removed]",
      "text/plain": [
       "<Figure size 1296x216 with 5 Axes>"
      ]
     },
     "metadata": {
      "needs_background": "light"
     },
     "output_type": "display_data"
    }
   ],
   "source": [
    "fig, ax = plt.subplots(1, 5, figsize=(18,3))\n",
    "\n",
    "for j in range(5):\n",
    "        ax[j].hist(eps[:,j], bins=50)\n",
    "\n",
    "plt.show()"
   ]
  },
  {
   "cell_type": "markdown",
   "id": "be3bc189",
   "metadata": {},
   "source": [
    "### Create synthetic observations"
   ]
  },
  {
   "cell_type": "code",
   "execution_count": 9,
   "id": "db924508",
   "metadata": {},
   "outputs": [],
   "source": [
    "nlat = 5\n",
    "joint_latents = [0,1]\n",
    "env1_specific = [2]\n",
    "env2_specific = [3]\n",
    "env3_specific = [4]\n",
    "d1 = 10\n",
    "d2 = 10\n",
    "d3 = 10\n",
    "\n",
    "env1_latents = joint_latents + env1_specific\n",
    "env2_latents = joint_latents + env2_specific\n",
    "env3_latents = joint_latents + env3_specific"
   ]
  },
  {
   "cell_type": "code",
   "execution_count": 10,
   "id": "41ac1b2d",
   "metadata": {},
   "outputs": [],
   "source": [
    "def matrix_from_normal(shape, mu=0, sigma=1):\n",
    "    A = np.random.normal(loc=mu, scale=sigma, size=shape)\n",
    "    return A"
   ]
  },
  {
   "cell_type": "code",
   "execution_count": 11,
   "id": "33438806",
   "metadata": {},
   "outputs": [
    {
     "data": {
      "text/plain": [
       "array([[ 2.70684984,  0.62813271,  0.90796945],\n",
       "       [ 0.50382575,  0.65111795, -0.31931804],\n",
       "       [-0.84807698,  0.60596535, -2.01816824],\n",
       "       [ 0.74012206,  0.52881349, -0.58900053],\n",
       "       [ 0.18869531, -0.75887206, -0.93323722],\n",
       "       [ 0.95505651,  0.19079432,  1.97875732],\n",
       "       [ 2.60596728,  0.68350889,  0.30266545],\n",
       "       [ 1.69372293, -1.70608593, -1.15911942],\n",
       "       [-0.13484072,  0.39052784,  0.16690464],\n",
       "       [ 0.18450186,  0.80770591,  0.07295968]])"
      ]
     },
     "execution_count": 11,
     "metadata": {},
     "output_type": "execute_result"
    }
   ],
   "source": [
    "# Sample entries of G1\n",
    "np.random.seed(101)\n",
    "G1 = matrix_from_normal(shape=(d1,len(env1_latents)))\n",
    "G1"
   ]
  },
  {
   "cell_type": "code",
   "execution_count": 12,
   "id": "47d37e5e",
   "metadata": {},
   "outputs": [],
   "source": [
    "# G2 and G3\n",
    "np.random.seed(102)\n",
    "G2 = matrix_from_normal(shape=(d2,len(env2_latents)))\n",
    "\n",
    "np.random.seed(103)\n",
    "G3 = matrix_from_normal(shape=(d3,len(env3_latents)))"
   ]
  },
  {
   "cell_type": "code",
   "execution_count": 13,
   "id": "bfce68d8",
   "metadata": {},
   "outputs": [],
   "source": [
    "# Create synthetic data\n",
    "X1 =  np.matmul(G1, np.transpose(eps)[env1_latents,:])\n",
    "X2 =  np.matmul(G2, np.transpose(eps)[env2_latents,:])\n",
    "X3 =  np.matmul(G3, np.transpose(eps)[env3_latents,:])"
   ]
  },
  {
   "cell_type": "code",
   "execution_count": 14,
   "id": "7a05273c",
   "metadata": {},
   "outputs": [
    {
     "data": {
      "text/plain": [
       "[0, 1, 3]"
      ]
     },
     "execution_count": 14,
     "metadata": {},
     "output_type": "execute_result"
    }
   ],
   "source": [
    "env2_latents"
   ]
  },
  {
   "cell_type": "markdown",
   "id": "74bb1927",
   "metadata": {},
   "source": [
    "### Apply linear ICA to recover the (empirical) distribution of the sources"
   ]
  },
  {
   "cell_type": "code",
   "execution_count": 15,
   "id": "2499e974",
   "metadata": {},
   "outputs": [],
   "source": [
    "def rescale_columns(X):\n",
    "    for i in range(X.shape[1]):\n",
    "        X[:,i] = (X[:,i] - X[:,i].mean()) / X[:,i].std()\n",
    "    return X\n",
    "\n",
    "# X1 has shape p x n\n",
    "def get_sources(X, seed=101):\n",
    "    cov = np.cov(X)\n",
    "    rk = np.linalg.matrix_rank(cov)\n",
    "    print(\"Rank:\", rk)\n",
    "    \n",
    "    ICA = FastICA(n_components=rk, random_state=seed, whiten='unit-variance', max_iter=1000) \n",
    "    ICA.fit(np.transpose(X))\n",
    "    print(\"Iterations:\", ICA.n_iter_)\n",
    "    eps = ICA.transform(np.transpose(X))\n",
    "    scaling = eps.std(axis=0)\n",
    "    \n",
    "    eps = rescale_columns(eps)\n",
    "    mixing = np.matmul(ICA.mixing_, np.diag(scaling))    \n",
    "    \n",
    "    return eps, mixing"
   ]
  },
  {
   "cell_type": "code",
   "execution_count": 16,
   "id": "702275d7",
   "metadata": {},
   "outputs": [
    {
     "name": "stdout",
     "output_type": "stream",
     "text": [
      "Rank: 3\n",
      "Iterations: 5\n"
     ]
    }
   ],
   "source": [
    "eps1, mixing1 = get_sources(X1, seed=101)"
   ]
  },
  {
   "cell_type": "code",
   "execution_count": 17,
   "id": "6a1619d7",
   "metadata": {},
   "outputs": [
    {
     "data": {
      "text/plain": [
       "array([[-2.686033  ,  0.91756252, -0.60483185],\n",
       "       [-0.51721032, -0.32189491, -0.66136035],\n",
       "       [ 0.79719259, -2.04826756, -0.64071549],\n",
       "       [-0.75538092, -0.59978692, -0.53501842],\n",
       "       [-0.19319752, -0.96155407,  0.77281416],\n",
       "       [-0.91667315,  2.01587942, -0.17269777],\n",
       "       [-2.59767577,  0.3009987 , -0.66599436],\n",
       "       [-1.68007019, -1.21086735,  1.75774962],\n",
       "       [ 0.13119064,  0.17525964, -0.39988845],\n",
       "       [-0.1947062 ,  0.08195649, -0.82305703]])"
      ]
     },
     "execution_count": 17,
     "metadata": {},
     "output_type": "execute_result"
    }
   ],
   "source": [
    "mixing1"
   ]
  },
  {
   "cell_type": "code",
   "execution_count": 18,
   "id": "5bf3b75a",
   "metadata": {},
   "outputs": [
    {
     "name": "stdout",
     "output_type": "stream",
     "text": [
      "Rank: 3\n",
      "Iterations: 7\n"
     ]
    }
   ],
   "source": [
    "eps2, mixing2 = get_sources(X2, seed=102)"
   ]
  },
  {
   "cell_type": "code",
   "execution_count": 20,
   "id": "0bc8fd4f",
   "metadata": {},
   "outputs": [
    {
     "name": "stdout",
     "output_type": "stream",
     "text": [
      "Rank: 3\n",
      "Iterations: 4\n"
     ]
    }
   ],
   "source": [
    "eps3, mixing3 = get_sources(X3, seed=103)"
   ]
  },
  {
   "cell_type": "code",
   "execution_count": 226,
   "id": "74e4dec6",
   "metadata": {},
   "outputs": [],
   "source": [
    "indep_comps = [eps1, eps2, eps3]\n",
    "mixings = [mixing1, mixing2, mixing3]"
   ]
  },
  {
   "cell_type": "markdown",
   "id": "031f5e8c",
   "metadata": {},
   "source": [
    "### Plot recovered distributions"
   ]
  },
  {
   "cell_type": "code",
   "execution_count": 196,
   "id": "cf9dcda3",
   "metadata": {},
   "outputs": [
    {
     "data": {
      "image/png": "[encoded data removed]",
      "text/plain": [
       "<Figure size 864x864 with 9 Axes>"
      ]
     },
     "metadata": {
      "needs_background": "light"
     },
     "output_type": "display_data"
    }
   ],
   "source": [
    "fig, ax = plt.subplots(3, 3, figsize=(12, 12))\n",
    "\n",
    "for i in range(3):\n",
    "    for j in range(3):\n",
    "        ax[i,j].hist(indep_comps[i][:,j], bins=50)\n",
    "\n",
    "plt.show()"
   ]
  },
  {
   "cell_type": "code",
   "execution_count": 204,
   "id": "7dba5984",
   "metadata": {},
   "outputs": [
    {
     "data": {
      "image/png": "[encoded data removed]",
      "text/plain": [
       "<Figure size 1296x216 with 5 Axes>"
      ]
     },
     "metadata": {
      "needs_background": "light"
     },
     "output_type": "display_data"
    }
   ],
   "source": [
    "# Compare with \"true\" distributions\n",
    "\n",
    "fig, ax = plt.subplots(1, 5, figsize=(18,3))\n",
    "\n",
    "for j in range(5):\n",
    "        ax[j].hist(eps[:,j], bins=50)\n",
    "\n",
    "plt.show()"
   ]
  },
  {
   "cell_type": "markdown",
   "id": "bd8523c6",
   "metadata": {},
   "source": [
    "### Matching"
   ]
  },
  {
   "cell_type": "code",
   "execution_count": 24,
   "id": "28a2e339",
   "metadata": {},
   "outputs": [],
   "source": [
    "def wasserstein_dist_signed(X1,X2):\n",
    "    p1 = X1.shape[1]\n",
    "    p2 = X2.shape[1]\n",
    "    D_large = np.zeros((p1,2*p2))\n",
    "    X2_large = np.concatenate((X2,-X2),axis=1)\n",
    "    for i in range(p1):\n",
    "        for j in range(2*p2):\n",
    "            D_large[i,j] = wasserstein_distance(X1[:,i],X2_large[:,j]) \n",
    "    D = np.zeros((p1,p2))\n",
    "    for i in range(p2):\n",
    "        D[:,i] = D_large[:,[i,i+p2]].min(axis=1)\n",
    "    return D"
   ]
  },
  {
   "cell_type": "code",
   "execution_count": 26,
   "id": "90ac82a3",
   "metadata": {},
   "outputs": [],
   "source": [
    "def minimum_matching(D):\n",
    "    p1, p2 = D.shape\n",
    "    matching = {}\n",
    "    for i in range(p1):\n",
    "        row_argmin = D[i,:].argmin()\n",
    "        if D[:,row_argmin].argmin() == i:\n",
    "            matching[i] = row_argmin\n",
    "    return matching"
   ]
  },
  {
   "cell_type": "code",
   "execution_count": 208,
   "id": "e009fba1",
   "metadata": {},
   "outputs": [
    {
     "data": {
      "text/plain": [
       "array([[0.003, 0.379, 0.168],\n",
       "       [0.549, 0.224, 0.398],\n",
       "       [0.38 , 0.005, 0.219]])"
      ]
     },
     "execution_count": 208,
     "metadata": {},
     "output_type": "execute_result"
    }
   ],
   "source": [
    "D12 = wasserstein_dist_signed(eps1,eps2)\n",
    "D12.round(3)"
   ]
  },
  {
   "cell_type": "code",
   "execution_count": 28,
   "id": "e098d182",
   "metadata": {},
   "outputs": [
    {
     "data": {
      "text/plain": [
       "array([[0.279, 0.38 , 0.003],\n",
       "       [0.298, 0.224, 0.55 ],\n",
       "       [0.102, 0.002, 0.38 ]])"
      ]
     },
     "execution_count": 28,
     "metadata": {},
     "output_type": "execute_result"
    }
   ],
   "source": [
    "D13 = wasserstein_dist_signed(eps1,eps3)\n",
    "D13.round(3)"
   ]
  },
  {
   "cell_type": "code",
   "execution_count": 29,
   "id": "d603e258",
   "metadata": {},
   "outputs": [
    {
     "data": {
      "text/plain": [
       "{0: 2, 2: 1}"
      ]
     },
     "execution_count": 29,
     "metadata": {},
     "output_type": "execute_result"
    }
   ],
   "source": [
    "minimum_matching(D13)"
   ]
  },
  {
   "cell_type": "code",
   "execution_count": 30,
   "id": "4d7f536a",
   "metadata": {},
   "outputs": [
    {
     "data": {
      "text/plain": [
       "array([[0.278, 0.379, 0.004],\n",
       "       [0.101, 0.005, 0.379],\n",
       "       [0.117, 0.218, 0.168]])"
      ]
     },
     "execution_count": 30,
     "metadata": {},
     "output_type": "execute_result"
    }
   ],
   "source": [
    "D23 = wasserstein_dist_signed(eps2,eps3)\n",
    "D23.round(3)"
   ]
  },
  {
   "cell_type": "code",
   "execution_count": 31,
   "id": "d9848197",
   "metadata": {},
   "outputs": [
    {
     "data": {
      "text/plain": [
       "{0: 2, 1: 1}"
      ]
     },
     "execution_count": 31,
     "metadata": {},
     "output_type": "execute_result"
    }
   ],
   "source": [
    "minimum_matching(D23)"
   ]
  },
  {
   "cell_type": "code",
   "execution_count": 274,
   "id": "c6b088a0",
   "metadata": {},
   "outputs": [],
   "source": [
    "# Definition of a joint factor:\n",
    "# A collection of distributions of size |E| such that \n",
    "# - all distibutions within that joint factor match"
   ]
  },
  {
   "cell_type": "code",
   "execution_count": 206,
   "id": "70f90677",
   "metadata": {},
   "outputs": [],
   "source": [
    "def is_consistent(f, matchings):\n",
    "    for i in range(len(f)):\n",
    "        for j in range(i+1, len(f)):\n",
    "            if f[i] not in list(matchings[str(i)+str(j)].keys()):\n",
    "                return False\n",
    "            if matchings[str(i)+str(j)][f[i]] != f[j]:\n",
    "                return False\n",
    "    return True\n",
    "\n",
    "\n",
    "\n",
    "def get_joint_factors(indep_comps):\n",
    "    \n",
    "    nr_env = len(indep_comps)\n",
    "    \n",
    "    matchings = {}\n",
    "    for i in range(nr_env):\n",
    "        for j in range(i+1, nr_env):\n",
    "            D = wasserstein_dist_signed(indep_comps[i],indep_comps[j])\n",
    "            matchings[str(i)+str(j)] = minimum_matching(D)\n",
    "    \n",
    "    # Define potential factors\n",
    "    pot_factors = [[i] for i in list(matchings['01'].keys())] \n",
    "    for f in pot_factors:\n",
    "        for i in range(1,nr_env):\n",
    "            if f[0] not in list(matchings['0'+str(i)].keys()):\n",
    "                continue\n",
    "            else:\n",
    "                f.append(matchings['0'+str(i)][f[0]])\n",
    "    pot_factors = [f for f in pot_factors if len(f)==nr_env]\n",
    "    \n",
    "    # Only keep consistent factors\n",
    "    factors = [f for f in pot_factors if is_consistent(f, matchings)]\n",
    "    \n",
    "    return(factors)"
   ]
  },
  {
   "cell_type": "code",
   "execution_count": 207,
   "id": "a2b1f4b4",
   "metadata": {},
   "outputs": [
    {
     "data": {
      "text/plain": [
       "[[0, 0, 2], [2, 1, 1]]"
      ]
     },
     "execution_count": 207,
     "metadata": {},
     "output_type": "execute_result"
    }
   ],
   "source": [
    "joint_factors = get_joint_factors(indep_comps)\n",
    "joint_factors\n",
    "\n",
    "# Interpretation:\n",
    "# We match the following recovered components:\n",
    "# component 0 of domain 1 WITH component 0 of domain 2 WITH component 2 of domain 3"
   ]
  },
  {
   "cell_type": "markdown",
   "id": "75036031",
   "metadata": {},
   "source": [
    "### Recover joint mixing matrix"
   ]
  },
  {
   "cell_type": "code",
   "execution_count": 217,
   "id": "c9a6efcf",
   "metadata": {},
   "outputs": [],
   "source": [
    "def matching_sign(distr1, distr2):\n",
    "        normal_dist = wasserstein_distance(distr1,distr2) \n",
    "        flipped_dist = wasserstein_distance(distr1,distr2)\n",
    "        if normal_dist <= flipped_dist:\n",
    "            return 1\n",
    "        else:\n",
    "            return -1 "
   ]
  },
  {
   "cell_type": "code",
   "execution_count": 221,
   "id": "67aae4fb",
   "metadata": {},
   "outputs": [],
   "source": [
    "def add_signs_to_factor(f, indep_comps):\n",
    "    \n",
    "    signs = [1]\n",
    "    \n",
    "    for i in range(1,len(f)):\n",
    "        signs.append(matching_sign(indep_comps[0][:,f[0]], indep_comps[i][:,f[i]]))\n",
    "         \n",
    "    # Check for consistency\n",
    "    for i in range(1, len(f)):\n",
    "        for j in range(i+1, len(f)):\n",
    "            if signs[i]*signs[j] != matching_sign(indep_comps[i][:,f[i]], indep_comps[j][:,f[j]]):\n",
    "                raise ValueError(\"Signs are not consistent: \", i, j)\n",
    "    return signs"
   ]
  },
  {
   "cell_type": "code",
   "execution_count": 231,
   "id": "cadf0cbf",
   "metadata": {},
   "outputs": [
    {
     "data": {
      "text/plain": [
       "[[1, 1, 1], [1, 1, 1]]"
      ]
     },
     "execution_count": 231,
     "metadata": {},
     "output_type": "execute_result"
    }
   ],
   "source": [
    "joint_factor_signs = [add_signs_to_factor(f, indep_comps) for f in joint_factors]\n",
    "joint_factor_signs"
   ]
  },
  {
   "cell_type": "code",
   "execution_count": 272,
   "id": "b016bd96",
   "metadata": {},
   "outputs": [],
   "source": [
    "def joint_mixing_matrix(mixings, joint_factors, joint_factor_signs):\n",
    "    \n",
    "    nr_env = len(mixings)\n",
    "    nr_joint = len(joint_factors)\n",
    "    total_nr_obs = sum([M.shape[0] for M in mixings])\n",
    "    total_nr_lat = sum([M.shape[1]-nr_joint for M in mixings]) + nr_joint\n",
    "    M_large = np.zeros((total_nr_obs, total_nr_lat))\n",
    "    \n",
    "    # Joint columns\n",
    "    for i,f in enumerate(joint_factors):\n",
    "        current_row = 0\n",
    "        for env in range(nr_env):\n",
    "            col = joint_factor_signs[i][env] * mixings[env][:,f[env]]\n",
    "            M_large[np.ix_(np.arange(current_row,(current_row+len(col))),np.array([i]))] \\\n",
    "            = col.reshape((len(col),1))\n",
    "            current_row = current_row + len(col)\n",
    "    \n",
    "    # Domain-specific columns\n",
    "    current_col = len(joint_factors)\n",
    "    current_row = 0\n",
    "    for env in range(nr_env):\n",
    "        M = mixings[env]\n",
    "        nrows, ncols = M.shape\n",
    "        joint_cols = [f[env] for f in joint_factors]\n",
    "        domain_spec_cols = set(np.arange(ncols)) - set(joint_cols)\n",
    "        for i, col in enumerate(domain_spec_cols):\n",
    "            M_large[np.ix_(np.arange(current_row,(current_row+nrows)),np.array([current_col+i]))] \\\n",
    "            = M[:,col].reshape((nrows,1))\n",
    "        current_col = current_col + len(domain_spec_cols)\n",
    "        current_row = current_row + nrows\n",
    "    return(M_large)"
   ]
  },
  {
   "cell_type": "code",
   "execution_count": 273,
   "id": "a8f56d00",
   "metadata": {},
   "outputs": [
    {
     "data": {
      "text/plain": [
       "array([[-2.686033  , -0.60483185,  0.91756252,  0.        ,  0.        ],\n",
       "       [-0.51721032, -0.66136035, -0.32189491,  0.        ,  0.        ],\n",
       "       [ 0.79719259, -0.64071549, -2.04826756,  0.        ,  0.        ],\n",
       "       [-0.75538092, -0.53501842, -0.59978692,  0.        ,  0.        ],\n",
       "       [-0.19319752,  0.77281416, -0.96155407,  0.        ,  0.        ],\n",
       "       [-0.91667315, -0.17269777,  2.01587942,  0.        ,  0.        ],\n",
       "       [-2.59767577, -0.66599436,  0.3009987 ,  0.        ,  0.        ],\n",
       "       [-1.68007019,  1.75774962, -1.21086735,  0.        ,  0.        ],\n",
       "       [ 0.13119064, -0.39988845,  0.17525964,  0.        ,  0.        ],\n",
       "       [-0.1947062 , -0.82305703,  0.08195649,  0.        ,  0.        ],\n",
       "       [ 1.70317836, -0.97183118,  0.        , -0.96680476,  0.        ],\n",
       "       [-0.88618819, -1.35416376,  0.        , -0.29470633,  0.        ],\n",
       "       [-0.52438218,  0.92148164,  0.        ,  0.07181699,  0.        ],\n",
       "       [-2.21191347, -1.0216213 ,  0.        ,  0.00769629,  0.        ],\n",
       "       [-0.5150064 ,  1.15179019,  0.        ,  0.49198794,  0.        ],\n",
       "       [ 1.01474089,  1.75577376,  0.        , -0.18969637,  0.        ],\n",
       "       [-0.4196159 , -0.12376812,  0.        , -1.46037144,  0.        ],\n",
       "       [ 0.56050626,  0.80772329,  0.        ,  0.60813015,  0.        ],\n",
       "       [ 0.80988072, -0.04114685,  0.        ,  2.53886051,  0.        ],\n",
       "       [ 0.420353  , -0.74015414,  0.        ,  0.01789558,  0.        ],\n",
       "       [-1.23522162,  0.25066324,  0.        ,  0.        ,  0.4095307 ],\n",
       "       [-0.33259761,  1.09847375,  0.        ,  0.        ,  2.26619363],\n",
       "       [ 0.40666467, -0.43428663,  0.        ,  0.        , -0.96277072],\n",
       "       [-0.6232423 , -0.59724034,  0.        ,  0.        , -0.09717849],\n",
       "       [ 0.96312188, -1.61583188,  0.        ,  0.        , -1.1859702 ],\n",
       "       [-1.35374263, -1.09357793,  0.        ,  0.        ,  0.0131469 ],\n",
       "       [ 0.73393574, -1.354412  ,  0.        ,  0.        ,  1.23806287],\n",
       "       [-1.69525368, -0.6524039 ,  0.        ,  0.        ,  1.53372587],\n",
       "       [-0.23473805,  0.83571611,  0.        ,  0.        , -0.9207386 ],\n",
       "       [ 0.20582318,  0.61706314,  0.        ,  0.        , -0.16005569]])"
      ]
     },
     "execution_count": 273,
     "metadata": {},
     "output_type": "execute_result"
    }
   ],
   "source": [
    "joint_mixing_matrix(mixings, joint_factors, joint_factor_signs)"
   ]
  },
  {
   "cell_type": "markdown",
   "id": "4402cd62",
   "metadata": {},
   "source": [
    "Notes: \n",
    "Could sample from \"empirical joitn distribution\" now:\n",
    "- Have empirical distribution of each independent component (merge the ones for the joint components).\n",
    "- Sample from the empirical distributions.\n",
    "- Using the joint mixing matrix, this produces samples of the joint distribution.\n",
    "\n",
    "Using the joint mixing matrix we can also transport observations in one domain to another."
   ]
  },
  {
   "cell_type": "code",
   "execution_count": null,
   "id": "f4e00d04",
   "metadata": {},
   "outputs": [],
   "source": []
  },
  {
   "cell_type": "code",
   "execution_count": null,
   "id": "661b515c",
   "metadata": {},
   "outputs": [],
   "source": []
  },
  {
   "cell_type": "code",
   "execution_count": null,
   "id": "6a8d40b7",
   "metadata": {},
   "outputs": [],
   "source": []
  }
 ],
 "metadata": {
  "kernelspec": {
   "display_name": "Python 3 (ipykernel)",
   "language": "python",
   "name": "python3"
  },
  "language_info": {
   "codemirror_mode": {
    "name": "ipython",
    "version": 3
   },
   "file_extension": ".py",
   "mimetype": "text/x-python",
   "name": "python",
   "nbconvert_exporter": "python",
   "pygments_lexer": "ipython3",
   "version": "3.9.12"
  }
 },
 "nbformat": 4,
 "nbformat_minor": 5
}
