{
 "cells": [
  {
   "cell_type": "code",
   "execution_count": 1,
   "id": "797f9c71",
   "metadata": {},
   "outputs": [],
   "source": [
    "import numpy as np\n",
    "import tensorly as tl\n",
    "from tensorly.decomposition import parafac\n",
    "from numpy.linalg import matrix_rank, pinv, inv\n",
    "\n",
    "np.set_printoptions(suppress=True)"
   ]
  },
  {
   "cell_type": "markdown",
   "id": "8cee91ff",
   "metadata": {},
   "source": [
    "## Choose parameters\n",
    "(Maybe we can use some python package for handling graphs?)"
   ]
  },
  {
   "cell_type": "code",
   "execution_count": 2,
   "id": "56ca831b",
   "metadata": {},
   "outputs": [
    {
     "data": {
      "text/plain": [
       "[1, -2, 3, 4, 4.5, 4.2]"
      ]
     },
     "execution_count": 2,
     "metadata": {},
     "output_type": "execute_result"
    }
   ],
   "source": [
    "nlat = 6\n",
    "joint_latents = [0,1,2]\n",
    "env1_specific = [3]\n",
    "env2_specific = [4]\n",
    "env3_specific = [5]\n",
    "d1 = 12\n",
    "d2 = 15\n",
    "d3 = 12\n",
    "\n",
    "# Third-order moments of the latent variables:\n",
    "third_moms = [1,-2,3,4,4.5,4.2]\n",
    "np.arange(1,(nlat+1))\n",
    "third_moms"
   ]
  },
  {
   "cell_type": "markdown",
   "id": "78ed4d90",
   "metadata": {},
   "source": [
    "Consider the follwing latent graph: 0 <- 1 -> 2 (in the joint latent space)"
   ]
  },
  {
   "cell_type": "code",
   "execution_count": 3,
   "id": "bbb1417d",
   "metadata": {},
   "outputs": [
    {
     "data": {
      "text/plain": [
       "array([[ 0,  1,  0,  0,  0,  0],\n",
       "       [ 0,  0,  0,  0,  0,  0],\n",
       "       [ 0, -2,  0,  0,  0,  0],\n",
       "       [ 0,  0,  0,  0,  0,  0],\n",
       "       [ 0,  0,  0,  0,  0,  0],\n",
       "       [ 0,  0,  0,  0,  0,  0]])"
      ]
     },
     "execution_count": 3,
     "metadata": {},
     "output_type": "execute_result"
    }
   ],
   "source": [
    "A = np.array([[0,1,0,0,0,0],\n",
    "              [0,0,0,0,0,0],\n",
    "              [0,-2,0,0,0,0],\n",
    "              [0,0,0,0,0,0],\n",
    "              [0,0,0,0,0,0],\n",
    "              [0,0,0,0,0,0]])\n",
    "A"
   ]
  },
  {
   "cell_type": "code",
   "execution_count": 10,
   "id": "7530ac6b",
   "metadata": {},
   "outputs": [],
   "source": [
    "I = np.identity(nlat)"
   ]
  },
  {
   "cell_type": "markdown",
   "id": "f1c9c8d9",
   "metadata": {},
   "source": [
    "#### 1) Define third order tensor of noise variables"
   ]
  },
  {
   "cell_type": "code",
   "execution_count": 11,
   "id": "bbf511ec",
   "metadata": {},
   "outputs": [],
   "source": [
    "Omega = np.zeros((nlat,nlat,nlat))\n",
    "for i in range(nlat):\n",
    "    Omega[i,i,i] = third_moms[i]"
   ]
  },
  {
   "cell_type": "markdown",
   "id": "a0299afe",
   "metadata": {},
   "source": [
    "#### 2) Define mixing matrix (sampled uniformly)"
   ]
  },
  {
   "cell_type": "code",
   "execution_count": 12,
   "id": "d3622527",
   "metadata": {},
   "outputs": [],
   "source": [
    "env1_latents = joint_latents + env1_specific\n",
    "env2_latents = joint_latents + env2_specific\n",
    "env3_latents = joint_latents + env3_specific"
   ]
  },
  {
   "cell_type": "code",
   "execution_count": 13,
   "id": "0865c8f3",
   "metadata": {},
   "outputs": [],
   "source": [
    "def matrix_from_normal(shape, mu=0, sigma=1):\n",
    "    A = np.random.normal(loc=mu, scale=sigma, size=shape)\n",
    "    return A"
   ]
  },
  {
   "cell_type": "code",
   "execution_count": 14,
   "id": "903320e3",
   "metadata": {},
   "outputs": [
    {
     "data": {
      "text/plain": [
       "array([[ 0.47299,  0.     ,  0.     , -1.70074],\n",
       "       [ 0.75314, -1.53472,  0.00513, -0.12023],\n",
       "       [-0.80698,  2.87182, -0.59782,  0.47246],\n",
       "       [ 1.09596, -1.21517,  1.34236, -0.12215],\n",
       "       [ 1.01252, -0.91387, -1.02953,  1.2098 ],\n",
       "       [ 0.50187,  0.13885,  0.64076,  0.52733],\n",
       "       [-1.15436, -2.21333, -1.68176, -1.78809],\n",
       "       [-2.21853, -0.64743, -0.5284 , -0.03921],\n",
       "       [ 0.21498, -0.38436, -0.2539 ,  0.07325],\n",
       "       [-0.9972 , -0.71386,  0.03542, -0.67795],\n",
       "       [-0.57188, -0.10586,  1.33583,  0.31867],\n",
       "       [-0.3376 , -0.58527, -0.11492,  2.24182]])"
      ]
     },
     "execution_count": 14,
     "metadata": {},
     "output_type": "execute_result"
    }
   ],
   "source": [
    "# Sample entries of G1 from Unif([0,1])\n",
    "np.random.seed(d1)\n",
    "G1 = matrix_from_normal(shape=(d1,len(env1_latents)))\n",
    "\n",
    "# Assume exaclty one pure child, i.e. one row in G1 has only one non-zero entry among the first 3 columns \n",
    "# but all other rows do not have zero entries\n",
    "G1[np.ix_([0],[1,2])] = 0\n",
    "G1.round(5)"
   ]
  },
  {
   "cell_type": "code",
   "execution_count": 15,
   "id": "48c35075",
   "metadata": {},
   "outputs": [
    {
     "data": {
      "text/plain": [
       "array([[ 0.47299,  0.47299,  0.     , -1.70074],\n",
       "       [ 0.75314, -0.79183,  0.00513, -0.12023],\n",
       "       [-0.80698,  3.26048, -0.59782,  0.47246],\n",
       "       [ 1.09596, -2.80393,  1.34236, -0.12215],\n",
       "       [ 1.01252,  2.15771, -1.02953,  1.2098 ],\n",
       "       [ 0.50187, -0.6408 ,  0.64076,  0.52733],\n",
       "       [-1.15436, -0.00418, -1.68176, -1.78809],\n",
       "       [-2.21853, -1.80916, -0.5284 , -0.03921],\n",
       "       [ 0.21498,  0.33843, -0.2539 ,  0.07325],\n",
       "       [-0.9972 , -1.78189,  0.03542, -0.67795],\n",
       "       [-0.57188, -3.34941,  1.33583,  0.31867],\n",
       "       [-0.3376 , -0.69302, -0.11492,  2.24182]])"
      ]
     },
     "execution_count": 15,
     "metadata": {},
     "output_type": "execute_result"
    }
   ],
   "source": [
    "B1 = np.matmul(G1, inv(I-A)[np.ix_(env1_latents,env1_latents)])\n",
    "B1.round(5)"
   ]
  },
  {
   "cell_type": "code",
   "execution_count": 16,
   "id": "daaf401a",
   "metadata": {},
   "outputs": [
    {
     "data": {
      "text/plain": [
       "array([[ 0.     ,  0.33928,  0.     , -0.50179],\n",
       "       [ 0.23557,  0.66369, -1.09586, -1.08777],\n",
       "       [-0.30517, -0.37773, -0.20059,  0.3552 ],\n",
       "       [ 0.68952,  2.23006, -0.56498,  0.59939],\n",
       "       [-0.16294,  0.07402,  0.68163,  0.01488],\n",
       "       [-0.08778, -1.31328,  0.12169, -1.13744],\n",
       "       [ 0.349  ,  0.82485, -1.16718,  1.4249 ],\n",
       "       [ 1.49657,  6.40999, -1.81175, -1.49831],\n",
       "       [-1.45014, -3.59858,  0.22726, -0.48973],\n",
       "       [-0.00053,  1.09564, -0.79321,  2.0489 ],\n",
       "       [ 0.60319, -2.8251 ,  1.21504, -0.66752],\n",
       "       [-0.27251,  2.70949, -0.78261, -0.25032],\n",
       "       [-0.30831, -2.53517,  1.97827,  0.21969],\n",
       "       [ 1.89482,  0.90933, -0.19131,  1.28726],\n",
       "       [-0.24688, -0.34977,  0.22272,  0.68159]])"
      ]
     },
     "execution_count": 16,
     "metadata": {},
     "output_type": "execute_result"
    }
   ],
   "source": [
    "np.random.seed(d2)\n",
    "G2 = matrix_from_normal(shape=(d2,len(env2_latents)))\n",
    "\n",
    "# Exactly one pure child\n",
    "G2[np.ix_([0],[0,2])] = 0\n",
    "\n",
    "B2 = np.matmul(G2, inv(I-A)[np.ix_(env2_latents,env2_latents)])\n",
    "B2.round(5)"
   ]
  },
  {
   "cell_type": "code",
   "execution_count": 17,
   "id": "a7ba4a99",
   "metadata": {},
   "outputs": [
    {
     "data": {
      "text/plain": [
       "array([[ 0.     , -0.48488,  0.24244, -1.70074],\n",
       "       [ 0.75314, -0.79183,  0.00513, -0.12023],\n",
       "       [-0.80698,  3.26048, -0.59782,  0.47246],\n",
       "       [ 1.09596, -2.80393,  1.34236, -0.12215],\n",
       "       [ 1.01252,  2.15771, -1.02953,  1.2098 ],\n",
       "       [ 0.50187, -0.6408 ,  0.64076,  0.52733],\n",
       "       [-1.15436, -0.00418, -1.68176, -1.78809],\n",
       "       [-2.21853, -1.80916, -0.5284 , -0.03921],\n",
       "       [ 0.21498,  0.33843, -0.2539 ,  0.07325],\n",
       "       [-0.9972 , -1.78189,  0.03542, -0.67795],\n",
       "       [-0.57188, -3.34941,  1.33583,  0.31867],\n",
       "       [-0.3376 , -0.69302, -0.11492,  2.24182]])"
      ]
     },
     "execution_count": 17,
     "metadata": {},
     "output_type": "execute_result"
    }
   ],
   "source": [
    "np.random.seed(d3)\n",
    "G3 = matrix_from_normal(shape=(d3,len(env3_latents)))\n",
    "\n",
    "# Exactly one pure child\n",
    "G3[np.ix_([0],[0,1])] = 0\n",
    "\n",
    "B3 = np.matmul(G3, inv(I-A)[np.ix_(env3_latents,env3_latents)])\n",
    "B3.round(5)"
   ]
  },
  {
   "cell_type": "code",
   "execution_count": 18,
   "id": "d1ab3d58",
   "metadata": {},
   "outputs": [],
   "source": [
    "params = {\"Omega\": Omega, \n",
    "          \"mixings\": [B1,B2,B3], \n",
    "          \"latents\":[env1_latents,env2_latents,env3_latents]}"
   ]
  },
  {
   "cell_type": "markdown",
   "id": "9046a0bb",
   "metadata": {},
   "source": [
    "## Compute observed covariance matrix and third-order tensor"
   ]
  },
  {
   "cell_type": "code",
   "execution_count": 19,
   "id": "c289d431",
   "metadata": {},
   "outputs": [],
   "source": [
    "def get_cov_matrices(params):\n",
    "    mixings = params[\"mixings\"]\n",
    "    cov_list = []\n",
    "    for M in mixings:\n",
    "        cov_list.append(np.matmul(M, np.transpose(M)))\n",
    "    return cov_list"
   ]
  },
  {
   "cell_type": "code",
   "execution_count": 20,
   "id": "3ee53439",
   "metadata": {},
   "outputs": [],
   "source": [
    "cov_list = get_cov_matrices(params)"
   ]
  },
  {
   "cell_type": "code",
   "execution_count": 21,
   "id": "890dc741",
   "metadata": {},
   "outputs": [],
   "source": [
    "def get_third_order_tensors(params):\n",
    "    Omega = params[\"Omega\"]\n",
    "    mixings = params[\"mixings\"]\n",
    "    latents = params[\"latents\"]\n",
    "    tensor_list = []\n",
    "    for i, M in enumerate(mixings):\n",
    "        Omega_env = Omega[np.ix_(latents[i],latents[i],latents[i])]\n",
    "        tucker_tensor = (Omega_env,[M,M,M])\n",
    "        T = tl.tucker_to_tensor(tucker_tensor)\n",
    "        tensor_list.append(T)\n",
    "    return tensor_list"
   ]
  },
  {
   "cell_type": "code",
   "execution_count": 22,
   "id": "0ab7a6d8",
   "metadata": {},
   "outputs": [],
   "source": [
    "tensor_list = get_third_order_tensors(params)"
   ]
  },
  {
   "cell_type": "code",
   "execution_count": 23,
   "id": "c8fe38a9",
   "metadata": {},
   "outputs": [
    {
     "data": {
      "text/plain": [
       "True"
      ]
     },
     "execution_count": 23,
     "metadata": {},
     "output_type": "execute_result"
    }
   ],
   "source": [
    "# Check by hand: it does the same as the following code\n",
    "\n",
    "latents_list = params[\"latents\"]\n",
    "B1 = params[\"mixings\"][0]\n",
    "d1 = B1.shape[0]\n",
    "\n",
    "Omega1 = Omega[np.ix_(latents_list[0],latents_list[0],latents_list[0])]\n",
    "T1_v2 = np.zeros((d1,d1,d1))\n",
    "for i1 in range(d1):\n",
    "    for i2 in range(d1):\n",
    "        for i3 in range(d1):\n",
    "            for j in range(len(latents_list[0])):\n",
    "                T1_v2[i1,i2,i3] = T1_v2[i1,i2,i3] + Omega1[j,j,j] * B1[i1,j] * B1[i2,j] * B1[i3,j]\n",
    "                \n",
    "(T1_v2.round(7) == tensor_list[0].round(7)).all()"
   ]
  },
  {
   "cell_type": "code",
   "execution_count": 24,
   "id": "9706ca00",
   "metadata": {},
   "outputs": [],
   "source": [
    "observed = {\"cov\": cov_list, \n",
    "            \"tensor\": tensor_list, \n",
    "            \"nr_env\": len(cov_list)}"
   ]
  },
  {
   "cell_type": "markdown",
   "id": "0e3ae5bf",
   "metadata": {},
   "source": [
    "## Identify nr of joint latent variables and joint distribution"
   ]
  },
  {
   "cell_type": "markdown",
   "id": "1cde30d2",
   "metadata": {},
   "source": [
    "#### 1) Identify the mixing matrices of the environments (up to signed permutation of columns)\n",
    "(Use CANDECOMP/PARAFAC of TensorLy)"
   ]
  },
  {
   "cell_type": "code",
   "execution_count": 25,
   "id": "7d42f328",
   "metadata": {},
   "outputs": [],
   "source": [
    "def identify_mixing(Sigma, T):\n",
    "    \n",
    "    # Recover the mixing matrix up to signed permutation and scaling by tensor decomposition\n",
    "    rk = matrix_rank(Sigma)\n",
    "    weights, factors = parafac(T, rank=rk)\n",
    "    factor = factors[1] \n",
    "    \n",
    "    # Remove scaling by exploiting unit variances of the noise\n",
    "    Lambda = np.matmul(np.matmul(pinv(factor), Sigma), np.transpose(pinv(factor)))\n",
    "    rescaler = np.diag(np.sqrt(abs(np.diag(Lambda))))\n",
    "    M = np.matmul(factor, rescaler)\n",
    "    return M"
   ]
  },
  {
   "cell_type": "code",
   "execution_count": 26,
   "id": "6f3eeee3",
   "metadata": {},
   "outputs": [],
   "source": [
    "mixings = []\n",
    "for i in range(observed[\"nr_env\"]):\n",
    "    mixings.append(identify_mixing(observed[\"cov\"][i],observed[\"tensor\"][i]))"
   ]
  },
  {
   "cell_type": "markdown",
   "id": "a16c4ba2",
   "metadata": {},
   "source": [
    "#### 2) Identify the third moments of the noise variables (up to signed permutation)"
   ]
  },
  {
   "cell_type": "code",
   "execution_count": 27,
   "id": "89fefdae",
   "metadata": {},
   "outputs": [],
   "source": [
    "def diag_tensor_to_array(T):\n",
    "    d = np.zeros(T.shape[0])\n",
    "    for i in range(T.shape[0]):\n",
    "        d[i] = T[i,i,i]\n",
    "    return d\n",
    "\n",
    "def identify_third_moms(B, T):\n",
    "    pinv_B = pinv(B)\n",
    "    Omega_r = (T,[pinv_B,pinv_B,pinv_B])\n",
    "    Omega_r = tl.tucker_to_tensor(Omega_r, skip_factor=None, transpose_factors=False)\n",
    "    third_moms = diag_tensor_to_array(Omega_r).round(1) # This eliminates numerical errors\n",
    "    return third_moms"
   ]
  },
  {
   "cell_type": "code",
   "execution_count": 28,
   "id": "a68e9269",
   "metadata": {},
   "outputs": [
    {
     "data": {
      "text/plain": [
       "[array([-2.,  4.,  3., -1.]),\n",
       " array([-2. , -4.5, -3. , -1. ]),\n",
       " array([ 2. , -4.2, -3. , -1. ])]"
      ]
     },
     "execution_count": 28,
     "metadata": {},
     "output_type": "execute_result"
    }
   ],
   "source": [
    "third_moments = []\n",
    "for i in range(observed[\"nr_env\"]):\n",
    "    third_moments.append(identify_third_moms(mixings[i],observed[\"tensor\"][i]))\n",
    "third_moments"
   ]
  },
  {
   "cell_type": "markdown",
   "id": "67605d54",
   "metadata": {},
   "source": [
    "#### 3) Identify joint latent space"
   ]
  },
  {
   "cell_type": "code",
   "execution_count": 29,
   "id": "631abbf5",
   "metadata": {},
   "outputs": [],
   "source": [
    "def get_joint_abs_moms(third_moments):\n",
    "    S = set(abs(third_moments[0]))\n",
    "    for i in range(1,len(third_moments)):\n",
    "        S = S.intersection(set(abs(third_moments[i])))\n",
    "    return np.array(list(S))"
   ]
  },
  {
   "cell_type": "code",
   "execution_count": 30,
   "id": "2e64aa9d",
   "metadata": {},
   "outputs": [
    {
     "data": {
      "text/plain": [
       "array([1., 2., 3.])"
      ]
     },
     "execution_count": 30,
     "metadata": {},
     "output_type": "execute_result"
    }
   ],
   "source": [
    "joint_abs_moms = get_joint_abs_moms(third_moments)\n",
    "joint_abs_moms"
   ]
  },
  {
   "cell_type": "code",
   "execution_count": 31,
   "id": "5a473c46",
   "metadata": {},
   "outputs": [],
   "source": [
    "# Reorder columns of the mixing matrix such that the columns corresponding to the joint latent space come first \n",
    "# (in same order)\n",
    "\n",
    "def reorder_columns(B,third_moms,joint_abs_moms):\n",
    "    third_abs_moms = abs(third_moms)\n",
    "    nr_lat = B.shape[1]\n",
    "    P = np.zeros((nr_lat,nr_lat))\n",
    "\n",
    "    positions = []\n",
    "    for i, mom in enumerate(joint_abs_moms):\n",
    "        current_pos = np.where(abs(third_moms)==mom)[0][0]\n",
    "        positions.append(current_pos)\n",
    "        if (np.sign(third_moms[current_pos]) == -1):\n",
    "            P[current_pos,i] = -1\n",
    "        else:\n",
    "            P[current_pos,i] = 1\n",
    "    \n",
    "    remaining_rows = set(np.arange(nr_lat)) - set(positions)\n",
    "    \n",
    "    for i, row in enumerate(remaining_rows):\n",
    "        P[row,len(joint_abs_moms)+i] = 1\n",
    "        \n",
    "    return np.matmul(B, P)"
   ]
  },
  {
   "cell_type": "code",
   "execution_count": 32,
   "id": "7e1cc7fc",
   "metadata": {},
   "outputs": [],
   "source": [
    "for i in range(observed[\"nr_env\"]):\n",
    "    mixings[i] = reorder_columns(mixings[i], third_moments[i], joint_abs_moms)"
   ]
  },
  {
   "cell_type": "code",
   "execution_count": 33,
   "id": "86e33e20",
   "metadata": {},
   "outputs": [
    {
     "data": {
      "text/plain": [
       "array([[ 0.47299, -0.47299,  0.     , -1.70074],\n",
       "       [ 0.75314,  0.79183,  0.00513, -0.12023],\n",
       "       [-0.80698, -3.26048, -0.59782,  0.47246],\n",
       "       [ 1.09596,  2.80393,  1.34236, -0.12215],\n",
       "       [ 1.01252, -2.15771, -1.02953,  1.2098 ],\n",
       "       [ 0.50187,  0.6408 ,  0.64076,  0.52733],\n",
       "       [-1.15436,  0.00418, -1.68176, -1.78809],\n",
       "       [-2.21853,  1.80916, -0.52841, -0.03921],\n",
       "       [ 0.21498, -0.33843, -0.2539 ,  0.07325],\n",
       "       [-0.9972 ,  1.78189,  0.03542, -0.67795],\n",
       "       [-0.57188,  3.34941,  1.33583,  0.31867],\n",
       "       [-0.3376 ,  0.69302, -0.11492,  2.24182]])"
      ]
     },
     "execution_count": 33,
     "metadata": {},
     "output_type": "execute_result"
    }
   ],
   "source": [
    "mixings[0].round(5)"
   ]
  },
  {
   "cell_type": "code",
   "execution_count": 34,
   "id": "9d137325",
   "metadata": {},
   "outputs": [
    {
     "data": {
      "text/plain": [
       "array([[ 0.47299,  0.47299,  0.     , -1.70074],\n",
       "       [ 0.75314, -0.79183,  0.00513, -0.12023],\n",
       "       [-0.80698,  3.26048, -0.59782,  0.47246],\n",
       "       [ 1.09596, -2.80393,  1.34236, -0.12215],\n",
       "       [ 1.01252,  2.15771, -1.02953,  1.2098 ],\n",
       "       [ 0.50187, -0.6408 ,  0.64076,  0.52733],\n",
       "       [-1.15436, -0.00418, -1.68176, -1.78809],\n",
       "       [-2.21853, -1.80916, -0.5284 , -0.03921],\n",
       "       [ 0.21498,  0.33843, -0.2539 ,  0.07325],\n",
       "       [-0.9972 , -1.78189,  0.03542, -0.67795],\n",
       "       [-0.57188, -3.34941,  1.33583,  0.31867],\n",
       "       [-0.3376 , -0.69302, -0.11492,  2.24182]])"
      ]
     },
     "execution_count": 34,
     "metadata": {},
     "output_type": "execute_result"
    }
   ],
   "source": [
    "B1.round(5)"
   ]
  },
  {
   "cell_type": "markdown",
   "id": "d8d9f496",
   "metadata": {},
   "source": [
    "#### 4) Define \"joint mixing matrix\" (up to blockwise permutation)"
   ]
  },
  {
   "cell_type": "code",
   "execution_count": 35,
   "id": "1241abab",
   "metadata": {},
   "outputs": [],
   "source": [
    "def joint_mixing_matrix(mixings, nr_joint):\n",
    "    nr_domains = len(mixings)\n",
    "    \n",
    "    total_nr_obs = sum([M.shape[0] for M in mixings])\n",
    "    total_nr_lat = sum([M.shape[1]-nr_joint for M in mixings]) + nr_joint\n",
    "    M_large = np.zeros((total_nr_obs, total_nr_lat))\n",
    "    \n",
    "    current_row = 0\n",
    "    current_col = nr_joint\n",
    "    \n",
    "    for M in mixings:\n",
    "        nrows, ncols = M.shape\n",
    "        nr_domain_specific = ncols - nr_joint\n",
    "        \n",
    "        M_large[np.ix_(np.arange(current_row,(current_row+nrows)),np.arange(nr_joint))] = M[:,:nr_joint]\n",
    "        M_large[np.ix_(np.arange(current_row,(current_row+nrows)),\n",
    "                       np.arange(current_col,(current_col+nr_domain_specific)))] = M[:,nr_joint:]\n",
    "        \n",
    "        current_row = current_row + nrows\n",
    "        current_col = current_col + nr_domain_specific\n",
    "        \n",
    "    return M_large"
   ]
  },
  {
   "cell_type": "code",
   "execution_count": 36,
   "id": "b6c886f2",
   "metadata": {},
   "outputs": [
    {
     "data": {
      "text/plain": [
       "array([[ 0.473, -0.473,  0.   , -1.701,  0.   ,  0.   ],\n",
       "       [ 0.753,  0.792,  0.005, -0.12 ,  0.   ,  0.   ],\n",
       "       [-0.807, -3.26 , -0.598,  0.472,  0.   ,  0.   ],\n",
       "       [ 1.096,  2.804,  1.342, -0.122,  0.   ,  0.   ],\n",
       "       [ 1.013, -2.158, -1.03 ,  1.21 ,  0.   ,  0.   ],\n",
       "       [ 0.502,  0.641,  0.641,  0.527,  0.   ,  0.   ],\n",
       "       [-1.154,  0.004, -1.682, -1.788,  0.   ,  0.   ],\n",
       "       [-2.219,  1.809, -0.528, -0.039,  0.   ,  0.   ],\n",
       "       [ 0.215, -0.338, -0.254,  0.073,  0.   ,  0.   ],\n",
       "       [-0.997,  1.782,  0.035, -0.678,  0.   ,  0.   ],\n",
       "       [-0.572,  3.349,  1.336,  0.319,  0.   ,  0.   ],\n",
       "       [-0.338,  0.693, -0.115,  2.242,  0.   ,  0.   ],\n",
       "       [-0.   , -0.339,  0.   ,  0.   ,  0.502,  0.   ],\n",
       "       [ 0.236, -0.664, -1.095,  0.   ,  1.088,  0.   ],\n",
       "       [-0.305,  0.378, -0.201,  0.   , -0.355,  0.   ],\n",
       "       [ 0.689, -2.23 , -0.564,  0.   , -0.599,  0.   ],\n",
       "       [-0.163, -0.074,  0.682,  0.   , -0.015,  0.   ],\n",
       "       [-0.087,  1.313,  0.121,  0.   ,  1.137,  0.   ],\n",
       "       [ 0.349, -0.825, -1.167,  0.   , -1.425,  0.   ],\n",
       "       [ 1.495, -6.411, -1.808,  0.   ,  1.498,  0.   ],\n",
       "       [-1.449,  3.599,  0.225,  0.   ,  0.49 ,  0.   ],\n",
       "       [-0.001, -1.096, -0.793,  0.   , -2.049,  0.   ],\n",
       "       [ 0.603,  2.826,  1.213,  0.   ,  0.668,  0.   ],\n",
       "       [-0.273, -2.71 , -0.781,  0.   ,  0.25 ,  0.   ],\n",
       "       [-0.308,  2.536,  1.977,  0.   , -0.22 ,  0.   ],\n",
       "       [ 1.895, -0.909, -0.191,  0.   , -1.287,  0.   ],\n",
       "       [-0.247,  0.35 ,  0.223,  0.   , -0.682,  0.   ],\n",
       "       [-0.   ,  0.485,  0.242,  0.   ,  0.   ,  1.701],\n",
       "       [ 0.753,  0.792,  0.005,  0.   ,  0.   ,  0.12 ],\n",
       "       [-0.807, -3.26 , -0.598,  0.   ,  0.   , -0.472],\n",
       "       [ 1.096,  2.804,  1.342,  0.   ,  0.   ,  0.122],\n",
       "       [ 1.013, -2.158, -1.03 ,  0.   ,  0.   , -1.21 ],\n",
       "       [ 0.502,  0.641,  0.641,  0.   ,  0.   , -0.527],\n",
       "       [-1.154,  0.004, -1.682,  0.   ,  0.   ,  1.788],\n",
       "       [-2.219,  1.809, -0.528,  0.   ,  0.   ,  0.039],\n",
       "       [ 0.215, -0.338, -0.254,  0.   ,  0.   , -0.073],\n",
       "       [-0.997,  1.782,  0.035,  0.   ,  0.   ,  0.678],\n",
       "       [-0.572,  3.349,  1.336,  0.   ,  0.   , -0.319],\n",
       "       [-0.338,  0.693, -0.115,  0.   ,  0.   , -2.242]])"
      ]
     },
     "execution_count": 36,
     "metadata": {},
     "output_type": "execute_result"
    }
   ],
   "source": [
    "# Recovered joint mixing matrix\n",
    "joint_mixing_matrix(mixings,len(joint_abs_moms)).round(3)"
   ]
  },
  {
   "cell_type": "markdown",
   "id": "4bcbda3b",
   "metadata": {},
   "source": [
    "TODO:\n",
    "- Note: Recovering the true mixing matrix is getting imprecise if the third order moments of the noise are large in comaprison to the mixing matrix. (Why?) \n",
    "- Implement recovering of latent graph is there are two pure children.\n",
    "- Since we have direct access to the mixing matrix: Are there milder conditions under which we can recover the graph?"
   ]
  },
  {
   "cell_type": "markdown",
   "id": "225378c1",
   "metadata": {},
   "source": [
    "## Identify joint latent graph"
   ]
  },
  {
   "cell_type": "markdown",
   "id": "0da83420",
   "metadata": {},
   "source": [
    "The following is an just some data exploration on the special case where each latent variable has exatly one pure children (and all other observed variables have a nonzero direct effect from all joint latent variables)."
   ]
  },
  {
   "cell_type": "code",
   "execution_count": 37,
   "id": "91e615bd",
   "metadata": {},
   "outputs": [
    {
     "data": {
      "text/plain": [
       "array([[ 0.473,  0.473,  0.   , -1.701,  0.   ,  0.   ],\n",
       "       [ 0.753, -0.792,  0.005, -0.12 ,  0.   ,  0.   ],\n",
       "       [-0.807,  3.26 , -0.598,  0.472,  0.   ,  0.   ],\n",
       "       [ 1.096, -2.804,  1.342, -0.122,  0.   ,  0.   ],\n",
       "       [ 1.013,  2.158, -1.03 ,  1.21 ,  0.   ,  0.   ],\n",
       "       [ 0.502, -0.641,  0.641,  0.527,  0.   ,  0.   ],\n",
       "       [-1.154, -0.004, -1.682, -1.788,  0.   ,  0.   ],\n",
       "       [-2.219, -1.809, -0.528, -0.039,  0.   ,  0.   ],\n",
       "       [ 0.215,  0.338, -0.254,  0.073,  0.   ,  0.   ],\n",
       "       [-0.997, -1.782,  0.035, -0.678,  0.   ,  0.   ],\n",
       "       [-0.572, -3.349,  1.336,  0.319,  0.   ,  0.   ],\n",
       "       [-0.338, -0.693, -0.115,  2.242,  0.   ,  0.   ],\n",
       "       [ 0.   ,  0.339,  0.   ,  0.   , -0.502,  0.   ],\n",
       "       [ 0.236,  0.664, -1.096,  0.   , -1.088,  0.   ],\n",
       "       [-0.305, -0.378, -0.201,  0.   ,  0.355,  0.   ],\n",
       "       [ 0.69 ,  2.23 , -0.565,  0.   ,  0.599,  0.   ],\n",
       "       [-0.163,  0.074,  0.682,  0.   ,  0.015,  0.   ],\n",
       "       [-0.088, -1.313,  0.122,  0.   , -1.137,  0.   ],\n",
       "       [ 0.349,  0.825, -1.167,  0.   ,  1.425,  0.   ],\n",
       "       [ 1.497,  6.41 , -1.812,  0.   , -1.498,  0.   ],\n",
       "       [-1.45 , -3.599,  0.227,  0.   , -0.49 ,  0.   ],\n",
       "       [-0.001,  1.096, -0.793,  0.   ,  2.049,  0.   ],\n",
       "       [ 0.603, -2.825,  1.215,  0.   , -0.668,  0.   ],\n",
       "       [-0.273,  2.709, -0.783,  0.   , -0.25 ,  0.   ],\n",
       "       [-0.308, -2.535,  1.978,  0.   ,  0.22 ,  0.   ],\n",
       "       [ 1.895,  0.909, -0.191,  0.   ,  1.287,  0.   ],\n",
       "       [-0.247, -0.35 ,  0.223,  0.   ,  0.682,  0.   ],\n",
       "       [ 0.   , -0.485,  0.242,  0.   ,  0.   , -1.701],\n",
       "       [ 0.753, -0.792,  0.005,  0.   ,  0.   , -0.12 ],\n",
       "       [-0.807,  3.26 , -0.598,  0.   ,  0.   ,  0.472],\n",
       "       [ 1.096, -2.804,  1.342,  0.   ,  0.   , -0.122],\n",
       "       [ 1.013,  2.158, -1.03 ,  0.   ,  0.   ,  1.21 ],\n",
       "       [ 0.502, -0.641,  0.641,  0.   ,  0.   ,  0.527],\n",
       "       [-1.154, -0.004, -1.682,  0.   ,  0.   , -1.788],\n",
       "       [-2.219, -1.809, -0.528,  0.   ,  0.   , -0.039],\n",
       "       [ 0.215,  0.338, -0.254,  0.   ,  0.   ,  0.073],\n",
       "       [-0.997, -1.782,  0.035,  0.   ,  0.   , -0.678],\n",
       "       [-0.572, -3.349,  1.336,  0.   ,  0.   ,  0.319],\n",
       "       [-0.338, -0.693, -0.115,  0.   ,  0.   ,  2.242]])"
      ]
     },
     "execution_count": 37,
     "metadata": {},
     "output_type": "execute_result"
    }
   ],
   "source": [
    "# True joint mixing matrix\n",
    "B_large = joint_mixing_matrix([B1,B2,B3],len(joint_abs_moms)).round(3)\n",
    "B_large"
   ]
  },
  {
   "cell_type": "code",
   "execution_count": 38,
   "id": "39c35f06",
   "metadata": {},
   "outputs": [
    {
     "data": {
      "text/plain": [
       "array([[ 0.473,  0.   ,  0.473],\n",
       "       [-0.485,  0.242,  0.   ],\n",
       "       [ 0.339,  0.   ,  0.   ]])"
      ]
     },
     "execution_count": 38,
     "metadata": {},
     "output_type": "execute_result"
    }
   ],
   "source": [
    "# By eye: Pick sparse rows (0,12,27) and first three columns (rows and cols could be permuted)\n",
    "B_large[np.ix_([0,27,12],[1,2,0])]"
   ]
  },
  {
   "cell_type": "code",
   "execution_count": 42,
   "id": "577a7430",
   "metadata": {},
   "outputs": [
    {
     "data": {
      "text/plain": [
       "array([[ 0.339,  0.   ,  0.   ],\n",
       "       [ 0.473,  0.   ,  0.473],\n",
       "       [-0.485,  0.242,  0.   ]])"
      ]
     },
     "execution_count": 42,
     "metadata": {},
     "output_type": "execute_result"
    }
   ],
   "source": [
    "# Take sparset row first (one entry, has to be source node)\n",
    "# Then take row with one entry in same column and one entry elsewhere (here: cannot distinguish)\n",
    "\n",
    "B_large[np.ix_([12,0,27],[1,2,0])]"
   ]
  },
  {
   "cell_type": "code",
   "execution_count": 48,
   "id": "9c1f6ff3",
   "metadata": {},
   "outputs": [
    {
     "data": {
      "text/plain": [
       "array([[ 0.339,  0.   ,  0.   ],\n",
       "       [ 0.473,  0.473,  0.   ],\n",
       "       [-0.485,  0.   ,  0.242]])"
      ]
     },
     "execution_count": 48,
     "metadata": {},
     "output_type": "execute_result"
    }
   ],
   "source": [
    "# Find the permutation of B_large such that there is a non-zero diagonal \n",
    "# (This permutation should be unique if we picked the correct permutation in the first step)\n",
    "\n",
    "B_tilde = B_large[np.ix_([12,0,27],[1,0,2])]\n",
    "B_tilde"
   ]
  },
  {
   "cell_type": "markdown",
   "id": "7e45775f",
   "metadata": {},
   "source": [
    "#### Now, we apply the \"standard\" LiNGAM procedure:"
   ]
  },
  {
   "cell_type": "code",
   "execution_count": 56,
   "id": "55c5244c",
   "metadata": {},
   "outputs": [
    {
     "data": {
      "text/plain": [
       "array([[ 1.        ,  0.        ,  0.        ],\n",
       "       [ 1.        ,  1.        ,  0.        ],\n",
       "       [-2.00413223,  0.        ,  1.        ]])"
      ]
     },
     "execution_count": 56,
     "metadata": {},
     "output_type": "execute_result"
    }
   ],
   "source": [
    "# 1) Divide each row by its diagonal element\n",
    "\n",
    "D = np.diag(B_tilde)\n",
    "B_tilde = np.matmul(np.diag(1/D), B_tilde)\n",
    "B_tilde"
   ]
  },
  {
   "cell_type": "code",
   "execution_count": 55,
   "id": "fe34a69e",
   "metadata": {},
   "outputs": [
    {
     "data": {
      "text/plain": [
       "array([[ 0.        ,  0.        ,  0.        ],\n",
       "       [ 1.        , -0.        ,  0.        ],\n",
       "       [-2.00413223,  0.        ,  0.        ]])"
      ]
     },
     "execution_count": 55,
     "metadata": {},
     "output_type": "execute_result"
    }
   ],
   "source": [
    "# 2) Compute an estimate B_hat of B\n",
    "B_hat = np.identity(3) - inv(B_tilde) \n",
    "B_hat"
   ]
  },
  {
   "cell_type": "code",
   "execution_count": null,
   "id": "e7501d85",
   "metadata": {},
   "outputs": [],
   "source": [
    "# 3) To find a causal order, find the permutation matrix P (applied equally to both rows and columns) of B \n",
    "# which yields a matrix which is strictly lower triangular\n",
    "\n",
    "# in our case this is B_hat"
   ]
  },
  {
   "cell_type": "code",
   "execution_count": null,
   "id": "0cc943d0",
   "metadata": {},
   "outputs": [],
   "source": []
  },
  {
   "cell_type": "code",
   "execution_count": null,
   "id": "e772ad7a",
   "metadata": {},
   "outputs": [],
   "source": []
  }
 ],
 "metadata": {
  "kernelspec": {
   "display_name": "Python [conda env:multi-domain-clr] *",
   "language": "python",
   "name": "conda-env-multi-domain-clr-py"
  },
  "language_info": {
   "codemirror_mode": {
    "name": "ipython",
    "version": 3
   },
   "file_extension": ".py",
   "mimetype": "text/x-python",
   "name": "python",
   "nbconvert_exporter": "python",
   "pygments_lexer": "ipython3",
   "version": "3.10.6"
  }
 },
 "nbformat": 4,
 "nbformat_minor": 5
}
