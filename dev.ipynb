{
 "cells": [
  {
   "cell_type": "code",
   "execution_count": 165,
   "id": "f4a0ee16",
   "metadata": {},
   "outputs": [],
   "source": [
    "import numpy as np\n",
    "from scipy.stats import beta, uniform, expon, lognorm, weibull_min, chi2, t, gumbel_r\n",
    "\n",
    "from src.learner import LinearMDCRL\n",
    "from experiments.rand import rand_model\n",
    "from experiments.utils import plot_hist_noise"
   ]
  },
  {
   "cell_type": "markdown",
   "id": "7084501d",
   "metadata": {},
   "source": [
    "## Create synthetic data"
   ]
  },
  {
   "cell_type": "code",
   "execution_count": 166,
   "id": "272348d6",
   "metadata": {},
   "outputs": [],
   "source": [
    "model_specs = {\n",
    "    \"nr_doms\": 3,\n",
    "    \"joint_idx\": [0,1,2,3],\n",
    "    \"domain_spec_idx\": [[4],[5],[6]],\n",
    "    \"noise_rvs\": [beta(2,3), expon(scale=0.1), t(df=5), gumbel_r, \n",
    "                  lognorm(s=1), weibull_min(c=2), chi2(df=6)],\n",
    "    \"sample_sizes\":  [10000, 10000, 10000],\n",
    "    \"dims\": [10,10,10],\n",
    "    \"graph_density\": 0.75,\n",
    "    \"mixing_density\": 0.9,\n",
    "    \"mixing_distribution\": 'unif',  # unif or normal\n",
    "    \"indep_domain_spec\": True\n",
    "}"
   ]
  },
  {
   "cell_type": "code",
   "execution_count": 167,
   "id": "24c2e6a2",
   "metadata": {},
   "outputs": [],
   "source": [
    "data, g, B_large = rand_model(model_specs)\n",
    "# Can we plot g with causaldag?"
   ]
  },
  {
   "cell_type": "code",
   "execution_count": 168,
   "id": "00a14142",
   "metadata": {},
   "outputs": [
    {
     "data": {
      "text/plain": [
       "array([[ 0.  ,  0.  ,  0.  ,  0.  ],\n",
       "       [ 0.46,  0.  ,  0.  ,  0.  ],\n",
       "       [-0.87,  0.  ,  0.  ,  0.  ],\n",
       "       [-0.41,  0.37,  0.  ,  0.  ]])"
      ]
     },
     "execution_count": 168,
     "metadata": {},
     "output_type": "execute_result"
    }
   ],
   "source": [
    "np.transpose(g.to_amat()).round(2)"
   ]
  },
  {
   "cell_type": "markdown",
   "id": "86a9a793",
   "metadata": {},
   "source": [
    "## Fit model"
   ]
  },
  {
   "cell_type": "code",
   "execution_count": 169,
   "id": "6bd87d92",
   "metadata": {},
   "outputs": [],
   "source": [
    "model = LinearMDCRL()\n",
    "model.fit(data)\n",
    "\n",
    "#plot_hist_noise(model.indep_comps)"
   ]
  },
  {
   "cell_type": "code",
   "execution_count": 170,
   "id": "42907705",
   "metadata": {},
   "outputs": [
    {
     "data": {
      "text/plain": [
       "[[1, 2, 4], [2, 3, 1], [3, 4, 3], [4, 1, 2]]"
      ]
     },
     "execution_count": 170,
     "metadata": {},
     "output_type": "execute_result"
    }
   ],
   "source": [
    "model.joint_factors"
   ]
  },
  {
   "cell_type": "code",
   "execution_count": 171,
   "id": "f60cb94e",
   "metadata": {},
   "outputs": [
    {
     "data": {
      "text/plain": [
       "(30, 7)"
      ]
     },
     "execution_count": 171,
     "metadata": {},
     "output_type": "execute_result"
    }
   ],
   "source": [
    "model.joint_mixing.shape"
   ]
  },
  {
   "cell_type": "code",
   "execution_count": 172,
   "id": "37126091",
   "metadata": {
    "scrolled": false
   },
   "outputs": [
    {
     "data": {
      "text/plain": [
       "array([[ 0.4 , -0.01,  0.21, -0.99,  0.  ,  0.  ,  0.  ],\n",
       "       [-0.46,  0.  ,  0.69,  0.51,  0.34,  0.  ,  0.  ],\n",
       "       [-0.01,  0.01, -0.6 ,  0.01, -0.72,  0.  ,  0.  ],\n",
       "       [-0.76,  0.57,  0.38, -0.35,  0.81,  0.  ,  0.  ],\n",
       "       [ 0.37,  0.01, -0.2 ,  0.01, -0.96,  0.  ,  0.  ],\n",
       "       [ 0.13,  0.26,  0.62, -0.31,  0.  ,  0.  ,  0.  ],\n",
       "       [ 0.77,  0.  , -1.03,  0.03, -0.77,  0.  ,  0.  ],\n",
       "       [ 0.16, -0.96,  0.38, -0.4 , -0.91,  0.  ,  0.  ],\n",
       "       [-0.93,  0.37,  0.24,  0.54,  0.01,  0.  ,  0.  ],\n",
       "       [ 0.  , -0.42,  0.37,  0.  ,  0.71,  0.  ,  0.  ],\n",
       "       [ 0.26, -0.46,  0.4 , -0.7 ,  0.  , -0.81,  0.  ],\n",
       "       [-0.  ,  0.  , -0.7 ,  0.02,  0.  , -0.44,  0.  ],\n",
       "       [ 0.9 , -0.99, -1.57, -0.37,  0.  ,  0.04,  0.  ],\n",
       "       [ 0.97, -0.04, -0.4 , -0.02,  0.  ,  0.94,  0.  ],\n",
       "       [ 0.01,  0.98,  0.78,  0.02,  0.  , -0.96,  0.  ],\n",
       "       [ 0.26,  0.  ,  0.14, -0.7 ,  0.  , -0.62,  0.  ],\n",
       "       [-0.94,  0.72, -0.06,  0.5 ,  0.  ,  0.03,  0.  ],\n",
       "       [-0.76, -0.87, -0.15,  0.01,  0.  , -0.01,  0.  ],\n",
       "       [-0.93, -0.89,  0.14,  0.91,  0.  ,  0.6 ,  0.  ],\n",
       "       [ 0.77, -0.03,  0.21, -0.03,  0.  ,  0.86,  0.  ],\n",
       "       [-0.86, -0.22,  0.31,  0.7 ,  0.  ,  0.  , -0.03],\n",
       "       [-0.55, -0.32,  0.98,  0.39,  0.  ,  0.  ,  0.81],\n",
       "       [-0.7 ,  0.85,  0.3 , -0.61,  0.  ,  0.  ,  0.96],\n",
       "       [ 0.03,  0.33, -0.58,  0.71,  0.  ,  0.  ,  0.43],\n",
       "       [-0.48,  0.8 , -0.76,  0.67,  0.  ,  0.  , -0.39],\n",
       "       [-0.08,  0.57,  0.26,  0.27,  0.  ,  0.  , -0.7 ],\n",
       "       [-0.93, -0.44, -0.12,  0.95,  0.  ,  0.  ,  0.66],\n",
       "       [ 0.74,  0.69, -0.84,  0.34,  0.  ,  0.  , -0.6 ],\n",
       "       [-0.68, -0.69,  0.76, -0.69,  0.  ,  0.  , -0.28],\n",
       "       [ 1.03,  0.95, -1.55, -0.8 ,  0.  ,  0.  ,  0.04]])"
      ]
     },
     "execution_count": 172,
     "metadata": {},
     "output_type": "execute_result"
    }
   ],
   "source": [
    "model.joint_mixing.round(2)"
   ]
  },
  {
   "cell_type": "code",
   "execution_count": 173,
   "id": "1c627616",
   "metadata": {
    "scrolled": false
   },
   "outputs": [
    {
     "data": {
      "text/plain": [
       "array([[-0.24,  0.37,  0.  ,  0.99,  0.  ,  0.  ,  0.  ],\n",
       "       [-0.66, -0.45,  0.  , -0.53,  0.33,  0.  ,  0.  ],\n",
       "       [ 0.59,  0.  ,  0.  ,  0.  , -0.7 ,  0.  ,  0.  ],\n",
       "       [-0.36, -0.78, -0.57,  0.32,  0.79,  0.  ,  0.  ],\n",
       "       [ 0.17,  0.37,  0.  ,  0.  , -0.94,  0.  ,  0.  ],\n",
       "       [-0.63,  0.11, -0.27,  0.3 ,  0.  ,  0.  ,  0.  ],\n",
       "       [ 1.  ,  0.78,  0.  ,  0.  , -0.75,  0.  ,  0.  ],\n",
       "       [-0.41,  0.15,  0.95,  0.41, -0.9 ,  0.  ,  0.  ],\n",
       "       [-0.21, -0.91, -0.35, -0.56,  0.  ,  0.  ,  0.  ],\n",
       "       [-0.35,  0.  ,  0.41,  0.  ,  0.69,  0.  ,  0.  ],\n",
       "       [-0.44,  0.27, -0.47,  0.73,  0.  ,  0.76,  0.  ],\n",
       "       [ 0.67,  0.  ,  0.  ,  0.  ,  0.  ,  0.47,  0.  ],\n",
       "       [ 1.55,  0.93, -0.95,  0.39,  0.  ,  0.  ,  0.  ],\n",
       "       [ 0.45,  0.98,  0.  ,  0.  ,  0.  , -0.92,  0.  ],\n",
       "       [-0.82,  0.  ,  0.94,  0.  ,  0.  ,  0.95,  0.  ],\n",
       "       [-0.17,  0.26,  0.  ,  0.72,  0.  ,  0.59,  0.  ],\n",
       "       [ 0.07, -0.95,  0.7 , -0.51,  0.  ,  0.  ,  0.  ],\n",
       "       [ 0.14, -0.76, -0.87,  0.  ,  0.  ,  0.  ,  0.  ],\n",
       "       [-0.12, -0.92, -0.88, -0.92,  0.  , -0.59,  0.  ],\n",
       "       [-0.17,  0.77,  0.  ,  0.  ,  0.  , -0.87,  0.  ],\n",
       "       [-0.33, -0.87,  0.25, -0.7 ,  0.  ,  0.  ,  0.  ],\n",
       "       [-0.99, -0.53,  0.37, -0.33,  0.  ,  0.  ,  0.85],\n",
       "       [-0.28, -0.7 , -0.78,  0.65,  0.  ,  0.  ,  0.97],\n",
       "       [ 0.57,  0.02, -0.31, -0.72,  0.  ,  0.  ,  0.45],\n",
       "       [ 0.75, -0.52, -0.8 , -0.71,  0.  ,  0.  , -0.36],\n",
       "       [-0.27, -0.1 , -0.58, -0.28,  0.  ,  0.  , -0.67],\n",
       "       [ 0.1 , -0.92,  0.5 , -0.94,  0.  ,  0.  ,  0.67],\n",
       "       [ 0.83,  0.71, -0.73, -0.39,  0.  ,  0.  , -0.59],\n",
       "       [-0.74, -0.67,  0.69,  0.7 ,  0.  ,  0.  , -0.31],\n",
       "       [ 1.57,  1.01, -0.99,  0.75,  0.  ,  0.  ,  0.  ]])"
      ]
     },
     "execution_count": 173,
     "metadata": {},
     "output_type": "execute_result"
    }
   ],
   "source": [
    "B_large.round(2)"
   ]
  },
  {
   "cell_type": "markdown",
   "id": "6f3e9376",
   "metadata": {},
   "source": [
    "## Recover graph (in infinite data limit)"
   ]
  },
  {
   "cell_type": "code",
   "execution_count": 174,
   "id": "d9b539c4",
   "metadata": {},
   "outputs": [],
   "source": [
    "B = B_large[:,:4]\n",
    "B = B[:,[2,0,3,1]]  # add a permutation"
   ]
  },
  {
   "cell_type": "code",
   "execution_count": 175,
   "id": "177b0188",
   "metadata": {},
   "outputs": [],
   "source": [
    "def get_row_ranks(matrix):\n",
    "    d = matrix.shape[0]\n",
    "    R = np.zeros((d,d))\n",
    "    for i in range(d):\n",
    "        for j in range(i+1,d):\n",
    "            R[i,j] = np.linalg.matrix_rank(matrix[[i,j],:])\n",
    "    return R"
   ]
  },
  {
   "cell_type": "code",
   "execution_count": 176,
   "id": "7a4fa75e",
   "metadata": {},
   "outputs": [
    {
     "data": {
      "text/plain": [
       "array([[ 0.        , -0.23616439,  0.99292499,  0.36633738],\n",
       "       [ 0.        ,  0.58562377,  0.        ,  0.        ],\n",
       "       [ 0.        ,  0.17103669,  0.        ,  0.36977767],\n",
       "       [ 0.40650182, -0.35402682,  0.        ,  0.        ]])"
      ]
     },
     "execution_count": 176,
     "metadata": {},
     "output_type": "execute_result"
    }
   ],
   "source": [
    "# Find pure children of all (different) latent nodes\n",
    "R = get_row_ranks(B) \n",
    "pos_rows = np.unique(np.where(R==1)[0])\n",
    "\n",
    "# Remove duplicates\n",
    "to_remove_idx = np.where(get_row_ranks(B[pos_rows,:])==1)[1]\n",
    "mask = np.ones(len(pos_rows), dtype=bool)\n",
    "mask[to_remove_idx] = False\n",
    "pos_rows = pos_rows[mask]\n",
    "B = B[pos_rows,:]\n",
    "B"
   ]
  },
  {
   "cell_type": "code",
   "execution_count": 177,
   "id": "cf93f4a1",
   "metadata": {},
   "outputs": [],
   "source": [
    "# Remove permutation indetermancies of rows and columns\n",
    "def single_support_rows(matrix):\n",
    "    d, l = matrix.shape\n",
    "    row_ids = []\n",
    "    max_ids = []\n",
    "    for i in range(d):\n",
    "        m = np.abs(matrix[i,:]).argmax()\n",
    "        mask = np.ones(l, dtype=bool)\n",
    "        mask[m] = False\n",
    "        if np.sum(np.abs(matrix[i,mask])) == 0:\n",
    "            row_ids.append(i)\n",
    "            max_ids.append(m)\n",
    "    return row_ids, max_ids\n",
    "\n",
    "def search_order(matrix):\n",
    "    d = matrix.shape[0]\n",
    "    order_rows = []\n",
    "    order_cols = []\n",
    "    original_idx_rows = np.arange(d)  \n",
    "    original_idx_cols = np.arange(d)  \n",
    "    while 0 < matrix.shape[0]:\n",
    "        # Find rows with all but one element equal to zero\n",
    "        row_ids, max_ids = single_support_rows(matrix)\n",
    "        if len(row_ids) == 0:\n",
    "            break\n",
    "        target_row = row_ids[0]\n",
    "        target_col = max_ids[0]\n",
    "        # Append index to order\n",
    "        order_rows.append(original_idx_rows[target_row])\n",
    "        order_cols.append(original_idx_cols[target_col])\n",
    "        original_idx_rows = np.delete(original_idx_rows, target_row)\n",
    "        original_idx_cols = np.delete(original_idx_cols, target_col)\n",
    "        # Remove the row and the column from B\n",
    "        row_mask = np.delete(np.arange(matrix.shape[0]), target_row)\n",
    "        col_mask = np.delete(np.arange(matrix.shape[1]), target_col)\n",
    "        matrix = matrix[row_mask,:][:, col_mask]\n",
    "    if len(order_rows) != d:\n",
    "            return None, None\n",
    "    return order_rows, order_cols"
   ]
  },
  {
   "cell_type": "code",
   "execution_count": 178,
   "id": "c5ff4f0d",
   "metadata": {},
   "outputs": [
    {
     "data": {
      "text/plain": [
       "array([[ 0.        , -0.23616439,  0.99292499,  0.36633738],\n",
       "       [ 0.        ,  0.58562377,  0.        ,  0.        ],\n",
       "       [ 0.        ,  0.17103669,  0.        ,  0.36977767],\n",
       "       [ 0.40650182, -0.35402682,  0.        ,  0.        ]])"
      ]
     },
     "execution_count": 178,
     "metadata": {},
     "output_type": "execute_result"
    }
   ],
   "source": [
    "B"
   ]
  },
  {
   "cell_type": "code",
   "execution_count": 179,
   "id": "f8962cdc",
   "metadata": {},
   "outputs": [],
   "source": [
    "order_rows, order_cols = search_order(B)\n",
    "if order_rows is not None:\n",
    "    B = B[order_rows, :][:, order_cols]"
   ]
  },
  {
   "cell_type": "code",
   "execution_count": 180,
   "id": "143d01ed",
   "metadata": {},
   "outputs": [
    {
     "data": {
      "text/plain": [
       "array([[ 0.  ,  0.  ,  0.  ,  0.  ],\n",
       "       [ 0.46,  0.  ,  0.  ,  0.  ],\n",
       "       [-0.41,  0.37,  0.  ,  0.  ],\n",
       "       [-0.87,  0.  ,  0.  ,  0.  ]])"
      ]
     },
     "execution_count": 180,
     "metadata": {},
     "output_type": "execute_result"
    }
   ],
   "source": [
    "# Remove scaling indetermancy and solve for A\n",
    "np.eye(B.shape[0]) - np.linalg.inv(np.matmul(np.diag(1/np.diag(B)), B)).round(2)"
   ]
  },
  {
   "cell_type": "code",
   "execution_count": 181,
   "id": "079ff199",
   "metadata": {},
   "outputs": [
    {
     "data": {
      "text/plain": [
       "array([[ 0.  ,  0.  ,  0.  ,  0.  ],\n",
       "       [ 0.46,  0.  ,  0.  ,  0.  ],\n",
       "       [-0.87,  0.  ,  0.  ,  0.  ],\n",
       "       [-0.41,  0.37,  0.  ,  0.  ]])"
      ]
     },
     "execution_count": 181,
     "metadata": {},
     "output_type": "execute_result"
    }
   ],
   "source": [
    "# Check\n",
    "np.transpose(g.to_amat()).round(2)"
   ]
  },
  {
   "cell_type": "code",
   "execution_count": 182,
   "id": "249172d0",
   "metadata": {},
   "outputs": [],
   "source": [
    "## okay up to relabeling that preserves causal order, etc"
   ]
  },
  {
   "cell_type": "markdown",
   "id": "fe49a224",
   "metadata": {},
   "source": [
    "## Recover noisy graph"
   ]
  },
  {
   "cell_type": "code",
   "execution_count": 183,
   "id": "c6a58d49",
   "metadata": {},
   "outputs": [],
   "source": [
    "l = len(model.joint_factors)\n",
    "B_hat = model.joint_mixing[:,:l]#B_large[:,:l]#"
   ]
  },
  {
   "cell_type": "code",
   "execution_count": 184,
   "id": "a02c2be2",
   "metadata": {},
   "outputs": [],
   "source": [
    "def score_rows(matrix):\n",
    "    d = matrix.shape[0]\n",
    "    R = np.full(shape=(d,d),fill_value=.0)\n",
    "    for i in range(d):\n",
    "        for j in range(i+1,d):\n",
    "            u, s, v = np.linalg.svd(matrix[[i,j],:])\n",
    "            #s2 = np.sort(s) ** 2\n",
    "            #R[i,j] = s2[-1] / s2.sum()\n",
    "            R[i,j] = 1/(min(s)+0000000.1)\n",
    "    return R"
   ]
  },
  {
   "cell_type": "code",
   "execution_count": 185,
   "id": "16bc88f3",
   "metadata": {},
   "outputs": [],
   "source": [
    "# Having 2*l candidates for the pure children, we have to make sure that they are pure children from different nodes\n",
    "\n",
    "# Checks: \n",
    "# - 8 unique children\n",
    "# - the rank between two children from different nodes should be 2 (p(W)<level)\n",
    "# - If a two-children tuple does not satisfy one of the above checks: \n",
    "#    Remove it from candidate list. Add two-children tuple with next highest p(W) to candidate list"
   ]
  },
  {
   "cell_type": "code",
   "execution_count": 186,
   "id": "d2ff79fa",
   "metadata": {},
   "outputs": [],
   "source": [
    "def get_duplicates(cand_ids, ord_tup):\n",
    "    l = len(cand_ids)\n",
    "    ids0 = ord_tup[0][cand_ids]\n",
    "    ids1 = ord_tup[1][cand_ids]\n",
    "    uniques = np.unique(np.concatenate((ids0, ids1), axis=0))\n",
    "    if len(uniques)==(2*l):\n",
    "        return None\n",
    "    else:\n",
    "        for i in range(l):\n",
    "            for j in range(i+1,l):\n",
    "                if (ids0[i]==ids0[j]) or (ids0[i]==ids1[j]):\n",
    "                    return cand_ids[j]"
   ]
  },
  {
   "cell_type": "code",
   "execution_count": 187,
   "id": "5ae5602e",
   "metadata": {},
   "outputs": [],
   "source": [
    "def get_low_rank(cand_ids, ord_tup, R, level=0.95):\n",
    "    ids0 = ord_tup[0][cand_ids]\n",
    "    ids1 = ord_tup[1][cand_ids]\n",
    "    #print(ids0,  ids1)\n",
    "    for i in range(l):\n",
    "        for j in range(i+1,l):\n",
    "            if (R[ids0[i],ids0[j]] > level) or (R[ids0[i],ids1[j]] > level):\n",
    "                #print(i,j,R[ids0[i],ids0[j]],R[ids0[i],ids1[j]])\n",
    "                return cand_ids[i], cand_ids[j]\n",
    "    return None        "
   ]
  },
  {
   "cell_type": "code",
   "execution_count": 188,
   "id": "068c401d",
   "metadata": {},
   "outputs": [],
   "source": [
    "def update_cand_ids(cand_ids, to_remove):\n",
    "    current_max = max(cand_ids)\n",
    "    cand_ids.remove(to_remove)\n",
    "    cand_ids.append(current_max+1)\n",
    "    return(cand_ids)"
   ]
  },
  {
   "cell_type": "code",
   "execution_count": 189,
   "id": "0aabed6b",
   "metadata": {},
   "outputs": [],
   "source": [
    "def get_pure_children(B):\n",
    "    \n",
    "    # Score all pairs of rows\n",
    "    R = score_rows(B)\n",
    "    d = R.shape[0]\n",
    "    nr_tuples = int(d * (d-1) / 2)\n",
    "    \n",
    "    ord_tup = np.unravel_index(R.ravel().argsort(), R.shape)\n",
    "    ord_tup = (np.flip(ord_tup[0][nr_tuples:]), \n",
    "               np.flip(ord_tup[1][nr_tuples:]))\n",
    "    \n",
    "    # Make R symmetric now (important)\n",
    "    for i in range(d):\n",
    "        for j in range(i+1,d):\n",
    "            R[j,i]=R[i,j]\n",
    "            \n",
    "    # Choose rows that maximize thw \"within-tuple\" score and at the same time have a low \"inter-tuple\" score \n",
    "    cand_ids = list(np.arange(l))\n",
    "    while max(cand_ids) < nr_tuples:\n",
    "        to_remove = get_duplicates(cand_ids, ord_tup)\n",
    "        if to_remove is not None:\n",
    "            cand_ids = update_cand_ids(cand_ids, to_remove)\n",
    "            continue\n",
    "        to_remove = get_low_rank(cand_ids, ord_tup, R, level=10)\n",
    "        if to_remove is not None:\n",
    "            temp_cands = cand_ids.copy()\n",
    "            temp_cands = update_cand_ids(temp_cands, to_remove[0])\n",
    "            if get_low_rank(temp_cands, ord_tup, R, level=10) is None:\n",
    "                cand_ids = update_cand_ids(cand_ids, to_remove[0])\n",
    "            else:\n",
    "                cand_ids = update_cand_ids(cand_ids, to_remove[1])\n",
    "            continue\n",
    "        break   \n",
    "    pure_children_rows = ord_tup[0][cand_ids]\n",
    "    pure_children_rows\n",
    "    \n",
    "    return B[pure_children_rows,:]  "
   ]
  },
  {
   "cell_type": "code",
   "execution_count": 190,
   "id": "67c4a885",
   "metadata": {},
   "outputs": [
    {
     "data": {
      "text/plain": [
       "array([[ 0.59,  0.  ,  0.  ,  0.  ],\n",
       "       [ 0.17,  0.37,  0.  ,  0.  ],\n",
       "       [-0.24,  0.37,  0.99,  0.  ],\n",
       "       [-0.35,  0.  ,  0.  ,  0.41]])"
      ]
     },
     "execution_count": 190,
     "metadata": {},
     "output_type": "execute_result"
    }
   ],
   "source": [
    "B_star = get_pure_children(B)\n",
    "B_star.round(2)"
   ]
  },
  {
   "cell_type": "code",
   "execution_count": 191,
   "id": "b857be61",
   "metadata": {},
   "outputs": [],
   "source": [
    "def l2_without_max(x):\n",
    "    m = np.abs(x).argmax()\n",
    "    mask = np.ones(len(x), dtype=bool)\n",
    "    mask[m] = False\n",
    "    return np.linalg.norm(x[mask])\n",
    "\n",
    "def search_order_noisy(matrix):\n",
    "    d = matrix.shape[0]\n",
    "    order_rows = []\n",
    "    order_cols = []\n",
    "    original_idx_rows = np.arange(d)  \n",
    "    original_idx_cols = np.arange(d)  \n",
    "    while 0 < matrix.shape[0]:\n",
    "        # Find row with lowest l2 norm where all entries but the maximum are considered\n",
    "        target_row = np.apply_along_axis(l2_without_max, 1, matrix).argmin()\n",
    "        target_col = abs(matrix[target_row,:]).argmax()\n",
    "        # Append index to order\n",
    "        order_rows.append(original_idx_rows[target_row])\n",
    "        order_cols.append(original_idx_cols[target_col])\n",
    "        original_idx_rows = np.delete(original_idx_rows, target_row)\n",
    "        original_idx_cols = np.delete(original_idx_cols, target_col)\n",
    "        # Remove the row and the column from B\n",
    "        row_mask = np.delete(np.arange(matrix.shape[0]), target_row)\n",
    "        col_mask = np.delete(np.arange(matrix.shape[1]), target_col)\n",
    "        matrix = matrix[row_mask,:][:, col_mask]\n",
    "    if len(order_rows) != d:\n",
    "            return None, None\n",
    "    return order_rows, order_cols"
   ]
  },
  {
   "cell_type": "code",
   "execution_count": 192,
   "id": "f17efa8d",
   "metadata": {},
   "outputs": [
    {
     "data": {
      "text/plain": [
       "array([[ 0.59,  0.  ,  0.  ,  0.  ],\n",
       "       [ 0.17,  0.37,  0.  ,  0.  ],\n",
       "       [-0.24,  0.37,  0.99,  0.  ],\n",
       "       [-0.35,  0.  ,  0.  ,  0.41]])"
      ]
     },
     "execution_count": 192,
     "metadata": {},
     "output_type": "execute_result"
    }
   ],
   "source": [
    "order_rows, order_cols = search_order_noisy(B_star)\n",
    "if order_rows is not None:\n",
    "    B_star = B_star[order_rows, :][:, order_cols]\n",
    "B_star.round(2)"
   ]
  },
  {
   "cell_type": "code",
   "execution_count": 193,
   "id": "ac1b6754",
   "metadata": {},
   "outputs": [],
   "source": [
    "#B_star[np.triu_indices(4,k=1)] = 0\n",
    "#B_star"
   ]
  },
  {
   "cell_type": "code",
   "execution_count": 194,
   "id": "2d39e618",
   "metadata": {},
   "outputs": [
    {
     "data": {
      "text/plain": [
       "array([0.58562377, 0.36977767, 0.99292499, 0.40650182])"
      ]
     },
     "execution_count": 194,
     "metadata": {},
     "output_type": "execute_result"
    }
   ],
   "source": [
    "np.diag(B_star)"
   ]
  },
  {
   "cell_type": "code",
   "execution_count": 195,
   "id": "3d6f4f8a",
   "metadata": {},
   "outputs": [
    {
     "data": {
      "text/plain": [
       "array([[ 0.  ,  0.  ,  0.  ,  0.  ],\n",
       "       [ 0.46,  0.  ,  0.  ,  0.  ],\n",
       "       [-0.41,  0.37,  0.  ,  0.  ],\n",
       "       [-0.87,  0.  ,  0.  , -0.  ]])"
      ]
     },
     "execution_count": 195,
     "metadata": {},
     "output_type": "execute_result"
    }
   ],
   "source": [
    "# Remove sign indetermancy from columns\n",
    "B_star = np.matmul(B_star, np.diag(np.sign(np.diag(B_star))))\n",
    "\n",
    "# Remove scaling indetermancy from rows  and solve for A\n",
    "B_star = np.matmul(np.diag(1/np.diag(B_star)), B_star)\n",
    "\n",
    "# Solve for A\n",
    "A = (np.eye(B_star.shape[0]) - np.linalg.inv(B_star))\n",
    "A.round(2)"
   ]
  },
  {
   "cell_type": "code",
   "execution_count": 196,
   "id": "309ca8c1",
   "metadata": {},
   "outputs": [
    {
     "data": {
      "text/plain": [
       "array([[ 0.  ,  0.  ,  0.  ,  0.  ],\n",
       "       [ 0.46,  0.  ,  0.  ,  0.  ],\n",
       "       [-0.87,  0.  ,  0.  ,  0.  ],\n",
       "       [-0.41,  0.37,  0.  ,  0.  ]])"
      ]
     },
     "execution_count": 196,
     "metadata": {},
     "output_type": "execute_result"
    }
   ],
   "source": [
    "# Check\n",
    "np.transpose(g.to_amat()).round(2)"
   ]
  },
  {
   "cell_type": "markdown",
   "id": "e99bdd6f",
   "metadata": {},
   "source": [
    "TODO: \n",
    "- Check code for graph recovery on noisy data\n",
    "- Clean code and add it to LinearMDCRL class\n",
    "- Implement a routine to check the solution of recovering the joint mixing matrix (involves permutations)\n",
    "- Implement a routine to check the causal order/ the parameter matrix of the graph\n",
    "- Write code for simulations\n",
    "\n",
    "Issues:\n",
    "- With the current implementation it can happen that G has zero rows..."
   ]
  },
  {
   "cell_type": "code",
   "execution_count": null,
   "id": "c42598b0",
   "metadata": {},
   "outputs": [],
   "source": []
  },
  {
   "cell_type": "code",
   "execution_count": null,
   "id": "681a7c3a",
   "metadata": {},
   "outputs": [],
   "source": []
  }
 ],
 "metadata": {
  "kernelspec": {
   "display_name": "Python 3 (ipykernel)",
   "language": "python",
   "name": "python3"
  },
  "language_info": {
   "codemirror_mode": {
    "name": "ipython",
    "version": 3
   },
   "file_extension": ".py",
   "mimetype": "text/x-python",
   "name": "python",
   "nbconvert_exporter": "python",
   "pygments_lexer": "ipython3",
   "version": "3.9.12"
  }
 },
 "nbformat": 4,
 "nbformat_minor": 5
}
