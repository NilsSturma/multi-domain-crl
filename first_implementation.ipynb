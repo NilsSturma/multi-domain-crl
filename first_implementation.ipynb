{
 "cells": [
  {
   "cell_type": "code",
   "execution_count": 1,
   "id": "797f9c71",
   "metadata": {},
   "outputs": [],
   "source": [
    "import numpy as np\n",
    "import tensorly as tl\n",
    "from tensorly.decomposition import parafac\n",
    "from numpy.linalg import matrix_rank, pinv"
   ]
  },
  {
   "cell_type": "markdown",
   "id": "8cee91ff",
   "metadata": {},
   "source": [
    "## Choose parameters\n",
    "For now, we assume that the latent variables are independent."
   ]
  },
  {
   "cell_type": "markdown",
   "id": "f1c9c8d9",
   "metadata": {},
   "source": [
    "#### 1) Define third order tensor of noise variables"
   ]
  },
  {
   "cell_type": "code",
   "execution_count": 2,
   "id": "bd1dc1ed",
   "metadata": {},
   "outputs": [
    {
     "data": {
      "text/plain": [
       "array([1, 2, 3])"
      ]
     },
     "execution_count": 2,
     "metadata": {},
     "output_type": "execute_result"
    }
   ],
   "source": [
    "nlat = 3\n",
    "third_moms = np.arange(1,(nlat+1))\n",
    "third_moms"
   ]
  },
  {
   "cell_type": "code",
   "execution_count": 3,
   "id": "bbf511ec",
   "metadata": {},
   "outputs": [],
   "source": [
    "Omega = np.zeros((nlat,nlat,nlat))\n",
    "for i in range(nlat):\n",
    "    Omega[i,i,i] = third_moms[i]"
   ]
  },
  {
   "cell_type": "code",
   "execution_count": 9,
   "id": "a98d46a4",
   "metadata": {},
   "outputs": [
    {
     "data": {
      "text/plain": [
       "array([[[1., 0., 0.],\n",
       "        [0., 0., 0.],\n",
       "        [0., 0., 0.]],\n",
       "\n",
       "       [[0., 0., 0.],\n",
       "        [0., 2., 0.],\n",
       "        [0., 0., 0.]],\n",
       "\n",
       "       [[0., 0., 0.],\n",
       "        [0., 0., 0.],\n",
       "        [0., 0., 3.]]])"
      ]
     },
     "execution_count": 9,
     "metadata": {},
     "output_type": "execute_result"
    }
   ],
   "source": [
    "Omega"
   ]
  },
  {
   "cell_type": "code",
   "execution_count": 4,
   "id": "903320e3",
   "metadata": {},
   "outputs": [
    {
     "data": {
      "text/plain": [
       "array([[0.51639863, 0.57066759],\n",
       "       [0.02847423, 0.17152166],\n",
       "       [0.68527698, 0.83389686],\n",
       "       [0.30696622, 0.89361308],\n",
       "       [0.72154386, 0.18993895],\n",
       "       [0.55422759, 0.35213195],\n",
       "       [0.1818924 , 0.78560176],\n",
       "       [0.96548322, 0.23235366],\n",
       "       [0.08356143, 0.60354842],\n",
       "       [0.72899276, 0.27623883]])"
      ]
     },
     "execution_count": 4,
     "metadata": {},
     "output_type": "execute_result"
    }
   ],
   "source": [
    "# Sample entries of G1 from Unif([0,1])\n",
    "np.random.seed(101)\n",
    "G1 = np.random.random_sample(size=(10,2))\n",
    "G1"
   ]
  },
  {
   "cell_type": "code",
   "execution_count": 5,
   "id": "daaf401a",
   "metadata": {},
   "outputs": [
    {
     "data": {
      "text/plain": [
       "array([[0.8506181 , 0.29254118],\n",
       "       [0.22308853, 0.19771466],\n",
       "       [0.37789012, 0.13853412],\n",
       "       [0.01082837, 0.08256878],\n",
       "       [0.95951925, 0.72198539],\n",
       "       [0.06453682, 0.81941047],\n",
       "       [0.77452391, 0.57546951],\n",
       "       [0.17440146, 0.57344167]])"
      ]
     },
     "execution_count": 5,
     "metadata": {},
     "output_type": "execute_result"
    }
   ],
   "source": [
    "np.random.seed(505)\n",
    "G2 = np.random.random_sample(size=(8,2))\n",
    "G2"
   ]
  },
  {
   "cell_type": "markdown",
   "id": "9046a0bb",
   "metadata": {},
   "source": [
    "## Compute observed covariance matrix and third-order tensor"
   ]
  },
  {
   "cell_type": "code",
   "execution_count": 27,
   "id": "c289d431",
   "metadata": {},
   "outputs": [],
   "source": [
    "Sigma1 = np.matmul(G1, np.transpose(G1))\n",
    "Sigma2 = np.matmul(G2, np.transpose(G2))"
   ]
  },
  {
   "cell_type": "code",
   "execution_count": 28,
   "id": "efb2fe79",
   "metadata": {},
   "outputs": [],
   "source": [
    "tucker_tensor1 = (Omega[:2,:2,:2],[G1,G1,G1])\n",
    "T1 = tl.tucker_to_tensor(tucker_tensor1, skip_factor=None, transpose_factors=False)"
   ]
  },
  {
   "cell_type": "code",
   "execution_count": 29,
   "id": "30a3a2d5",
   "metadata": {},
   "outputs": [],
   "source": [
    "tucker_tensor2 = (Omega[np.ix_([0,2],[0,2],[0,2])],[G2,G2,G2])\n",
    "T2 = tl.tucker_to_tensor(tucker_tensor2, skip_factor=None, transpose_factors=False)"
   ]
  },
  {
   "cell_type": "code",
   "execution_count": 30,
   "id": "9a0f7bf6",
   "metadata": {},
   "outputs": [],
   "source": [
    "# This means that the first latent variable is the joint one. "
   ]
  },
  {
   "cell_type": "code",
   "execution_count": 31,
   "id": "e1aac7e6",
   "metadata": {},
   "outputs": [
    {
     "data": {
      "text/plain": [
       "True"
      ]
     },
     "execution_count": 31,
     "metadata": {},
     "output_type": "execute_result"
    }
   ],
   "source": [
    "# Check by hand: it does the same as the following code\n",
    "\n",
    "d1 = G1.shape[0]\n",
    "\n",
    "Omega1 = Omega[:2,:2,:2]\n",
    "T1_v2 = np.zeros((d1,d1,d1))\n",
    "for i1 in range(d1):\n",
    "    for i2 in range(d1):\n",
    "        for i3 in range(d1):\n",
    "            for j in range(2):\n",
    "                T1_v2[i1,i2,i3] = T1_v2[i1,i2,i3] + Omega1[j,j,j] * G1[i1,j] * G1[i2,j] * G1[i3,j]\n",
    "                \n",
    "(T1_v2 == T1).all()"
   ]
  },
  {
   "cell_type": "markdown",
   "id": "0e3ae5bf",
   "metadata": {},
   "source": [
    "## Identify nr of joint latent variables and joint distribution"
   ]
  },
  {
   "cell_type": "code",
   "execution_count": 32,
   "id": "7a518733",
   "metadata": {},
   "outputs": [
    {
     "data": {
      "text/plain": [
       "2"
      ]
     },
     "execution_count": 32,
     "metadata": {},
     "output_type": "execute_result"
    }
   ],
   "source": [
    "matrix_rank(Sigma1)"
   ]
  },
  {
   "cell_type": "code",
   "execution_count": 33,
   "id": "7fa4682c",
   "metadata": {},
   "outputs": [
    {
     "data": {
      "text/plain": [
       "2"
      ]
     },
     "execution_count": 33,
     "metadata": {},
     "output_type": "execute_result"
    }
   ],
   "source": [
    "matrix_rank(Sigma2)"
   ]
  },
  {
   "cell_type": "markdown",
   "id": "1cde30d2",
   "metadata": {},
   "source": [
    "#### 1) Identify the mixing matrices of the environments (up to permutation of columns)\n",
    "(Use CANDECOMP of TensorLy - can we do this symbolically?)"
   ]
  },
  {
   "cell_type": "code",
   "execution_count": 34,
   "id": "7d42f328",
   "metadata": {},
   "outputs": [],
   "source": [
    "def identify_mixing_up_to_perm(Sigma, T):\n",
    "    \n",
    "    rk = matrix_rank(Sigma)\n",
    "    weights, factors = parafac(T, rank=rk,  normalize_factors=False)\n",
    "    factor = factors[0]\n",
    "    \n",
    "    Lambda = np.matmul(np.matmul(pinv(factor), Sigma), np.transpose(pinv(factor)))\n",
    "    rescaler = np.diag(np.sqrt(np.diag(Lambda)))\n",
    "    G = np.matmul(factor, rescaler)\n",
    "    return G"
   ]
  },
  {
   "cell_type": "code",
   "execution_count": 35,
   "id": "d9cdc800",
   "metadata": {},
   "outputs": [
    {
     "data": {
      "text/plain": [
       "array([[ 0.57066766, -0.51639847],\n",
       "       [ 0.17152166, -0.02847418],\n",
       "       [ 0.83389696, -0.68527675],\n",
       "       [ 0.89361312, -0.30696598],\n",
       "       [ 0.18993905, -0.72154381],\n",
       "       [ 0.35213203, -0.5542275 ],\n",
       "       [ 0.78560179, -0.18189219],\n",
       "       [ 0.23235379, -0.96548316],\n",
       "       [ 0.60354843, -0.08356127],\n",
       "       [ 0.27623893, -0.72899268]])"
      ]
     },
     "execution_count": 35,
     "metadata": {},
     "output_type": "execute_result"
    }
   ],
   "source": [
    "G1_P1 = identify_mixing_up_to_perm(Sigma1, T1)\n",
    "G1_P1"
   ]
  },
  {
   "cell_type": "code",
   "execution_count": 36,
   "id": "38d49e64",
   "metadata": {},
   "outputs": [
    {
     "data": {
      "text/plain": [
       "array([[0.51639863, 0.57066759],\n",
       "       [0.02847423, 0.17152166],\n",
       "       [0.68527698, 0.83389686],\n",
       "       [0.30696622, 0.89361308],\n",
       "       [0.72154386, 0.18993895],\n",
       "       [0.55422759, 0.35213195],\n",
       "       [0.1818924 , 0.78560176],\n",
       "       [0.96548322, 0.23235366],\n",
       "       [0.08356143, 0.60354842],\n",
       "       [0.72899276, 0.27623883]])"
      ]
     },
     "execution_count": 36,
     "metadata": {},
     "output_type": "execute_result"
    }
   ],
   "source": [
    "# Compare with true mixing matrix\n",
    "G1"
   ]
  },
  {
   "cell_type": "code",
   "execution_count": 37,
   "id": "b14d7b52",
   "metadata": {},
   "outputs": [
    {
     "data": {
      "text/plain": [
       "array([[-0.29255044, -0.8506095 ],\n",
       "       [-0.19771709, -0.22308271],\n",
       "       [-0.13853824, -0.37788604],\n",
       "       [-0.0825689 , -0.01082594],\n",
       "       [-0.72199584, -0.95949802],\n",
       "       [-0.81941117, -0.06451273],\n",
       "       [-0.57547794, -0.77450698],\n",
       "       [-0.57344357, -0.1743846 ]])"
      ]
     },
     "execution_count": 37,
     "metadata": {},
     "output_type": "execute_result"
    }
   ],
   "source": [
    "G2_P2 = identify_mixing_up_to_perm(Sigma2, T2)\n",
    "G2_P2"
   ]
  },
  {
   "cell_type": "code",
   "execution_count": 38,
   "id": "0491ae2e",
   "metadata": {},
   "outputs": [
    {
     "data": {
      "text/plain": [
       "array([[0.8506181 , 0.29254118],\n",
       "       [0.22308853, 0.19771466],\n",
       "       [0.37789012, 0.13853412],\n",
       "       [0.01082837, 0.08256878],\n",
       "       [0.95951925, 0.72198539],\n",
       "       [0.06453682, 0.81941047],\n",
       "       [0.77452391, 0.57546951],\n",
       "       [0.17440146, 0.57344167]])"
      ]
     },
     "execution_count": 38,
     "metadata": {},
     "output_type": "execute_result"
    }
   ],
   "source": [
    "# Compare with true mixing matrix\n",
    "G2"
   ]
  },
  {
   "cell_type": "markdown",
   "id": "a16c4ba2",
   "metadata": {},
   "source": [
    "#### 2) Identify the third moments of the noise variables (up to permutation)"
   ]
  },
  {
   "cell_type": "code",
   "execution_count": 39,
   "id": "89fefdae",
   "metadata": {},
   "outputs": [],
   "source": [
    "def diag_tensor_to_array(T):\n",
    "    d = np.zeros(T.shape[0])\n",
    "    for i in range(T.shape[0]):\n",
    "        d[i] = T[i,i,i]\n",
    "    return d\n",
    "\n",
    "def identify_third_mom_up_to_perm(G, T):\n",
    "    pinv_G = pinv(G)\n",
    "    Omega_r = (T,[pinv_G,pinv_G,pinv_G])\n",
    "    Omega_r = tl.tucker_to_tensor(Omega_r, skip_factor=None, transpose_factors=False)\n",
    "    third_moms = diag_tensor_to_array(Omega_r).round(5)\n",
    "    return third_moms"
   ]
  },
  {
   "cell_type": "code",
   "execution_count": 40,
   "id": "7b98badc",
   "metadata": {},
   "outputs": [
    {
     "data": {
      "text/plain": [
       "array([ 2., -1.])"
      ]
     },
     "execution_count": 40,
     "metadata": {},
     "output_type": "execute_result"
    }
   ],
   "source": [
    "third_moms1 = identify_third_mom_up_to_perm(G1_P1,T1)\n",
    "third_moms1"
   ]
  },
  {
   "cell_type": "code",
   "execution_count": 41,
   "id": "015e57cc",
   "metadata": {},
   "outputs": [
    {
     "data": {
      "text/plain": [
       "array([-3., -1.])"
      ]
     },
     "execution_count": 41,
     "metadata": {},
     "output_type": "execute_result"
    }
   ],
   "source": [
    "third_moms2 = identify_third_mom_up_to_perm(G2_P2,T2)\n",
    "third_moms2"
   ]
  },
  {
   "cell_type": "markdown",
   "id": "67605d54",
   "metadata": {},
   "source": [
    "#### 3) Identify joint latent space"
   ]
  },
  {
   "cell_type": "code",
   "execution_count": 42,
   "id": "631abbf5",
   "metadata": {},
   "outputs": [
    {
     "data": {
      "text/plain": [
       "array([1.])"
      ]
     },
     "execution_count": 42,
     "metadata": {},
     "output_type": "execute_result"
    }
   ],
   "source": [
    "joint_abs_moms = np.array(list(set(abs(third_moms1)).intersection(set(abs(third_moms2)))))\n",
    "joint_abs_moms\n",
    "\n",
    "# joint latent space is 1-dimensional and the corresponding noise variable has absolute third-order moment equl to 2"
   ]
  },
  {
   "cell_type": "code",
   "execution_count": 43,
   "id": "5a473c46",
   "metadata": {},
   "outputs": [],
   "source": [
    "# Reorder columns of the mixing matrix such that the columns corresponding to the joint latent space come first \n",
    "# (in same order)\n",
    "\n",
    "def reorder_columns(G,third_moms,joint_abs_moms):\n",
    "    third_abs_moms = abs(third_moms)\n",
    "    nr_lat = G.shape[1]\n",
    "    P = np.zeros((nr_lat,nr_lat))\n",
    "\n",
    "    positions = []\n",
    "    for i, mom in enumerate(joint_abs_moms):\n",
    "        current_pos = np.where(abs(third_moms)==mom)[0][0]\n",
    "        positions.append(current_pos)\n",
    "        P[current_pos,i]=1\n",
    "    \n",
    "    remaining_rows = set(np.arange(nr_lat)) - set(positions)\n",
    "    \n",
    "    for i, row in enumerate(remaining_rows):\n",
    "        P[row,len(joint_abs_moms)+i] = 1\n",
    "        \n",
    "    return np.matmul(G, P)"
   ]
  },
  {
   "cell_type": "code",
   "execution_count": 50,
   "id": "86e33e20",
   "metadata": {},
   "outputs": [
    {
     "data": {
      "text/plain": [
       "array([[-0.51639847,  0.57066766],\n",
       "       [-0.02847418,  0.17152166],\n",
       "       [-0.68527675,  0.83389696],\n",
       "       [-0.30696598,  0.89361312],\n",
       "       [-0.72154381,  0.18993905],\n",
       "       [-0.5542275 ,  0.35213203],\n",
       "       [-0.18189219,  0.78560179],\n",
       "       [-0.96548316,  0.23235379],\n",
       "       [-0.08356127,  0.60354843],\n",
       "       [-0.72899268,  0.27623893]])"
      ]
     },
     "execution_count": 50,
     "metadata": {},
     "output_type": "execute_result"
    }
   ],
   "source": [
    "G1_P1 = reorder_columns(G1_P1, third_moms1,joint_abs_moms)\n",
    "G1_P1"
   ]
  },
  {
   "cell_type": "code",
   "execution_count": 51,
   "id": "58e7c65f",
   "metadata": {},
   "outputs": [
    {
     "data": {
      "text/plain": [
       "array([[-0.8506095 , -0.29255044],\n",
       "       [-0.22308271, -0.19771709],\n",
       "       [-0.37788604, -0.13853824],\n",
       "       [-0.01082594, -0.0825689 ],\n",
       "       [-0.95949802, -0.72199584],\n",
       "       [-0.06451273, -0.81941117],\n",
       "       [-0.77450698, -0.57547794],\n",
       "       [-0.1743846 , -0.57344357]])"
      ]
     },
     "execution_count": 51,
     "metadata": {},
     "output_type": "execute_result"
    }
   ],
   "source": [
    "G2_P2 = reorder_columns(G2_P2, third_moms2,joint_abs_moms)\n",
    "G2_P2"
   ]
  },
  {
   "cell_type": "markdown",
   "id": "d8d9f496",
   "metadata": {},
   "source": [
    "#### 4) Define \"joint mixing matrix\" (up to blockwise permutation)"
   ]
  },
  {
   "cell_type": "code",
   "execution_count": 77,
   "id": "1241abab",
   "metadata": {},
   "outputs": [],
   "source": [
    "def joint_mixing_matrix(G_list, nr_joint):\n",
    "    nr_domains = len(G_list)\n",
    "    \n",
    "    total_nr_obs = sum([G.shape[0] for G in G_list])\n",
    "    total_nr_lat = sum([G.shape[1]-nr_joint for G in G_list]) + nr_joint\n",
    "    G_large = np.zeros((total_nr_obs, total_nr_lat))\n",
    "    \n",
    "    current_row = 0\n",
    "    current_col = nr_joint\n",
    "    \n",
    "    for G in G_list:\n",
    "        nrows, ncols = G.shape\n",
    "        nr_domain_specific = ncols - nr_joint\n",
    "        \n",
    "        G_large[np.ix_(np.arange(current_row,(current_row+nrows)),np.arange(nr_joint))] = G[:,:nr_joint]\n",
    "        G_large[np.ix_(np.arange(current_row,(current_row+nrows)),np.arange(current_col,(current_col+nr_domain_specific)))] \\\n",
    "        = G[:,nr_joint:]\n",
    "        \n",
    "        current_row = current_row + nrows\n",
    "        current_col = current_col + nr_domain_specific\n",
    "        \n",
    "    return G_large"
   ]
  },
  {
   "cell_type": "code",
   "execution_count": 78,
   "id": "b6c886f2",
   "metadata": {},
   "outputs": [
    {
     "data": {
      "text/plain": [
       "array([[-0.51639847,  0.57066766,  0.        ],\n",
       "       [-0.02847418,  0.17152166,  0.        ],\n",
       "       [-0.68527675,  0.83389696,  0.        ],\n",
       "       [-0.30696598,  0.89361312,  0.        ],\n",
       "       [-0.72154381,  0.18993905,  0.        ],\n",
       "       [-0.5542275 ,  0.35213203,  0.        ],\n",
       "       [-0.18189219,  0.78560179,  0.        ],\n",
       "       [-0.96548316,  0.23235379,  0.        ],\n",
       "       [-0.08356127,  0.60354843,  0.        ],\n",
       "       [-0.72899268,  0.27623893,  0.        ],\n",
       "       [-0.8506095 ,  0.        , -0.29255044],\n",
       "       [-0.22308271,  0.        , -0.19771709],\n",
       "       [-0.37788604,  0.        , -0.13853824],\n",
       "       [-0.01082594,  0.        , -0.0825689 ],\n",
       "       [-0.95949802,  0.        , -0.72199584],\n",
       "       [-0.06451273,  0.        , -0.81941117],\n",
       "       [-0.77450698,  0.        , -0.57547794],\n",
       "       [-0.1743846 ,  0.        , -0.57344357]])"
      ]
     },
     "execution_count": 78,
     "metadata": {},
     "output_type": "execute_result"
    }
   ],
   "source": [
    "joint_mixing_matrix([G1_P1, G2_P2],len(joint_abs_moms))"
   ]
  },
  {
   "cell_type": "markdown",
   "id": "4bcbda3b",
   "metadata": {},
   "source": [
    "TODO:\n",
    "- Create GitHub repository and invite Chandler\n",
    "- In reorder columns: not only look on absolute value but also on sign! Match signs\n",
    "- Check if code works for more joint independent factors\n",
    "- Rewrite code such that it also works if joint space is only \"upstream\"\n",
    "- Can we identify the joint latent graph if we only have ONE pure child in each environment???"
   ]
  },
  {
   "cell_type": "markdown",
   "id": "225378c1",
   "metadata": {},
   "source": [
    "## Identify joint latent graph"
   ]
  },
  {
   "cell_type": "code",
   "execution_count": null,
   "id": "e598cae4",
   "metadata": {},
   "outputs": [],
   "source": [
    "# TO BE DONE"
   ]
  }
 ],
 "metadata": {
  "kernelspec": {
   "display_name": "Python [conda env:multi-domain-clr] *",
   "language": "python",
   "name": "conda-env-multi-domain-clr-py"
  },
  "language_info": {
   "codemirror_mode": {
    "name": "ipython",
    "version": 3
   },
   "file_extension": ".py",
   "mimetype": "text/x-python",
   "name": "python",
   "nbconvert_exporter": "python",
   "pygments_lexer": "ipython3",
   "version": "3.10.6"
  }
 },
 "nbformat": 4,
 "nbformat_minor": 5
}
