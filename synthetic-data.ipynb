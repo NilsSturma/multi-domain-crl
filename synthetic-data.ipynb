{
 "cells": [
  {
   "cell_type": "code",
   "execution_count": 485,
   "id": "fbca0b5d",
   "metadata": {},
   "outputs": [],
   "source": [
    "%matplotlib inline\n",
    "\n",
    "import numpy as np\n",
    "from scipy.stats import beta, uniform, expon, lognorm, weibull_min, chi2, t, gumbel_r, wasserstein_distance, moment\n",
    "from scipy.special import gamma\n",
    "import matplotlib.pyplot as plt\n",
    "from sklearn.decomposition import FastICA"
   ]
  },
  {
   "cell_type": "markdown",
   "id": "964cb125",
   "metadata": {},
   "source": [
    "### Distributions of the independent components"
   ]
  },
  {
   "cell_type": "code",
   "execution_count": 494,
   "id": "bcc2974b",
   "metadata": {},
   "outputs": [],
   "source": [
    "rvs = [beta(2,3), expon(scale=0.1), t(df=5), gumbel_r, lognorm(s=1), weibull_min(c=2), chi2(df=6)]"
   ]
  },
  {
   "cell_type": "code",
   "execution_count": 495,
   "id": "fac6aebe",
   "metadata": {},
   "outputs": [],
   "source": [
    "def sample_normed(n, rv):\n",
    "    return (rv.rvs(size=n) - rv.mean()) / rv.std()"
   ]
  },
  {
   "cell_type": "code",
   "execution_count": 496,
   "id": "a6b2ee8b",
   "metadata": {},
   "outputs": [],
   "source": [
    "n = 5000\n",
    "eps = np.zeros((n,len(rvs)))\n",
    "for i, rv in enumerate(rvs):\n",
    "    eps[:,i] = sample_normed(n,rv)"
   ]
  },
  {
   "cell_type": "code",
   "execution_count": 497,
   "id": "ebd860b4",
   "metadata": {},
   "outputs": [
    {
     "data": {
      "image/png": "[encoded data removed]",
      "text/plain": [
       "<Figure size 1296x165.6 with 7 Axes>"
      ]
     },
     "metadata": {
      "needs_background": "light"
     },
     "output_type": "display_data"
    }
   ],
   "source": [
    "fig, ax = plt.subplots(1, 7, figsize=(18,2.3))\n",
    "\n",
    "for j in range(7):\n",
    "        ax[j].hist(eps[:,j], bins=50)\n",
    "\n",
    "plt.show()"
   ]
  },
  {
   "cell_type": "markdown",
   "id": "c1713190",
   "metadata": {},
   "source": [
    "### Create synthetic observations"
   ]
  },
  {
   "cell_type": "code",
   "execution_count": 498,
   "id": "e59da334",
   "metadata": {},
   "outputs": [],
   "source": [
    "joint_latents = [0,1,2,3]\n",
    "env1_specific = [4]\n",
    "env2_specific = [5]\n",
    "env3_specific = [6]\n",
    "d1 = 13\n",
    "d2 = 14\n",
    "d3 = 15\n",
    "n1 = 3000\n",
    "n2 = 3000\n",
    "n3 = 3000\n",
    "\n",
    "env1_latents = joint_latents + env1_specific\n",
    "env2_latents = joint_latents + env2_specific\n",
    "env3_latents = joint_latents + env3_specific"
   ]
  },
  {
   "cell_type": "code",
   "execution_count": 499,
   "id": "bfa8e5de",
   "metadata": {},
   "outputs": [],
   "source": [
    "def matrix_from_normal(shape, mu=0, sigma=1):\n",
    "    A = np.random.normal(loc=mu, scale=sigma, size=shape)\n",
    "    return A"
   ]
  },
  {
   "cell_type": "code",
   "execution_count": 500,
   "id": "ed194374",
   "metadata": {},
   "outputs": [
    {
     "data": {
      "text/plain": [
       "array([[ 0.82, -1.01, -2.46,  1.23,  0.01],\n",
       "       [-2.52, -0.07,  0.71,  0.35,  2.41],\n",
       "       [ 1.13, -0.54,  1.18, -1.22, -1.64],\n",
       "       [-0.58, -0.16,  1.43, -0.4 , -0.02],\n",
       "       [ 0.83,  1.15, -2.6 ,  0.31,  0.06],\n",
       "       [ 0.06, -0.08,  0.34, -0.28, -0.49],\n",
       "       [ 0.78, -1.31, -0.8 , -0.71,  1.36],\n",
       "       [ 0.73, -0.93,  0.56,  1.  , -0.76],\n",
       "       [-0.65,  0.41, -1.08, -2.29,  0.75],\n",
       "       [-0.28,  0.84,  1.42, -1.25, -0.94],\n",
       "       [ 1.81, -0.18,  1.76,  1.08, -1.41],\n",
       "       [-0.35,  0.08, -0.87,  0.17, -0.94],\n",
       "       [-0.95,  2.44, -0.62,  0.95,  0.05]])"
      ]
     },
     "execution_count": 500,
     "metadata": {},
     "output_type": "execute_result"
    }
   ],
   "source": [
    "# Sample entries of G1\n",
    "#np.random.seed(101)\n",
    "G1 = matrix_from_normal(shape=(d1,len(env1_latents)))\n",
    "G1.round(2)"
   ]
  },
  {
   "cell_type": "code",
   "execution_count": 501,
   "id": "480b9e82",
   "metadata": {},
   "outputs": [],
   "source": [
    "# G2 and G3\n",
    "#np.random.seed(102)\n",
    "G2 = matrix_from_normal(shape=(d2,len(env2_latents)))\n",
    "\n",
    "#np.random.seed(103)\n",
    "G3 = matrix_from_normal(shape=(d3,len(env3_latents)))"
   ]
  },
  {
   "cell_type": "code",
   "execution_count": 502,
   "id": "f6472c3d",
   "metadata": {},
   "outputs": [],
   "source": [
    "def sample(n, mixing, rvs):\n",
    "    nr_comps = len(rvs)\n",
    "    eps = np.zeros((n,nr_comps))\n",
    "    for i, rv in enumerate(rvs):\n",
    "        eps[:,i] = sample_normed(n,rv)\n",
    "    X = np.matmul(mixing, np.transpose(eps))\n",
    "    return(X)"
   ]
  },
  {
   "cell_type": "code",
   "execution_count": 503,
   "id": "ba9bd550",
   "metadata": {},
   "outputs": [],
   "source": [
    "# Create synthetic data (uncoupled!!)\n",
    "X1 = sample(n1, G1, [rvs[i] for i in env1_latents])\n",
    "X2 = sample(n2, G2, [rvs[i] for i in env2_latents])\n",
    "X3 = sample(n3, G3, [rvs[i] for i in env3_latents])"
   ]
  },
  {
   "cell_type": "markdown",
   "id": "a96f9060",
   "metadata": {},
   "source": [
    "### Apply linear ICA to recover the (empirical) distribution of the sources"
   ]
  },
  {
   "cell_type": "code",
   "execution_count": 504,
   "id": "b28aa711",
   "metadata": {},
   "outputs": [],
   "source": [
    "def rescale_columns(X):\n",
    "    for i in range(X.shape[1]):\n",
    "        X[:,i] = (X[:,i] - X[:,i].mean()) / X[:,i].std()\n",
    "    return X\n",
    "\n",
    "# X1 has shape p x n\n",
    "def get_sources(X, seed=101):\n",
    "    cov = np.cov(X)\n",
    "    rk = np.linalg.matrix_rank(cov)\n",
    "    print(\"Rank:\", rk)\n",
    "    \n",
    "    ICA = FastICA(n_components=rk, random_state=seed, whiten='unit-variance', max_iter=1000) \n",
    "    ICA.fit(np.transpose(X))\n",
    "    print(\"Iterations:\", ICA.n_iter_)\n",
    "    eps = ICA.transform(np.transpose(X))\n",
    "    scaling = eps.std(axis=0)\n",
    "    \n",
    "    eps = rescale_columns(eps)\n",
    "    mixing = np.matmul(ICA.mixing_, np.diag(scaling))    \n",
    "    \n",
    "    return eps, mixing"
   ]
  },
  {
   "cell_type": "code",
   "execution_count": 505,
   "id": "cb43b035",
   "metadata": {},
   "outputs": [
    {
     "name": "stdout",
     "output_type": "stream",
     "text": [
      "Rank: 5\n",
      "Iterations: 7\n"
     ]
    }
   ],
   "source": [
    "eps1, mixing1 = get_sources(X1)"
   ]
  },
  {
   "cell_type": "code",
   "execution_count": 506,
   "id": "52bba0fb",
   "metadata": {},
   "outputs": [
    {
     "data": {
      "text/plain": [
       "array([[ 0.10520083, -0.78263467,  2.53101468, -1.07211975, -1.05896042],\n",
       "       [ 2.52685982,  2.61938473, -0.65911936, -0.02655182, -0.34342905],\n",
       "       [-1.73417308, -1.16389736, -1.29537228, -0.51456456,  1.12749666],\n",
       "       [-0.04784655,  0.60206606, -1.46086434, -0.11700177,  0.318778  ],\n",
       "       [ 0.06670003, -0.92117773,  2.64815293,  1.08433434, -0.19272417],\n",
       "       [-0.53144145, -0.06904882, -0.365577  , -0.07126603,  0.25775627],\n",
       "       [ 1.51748893, -0.70766054,  0.74601754, -1.32038231,  0.77716077],\n",
       "       [-0.74934191, -0.67991693, -0.52203562, -0.94292702, -1.00141136],\n",
       "       [ 0.74622265,  0.59234695,  0.94192519,  0.45403933,  2.30992554],\n",
       "       [-1.07393013,  0.20750365, -1.50378046,  0.88584136,  1.12349748],\n",
       "       [-1.45179   , -1.79428596, -1.70886698, -0.21656654, -1.17736748],\n",
       "       [-1.01616586,  0.30835824,  0.8684405 ,  0.08931239, -0.13230455],\n",
       "       [-0.03800025,  0.84861196,  0.73174168,  2.40986685, -0.94569401]])"
      ]
     },
     "execution_count": 506,
     "metadata": {},
     "output_type": "execute_result"
    }
   ],
   "source": [
    "mixing1"
   ]
  },
  {
   "cell_type": "code",
   "execution_count": 507,
   "id": "719cb231",
   "metadata": {},
   "outputs": [
    {
     "name": "stdout",
     "output_type": "stream",
     "text": [
      "Rank: 5\n",
      "Iterations: 6\n"
     ]
    }
   ],
   "source": [
    "eps2, mixing2 = get_sources(X2, seed=102)"
   ]
  },
  {
   "cell_type": "code",
   "execution_count": 508,
   "id": "24418615",
   "metadata": {},
   "outputs": [
    {
     "name": "stdout",
     "output_type": "stream",
     "text": [
      "Rank: 5\n",
      "Iterations: 5\n"
     ]
    }
   ],
   "source": [
    "eps3, mixing3 = get_sources(X3, seed=103)"
   ]
  },
  {
   "cell_type": "code",
   "execution_count": 509,
   "id": "e2f9ce5f",
   "metadata": {},
   "outputs": [],
   "source": [
    "# Collect results\n",
    "indep_comps = [eps1, eps2, eps3]\n",
    "mixings = [mixing1, mixing2, mixing3]"
   ]
  },
  {
   "cell_type": "markdown",
   "id": "880f0d43",
   "metadata": {},
   "source": [
    "### Plot recovered distributions"
   ]
  },
  {
   "cell_type": "code",
   "execution_count": 510,
   "id": "da2ef193",
   "metadata": {},
   "outputs": [
    {
     "data": {
      "image/png": "[encoded data removed]",
      "text/plain": [
       "<Figure size 1008x648 with 15 Axes>"
      ]
     },
     "metadata": {
      "needs_background": "light"
     },
     "output_type": "display_data"
    }
   ],
   "source": [
    "fig, ax = plt.subplots(3, 5, figsize=(14, 9))\n",
    "\n",
    "for i in range(3):\n",
    "    for j in range(5):\n",
    "        ax[i,j].hist(indep_comps[i][:,j], bins=50)\n",
    "\n",
    "plt.show()"
   ]
  },
  {
   "cell_type": "markdown",
   "id": "06dad19d",
   "metadata": {},
   "source": [
    "### Matching"
   ]
  },
  {
   "cell_type": "code",
   "execution_count": 467,
   "id": "969cc019",
   "metadata": {},
   "outputs": [],
   "source": [
    "def third_moments_distance(X,Y):\n",
    "    M_X = moment(X, moment=3) # central moment\n",
    "    M_Y = moment(Y, moment=3)\n",
    "    dist = abs(M_X - M_Y)\n",
    "    return dist"
   ]
  },
  {
   "cell_type": "code",
   "execution_count": 468,
   "id": "838795ea",
   "metadata": {},
   "outputs": [],
   "source": [
    "# 1-Wasserstein metric between empirical distributions\n",
    "\n",
    "def wasserstein_dist(X1,X2):\n",
    "    p1 = X1.shape[1]\n",
    "    p2 = X2.shape[1]\n",
    "    D = np.zeros((p1,p2))\n",
    "    for i in range(p1):\n",
    "        for j in range(p2):\n",
    "            D[i,j] = wasserstein_distance(X1[:,i],X2[:,j]) \n",
    "    return D\n",
    "\n",
    "\n",
    "def wasserstein_dist_signed(X1,X2):\n",
    "    p1 = X1.shape[1]\n",
    "    p2 = X2.shape[1]\n",
    "    D_large = np.zeros((p1,2*p2))\n",
    "    X2_large = np.concatenate((X2,-X2),axis=1)\n",
    "    for i in range(p1):\n",
    "        for j in range(2*p2):\n",
    "            D_large[i,j] = wasserstein_distance(X1[:,i],X2_large[:,j]) \n",
    "    D = np.zeros((p1,p2))\n",
    "    for i in range(p2):\n",
    "        D[:,i] = D_large[:,[i,i+p2]].min(axis=1)\n",
    "    return D"
   ]
  },
  {
   "cell_type": "code",
   "execution_count": 469,
   "id": "783384ac",
   "metadata": {},
   "outputs": [],
   "source": [
    "def minimum_matching(D, A=10):\n",
    "    p1, p2 = D.shape\n",
    "    threshold = A * D.min()\n",
    "    matching = {}\n",
    "    for i in range(p1):\n",
    "        row_argmin = D[i,:].argmin()\n",
    "        row_min = D[i,:].min()\n",
    "        if (D[:,row_argmin].argmin() == i) and (row_min < threshold):\n",
    "            matching[i] = row_argmin\n",
    "    return matching"
   ]
  },
  {
   "cell_type": "code",
   "execution_count": 470,
   "id": "6d8687f4",
   "metadata": {},
   "outputs": [
    {
     "data": {
      "text/plain": [
       "array([[0.238, 0.377, 0.024, 0.15 , 0.25 ],\n",
       "       [0.311, 0.204, 0.527, 0.4  , 0.388],\n",
       "       [0.143, 0.028, 0.361, 0.229, 0.285],\n",
       "       [0.166, 0.302, 0.242, 0.16 , 0.022],\n",
       "       [0.042, 0.122, 0.267, 0.131, 0.184]])"
      ]
     },
     "execution_count": 470,
     "metadata": {},
     "output_type": "execute_result"
    }
   ],
   "source": [
    "D12 = wasserstein_dist_signed(eps1,eps2)\n",
    "D12.round(3)"
   ]
  },
  {
   "cell_type": "code",
   "execution_count": 471,
   "id": "c49b2d1a",
   "metadata": {},
   "outputs": [
    {
     "data": {
      "text/plain": [
       "{0: 2, 2: 1, 3: 4, 4: 0}"
      ]
     },
     "execution_count": 471,
     "metadata": {},
     "output_type": "execute_result"
    }
   ],
   "source": [
    "minimum_matching(D12)"
   ]
  },
  {
   "cell_type": "code",
   "execution_count": 472,
   "id": "c76a045e",
   "metadata": {},
   "outputs": [
    {
     "data": {
      "text/plain": [
       "array([[0.015, 0.236, 0.347, 0.245, 0.247],\n",
       "       [0.539, 0.32 , 0.236, 0.305, 0.379],\n",
       "       [0.375, 0.134, 0.026, 0.14 , 0.273],\n",
       "       [0.257, 0.195, 0.283, 0.164, 0.026],\n",
       "       [0.281, 0.05 , 0.099, 0.038, 0.172]])"
      ]
     },
     "execution_count": 472,
     "metadata": {},
     "output_type": "execute_result"
    }
   ],
   "source": [
    "D13 = wasserstein_dist_signed(eps1,eps3)\n",
    "D13.round(3)"
   ]
  },
  {
   "cell_type": "code",
   "execution_count": 473,
   "id": "bb021eb1",
   "metadata": {},
   "outputs": [
    {
     "data": {
      "text/plain": [
       "{0: 0, 2: 2, 3: 4, 4: 3}"
      ]
     },
     "execution_count": 473,
     "metadata": {},
     "output_type": "execute_result"
    }
   ],
   "source": [
    "minimum_matching(D13)"
   ]
  },
  {
   "cell_type": "code",
   "execution_count": 474,
   "id": "922fa9b3",
   "metadata": {},
   "outputs": [
    {
     "data": {
      "text/plain": [
       "array([[0.243, 0.039, 0.131, 0.015, 0.148],\n",
       "       [0.386, 0.145, 0.039, 0.152, 0.288],\n",
       "       [0.021, 0.23 , 0.343, 0.235, 0.23 ],\n",
       "       [0.153, 0.095, 0.21 , 0.099, 0.142],\n",
       "       [0.248, 0.187, 0.28 , 0.158, 0.017]])"
      ]
     },
     "execution_count": 474,
     "metadata": {},
     "output_type": "execute_result"
    }
   ],
   "source": [
    "D23 = wasserstein_dist_signed(eps2,eps3)\n",
    "D23.round(3)"
   ]
  },
  {
   "cell_type": "code",
   "execution_count": 475,
   "id": "a894c8cb",
   "metadata": {},
   "outputs": [
    {
     "data": {
      "text/plain": [
       "{0: 3, 1: 2, 2: 0, 4: 4}"
      ]
     },
     "execution_count": 475,
     "metadata": {},
     "output_type": "execute_result"
    }
   ],
   "source": [
    "minimum_matching(D23)"
   ]
  },
  {
   "cell_type": "code",
   "execution_count": 476,
   "id": "78a94e06",
   "metadata": {},
   "outputs": [],
   "source": [
    "# Definition of a joint factor:\n",
    "# A collection of distributions of size |E| such that \n",
    "# - all distibutions within that joint factor match"
   ]
  },
  {
   "cell_type": "code",
   "execution_count": 477,
   "id": "13d8e6aa",
   "metadata": {},
   "outputs": [],
   "source": [
    "def is_consistent(f, matchings):\n",
    "    for i in range(len(f)):\n",
    "        for j in range(i+1, len(f)):\n",
    "            if f[i] not in list(matchings[str(i)+str(j)].keys()):\n",
    "                return False\n",
    "            if matchings[str(i)+str(j)][f[i]] != f[j]:\n",
    "                return False\n",
    "    return True\n",
    "\n",
    "\n",
    "\n",
    "def get_joint_factors(indep_comps):\n",
    "    \n",
    "    nr_env = len(indep_comps)\n",
    "    \n",
    "    matchings = {}\n",
    "    for i in range(nr_env):\n",
    "        for j in range(i+1, nr_env):\n",
    "            D = wasserstein_dist_signed(indep_comps[i],indep_comps[j])\n",
    "            matchings[str(i)+str(j)] = minimum_matching(D)\n",
    "    \n",
    "    # Define potential factors\n",
    "    pot_factors = [[i] for i in list(matchings['01'].keys())] \n",
    "    for f in pot_factors:\n",
    "        for i in range(1,nr_env):\n",
    "            if f[0] not in list(matchings['0'+str(i)].keys()):\n",
    "                continue\n",
    "            else:\n",
    "                f.append(matchings['0'+str(i)][f[0]])\n",
    "    pot_factors = [f for f in pot_factors if len(f)==nr_env]\n",
    "    \n",
    "    # Only keep consistent factors\n",
    "    factors = [f for f in pot_factors if is_consistent(f, matchings)]\n",
    "    \n",
    "    return(factors)"
   ]
  },
  {
   "cell_type": "code",
   "execution_count": 478,
   "id": "673d3c53",
   "metadata": {},
   "outputs": [
    {
     "data": {
      "text/plain": [
       "[[0, 2, 0], [2, 1, 2], [3, 4, 4], [4, 0, 3]]"
      ]
     },
     "execution_count": 478,
     "metadata": {},
     "output_type": "execute_result"
    }
   ],
   "source": [
    "joint_factors = get_joint_factors(indep_comps)\n",
    "joint_factors\n",
    "\n",
    "# Interpretation:\n",
    "# We match the following recovered components:\n",
    "# component 0 of domain 1 WITH component 0 of domain 2 WITH component 2 of domain 3"
   ]
  },
  {
   "cell_type": "markdown",
   "id": "643e0091",
   "metadata": {},
   "source": [
    "### Recover joint mixing matrix"
   ]
  },
  {
   "cell_type": "code",
   "execution_count": 479,
   "id": "0aefd1c4",
   "metadata": {},
   "outputs": [],
   "source": [
    "def matching_sign(distr1, distr2):\n",
    "        normal_dist = wasserstein_distance(distr1,distr2) \n",
    "        flipped_dist = wasserstein_distance(distr1,-distr2)\n",
    "        if normal_dist <= flipped_dist:\n",
    "            return 1\n",
    "        else:\n",
    "            return -1 "
   ]
  },
  {
   "cell_type": "code",
   "execution_count": 480,
   "id": "a38839ed",
   "metadata": {},
   "outputs": [],
   "source": [
    "def add_signs_to_factor(f, indep_comps):\n",
    "    \n",
    "    signs = [1]\n",
    "    \n",
    "    for i in range(1,len(f)):\n",
    "        signs.append(matching_sign(indep_comps[0][:,f[0]], indep_comps[i][:,f[i]]))\n",
    "         \n",
    "    return signs"
   ]
  },
  {
   "cell_type": "code",
   "execution_count": 481,
   "id": "7baa8e23",
   "metadata": {},
   "outputs": [
    {
     "data": {
      "text/plain": [
       "[[1, -1, 1], [1, 1, 1], [1, 1, -1], [1, -1, 1]]"
      ]
     },
     "execution_count": 481,
     "metadata": {},
     "output_type": "execute_result"
    }
   ],
   "source": [
    "joint_factor_signs = [add_signs_to_factor(f, indep_comps) for f in joint_factors]\n",
    "joint_factor_signs"
   ]
  },
  {
   "cell_type": "code",
   "execution_count": 482,
   "id": "7388c099",
   "metadata": {},
   "outputs": [],
   "source": [
    "def joint_mixing_matrix(mixings, joint_factors, joint_factor_signs):\n",
    "    \n",
    "    nr_env = len(mixings)\n",
    "    nr_joint = len(joint_factors)\n",
    "    total_nr_obs = sum([M.shape[0] for M in mixings])\n",
    "    total_nr_lat = sum([M.shape[1]-nr_joint for M in mixings]) + nr_joint\n",
    "    M_large = np.zeros((total_nr_obs, total_nr_lat))\n",
    "    \n",
    "    # Joint columns\n",
    "    for i,f in enumerate(joint_factors):\n",
    "        current_row = 0\n",
    "        for env in range(nr_env):\n",
    "            col = joint_factor_signs[i][env] * mixings[env][:,f[env]]\n",
    "            M_large[np.ix_(np.arange(current_row,(current_row+len(col))),np.array([i]))] \\\n",
    "            = col.reshape((len(col),1))\n",
    "            current_row = current_row + len(col)\n",
    "    \n",
    "    # Domain-specific columns\n",
    "    current_col = len(joint_factors)\n",
    "    current_row = 0\n",
    "    for env in range(nr_env):\n",
    "        M = mixings[env]\n",
    "        nrows, ncols = M.shape\n",
    "        joint_cols = [f[env] for f in joint_factors]\n",
    "        domain_spec_cols = set(np.arange(ncols)) - set(joint_cols)\n",
    "        for i, col in enumerate(domain_spec_cols):\n",
    "            M_large[np.ix_(np.arange(current_row,(current_row+nrows)),np.array([current_col+i]))] \\\n",
    "            = M[:,col].reshape((nrows,1))\n",
    "        current_col = current_col + len(domain_spec_cols)\n",
    "        current_row = current_row + nrows\n",
    "    return(M_large)"
   ]
  },
  {
   "cell_type": "code",
   "execution_count": 483,
   "id": "90cf2a50",
   "metadata": {},
   "outputs": [
    {
     "data": {
      "text/plain": [
       "array([[ 1.22,  1.29,  2.06, -0.02,  1.4 ,  0.  ,  0.  ],\n",
       "       [-0.46,  0.94,  0.2 ,  0.51,  1.31,  0.  ,  0.  ],\n",
       "       [ 1.98, -1.98, -0.79, -0.24, -0.55,  0.  ,  0.  ],\n",
       "       [ 1.81, -1.13, -2.22, -1.19, -1.43,  0.  ,  0.  ],\n",
       "       [-1.84,  0.5 ,  0.54,  0.28, -0.68,  0.  ,  0.  ],\n",
       "       [ 0.64, -1.06, -0.28, -0.18, -0.66,  0.  ,  0.  ],\n",
       "       [ 1.49,  1.16,  1.08,  1.2 ,  0.32,  0.  ,  0.  ],\n",
       "       [ 1.06, -0.82,  0.06,  1.8 , -0.1 ,  0.  ,  0.  ],\n",
       "       [-0.87,  0.12,  0.5 ,  0.74,  1.45,  0.  ,  0.  ],\n",
       "       [ 0.11,  1.53, -0.03, -0.36,  0.66,  0.  ,  0.  ],\n",
       "       [ 1.2 ,  0.24,  0.37,  2.12,  0.39,  0.  ,  0.  ],\n",
       "       [ 2.89,  0.06, -0.89,  1.81, -0.37,  0.  ,  0.  ],\n",
       "       [ 0.39,  0.06, -0.67,  0.53,  1.02,  0.  ,  0.  ],\n",
       "       [ 0.99, -0.63,  0.18, -1.9 ,  0.  , -0.4 ,  0.  ],\n",
       "       [-0.01, -0.42, -1.57, -1.25,  0.  , -0.08,  0.  ],\n",
       "       [ 0.39,  1.58,  1.58, -0.1 ,  0.  ,  0.35,  0.  ],\n",
       "       [-1.15, -0.52, -0.87, -1.61,  0.  , -0.04,  0.  ],\n",
       "       [-0.91,  0.9 , -1.11, -0.59,  0.  , -0.39,  0.  ],\n",
       "       [-1.78,  0.23,  1.82, -0.04,  0.  , -0.92,  0.  ],\n",
       "       [-0.89,  0.4 ,  0.73,  0.73,  0.  ,  0.24,  0.  ],\n",
       "       [ 1.23, -1.72,  0.31,  1.24,  0.  , -0.67,  0.  ],\n",
       "       [ 1.18, -0.3 , -1.92,  1.32,  0.  ,  0.13,  0.  ],\n",
       "       [-0.25, -0.78, -0.14,  1.17,  0.  ,  1.3 ,  0.  ],\n",
       "       [-0.19, -2.64, -0.64,  0.89,  0.  , -2.14,  0.  ],\n",
       "       [-0.89, -1.13, -1.37,  1.18,  0.  , -0.18,  0.  ],\n",
       "       [ 0.7 , -2.03,  0.6 , -1.64,  0.  , -0.04,  0.  ],\n",
       "       [-0.2 , -1.5 , -1.12,  0.15,  0.  , -0.04,  0.  ],\n",
       "       [-0.36, -0.16, -0.48,  0.12,  0.  ,  0.  ,  0.91],\n",
       "       [ 1.09,  0.59, -0.15,  0.59,  0.  ,  0.  ,  1.37],\n",
       "       [-0.41,  0.69,  0.09, -0.48,  0.  ,  0.  , -0.27],\n",
       "       [-0.34, -1.29,  1.9 , -0.22,  0.  ,  0.  , -0.6 ],\n",
       "       [ 1.07, -0.83,  0.87, -1.98,  0.  ,  0.  ,  0.9 ],\n",
       "       [-0.52, -0.56,  0.18,  1.85,  0.  ,  0.  , -0.67],\n",
       "       [ 0.81,  0.07, -0.72, -0.61,  0.  ,  0.  , -0.1 ],\n",
       "       [-0.88, -0.08, -1.05,  0.09,  0.  ,  0.  , -0.6 ],\n",
       "       [-1.65, -0.39,  2.2 ,  0.77,  0.  ,  0.  , -1.31],\n",
       "       [ 1.05,  0.86, -0.87, -0.2 ,  0.  ,  0.  , -0.72],\n",
       "       [-2.06, -0.04, -1.95, -1.81,  0.  ,  0.  , -0.61],\n",
       "       [ 1.74, -0.59, -0.83, -0.81,  0.  ,  0.  , -0.21],\n",
       "       [-0.05, -0.05, -0.67,  0.88,  0.  ,  0.  ,  0.65],\n",
       "       [ 0.22, -0.35, -1.04,  1.17,  0.  ,  0.  ,  0.7 ],\n",
       "       [ 0.89,  0.88,  0.81,  0.36,  0.  ,  0.  ,  0.21]])"
      ]
     },
     "execution_count": 483,
     "metadata": {},
     "output_type": "execute_result"
    }
   ],
   "source": [
    "B = joint_mixing_matrix(mixings, joint_factors, joint_factor_signs).round(2)\n",
    "B"
   ]
  },
  {
   "cell_type": "markdown",
   "id": "25745209",
   "metadata": {},
   "source": [
    "For comparison:"
   ]
  },
  {
   "cell_type": "code",
   "execution_count": 319,
   "id": "120f2df5",
   "metadata": {},
   "outputs": [
    {
     "data": {
      "text/plain": [
       "array([[-0.08802427,  0.54975488,  1.56144885],\n",
       "       [-1.14346016,  0.7338579 ,  1.09507609],\n",
       "       [-2.3209222 ,  0.05205289, -1.29016886],\n",
       "       [ 0.20974025, -0.56279297,  1.26114224],\n",
       "       [ 0.36027105, -0.97185402, -2.08008809],\n",
       "       [ 1.40795859, -1.0010028 , -0.35412515],\n",
       "       [ 0.94770965, -0.48934807, -1.04120748],\n",
       "       [ 1.81974903,  0.07609307,  1.3791846 ],\n",
       "       [ 0.84156477, -0.44670537, -0.01246162],\n",
       "       [-1.42680821,  1.76662127, -0.63434487]])"
      ]
     },
     "execution_count": 319,
     "metadata": {},
     "output_type": "execute_result"
    }
   ],
   "source": [
    "G1"
   ]
  },
  {
   "cell_type": "code",
   "execution_count": 320,
   "id": "547b5b52",
   "metadata": {},
   "outputs": [
    {
     "data": {
      "text/plain": [
       "array([[-0.03638362, -0.55625347, -0.88373317],\n",
       "       [-0.69806032, -0.06706223,  1.72787208],\n",
       "       [-0.63079019,  0.1253175 ,  1.40459755],\n",
       "       [ 0.26432577, -0.60398195,  0.53159399],\n",
       "       [-1.66907146, -0.50478864,  1.41121831],\n",
       "       [-0.37517811, -1.98624393, -0.42068639],\n",
       "       [ 1.85196126, -0.18859966,  1.1890625 ],\n",
       "       [-1.49676081,  0.742188  ,  1.2885614 ],\n",
       "       [ 2.03524911, -1.39380848, -1.03857415],\n",
       "       [-0.43672376,  0.59466036, -0.21653801],\n",
       "       [ 2.11086819, -0.4178017 , -0.23867954]])"
      ]
     },
     "execution_count": 320,
     "metadata": {},
     "output_type": "execute_result"
    }
   ],
   "source": [
    "G2"
   ]
  },
  {
   "cell_type": "code",
   "execution_count": 321,
   "id": "e9b2366c",
   "metadata": {},
   "outputs": [
    {
     "data": {
      "text/plain": [
       "array([[-2.09602064, -1.49328962, -0.60713368],\n",
       "       [ 1.30390482, -0.13947422,  0.09725503],\n",
       "       [-1.03548373, -1.56064582, -1.10359693],\n",
       "       [ 1.86886021, -0.34338161,  0.05921098],\n",
       "       [ 0.42077215, -1.61601837, -0.01228163],\n",
       "       [ 0.42814389, -1.53058755, -0.85976609],\n",
       "       [ 0.68354203, -1.23025766, -0.55553644],\n",
       "       [ 0.88064332, -0.97186566,  1.18505868],\n",
       "       [ 2.22206398,  0.08110562,  0.67741021],\n",
       "       [ 0.20542827, -2.35725488,  0.47772047],\n",
       "       [-2.76034176, -1.47594367,  0.24346942],\n",
       "       [-0.0281684 , -0.65912343, -1.22960131]])"
      ]
     },
     "execution_count": 321,
     "metadata": {},
     "output_type": "execute_result"
    }
   ],
   "source": [
    "G3"
   ]
  },
  {
   "cell_type": "code",
   "execution_count": 322,
   "id": "c0f479d8",
   "metadata": {},
   "outputs": [
    {
     "data": {
      "text/plain": [
       "array([[-0.11,  1.56,  0.57],\n",
       "       [-1.15,  1.1 ,  0.81],\n",
       "       [-2.27, -1.26,  0.18],\n",
       "       [ 0.18,  1.29, -0.56],\n",
       "       [ 0.39, -2.08, -1.01],\n",
       "       [ 1.39, -0.35, -1.08],\n",
       "       [ 0.95, -1.05, -0.55],\n",
       "       [ 1.77,  1.36, -0.02],\n",
       "       [ 0.83, -0.01, -0.5 ],\n",
       "       [-1.39, -0.67,  1.84]])"
      ]
     },
     "execution_count": 322,
     "metadata": {},
     "output_type": "execute_result"
    }
   ],
   "source": [
    "mixing1.round(2)"
   ]
  },
  {
   "cell_type": "code",
   "execution_count": 323,
   "id": "46dd959b",
   "metadata": {},
   "outputs": [
    {
     "data": {
      "text/plain": [
       "array([[-0.56,  0.02, -0.87],\n",
       "       [ 0.04, -0.81,  1.68],\n",
       "       [ 0.2 , -0.72,  1.35],\n",
       "       [-0.54,  0.24,  0.56],\n",
       "       [-0.37, -1.76,  1.31],\n",
       "       [-1.86, -0.34, -0.39],\n",
       "       [-0.14,  1.79,  1.3 ],\n",
       "       [ 0.78, -1.59,  1.17],\n",
       "       [-1.39,  2.11, -0.87],\n",
       "       [ 0.55, -0.43, -0.26],\n",
       "       [-0.44,  2.13, -0.1 ]])"
      ]
     },
     "execution_count": 323,
     "metadata": {},
     "output_type": "execute_result"
    }
   ],
   "source": [
    "mixing2.round(2)"
   ]
  },
  {
   "cell_type": "code",
   "execution_count": 324,
   "id": "e81728f2",
   "metadata": {},
   "outputs": [
    {
     "data": {
      "text/plain": [
       "array([[-1.55,  0.44, -2.12],\n",
       "       [-0.15, -0.09,  1.29],\n",
       "       [-1.66,  0.97, -1.09],\n",
       "       [-0.36, -0.06,  1.85],\n",
       "       [-1.65, -0.14,  0.41],\n",
       "       [-1.63,  0.75,  0.37],\n",
       "       [-1.3 ,  0.47,  0.64],\n",
       "       [-0.91, -1.31,  0.93],\n",
       "       [ 0.11, -0.65,  2.24],\n",
       "       [-2.37, -0.72,  0.22],\n",
       "       [-1.46, -0.45, -2.73],\n",
       "       [-0.76,  1.21, -0.1 ]])"
      ]
     },
     "execution_count": 324,
     "metadata": {},
     "output_type": "execute_result"
    }
   ],
   "source": [
    "mixing3.round(2)"
   ]
  },
  {
   "cell_type": "markdown",
   "id": "1e7d9e4d",
   "metadata": {},
   "source": [
    "Notes: \n",
    "Could sample from \"empirical joint distribution\" now:\n",
    "- Have empirical distribution of each independent component (merge the ones for the joint components).\n",
    "- Sample from the empirical distributions.\n",
    "- Using the joint mixing matrix, this produces samples of the joint distribution.\n",
    "\n",
    "Using the joint mixing matrix we can also transport observations in one domain to another."
   ]
  },
  {
   "cell_type": "code",
   "execution_count": 325,
   "id": "cb623693",
   "metadata": {},
   "outputs": [
    {
     "data": {
      "text/plain": [
       "array([[-0.11      ,  0.57      ,  1.56      ,  0.        ,  0.        ],\n",
       "       [-0.05604965,  0.66153732,  1.76996139, -0.22856013, -0.19441769]])"
      ]
     },
     "execution_count": 325,
     "metadata": {},
     "output_type": "execute_result"
    }
   ],
   "source": [
    "A = B[[0,0],:]\n",
    "A[1,:] = A[1,:] + np.random.normal(loc=0, scale=0.1, size=A.shape[1])\n",
    "A"
   ]
  },
  {
   "cell_type": "code",
   "execution_count": 326,
   "id": "346a4fcf",
   "metadata": {},
   "outputs": [
    {
     "data": {
      "text/plain": [
       "0.2028901199124766"
      ]
     },
     "execution_count": 326,
     "metadata": {},
     "output_type": "execute_result"
    }
   ],
   "source": [
    "u, s, vh = np.linalg.svd(A, full_matrices=True)\n",
    "min(s)"
   ]
  },
  {
   "cell_type": "code",
   "execution_count": 327,
   "id": "74ad7e77",
   "metadata": {},
   "outputs": [
    {
     "data": {
      "text/plain": [
       "array([[ 0.65552077, -0.75517714],\n",
       "       [ 0.75517714,  0.65552077]])"
      ]
     },
     "execution_count": 327,
     "metadata": {},
     "output_type": "execute_result"
    }
   ],
   "source": [
    "u"
   ]
  },
  {
   "cell_type": "code",
   "execution_count": 328,
   "id": "d1818bd3",
   "metadata": {},
   "outputs": [
    {
     "data": {
      "text/plain": [
       "array([2.52844024, 0.20289012])"
      ]
     },
     "execution_count": 328,
     "metadata": {},
     "output_type": "execute_result"
    }
   ],
   "source": [
    "s"
   ]
  },
  {
   "cell_type": "code",
   "execution_count": 250,
   "id": "e395d768",
   "metadata": {},
   "outputs": [
    {
     "data": {
      "text/plain": [
       "array([[ 0.76218771, -0.05542925,  0.64202558, -0.02833951,  0.0547497 ],\n",
       "       [ 0.09814698, -0.36983293, -0.23426252, -0.41082611,  0.79368366],\n",
       "       [-0.63500271, -0.23501944,  0.71812723, -0.07388072,  0.14273173],\n",
       "       [ 0.03622103, -0.41241889, -0.06031818,  0.87623719,  0.2391    ],\n",
       "       [-0.06997617,  0.79676077,  0.11652996,  0.2391    ,  0.53807766]])"
      ]
     },
     "execution_count": 250,
     "metadata": {},
     "output_type": "execute_result"
    }
   ],
   "source": [
    "vh"
   ]
  },
  {
   "cell_type": "code",
   "execution_count": null,
   "id": "eb4545e2",
   "metadata": {},
   "outputs": [],
   "source": []
  }
 ],
 "metadata": {
  "kernelspec": {
   "display_name": "Python 3 (ipykernel)",
   "language": "python",
   "name": "python3"
  },
  "language_info": {
   "codemirror_mode": {
    "name": "ipython",
    "version": 3
   },
   "file_extension": ".py",
   "mimetype": "text/x-python",
   "name": "python",
   "nbconvert_exporter": "python",
   "pygments_lexer": "ipython3",
   "version": "3.9.12"
  }
 },
 "nbformat": 4,
 "nbformat_minor": 5
}
