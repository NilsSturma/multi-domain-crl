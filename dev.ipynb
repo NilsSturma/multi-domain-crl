{
 "cells": [
  {
   "cell_type": "code",
   "execution_count": 1,
   "id": "f4a0ee16",
   "metadata": {},
   "outputs": [],
   "source": [
    "import numpy as np\n",
    "from scipy.stats import uniform, expon, lognorm, weibull_min, chi2, t, gumbel_r\n",
    "\n",
    "from src.learner import LinearMDCRL\n",
    "from experiments.rand import rand_model\n",
    "from experiments.utils import plot_hist_noise"
   ]
  },
  {
   "cell_type": "markdown",
   "id": "7084501d",
   "metadata": {},
   "source": [
    "## Create synthetic data"
   ]
  },
  {
   "cell_type": "code",
   "execution_count": 58,
   "id": "272348d6",
   "metadata": {},
   "outputs": [],
   "source": [
    "model_specs = {\n",
    "    \"nr_doms\": 3,\n",
    "    \"joint_idx\": [0,1,2,3],\n",
    "    \"domain_spec_idx\": [[4],[5],[6]],\n",
    "    \"noise_rvs\": [uniform(), expon(scale=0.1), t(df=5), gumbel_r, \n",
    "                  lognorm(s=1), weibull_min(c=2), chi2(df=6)],\n",
    "    \"sample_sizes\":  [5000, 5000, 5000],\n",
    "    \"dims\": [13,14,15],\n",
    "    \"graph_density\": 0.75,\n",
    "    \"mixing_density\": 0.9,\n",
    "    \"mixing_distribution\": 'unif',  # unif or normal\n",
    "    \"indep_domain_spec\": True\n",
    "}"
   ]
  },
  {
   "cell_type": "code",
   "execution_count": 59,
   "id": "24c2e6a2",
   "metadata": {},
   "outputs": [],
   "source": [
    "data, g, B_large = rand_model(model_specs)\n",
    "# Can we plot g with causaldag?"
   ]
  },
  {
   "cell_type": "markdown",
   "id": "86a9a793",
   "metadata": {},
   "source": [
    "## Fit model"
   ]
  },
  {
   "cell_type": "code",
   "execution_count": 60,
   "id": "6bd87d92",
   "metadata": {},
   "outputs": [],
   "source": [
    "model = LinearMDCRL()\n",
    "model.fit(data)\n",
    "\n",
    "#plot_hist_noise(model.indep_comps)"
   ]
  },
  {
   "cell_type": "code",
   "execution_count": 61,
   "id": "42907705",
   "metadata": {},
   "outputs": [
    {
     "data": {
      "text/plain": [
       "[[1, 0, 0], [2, 3, 4], [3, 4, 3], [4, 1, 1]]"
      ]
     },
     "execution_count": 61,
     "metadata": {},
     "output_type": "execute_result"
    }
   ],
   "source": [
    "model.joint_factors"
   ]
  },
  {
   "cell_type": "code",
   "execution_count": 62,
   "id": "f60cb94e",
   "metadata": {},
   "outputs": [
    {
     "data": {
      "text/plain": [
       "(42, 7)"
      ]
     },
     "execution_count": 62,
     "metadata": {},
     "output_type": "execute_result"
    }
   ],
   "source": [
    "model.joint_mixing.shape"
   ]
  },
  {
   "cell_type": "code",
   "execution_count": 63,
   "id": "37126091",
   "metadata": {
    "scrolled": true
   },
   "outputs": [
    {
     "data": {
      "text/plain": [
       "array([[ 0.37, -0.26, -0.85, -0.36,  0.  ,  0.  ,  0.  ],\n",
       "       [-0.  , -0.01,  0.67,  0.  , -0.01,  0.  ,  0.  ],\n",
       "       [ 0.01,  0.8 ,  0.06,  0.69, -0.85,  0.  ,  0.  ],\n",
       "       [ 0.  ,  0.01, -0.54,  0.56, -0.91,  0.  ,  0.  ],\n",
       "       [-0.01,  0.7 , -0.  ,  1.35,  0.91,  0.  ,  0.  ],\n",
       "       [-0.55,  0.74,  2.24, -0.74, -0.53,  0.  ,  0.  ],\n",
       "       [ 0.88, -0.28, -1.3 , -0.14, -0.42,  0.  ,  0.  ],\n",
       "       [ 0.68,  0.48,  0.78,  0.2 ,  0.3 ,  0.  ,  0.  ],\n",
       "       [-0.68,  0.01,  0.68, -0.48, -0.29,  0.  ,  0.  ],\n",
       "       [-0.81, -0.74,  0.52, -1.75, -0.61,  0.  ,  0.  ],\n",
       "       [-0.44,  0.57,  0.61, -0.54, -0.63,  0.  ,  0.  ],\n",
       "       [ 0.31, -0.75, -1.5 ,  0.06, -0.84,  0.  ,  0.  ],\n",
       "       [ 0.98, -0.87, -1.95,  0.88, -0.86,  0.  ,  0.  ],\n",
       "       [ 0.36, -0.49, -0.85,  0.89,  0.  ,  1.03,  0.  ],\n",
       "       [-0.59, -0.46,  0.53, -1.24,  0.  , -0.72,  0.  ],\n",
       "       [-0.95,  0.51,  0.6 ,  0.11,  0.  ,  0.76,  0.  ],\n",
       "       [ 0.08, -0.01,  0.73, -0.75,  0.  , -0.71,  0.  ],\n",
       "       [-0.74, -0.02,  0.84, -0.61,  0.  , -0.74,  0.  ],\n",
       "       [-0.66, -0.01,  1.37, -1.5 ,  0.  , -1.02,  0.  ],\n",
       "       [-0.02, -0.48, -0.02, -0.44,  0.  ,  0.78,  0.  ],\n",
       "       [-0.54,  0.39,  1.87, -0.41,  0.  , -0.04,  0.  ],\n",
       "       [ 0.01, -0.02, -0.83,  0.01,  0.  , -0.46,  0.  ],\n",
       "       [ 0.28,  0.63,  0.29,  0.77,  0.  ,  0.3 ,  0.  ],\n",
       "       [-0.08,  0.74, -0.6 ,  1.66,  0.  ,  0.04,  0.  ],\n",
       "       [ 0.27,  1.02,  0.55,  1.11,  0.  ,  0.79,  0.  ],\n",
       "       [-0.38, -0.28,  1.8 , -1.04,  0.  ,  0.77,  0.  ],\n",
       "       [-0.01, -0.49, -1.  ,  0.28,  0.  , -0.45,  0.  ],\n",
       "       [ 0.52, -0.02, -0.8 ,  0.01,  0.  ,  0.  ,  0.47],\n",
       "       [ 0.46, -0.53,  1.04, -0.9 ,  0.  ,  0.  ,  1.01],\n",
       "       [ 0.96, -0.42, -1.81,  0.28,  0.  ,  0.  , -0.39],\n",
       "       [-0.5 ,  0.62,  1.07, -0.73,  0.  ,  0.  , -0.64],\n",
       "       [ 0.  , -0.  ,  0.55,  0.34,  0.  ,  0.  ,  0.01],\n",
       "       [ 0.72, -0.74, -0.97, -0.89,  0.  ,  0.  ,  0.26],\n",
       "       [ 0.27,  0.82,  1.23,  0.39,  0.  ,  0.  , -0.65],\n",
       "       [-0.9 ,  0.61,  1.74, -0.09,  0.  ,  0.  , -0.46],\n",
       "       [ 0.01, -1.09, -1.5 ,  0.07,  0.  ,  0.  ,  0.84],\n",
       "       [-0.01,  0.33,  1.14, -0.51,  0.  ,  0.  , -0.52],\n",
       "       [-0.89,  0.91,  1.24, -0.13,  0.  ,  0.  ,  0.05],\n",
       "       [ 0.27,  0.53, -0.46,  0.22,  0.  ,  0.  ,  0.77],\n",
       "       [-0.77, -0.53,  0.59, -0.57,  0.  ,  0.  ,  0.02],\n",
       "       [ 0.82, -0.37, -2.19,  1.06,  0.  ,  0.  ,  0.91],\n",
       "       [ 0.89,  0.75, -2.65,  2.2 ,  0.  ,  0.  , -0.42]])"
      ]
     },
     "execution_count": 63,
     "metadata": {},
     "output_type": "execute_result"
    }
   ],
   "source": [
    "model.joint_mixing.round(2)"
   ]
  },
  {
   "cell_type": "code",
   "execution_count": 64,
   "id": "1c627616",
   "metadata": {
    "scrolled": true
   },
   "outputs": [
    {
     "data": {
      "text/plain": [
       "array([[-0.85, -0.36,  0.27,  0.37,  0.  ,  0.  ,  0.  ],\n",
       "       [ 0.68,  0.  ,  0.  ,  0.  ,  0.  ,  0.  ,  0.  ],\n",
       "       [ 0.06,  0.67, -0.79,  0.  , -0.83,  0.  ,  0.  ],\n",
       "       [-0.53,  0.55,  0.  ,  0.  , -0.9 ,  0.  ,  0.  ],\n",
       "       [-0.01,  1.35, -0.72,  0.  ,  0.86,  0.  ,  0.  ],\n",
       "       [ 2.23, -0.75, -0.73, -0.56, -0.46,  0.  ,  0.  ],\n",
       "       [-1.29, -0.14,  0.28,  0.87, -0.42,  0.  ,  0.  ],\n",
       "       [ 0.78,  0.19, -0.5 ,  0.68,  0.3 ,  0.  ,  0.  ],\n",
       "       [ 0.68, -0.48,  0.  , -0.68, -0.26,  0.  ,  0.  ],\n",
       "       [ 0.52, -1.73,  0.77, -0.81, -0.55,  0.  ,  0.  ],\n",
       "       [ 0.59, -0.55, -0.55, -0.45, -0.59,  0.  ,  0.  ],\n",
       "       [-1.47,  0.06,  0.76,  0.3 , -0.84,  0.  ,  0.  ],\n",
       "       [-1.91,  0.87,  0.86,  0.98, -0.88,  0.  ,  0.  ],\n",
       "       [-0.84,  0.88,  0.49,  0.47,  0.  , -0.97,  0.  ],\n",
       "       [ 0.51, -1.21,  0.44, -0.69,  0.  ,  0.63,  0.  ],\n",
       "       [ 0.58,  0.14, -0.48, -0.93,  0.  , -0.82,  0.  ],\n",
       "       [ 0.73, -0.75,  0.  ,  0.  ,  0.  ,  0.69,  0.  ],\n",
       "       [ 0.82, -0.58,  0.  , -0.83,  0.  ,  0.66,  0.  ],\n",
       "       [ 1.34, -1.46,  0.  , -0.8 ,  0.  ,  0.92,  0.  ],\n",
       "       [-0.03, -0.42,  0.49,  0.  ,  0.  , -0.78,  0.  ],\n",
       "       [ 1.85, -0.39, -0.37, -0.6 ,  0.  ,  0.  ,  0.  ],\n",
       "       [-0.83,  0.  ,  0.  ,  0.  ,  0.  ,  0.45,  0.  ],\n",
       "       [ 0.3 ,  0.74, -0.61,  0.32,  0.  , -0.26,  0.  ],\n",
       "       [-0.58,  1.62, -0.74,  0.  ,  0.  ,  0.  ,  0.  ],\n",
       "       [ 0.56,  1.07, -0.98,  0.34,  0.  , -0.74,  0.  ],\n",
       "       [ 1.77, -0.99,  0.32, -0.41,  0.  , -0.81,  0.  ],\n",
       "       [-0.99,  0.28,  0.45,  0.  ,  0.  ,  0.45,  0.  ],\n",
       "       [-0.8 ,  0.04,  0.  ,  0.52,  0.  ,  0.  ,  0.5 ],\n",
       "       [ 1.03, -0.88,  0.52,  0.45,  0.  ,  0.  ,  0.99],\n",
       "       [-1.81,  0.35,  0.39,  0.97,  0.  ,  0.  , -0.33],\n",
       "       [ 1.06, -0.78, -0.54, -0.49,  0.  ,  0.  , -0.69],\n",
       "       [ 0.55,  0.33,  0.  ,  0.  ,  0.  ,  0.  ,  0.  ],\n",
       "       [-0.98, -0.82,  0.71,  0.73,  0.  ,  0.  ,  0.29],\n",
       "       [ 1.21,  0.35, -0.75,  0.28,  0.  ,  0.  , -0.68],\n",
       "       [ 1.73, -0.17, -0.55, -0.9 ,  0.  ,  0.  , -0.52],\n",
       "       [-1.48,  0.13,  0.98,  0.  ,  0.  ,  0.  ,  0.89],\n",
       "       [ 1.12, -0.53, -0.27,  0.  ,  0.  ,  0.  , -0.56],\n",
       "       [ 1.24, -0.2 , -0.86, -0.89,  0.  ,  0.  ,  0.  ],\n",
       "       [-0.46,  0.21, -0.53,  0.26,  0.  ,  0.  ,  0.78],\n",
       "       [ 0.59, -0.58,  0.52, -0.77,  0.  ,  0.  ,  0.  ],\n",
       "       [-2.17,  1.11,  0.27,  0.81,  0.  ,  0.  ,  0.99],\n",
       "       [-2.62,  2.21, -0.78,  0.89,  0.  ,  0.  , -0.34]])"
      ]
     },
     "execution_count": 64,
     "metadata": {},
     "output_type": "execute_result"
    }
   ],
   "source": [
    "B_large.round(2)"
   ]
  },
  {
   "cell_type": "markdown",
   "id": "6f3e9376",
   "metadata": {},
   "source": [
    "## Recover graph (in infinite data limit)"
   ]
  },
  {
   "cell_type": "code",
   "execution_count": 65,
   "id": "d9b539c4",
   "metadata": {},
   "outputs": [],
   "source": [
    "B = B_large[:,:4]\n",
    "B = B[:,[2,0,3,1]]  # add a permutation"
   ]
  },
  {
   "cell_type": "code",
   "execution_count": 66,
   "id": "177b0188",
   "metadata": {},
   "outputs": [],
   "source": [
    "def get_row_ranks(matrix):\n",
    "    d = matrix.shape[0]\n",
    "    R = np.zeros((d,d))\n",
    "    for i in range(d):\n",
    "        for j in range(i+1,d):\n",
    "            R[i,j] = np.linalg.matrix_rank(matrix[[i,j],:])\n",
    "    return R"
   ]
  },
  {
   "cell_type": "code",
   "execution_count": 67,
   "id": "7a4fa75e",
   "metadata": {},
   "outputs": [
    {
     "data": {
      "text/plain": [
       "array([[ 0.        ,  0.6763524 ,  0.        ,  0.        ],\n",
       "       [-0.79331175,  0.05577118,  0.        ,  0.6699705 ],\n",
       "       [ 0.        , -0.53428523,  0.        ,  0.54870805],\n",
       "       [ 0.        ,  0.67546024, -0.68068828, -0.47825125]])"
      ]
     },
     "execution_count": 67,
     "metadata": {},
     "output_type": "execute_result"
    }
   ],
   "source": [
    "# Find pure children of all (different) latent nodes\n",
    "R = get_row_ranks(B) \n",
    "pos_rows = np.unique(np.where(R==1)[0])\n",
    "\n",
    "# Remove duplicates\n",
    "to_remove_idx = np.where(get_row_ranks(B[pos_rows,:])==1)[1]\n",
    "mask = np.ones(len(pos_rows), dtype=bool)\n",
    "mask[to_remove_idx] = False\n",
    "pos_rows = pos_rows[mask]\n",
    "B = B[pos_rows,:]\n",
    "B"
   ]
  },
  {
   "cell_type": "code",
   "execution_count": 68,
   "id": "cf93f4a1",
   "metadata": {},
   "outputs": [],
   "source": [
    "# Remove permutation indetermancies of rows and columns\n",
    "def single_support_rows(matrix):\n",
    "    d, l = matrix.shape\n",
    "    row_ids = []\n",
    "    max_ids = []\n",
    "    for i in range(d):\n",
    "        m = np.abs(matrix[i,:]).argmax()\n",
    "        mask = np.ones(l, dtype=bool)\n",
    "        mask[m] = False\n",
    "        if np.sum(np.abs(matrix[i,mask])) == 0:\n",
    "            row_ids.append(i)\n",
    "            max_ids.append(m)\n",
    "    return row_ids, max_ids\n",
    "\n",
    "def search_order(matrix):\n",
    "    d = matrix.shape[0]\n",
    "    order_rows = []\n",
    "    order_cols = []\n",
    "    original_idx_rows = np.arange(d)  \n",
    "    original_idx_cols = np.arange(d)  \n",
    "    while 0 < matrix.shape[0]:\n",
    "        # Find rows with all but one element equal to zero\n",
    "        row_ids, max_ids = single_support_rows(matrix)\n",
    "        if len(row_ids) == 0:\n",
    "            break\n",
    "        target_row = row_ids[0]\n",
    "        target_col = max_ids[0]\n",
    "        # Append index to order\n",
    "        order_rows.append(original_idx_rows[target_row])\n",
    "        order_cols.append(original_idx_cols[target_col])\n",
    "        original_idx_rows = np.delete(original_idx_rows, target_row)\n",
    "        original_idx_cols = np.delete(original_idx_cols, target_col)\n",
    "        # Remove the row and the column from B\n",
    "        row_mask = np.delete(np.arange(matrix.shape[0]), target_row)\n",
    "        col_mask = np.delete(np.arange(matrix.shape[1]), target_col)\n",
    "        matrix = matrix[row_mask,:][:, col_mask]\n",
    "    if len(order_rows) != d:\n",
    "            return None, None\n",
    "    return order_rows, order_cols"
   ]
  },
  {
   "cell_type": "code",
   "execution_count": 69,
   "id": "f8962cdc",
   "metadata": {},
   "outputs": [],
   "source": [
    "order_rows, order_cols = search_order(B)\n",
    "if order_rows is not None:\n",
    "    B = B[order_rows, :][:, order_cols]"
   ]
  },
  {
   "cell_type": "code",
   "execution_count": 70,
   "id": "143d01ed",
   "metadata": {},
   "outputs": [
    {
     "data": {
      "text/plain": [
       "array([[ 0.  ,  0.  ,  0.  ,  0.  ],\n",
       "       [-0.97,  0.  ,  0.  ,  0.  ],\n",
       "       [-0.89, -0.84,  0.  ,  0.  ],\n",
       "       [-0.31,  0.7 ,  0.  ,  0.  ]])"
      ]
     },
     "execution_count": 70,
     "metadata": {},
     "output_type": "execute_result"
    }
   ],
   "source": [
    "# Remove scaling indetermancy and solve for A\n",
    "np.eye(B.shape[0]) - np.linalg.inv(np.matmul(np.diag(1/np.diag(B)), B)).round(2)"
   ]
  },
  {
   "cell_type": "code",
   "execution_count": 71,
   "id": "079ff199",
   "metadata": {},
   "outputs": [
    {
     "data": {
      "text/plain": [
       "array([[ 0.  ,  0.  ,  0.  ,  0.  ],\n",
       "       [-0.97,  0.  ,  0.  ,  0.  ],\n",
       "       [-0.89, -0.84,  0.  ,  0.  ],\n",
       "       [-0.31,  0.7 ,  0.  ,  0.  ]])"
      ]
     },
     "execution_count": 71,
     "metadata": {},
     "output_type": "execute_result"
    }
   ],
   "source": [
    "# Check\n",
    "np.transpose(g.to_amat()).round(2)"
   ]
  },
  {
   "cell_type": "code",
   "execution_count": 72,
   "id": "249172d0",
   "metadata": {},
   "outputs": [],
   "source": [
    "## okay up to relabeling that preserves causal order, etc"
   ]
  },
  {
   "cell_type": "markdown",
   "id": "9836bba2",
   "metadata": {},
   "source": [
    "TODO: \n",
    "- Implement a routine to check the solution of recovering the joint mixing matrix \n",
    "- How to implement graph recovery for real data? (DIFFICULT)\n",
    "- With the current implementation it can happen that G has zero rows..."
   ]
  },
  {
   "cell_type": "markdown",
   "id": "f7fb1ba9",
   "metadata": {},
   "source": [
    "## Recover noisy graph"
   ]
  },
  {
   "cell_type": "code",
   "execution_count": 225,
   "id": "e7faba89",
   "metadata": {},
   "outputs": [],
   "source": [
    "l = len(model.joint_factors)\n",
    "B_hat = model.joint_mixing[:,:l]"
   ]
  },
  {
   "cell_type": "code",
   "execution_count": 226,
   "id": "37c91bb5",
   "metadata": {},
   "outputs": [],
   "source": [
    "def score_rows(matrix):\n",
    "    d = matrix.shape[0]\n",
    "    R = np.full(shape=(d,d),fill_value=0.)\n",
    "    for i in range(d):\n",
    "        for j in range(i+1,d):\n",
    "            u, s, v = np.linalg.svd(matrix[[i,j],:])\n",
    "            s2 = np.sort(s) ** 2\n",
    "            R[i,j] = s2[-1] / s2.sum()\n",
    "    return R"
   ]
  },
  {
   "cell_type": "code",
   "execution_count": 227,
   "id": "53eb8bf5",
   "metadata": {},
   "outputs": [],
   "source": [
    "R = score_rows(B_hat)\n",
    "\n",
    "ord_tup = np.unravel_index(R.ravel().argsort(), R.shape)\n",
    "\n",
    "d = R.shape[0]\n",
    "nr_tuples = int(d * (d-1) / 2)\n",
    "\n",
    "ord_tup = (np.flip(ord_tup[0][nr_tuples:]), \n",
    "           np.flip(ord_tup[1][nr_tuples:]))"
   ]
  },
  {
   "cell_type": "code",
   "execution_count": 218,
   "id": "87bdf5cb",
   "metadata": {},
   "outputs": [],
   "source": [
    "# Having 2*l candidates for the pure children, we have to make sure that they are pure children from different nodes\n",
    "\n",
    "# Checks: \n",
    "# - 8 unique children\n",
    "# - the rank between two children from different nodes should be 2 (p(W)<level)\n",
    "# - If a two-children tuple does not satisfy one of the above checks: \n",
    "#    Remove it from candidate list. Add two-children tuple with next highest p(W) to candidate list"
   ]
  },
  {
   "cell_type": "code",
   "execution_count": 219,
   "id": "d637d38b",
   "metadata": {},
   "outputs": [],
   "source": [
    "def get_duplicates(cand_ids, ord_tup):\n",
    "    l = len(cand_ids)\n",
    "    ids0 = ord_tup[0][cand_ids]\n",
    "    ids1 = ord_tup[1][cand_ids]\n",
    "    uniques = np.unique(np.concatenate((ids0, ids1), axis=0))\n",
    "    if len(uniques)==(2*l):\n",
    "        return None\n",
    "    else:\n",
    "        for i in range(l):\n",
    "            for j in range(i+1,l):\n",
    "                if (ids0[i]==ids0[j]) or (ids0[i]==ids1[j]):\n",
    "                    return j"
   ]
  },
  {
   "cell_type": "code",
   "execution_count": 220,
   "id": "a9a7372f",
   "metadata": {},
   "outputs": [],
   "source": [
    "def get_low_rank(cand_ids, ord_tup, R, level=0.95):\n",
    "    ids0 = ord_tup[0][cand_ids]\n",
    "    ids1 = ord_tup[1][cand_ids]\n",
    "    for i in range(l):\n",
    "        for j in range(i+1,l):\n",
    "            if (R[ids0[i],ids0[j]] > level) or (R[ids0[i],ids1[j]] > level):\n",
    "                print(i,j,R[ids0[i],ids0[j]],R[ids0[i],ids1[j]])\n",
    "                return j\n",
    "    return None        "
   ]
  },
  {
   "cell_type": "code",
   "execution_count": 221,
   "id": "78de26a7",
   "metadata": {},
   "outputs": [],
   "source": [
    "def update_cand_ids(cand_ids, to_remove):\n",
    "    current_max = max(cand_ids)\n",
    "    cand_ids.remove(to_remove)\n",
    "    cand_ids.append(current_max+1)\n",
    "    return(cand_ids)"
   ]
  },
  {
   "cell_type": "code",
   "execution_count": 222,
   "id": "f3406050",
   "metadata": {},
   "outputs": [],
   "source": [
    "cand_ids = np.arange(l)\n",
    "\n",
    "while cand_ids.max() < nr_tuples:\n",
    "    to_remove = get_duplicates(cand_ids, ord_tup)\n",
    "    if to_remove is not None:\n",
    "        cand_ids = update_cand_ids(cand_ids, to_remove, maxim=nr_tuples)\n",
    "        continue\n",
    "    to_remove = get_low_rank(cand_ids, ord_tup, R, level=0.95)\n",
    "    if to_remove is not None:\n",
    "        cand_ids = update_cand_ids(cand_ids, to_remove, maxim=nr_tuples)\n",
    "        continue\n",
    "    break"
   ]
  },
  {
   "cell_type": "code",
   "execution_count": 223,
   "id": "ea6eb164",
   "metadata": {},
   "outputs": [
    {
     "data": {
      "text/plain": [
       "array([1, 2, 8, 3])"
      ]
     },
     "execution_count": 223,
     "metadata": {},
     "output_type": "execute_result"
    }
   ],
   "source": [
    "pure_children_rows = ord_tup[0][cand_ids]\n",
    "pure_children_rows"
   ]
  },
  {
   "cell_type": "code",
   "execution_count": 230,
   "id": "c3b44930",
   "metadata": {},
   "outputs": [
    {
     "data": {
      "text/plain": [
       "array([[-0.00093562, -0.00989883,  0.67478332,  0.00213392],\n",
       "       [ 0.01051012,  0.79948927,  0.06119898,  0.69093332],\n",
       "       [-0.67994694,  0.01304396,  0.6823765 , -0.48023394],\n",
       "       [ 0.00452868,  0.007207  , -0.54421053,  0.5616751 ]])"
      ]
     },
     "execution_count": 230,
     "metadata": {},
     "output_type": "execute_result"
    }
   ],
   "source": [
    "B_star = B_hat[pure_children_rows,:]\n",
    "B_star"
   ]
  },
  {
   "cell_type": "code",
   "execution_count": 238,
   "id": "43b42ca6",
   "metadata": {},
   "outputs": [],
   "source": [
    "def l2_without_max(x):\n",
    "    m = np.abs(x).argmax()\n",
    "    mask = np.ones(len(x), dtype=bool)\n",
    "    mask[m] = False\n",
    "    return np.linalg.norm(x[mask])\n",
    "\n",
    "def search_order_noisy(matrix):\n",
    "    d = matrix.shape[0]\n",
    "    order_rows = []\n",
    "    order_cols = []\n",
    "    original_idx_rows = np.arange(d)  \n",
    "    original_idx_cols = np.arange(d)  \n",
    "    while 0 < matrix.shape[0]:\n",
    "        # Find row with lowest l2 norm where all entries but the maximum are considered\n",
    "        target_row = np.apply_along_axis(l2_without_max, 1, matrix).argmin()\n",
    "        target_col = abs(matrix[target_row,:]).argmax()\n",
    "        # Append index to order\n",
    "        order_rows.append(original_idx_rows[target_row])\n",
    "        order_cols.append(original_idx_cols[target_col])\n",
    "        original_idx_rows = np.delete(original_idx_rows, target_row)\n",
    "        original_idx_cols = np.delete(original_idx_cols, target_col)\n",
    "        # Remove the row and the column from B\n",
    "        row_mask = np.delete(np.arange(matrix.shape[0]), target_row)\n",
    "        col_mask = np.delete(np.arange(matrix.shape[1]), target_col)\n",
    "        matrix = matrix[row_mask,:][:, col_mask]\n",
    "    if len(order_rows) != d:\n",
    "            return None, None\n",
    "    return order_rows, order_cols"
   ]
  },
  {
   "cell_type": "code",
   "execution_count": 242,
   "id": "c0bc70ad",
   "metadata": {},
   "outputs": [
    {
     "data": {
      "text/plain": [
       "array([[ 0.67478332,  0.00213392, -0.00989883, -0.00093562],\n",
       "       [-0.54421053,  0.5616751 ,  0.007207  ,  0.00452868],\n",
       "       [ 0.06119898,  0.69093332,  0.79948927,  0.01051012],\n",
       "       [ 0.6823765 , -0.48023394,  0.01304396, -0.67994694]])"
      ]
     },
     "execution_count": 242,
     "metadata": {},
     "output_type": "execute_result"
    }
   ],
   "source": [
    "order_rows, order_cols = search_order_noisy(B_star)\n",
    "if order_rows is not None:\n",
    "    B_star = B_star[order_rows, :][:, order_cols]\n",
    "B_star"
   ]
  },
  {
   "cell_type": "code",
   "execution_count": 243,
   "id": "09466cce",
   "metadata": {},
   "outputs": [
    {
     "data": {
      "text/plain": [
       "array([[ 0.02,  0.02, -0.01,  0.  ],\n",
       "       [-0.96,  0.  ,  0.  ,  0.01],\n",
       "       [ 0.91,  0.85,  0.  ,  0.01],\n",
       "       [-0.29,  0.74, -0.03, -0.01]])"
      ]
     },
     "execution_count": 243,
     "metadata": {},
     "output_type": "execute_result"
    }
   ],
   "source": [
    "# Remove scaling indetermancy and solve for A\n",
    "np.eye(B_star.shape[0]) - np.linalg.inv(np.matmul(np.diag(1/np.diag(B_star)), B_star)).round(2)"
   ]
  },
  {
   "cell_type": "code",
   "execution_count": 244,
   "id": "1f80d203",
   "metadata": {},
   "outputs": [
    {
     "data": {
      "text/plain": [
       "array([[ 0.  ,  0.  ,  0.  ,  0.  ],\n",
       "       [-0.97,  0.  ,  0.  ,  0.  ],\n",
       "       [-0.89, -0.84,  0.  ,  0.  ],\n",
       "       [-0.31,  0.7 ,  0.  ,  0.  ]])"
      ]
     },
     "execution_count": 244,
     "metadata": {},
     "output_type": "execute_result"
    }
   ],
   "source": [
    "# Check\n",
    "np.transpose(g.to_amat()).round(2)"
   ]
  },
  {
   "cell_type": "code",
   "execution_count": null,
   "id": "ce0af021",
   "metadata": {},
   "outputs": [],
   "source": []
  }
 ],
 "metadata": {
  "kernelspec": {
   "display_name": "Python 3 (ipykernel)",
   "language": "python",
   "name": "python3"
  },
  "language_info": {
   "codemirror_mode": {
    "name": "ipython",
    "version": 3
   },
   "file_extension": ".py",
   "mimetype": "text/x-python",
   "name": "python",
   "nbconvert_exporter": "python",
   "pygments_lexer": "ipython3",
   "version": "3.9.12"
  }
 },
 "nbformat": 4,
 "nbformat_minor": 5
}
