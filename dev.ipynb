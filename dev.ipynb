{
 "cells": [
  {
   "cell_type": "code",
   "execution_count": 1,
   "id": "f4a0ee16",
   "metadata": {},
   "outputs": [],
   "source": [
    "import numpy as np\n",
    "from scipy.stats import uniform, expon, lognorm, weibull_min, chi2, t, gumbel_r\n",
    "\n",
    "from src.learner import LinearMDCRL\n",
    "from experiments.rand import rand_model\n",
    "from experiments.utils import plot_hist_noise"
   ]
  },
  {
   "cell_type": "markdown",
   "id": "7084501d",
   "metadata": {},
   "source": [
    "## Create synthetic data"
   ]
  },
  {
   "cell_type": "code",
   "execution_count": 2,
   "id": "272348d6",
   "metadata": {},
   "outputs": [],
   "source": [
    "model_specs = {\n",
    "    \"nr_doms\": 3,\n",
    "    \"joint_idx\": [0,1,2,3],\n",
    "    \"domain_spec_idx\": [[4],[5],[6]],\n",
    "    \"noise_rvs\": [uniform(), expon(scale=0.1), t(df=5), gumbel_r, \n",
    "                  lognorm(s=1), weibull_min(c=2), chi2(df=6)],\n",
    "    \"sample_sizes\":  [5000, 5000, 5000],\n",
    "    \"dims\": [13,14,15],\n",
    "    \"graph_density\": 0.75,\n",
    "    \"mixing_density\": 0.9,\n",
    "    \"mixing_distribution\": 'normal',  # unif or normal\n",
    "    \"indep_domain_spec\": True\n",
    "}"
   ]
  },
  {
   "cell_type": "code",
   "execution_count": 3,
   "id": "24c2e6a2",
   "metadata": {},
   "outputs": [],
   "source": [
    "data, g, B_large = rand_model(model_specs)\n",
    "# Can we plot g with causaldag?"
   ]
  },
  {
   "cell_type": "markdown",
   "id": "86a9a793",
   "metadata": {},
   "source": [
    "## Fit model"
   ]
  },
  {
   "cell_type": "code",
   "execution_count": 4,
   "id": "6bd87d92",
   "metadata": {},
   "outputs": [],
   "source": [
    "model = LinearMDCRL()\n",
    "model.fit(data)\n",
    "\n",
    "#plot_hist_noise(model.indep_comps)"
   ]
  },
  {
   "cell_type": "code",
   "execution_count": 5,
   "id": "42907705",
   "metadata": {},
   "outputs": [
    {
     "data": {
      "text/plain": [
       "[[0, 1, 0], [1, 3, 4], [2, 4, 3], [3, 0, 2]]"
      ]
     },
     "execution_count": 5,
     "metadata": {},
     "output_type": "execute_result"
    }
   ],
   "source": [
    "model.joint_factors"
   ]
  },
  {
   "cell_type": "code",
   "execution_count": 6,
   "id": "f60cb94e",
   "metadata": {},
   "outputs": [
    {
     "data": {
      "text/plain": [
       "(42, 7)"
      ]
     },
     "execution_count": 6,
     "metadata": {},
     "output_type": "execute_result"
    }
   ],
   "source": [
    "model.joint_mixing.shape"
   ]
  },
  {
   "cell_type": "code",
   "execution_count": 7,
   "id": "37126091",
   "metadata": {
    "scrolled": true
   },
   "outputs": [
    {
     "data": {
      "text/plain": [
       "array([[ 1.97, -1.38, -2.82,  2.01,  1.25,  0.  ,  0.  ],\n",
       "       [ 0.02, -0.03, -0.82,  0.02,  0.03,  0.  ,  0.  ],\n",
       "       [-0.12,  0.13,  0.02, -0.16,  0.09,  0.  ,  0.  ],\n",
       "       [ 1.59,  0.04, -0.39,  0.98, -0.46,  0.  ,  0.  ],\n",
       "       [-0.04,  0.01,  0.33, -0.77,  0.44,  0.  ,  0.  ],\n",
       "       [-0.68, -0.85, -0.62,  2.05,  0.65,  0.  ,  0.  ],\n",
       "       [-0.4 , -0.01, -0.46, -0.24, -0.76,  0.  ,  0.  ],\n",
       "       [-1.04,  0.27,  1.12, -0.83,  1.09,  0.  ,  0.  ],\n",
       "       [-0.49, -0.  , -0.6 , -2.24,  0.22,  0.  ,  0.  ],\n",
       "       [-0.48, -0.6 , -0.33,  0.48, -0.81,  0.  ,  0.  ],\n",
       "       [-1.62,  0.61,  1.01, -0.78,  0.63,  0.  ,  0.  ],\n",
       "       [-2.01,  0.08,  0.42, -1.16,  0.4 ,  0.  ,  0.  ],\n",
       "       [-0.93,  2.41,  1.15, -2.08, -0.29,  0.  ,  0.  ],\n",
       "       [-0.04, -0.51,  1.14,  0.87,  0.  ,  0.51,  0.  ],\n",
       "       [ 3.68,  1.95,  0.22, -1.08,  0.  ,  0.2 ,  0.  ],\n",
       "       [-0.12,  0.06,  1.03, -0.05,  0.  ,  2.26,  0.  ],\n",
       "       [ 1.  ,  1.49, -0.1 , -1.77,  0.  ,  0.5 ,  0.  ],\n",
       "       [-0.47, -0.46,  0.09,  0.52,  0.  ,  1.9 ,  0.  ],\n",
       "       [ 0.  , -0.  ,  0.01,  0.02,  0.  ,  0.  ,  0.  ],\n",
       "       [ 0.3 ,  0.24,  0.89, -0.38,  0.  ,  0.65,  0.  ],\n",
       "       [ 1.21,  0.09, -2.93, -0.86,  0.  ,  0.71,  0.  ],\n",
       "       [ 0.71,  1.56, -0.25, -1.29,  0.  ,  0.26,  0.  ],\n",
       "       [ 0.88,  0.04, -0.25, -0.55,  0.  , -0.33,  0.  ],\n",
       "       [-1.7 , -0.61,  0.31,  1.96,  0.  , -1.05,  0.  ],\n",
       "       [ 0.29,  0.35, -0.51,  0.17,  0.  ,  0.02,  0.  ],\n",
       "       [-0.41, -0.98, -0.13,  0.72,  0.  , -0.17,  0.  ],\n",
       "       [-1.15, -0.  ,  1.98,  2.22,  0.  , -0.01,  0.  ],\n",
       "       [-0.67,  0.43,  0.71, -1.65,  0.  ,  0.  ,  1.68],\n",
       "       [ 2.77, -0.68, -0.06,  2.17,  0.  ,  0.  , -0.65],\n",
       "       [ 0.99,  0.31, -0.1 ,  0.94,  0.  ,  0.  ,  0.65],\n",
       "       [ 0.15, -0.11, -0.49,  0.14,  0.  ,  0.  ,  0.36],\n",
       "       [-0.97, -0.06, -1.05,  0.22,  0.  ,  0.  , -0.75],\n",
       "       [-0.16, -0.25,  0.86,  1.57,  0.  ,  0.  , -0.35],\n",
       "       [ 0.46, -1.31, -0.79,  0.81,  0.  ,  0.  , -0.36],\n",
       "       [-0.59, -0.13, -0.8 , -0.29,  0.  ,  0.  ,  0.  ],\n",
       "       [-0.96, -0.15,  0.4 , -0.48,  0.  ,  0.  ,  1.03],\n",
       "       [ 0.16,  0.16,  0.2 , -0.5 ,  0.  ,  0.  , -0.01],\n",
       "       [-2.67,  2.52, -1.1 , -1.77,  0.  ,  0.  , -0.34],\n",
       "       [ 0.99, -1.95,  0.02,  1.03,  0.  ,  0.  , -0.32],\n",
       "       [ 0.54,  0.41,  1.27, -1.23,  0.  ,  0.  ,  0.63],\n",
       "       [-1.7 ,  1.87, -0.62, -2.06,  0.  ,  0.  , -0.81],\n",
       "       [-1.21,  2.05, -0.46, -2.02,  0.  ,  0.  , -1.72]])"
      ]
     },
     "execution_count": 7,
     "metadata": {},
     "output_type": "execute_result"
    }
   ],
   "source": [
    "model.joint_mixing.round(2)"
   ]
  },
  {
   "cell_type": "code",
   "execution_count": 8,
   "id": "1c627616",
   "metadata": {
    "scrolled": true
   },
   "outputs": [
    {
     "data": {
      "text/plain": [
       "array([[-2.96,  1.98, -1.83, -1.29, -1.04,  0.  ,  0.  ],\n",
       "       [-0.82,  0.  ,  0.  ,  0.  ,  0.  ,  0.  ,  0.  ],\n",
       "       [ 0.03, -0.16,  0.11,  0.13, -0.09,  0.  ,  0.  ],\n",
       "       [-0.46,  0.98, -1.55,  0.  ,  0.47,  0.  ,  0.  ],\n",
       "       [ 0.35, -0.75,  0.  ,  0.  , -0.44,  0.  ,  0.  ],\n",
       "       [-0.69,  2.02,  0.78, -0.77, -0.6 ,  0.  ,  0.  ],\n",
       "       [-0.45, -0.26,  0.41,  0.  ,  0.73,  0.  ,  0.  ],\n",
       "       [ 1.18, -0.81,  0.98,  0.28, -1.1 ,  0.  ,  0.  ],\n",
       "       [-0.52, -2.24,  0.42,  0.01, -0.2 ,  0.  ,  0.  ],\n",
       "       [-0.36,  0.47,  0.53, -0.58,  0.78,  0.  ,  0.  ],\n",
       "       [ 1.1 , -0.78,  1.56,  0.63, -0.67,  0.  ,  0.  ],\n",
       "       [ 0.51, -1.17,  1.97,  0.12, -0.43,  0.  ,  0.  ],\n",
       "       [ 1.31, -2.08,  0.78,  2.35,  0.21,  0.  ,  0.  ],\n",
       "       [-1.15,  0.91, -0.03, -0.5 ,  0.  , -0.49,  0.  ],\n",
       "       [-0.2 , -1.13,  3.77,  1.8 ,  0.  , -0.15,  0.  ],\n",
       "       [-1.04,  0.  ,  0.  ,  0.  ,  0.  , -2.27,  0.  ],\n",
       "       [ 0.13, -1.83,  1.09,  1.39,  0.  , -0.54,  0.  ],\n",
       "       [-0.12,  0.59, -0.4 , -0.47,  0.  , -1.88,  0.  ],\n",
       "       [-0.01,  0.02,  0.  ,  0.  ,  0.  ,  0.  ,  0.  ],\n",
       "       [-0.88, -0.38,  0.35,  0.2 ,  0.  , -0.66,  0.  ],\n",
       "       [ 2.91, -0.83,  1.22,  0.  ,  0.  , -0.64,  0.  ],\n",
       "       [ 0.28, -1.36,  0.79,  1.49,  0.  , -0.3 ,  0.  ],\n",
       "       [ 0.26, -0.55,  0.87,  0.  ,  0.  ,  0.35,  0.  ],\n",
       "       [-0.33,  1.95, -1.78, -0.45,  0.  ,  1.05,  0.  ],\n",
       "       [ 0.51,  0.16,  0.29,  0.35,  0.  ,  0.  ,  0.  ],\n",
       "       [ 0.11,  0.76, -0.46, -0.94,  0.  ,  0.2 ,  0.  ],\n",
       "       [-2.  ,  2.22, -1.14,  0.12,  0.  ,  0.  ,  0.  ],\n",
       "       [ 0.66, -1.67,  0.71,  0.36,  0.  ,  0.  ,  1.72],\n",
       "       [-0.03,  2.25, -2.77, -0.71,  0.  ,  0.  , -0.63],\n",
       "       [-0.09,  1.01, -0.95,  0.27,  0.  ,  0.  ,  0.68],\n",
       "       [-0.49,  0.17, -0.14, -0.12,  0.  ,  0.  ,  0.37],\n",
       "       [-1.03,  0.21,  0.94,  0.  ,  0.  ,  0.  , -0.78],\n",
       "       [ 0.9 ,  1.58,  0.18, -0.26,  0.  ,  0.  , -0.39],\n",
       "       [-0.78,  0.83, -0.47, -1.31,  0.  ,  0.  , -0.38],\n",
       "       [-0.8 , -0.29,  0.58, -0.11,  0.  ,  0.  ,  0.  ],\n",
       "       [ 0.39, -0.49,  1.  , -0.2 ,  0.  ,  0.  ,  1.03],\n",
       "       [ 0.18, -0.51, -0.17,  0.16,  0.  ,  0.  ,  0.  ],\n",
       "       [-1.12, -1.84,  2.64,  2.64,  0.  ,  0.  , -0.34],\n",
       "       [ 0.04,  1.06, -0.99, -1.99,  0.  ,  0.  , -0.35],\n",
       "       [ 1.23, -1.26, -0.53,  0.36,  0.  ,  0.  ,  0.67],\n",
       "       [-0.64, -2.15,  1.64,  1.98,  0.  ,  0.  , -0.81],\n",
       "       [-0.48, -2.12,  1.11,  2.21,  0.  ,  0.  , -1.72]])"
      ]
     },
     "execution_count": 8,
     "metadata": {},
     "output_type": "execute_result"
    }
   ],
   "source": [
    "B_large.round(2)"
   ]
  },
  {
   "cell_type": "markdown",
   "id": "6f3e9376",
   "metadata": {},
   "source": [
    "## Recover graph (in infinite data limit)"
   ]
  },
  {
   "cell_type": "code",
   "execution_count": 9,
   "id": "d9b539c4",
   "metadata": {},
   "outputs": [],
   "source": [
    "B = B_large[:,:4]\n",
    "B = B[:,[2,0,3,1]]  # add a permutation"
   ]
  },
  {
   "cell_type": "code",
   "execution_count": 10,
   "id": "177b0188",
   "metadata": {},
   "outputs": [],
   "source": [
    "def get_row_ranks(matrix):\n",
    "    d = matrix.shape[0]\n",
    "    R = np.zeros((d,d))\n",
    "    for i in range(d):\n",
    "        for j in range(i+1,d):\n",
    "            R[i,j] = np.linalg.matrix_rank(matrix[[i,j],:])\n",
    "    return R"
   ]
  },
  {
   "cell_type": "code",
   "execution_count": 11,
   "id": "7a4fa75e",
   "metadata": {},
   "outputs": [
    {
     "data": {
      "text/plain": [
       "array([[ 0.        , -0.8209847 ,  0.        ,  0.        ],\n",
       "       [ 0.11096599,  0.03280899,  0.13252922, -0.16448962],\n",
       "       [-1.55144494, -0.46064926,  0.        ,  0.98116152],\n",
       "       [ 0.        ,  0.3534866 ,  0.        , -0.75291002]])"
      ]
     },
     "execution_count": 11,
     "metadata": {},
     "output_type": "execute_result"
    }
   ],
   "source": [
    "# Find pure children of all (different) latent nodes\n",
    "R = get_row_ranks(B) \n",
    "pos_rows = np.unique(np.where(R==1)[0])\n",
    "\n",
    "# Remove duplicates\n",
    "to_remove_idx = np.where(get_row_ranks(B[pos_rows,:])==1)[1]\n",
    "mask = np.ones(len(pos_rows), dtype=bool)\n",
    "mask[to_remove_idx] = False\n",
    "pos_rows = pos_rows[mask]\n",
    "B = B[pos_rows,:]\n",
    "B"
   ]
  },
  {
   "cell_type": "code",
   "execution_count": 12,
   "id": "cf93f4a1",
   "metadata": {},
   "outputs": [],
   "source": [
    "# Remove permutation indetermancies of rows and columns\n",
    "def single_support_rows(matrix):\n",
    "    d, l = matrix.shape\n",
    "    row_ids = []\n",
    "    max_ids = []\n",
    "    for i in range(d):\n",
    "        m = np.abs(matrix[i,:]).argmax()\n",
    "        mask = np.ones(l, dtype=bool)\n",
    "        mask[m] = False\n",
    "        if np.sum(np.abs(matrix[i,mask])) == 0:\n",
    "            row_ids.append(i)\n",
    "            max_ids.append(m)\n",
    "    return row_ids, max_ids\n",
    "\n",
    "def search_order(matrix):\n",
    "    d = matrix.shape[0]\n",
    "    order_rows = []\n",
    "    order_cols = []\n",
    "    original_idx_rows = np.arange(d)  \n",
    "    original_idx_cols = np.arange(d)  \n",
    "    while 0 < matrix.shape[0]:\n",
    "        # Find rows with all but one element equal to zero\n",
    "        row_ids, max_ids = single_support_rows(matrix)\n",
    "        if len(row_ids) == 0:\n",
    "            break\n",
    "        target_row = row_ids[0]\n",
    "        target_col = max_ids[0]\n",
    "        # Append index to order\n",
    "        order_rows.append(original_idx_rows[target_row])\n",
    "        order_cols.append(original_idx_cols[target_col])\n",
    "        original_idx_rows = np.delete(original_idx_rows, target_row)\n",
    "        original_idx_cols = np.delete(original_idx_cols, target_col)\n",
    "        # Remove the row and the column from B\n",
    "        row_mask = np.delete(np.arange(matrix.shape[0]), target_row)\n",
    "        col_mask = np.delete(np.arange(matrix.shape[1]), target_col)\n",
    "        matrix = matrix[row_mask,:][:, col_mask]\n",
    "    if len(order_rows) != d:\n",
    "            return None, None\n",
    "    return order_rows, order_cols"
   ]
  },
  {
   "cell_type": "code",
   "execution_count": 13,
   "id": "f8962cdc",
   "metadata": {},
   "outputs": [],
   "source": [
    "order_rows, order_cols = search_order(B)\n",
    "if order_rows is not None:\n",
    "    B = B[order_rows, :][:, order_cols]"
   ]
  },
  {
   "cell_type": "code",
   "execution_count": 14,
   "id": "143d01ed",
   "metadata": {},
   "outputs": [
    {
     "data": {
      "text/plain": [
       "array([[ 0.  ,  0.  ,  0.  ,  0.  ],\n",
       "       [-0.47,  0.  ,  0.  ,  0.  ],\n",
       "       [ 0.  , -0.63,  0.  ,  0.  ],\n",
       "       [-0.34, -0.71,  0.84,  0.  ]])"
      ]
     },
     "execution_count": 14,
     "metadata": {},
     "output_type": "execute_result"
    }
   ],
   "source": [
    "# Remove scaling indetermancy and solve for A\n",
    "np.eye(B.shape[0]) - np.linalg.inv(np.matmul(np.diag(1/np.diag(B)), B)).round(2)\n",
    "\n"
   ]
  },
  {
   "cell_type": "code",
   "execution_count": 15,
   "id": "079ff199",
   "metadata": {},
   "outputs": [
    {
     "data": {
      "text/plain": [
       "array([[ 0.  ,  0.  ,  0.  ,  0.  ],\n",
       "       [-0.47,  0.  ,  0.  ,  0.  ],\n",
       "       [ 0.  , -0.63,  0.  ,  0.  ],\n",
       "       [-0.34, -0.71,  0.84,  0.  ]])"
      ]
     },
     "execution_count": 15,
     "metadata": {},
     "output_type": "execute_result"
    }
   ],
   "source": [
    "# Check\n",
    "np.transpose(g.to_amat()).round(2)"
   ]
  },
  {
   "cell_type": "code",
   "execution_count": 16,
   "id": "249172d0",
   "metadata": {},
   "outputs": [],
   "source": [
    "## okay up to relabeling that preserves causal order, etc"
   ]
  },
  {
   "cell_type": "markdown",
   "id": "edd7d3af",
   "metadata": {},
   "source": [
    "TODO: \n",
    "- Implement a routine to check the solution of recovering the joint mixing matrix \n",
    "- How to implement graph recovery for real data? (DIFFICULT)\n",
    "- With the current implementation it can happen that G has zero rows..."
   ]
  },
  {
   "cell_type": "markdown",
   "id": "5a3c9012",
   "metadata": {},
   "source": [
    "## Recover noisy graph"
   ]
  },
  {
   "cell_type": "code",
   "execution_count": null,
   "id": "246a8234",
   "metadata": {},
   "outputs": [],
   "source": []
  }
 ],
 "metadata": {
  "kernelspec": {
   "display_name": "Python 3 (ipykernel)",
   "language": "python",
   "name": "python3"
  },
  "language_info": {
   "codemirror_mode": {
    "name": "ipython",
    "version": 3
   },
   "file_extension": ".py",
   "mimetype": "text/x-python",
   "name": "python",
   "nbconvert_exporter": "python",
   "pygments_lexer": "ipython3",
   "version": "3.9.12"
  }
 },
 "nbformat": 4,
 "nbformat_minor": 5
}
