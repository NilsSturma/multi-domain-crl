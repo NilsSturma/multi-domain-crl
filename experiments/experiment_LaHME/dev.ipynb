{
 "cells": [
  {
   "cell_type": "code",
   "execution_count": 25,
   "id": "c588fb80",
   "metadata": {},
   "outputs": [
    {
     "data": {
      "text/plain": [
       "'/Users/nilssturma/git/multi-domain-crl'"
      ]
     },
     "execution_count": 25,
     "metadata": {},
     "output_type": "execute_result"
    }
   ],
   "source": [
    "import os\n",
    "os.chdir('/Users/nilssturma/git/multi-domain-crl/')\n",
    "os.getcwd()"
   ]
  },
  {
   "cell_type": "code",
   "execution_count": 26,
   "id": "0f097a89",
   "metadata": {},
   "outputs": [],
   "source": [
    "# === IMPORTS: BUILT-IN ===\n",
    "import pickle\n",
    "#from time import time\n",
    "\n",
    "# === IMPORTS: THIRD-PARTY ===\n",
    "import numpy as np\n",
    "from scipy.stats import beta, expon, lognorm, weibull_min, chi2, gumbel_r, skewnorm\n",
    "\n",
    "# === IMPORTS: LOCAL ===\n",
    "from src.learner import LinearMDCRL\n",
    "from experiments.rand import rand_model"
   ]
  },
  {
   "cell_type": "markdown",
   "id": "55db7e52",
   "metadata": {},
   "source": [
    "## Define model"
   ]
  },
  {
   "cell_type": "code",
   "execution_count": 27,
   "id": "11966d0a",
   "metadata": {},
   "outputs": [],
   "source": [
    "n=5000\n",
    "measure = \"ks-test\"\n",
    "\n",
    "rvs = [beta(2,3), beta(2,5), chi2(df=4), gumbel_r, lognorm(s=1),\n",
    "    weibull_min(c=2), expon(scale=0.1), skewnorm(a=6), skewnorm(a=12)]"
   ]
  },
  {
   "cell_type": "code",
   "execution_count": 28,
   "id": "89e5f306",
   "metadata": {},
   "outputs": [],
   "source": [
    "m = {\n",
    "    \"nr_doms\": 2,\n",
    "    \"joint_idx\": [0,1,2],\n",
    "    \"domain_spec_idx\": [[3,4],[5,6]],\n",
    "    \"noise_rvs\": rvs,\n",
    "    \"sample_sizes\":  [5000,5000],\n",
    "    \"dims\": [15,15],\n",
    "    \"graph_density\": 0.75,\n",
    "    \"mixing_density\": 0.9,\n",
    "    \"mixing_distribution\": 'unif',  # unif or normal\n",
    "    \"two_pure_children\": True\n",
    "}\n"
   ]
  },
  {
   "cell_type": "markdown",
   "id": "4427e35a",
   "metadata": {},
   "source": [
    "## Sample data"
   ]
  },
  {
   "cell_type": "code",
   "execution_count": 29,
   "id": "bef84a6a",
   "metadata": {},
   "outputs": [],
   "source": [
    "m[\"sample_sizes\"] = [n for _ in range(m[\"nr_doms\"])]\n",
    "data, g, B_true = rand_model(m)\n",
    "A_true = np.transpose(g.to_amat())"
   ]
  },
  {
   "cell_type": "markdown",
   "id": "dbb22298",
   "metadata": {},
   "source": [
    "## Fit model"
   ]
  },
  {
   "cell_type": "code",
   "execution_count": 30,
   "id": "e5941515",
   "metadata": {},
   "outputs": [],
   "source": [
    "model = LinearMDCRL(measure=measure, gamma=0.1)\n",
    "model.fit(data)"
   ]
  },
  {
   "cell_type": "code",
   "execution_count": 31,
   "id": "8be9d93a",
   "metadata": {},
   "outputs": [
    {
     "data": {
      "text/plain": [
       "array([[-0.58, -0.57, -0.36,  0.82, -0.32,  0.  ,  0.  ],\n",
       "       [-1.03, -0.48,  0.47, -0.05, -0.82,  0.  ,  0.  ],\n",
       "       [ 0.65,  0.03,  0.  , -0.84,  0.61,  0.  ,  0.  ],\n",
       "       [ 0.76, -0.67, -1.39, -0.97, -0.71,  0.  ,  0.  ],\n",
       "       [ 1.64, -0.93, -1.  ,  0.01, -0.68,  0.  ,  0.  ],\n",
       "       [-0.61,  0.92,  0.18,  0.95, -0.37,  0.  ,  0.  ],\n",
       "       [ 0.41, -0.34, -0.75,  0.74,  0.34,  0.  ,  0.  ],\n",
       "       [-0.23,  0.75, -0.07, -0.63,  0.32,  0.  ,  0.  ],\n",
       "       [-0.34,  0.02,  0.34, -0.01,  0.01,  0.  ,  0.  ],\n",
       "       [ 0.5 ,  0.58, -0.55, -0.81,  0.75,  0.  ,  0.  ],\n",
       "       [-0.02, -0.98, -0.38, -0.79,  0.84,  0.  ,  0.  ],\n",
       "       [-0.26,  0.32,  0.23,  0.73,  0.78,  0.  ,  0.  ],\n",
       "       [-1.4 ,  0.68,  0.96,  0.93, -0.45,  0.  ,  0.  ],\n",
       "       [ 1.46, -0.73, -1.11,  0.01,  0.36,  0.  ,  0.  ],\n",
       "       [-1.34,  0.41,  0.53, -0.01, -0.68,  0.  ,  0.  ],\n",
       "       [ 0.77, -0.01, -0.35,  0.  ,  0.  ,  0.84,  0.46],\n",
       "       [-0.76, -0.8 ,  0.4 ,  0.  ,  0.  , -0.29,  0.4 ],\n",
       "       [-0.  ,  0.86, -0.77,  0.  ,  0.  ,  0.23,  1.02],\n",
       "       [ 0.28, -0.45, -0.37,  0.  ,  0.  , -0.62,  0.9 ],\n",
       "       [-0.67,  0.43,  0.87,  0.  ,  0.  , -0.85,  0.59],\n",
       "       [ 0.04,  0.65, -0.38,  0.  ,  0.  ,  0.29,  0.27],\n",
       "       [-0.82,  0.81,  0.2 ,  0.  ,  0.  , -1.28, -0.42],\n",
       "       [ 0.18, -0.66, -0.75,  0.  ,  0.  , -0.5 , -0.56],\n",
       "       [ 0.48,  0.02,  0.03,  0.  ,  0.  ,  0.51,  0.44],\n",
       "       [-0.03, -0.86, -0.21,  0.  ,  0.  ,  0.67, -0.78],\n",
       "       [ 0.19, -0.33, -0.31,  0.  ,  0.  ,  0.23,  0.4 ],\n",
       "       [-0.88,  0.62,  0.44,  0.  ,  0.  , -1.  , -1.  ],\n",
       "       [ 2.07, -0.46, -0.46,  0.  ,  0.  ,  1.31,  0.  ],\n",
       "       [-0.17,  0.63, -1.03,  0.  ,  0.  , -1.1 ,  0.03],\n",
       "       [ 0.5 ,  0.12,  1.  ,  0.  ,  0.  , -0.03,  0.5 ]])"
      ]
     },
     "execution_count": 31,
     "metadata": {},
     "output_type": "execute_result"
    }
   ],
   "source": [
    "model.joint_mixing.round(2)"
   ]
  },
  {
   "cell_type": "code",
   "execution_count": 33,
   "id": "5761b1a3",
   "metadata": {},
   "outputs": [
    {
     "data": {
      "text/plain": [
       "[[1, 3], [2, 0], [4, 4]]"
      ]
     },
     "execution_count": 33,
     "metadata": {},
     "output_type": "execute_result"
    }
   ],
   "source": [
    "model.joint_factors"
   ]
  },
  {
   "cell_type": "code",
   "execution_count": 34,
   "id": "9367d4fa",
   "metadata": {},
   "outputs": [
    {
     "data": {
      "text/plain": [
       "[[1, 1], [1, 1], [1, 1]]"
      ]
     },
     "execution_count": 34,
     "metadata": {},
     "output_type": "execute_result"
    }
   ],
   "source": [
    "model.joint_signs"
   ]
  },
  {
   "cell_type": "code",
   "execution_count": 35,
   "id": "d1005fd7",
   "metadata": {},
   "outputs": [
    {
     "data": {
      "image/png": "[encoded data removed]",
      "text/plain": [
       "<Figure size 1008x504 with 10 Axes>"
      ]
     },
     "metadata": {
      "needs_background": "light"
     },
     "output_type": "display_data"
    }
   ],
   "source": [
    "import matplotlib.pyplot as plt\n",
    "fig, ax = plt.subplots(2, 5, figsize=(14, 7))\n",
    "\n",
    "for i in range(2):\n",
    "    for j in range(5):\n",
    "        ax[i,j].hist(model.indep_comps[i][:,j], bins=50, density=True)\n",
    "\n",
    "plt.show()"
   ]
  },
  {
   "cell_type": "markdown",
   "id": "bb4a1855",
   "metadata": {},
   "source": [
    "## Sample from joint distribution"
   ]
  },
  {
   "cell_type": "code",
   "execution_count": 36,
   "id": "1b9722f0",
   "metadata": {},
   "outputs": [],
   "source": [
    "indep_comps_large = []\n",
    "\n",
    "# Shared components\n",
    "for i,f in enumerate(model.joint_factors):\n",
    "    shared_comp = np.array([])\n",
    "    for env in range(model.nr_env):\n",
    "        shared_comp = np.concatenate((shared_comp, \n",
    "                                      (model.joint_signs[i][env] * model.indep_comps[env][:,f[env]])))\n",
    "    indep_comps_large.append(shared_comp)\n",
    "    \n",
    "# Domain-specific components\n",
    "for env in range(model.nr_env):\n",
    "    ncomps = model.indep_comps[env].shape[1]\n",
    "    shared_components = [f[env] for f in model.joint_factors]\n",
    "    dom_spec_comps = set(np.arange(ncomps)) - set(shared_components)\n",
    "    for comp in dom_spec_comps:\n",
    "        indep_comps_large.append(model.indep_comps[env][:,comp])\n",
    "        \n",
    "# This should define a function \"get_components\""
   ]
  },
  {
   "cell_type": "code",
   "execution_count": 37,
   "id": "c70b3776",
   "metadata": {},
   "outputs": [
    {
     "data": {
      "image/png": "[encoded data removed]",
      "text/plain": [
       "<Figure size 1296x180 with 7 Axes>"
      ]
     },
     "metadata": {
      "needs_background": "light"
     },
     "output_type": "display_data"
    }
   ],
   "source": [
    "fig, ax = plt.subplots(1, 7, figsize=(18, 2.5))\n",
    "\n",
    "for j in range(7):\n",
    "    ax[j].hist(indep_comps_large[j], bins=50, density=True)\n",
    "\n",
    "plt.show()"
   ]
  },
  {
   "cell_type": "code",
   "execution_count": 38,
   "id": "0c180784",
   "metadata": {},
   "outputs": [],
   "source": [
    "def sample_from_joint_distr(size=5000):\n",
    "    noise_mat = np.zeros((size, model.total_nr_lat))\n",
    "    for comp in range(model.total_nr_lat):\n",
    "        noise_mat[:,comp] = np.random.choice(indep_comps_large[comp], size = size, replace=True)\n",
    "        \n",
    "    samples = np.transpose(np.matmul(model.joint_mixing, np.transpose(noise_mat)))\n",
    "    \n",
    "    return(samples)"
   ]
  },
  {
   "cell_type": "code",
   "execution_count": 39,
   "id": "a6823c2a",
   "metadata": {},
   "outputs": [],
   "source": [
    "samples = sample_from_joint_distr()"
   ]
  },
  {
   "cell_type": "markdown",
   "id": "96a7c211",
   "metadata": {},
   "source": [
    "## Apply LaHME on samples from joint distribution"
   ]
  },
  {
   "cell_type": "code",
   "execution_count": 42,
   "id": "9eb9e7fe",
   "metadata": {},
   "outputs": [],
   "source": [
    "os.chdir('/Users/nilssturma/git/multi-domain-crl/code_for_LaHME')\n",
    "from Main_LiNGLaH_LaHME import LaHME\n",
    "import pandas as pd\n",
    "import time\n",
    "time.clock = time.time  # The LaHME code uses time.clock which is deprecated"
   ]
  },
  {
   "cell_type": "code",
   "execution_count": 43,
   "id": "fc30965c",
   "metadata": {},
   "outputs": [],
   "source": [
    "df = pd.DataFrame(samples)"
   ]
  },
  {
   "cell_type": "code",
   "execution_count": null,
   "id": "db53c12d",
   "metadata": {},
   "outputs": [],
   "source": [
    "LaHME(df)  ### This is toooo slow, cannot do simulations! (Did not finish after several hours!)"
   ]
  },
  {
   "cell_type": "code",
   "execution_count": null,
   "id": "2ced1487",
   "metadata": {},
   "outputs": [],
   "source": []
  }
 ],
 "metadata": {
  "kernelspec": {
   "display_name": "Python 3 (ipykernel)",
   "language": "python",
   "name": "python3"
  },
  "language_info": {
   "codemirror_mode": {
    "name": "ipython",
    "version": 3
   },
   "file_extension": ".py",
   "mimetype": "text/x-python",
   "name": "python",
   "nbconvert_exporter": "python",
   "pygments_lexer": "ipython3",
   "version": "3.9.13"
  }
 },
 "nbformat": 4,
 "nbformat_minor": 5
}
