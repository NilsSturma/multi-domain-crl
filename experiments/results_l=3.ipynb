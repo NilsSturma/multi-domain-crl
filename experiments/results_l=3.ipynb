{
 "cells": [
  {
   "cell_type": "code",
   "execution_count": 1,
   "id": "74896847",
   "metadata": {},
   "outputs": [],
   "source": [
    "%matplotlib inline\n",
    "\n",
    "import pickle\n",
    "import warnings\n",
    "import numpy as np\n",
    "from time import time\n",
    "import seaborn as sns\n",
    "import matplotlib.pyplot as plt\n",
    "from sklearn.exceptions import ConvergenceWarning\n",
    "from scipy.stats import beta, uniform, expon, lognorm, weibull_min, chi2, t, gumbel_r, skewnorm\n",
    "\n",
    "from src.learner import LinearMDCRL\n",
    "from experiments.rand import rand_model\n",
    "\n",
    "warnings.filterwarnings('ignore')"
   ]
  },
  {
   "cell_type": "code",
   "execution_count": 2,
   "id": "7d63efd9",
   "metadata": {},
   "outputs": [],
   "source": [
    "l = 3\n",
    "d = 30\n",
    "\n",
    "# Load\n",
    "with open(f\"experiments/results-paper/nr_doms=2_l={l}_d={d}_large.pkl\", \"rb\") as f:\n",
    "    info2 = pickle.load(f)\n",
    "    \n",
    "with open(f\"experiments/results-paper/nr_doms=3_l={l}_d={d}_large.pkl\", \"rb\") as f:\n",
    "    info3 = pickle.load(f)"
   ]
  },
  {
   "cell_type": "code",
   "execution_count": 3,
   "id": "fd2b7bb4",
   "metadata": {},
   "outputs": [],
   "source": [
    "# Error rate (too many detections)\n",
    "def get_statistics(info):\n",
    "    metadata = info[\"metadata\"]\n",
    "    nexp = metadata[\"nexp\"]\n",
    "    nsamples_list = metadata[\"nsamples_list\"]\n",
    "    m = metadata[\"model_specs\"]\n",
    "\n",
    "    mixing_error_median = np.zeros(len(nsamples_list))\n",
    "    graph_error_median = np.zeros(len(nsamples_list))\n",
    "    too_many_shared_rate = np.zeros(len(nsamples_list))\n",
    "    avg_number_shared = np.zeros(len(nsamples_list))\n",
    "    for s_ix, n in enumerate(nsamples_list):\n",
    "        mixing_errors = np.full(nexp, np.nan)\n",
    "        graph_errors = np.full(nexp, np.nan)\n",
    "        too_many_shared = np.full(nexp, False)\n",
    "        number_shared = np.full(nexp, 0)\n",
    "        for exp_ix in range(nexp):\n",
    "            number_shared[exp_ix] = info[\"results\"][(s_ix, exp_ix)][\"nr_joint\"]\n",
    "            mixing_errors[exp_ix] = info[\"results\"][(s_ix, exp_ix)][\"mixing_error\"] / \\\n",
    "                (min(number_shared[exp_ix], len(m[\"joint_idx\"])) * sum(m[\"dims\"])) ### normalizing!!\n",
    "            if number_shared[exp_ix] > len(m[\"joint_idx\"]):\n",
    "                too_many_shared[exp_ix] = True\n",
    "            if number_shared[exp_ix] == len(m[\"joint_idx\"]):\n",
    "                graph_errors[exp_ix] = info[\"results\"][(s_ix, exp_ix)][\"graph_error\"] / \\\n",
    "                    (len(m[\"joint_idx\"])) ### normalizing!!\n",
    "        too_many_shared_rate[s_ix] = too_many_shared.mean()\n",
    "        mixing_error_median[s_ix] = np.nanmedian(mixing_errors)\n",
    "        graph_error_median[s_ix] = np.nanmedian(graph_errors)\n",
    "        avg_number_shared[s_ix] = number_shared.mean()\n",
    "    return (avg_number_shared, too_many_shared_rate, mixing_error_median, graph_error_median)"
   ]
  },
  {
   "cell_type": "code",
   "execution_count": 4,
   "id": "c1e54d40",
   "metadata": {},
   "outputs": [],
   "source": [
    "nsamples_list = info2[\"metadata\"][\"nsamples_list\"]\n",
    "avg_number_shared2, too_many_shared_rate2, mixing_error_rate2, graph_error_median2 = get_statistics(info2)\n",
    "avg_number_shared3, too_many_shared_rate3, mixing_error_rate3, graph_error_median3 = get_statistics(info3)"
   ]
  },
  {
   "cell_type": "code",
   "execution_count": 5,
   "id": "24490cd7",
   "metadata": {},
   "outputs": [
    {
     "data": {
      "text/plain": [
       "array([0.049, 0.015, 0.004, 0.   , 0.   ])"
      ]
     },
     "execution_count": 5,
     "metadata": {},
     "output_type": "execute_result"
    }
   ],
   "source": [
    "too_many_shared_rate2"
   ]
  },
  {
   "cell_type": "code",
   "execution_count": 6,
   "id": "34b67aca",
   "metadata": {},
   "outputs": [
    {
     "data": {
      "text/plain": [
       "array([0.001, 0.005, 0.001, 0.   , 0.   ])"
      ]
     },
     "execution_count": 6,
     "metadata": {},
     "output_type": "execute_result"
    }
   ],
   "source": [
    "too_many_shared_rate3"
   ]
  },
  {
   "cell_type": "code",
   "execution_count": 7,
   "id": "1d962833",
   "metadata": {},
   "outputs": [
    {
     "data": {
      "text/plain": [
       "array([2.713, 2.887, 2.946, 2.978, 2.986])"
      ]
     },
     "execution_count": 7,
     "metadata": {},
     "output_type": "execute_result"
    }
   ],
   "source": [
    "avg_number_shared2"
   ]
  },
  {
   "cell_type": "code",
   "execution_count": 8,
   "id": "1026f106",
   "metadata": {},
   "outputs": [
    {
     "data": {
      "text/plain": [
       "array([1.387, 2.347, 2.68 , 2.852, 2.979])"
      ]
     },
     "execution_count": 8,
     "metadata": {},
     "output_type": "execute_result"
    }
   ],
   "source": [
    "avg_number_shared3"
   ]
  },
  {
   "cell_type": "code",
   "execution_count": 22,
   "id": "9940c2ae",
   "metadata": {},
   "outputs": [
    {
     "name": "stdout",
     "output_type": "stream",
     "text": [
      "(2, 3, 4)\n"
     ]
    }
   ],
   "source": [
    "a = (2,3,4)\n",
    "if a is not None:\n",
    "    print(a)«««"
   ]
  },
  {
   "cell_type": "code",
   "execution_count": 23,
   "id": "6e1df06d",
   "metadata": {},
   "outputs": [],
   "source": [
    "def plot(nsamples_list, stats2, stats3, ylabel=\"Score\", path=\"test.png\", fontsize=13, ylim=None):\n",
    "    sns.set()\n",
    "    plt.figure(figsize=(3.3,2.7))\n",
    "    plt.clf()\n",
    "    if ylim is not None:\n",
    "        plt.ylim(ylim)\n",
    "    plt.plot(nsamples_list, stats2, \"-\", color=\"blue\", label=\"2 domains\")\n",
    "    plt.plot(nsamples_list, stats3, \"--\", color=\"red\", label=\"3 domains\")\n",
    "    plt.xscale(\"log\")\n",
    "    plt.xlabel(\"Sample size\", fontsize=fontsize)\n",
    "    plt.ylabel(ylabel, fontsize=fontsize)\n",
    "    plt.legend(fontsize=fontsize)\n",
    "    plt.xticks(fontsize=fontsize)\n",
    "    plt.yticks(fontsize=fontsize)\n",
    "    plt.tight_layout()\n",
    "    plt.savefig(path)\n",
    "    plt.show()"
   ]
  },
  {
   "cell_type": "code",
   "execution_count": 25,
   "id": "166a0fa3",
   "metadata": {},
   "outputs": [
    {
     "data": {
      "image/png": "[encoded data removed]",
      "text/plain": [
       "<Figure size 237.6x194.4 with 1 Axes>"
      ]
     },
     "metadata": {},
     "output_type": "display_data"
    }
   ],
   "source": [
    "plot(nsamples_list, avg_number_shared2, avg_number_shared3,\n",
    "                ylabel=\"Average of $\\hat{\\ell}$\",\n",
    "                path=f\"experiments/results-paper/avg-shared-nodes_l={l}_d={d}_large.png\", ylim=(-0.1,3.1))"
   ]
  },
  {
   "cell_type": "code",
   "execution_count": 26,
   "id": "47e2f696",
   "metadata": {},
   "outputs": [
    {
     "data": {
      "image/png": "[encoded data removed]",
      "text/plain": [
       "<Figure size 237.6x194.4 with 1 Axes>"
      ]
     },
     "metadata": {},
     "output_type": "display_data"
    }
   ],
   "source": [
    "plot(nsamples_list, too_many_shared_rate2, too_many_shared_rate3,\n",
    "                ylabel=\"Fraction with $\\hat{\\ell} > \\ell$\",\n",
    "                path=f\"experiments/results-paper/too-many-shared-nodes_l={l}_d={d}_large.png\")"
   ]
  },
  {
   "cell_type": "code",
   "execution_count": 27,
   "id": "3ee372f0",
   "metadata": {},
   "outputs": [
    {
     "data": {
      "image/png": "[encoded data removed]",
      "text/plain": [
       "<Figure size 237.6x194.4 with 1 Axes>"
      ]
     },
     "metadata": {},
     "output_type": "display_data"
    }
   ],
   "source": [
    "plot(nsamples_list, mixing_error_rate2, mixing_error_rate3,\n",
    "                ylabel=\"score$_B$\",\n",
    "                path=f\"experiments/results-paper/mixing-error_l={l}_d={d}_large.png\")"
   ]
  },
  {
   "cell_type": "code",
   "execution_count": 28,
   "id": "e7731dcb",
   "metadata": {},
   "outputs": [
    {
     "data": {
      "image/png": "[encoded data removed]",
      "text/plain": [
       "<Figure size 237.6x194.4 with 1 Axes>"
      ]
     },
     "metadata": {},
     "output_type": "display_data"
    }
   ],
   "source": [
    "plot(nsamples_list, graph_error_median2, graph_error_median3,\n",
    "                ylabel=\"score$_A$\",\n",
    "                path=f\"experiments/results-paper/graph-error_l={l}_d={d}_large.png\")"
   ]
  },
  {
   "cell_type": "code",
   "execution_count": null,
   "id": "ce7eb177",
   "metadata": {},
   "outputs": [],
   "source": []
  }
 ],
 "metadata": {
  "kernelspec": {
   "display_name": "Python 3 (ipykernel)",
   "language": "python",
   "name": "python3"
  },
  "language_info": {
   "codemirror_mode": {
    "name": "ipython",
    "version": 3
   },
   "file_extension": ".py",
   "mimetype": "text/x-python",
   "name": "python",
   "nbconvert_exporter": "python",
   "pygments_lexer": "ipython3",
   "version": "3.9.12"
  }
 },
 "nbformat": 4,
 "nbformat_minor": 5
}
