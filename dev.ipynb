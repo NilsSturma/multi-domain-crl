{
 "cells": [
  {
   "cell_type": "code",
   "execution_count": 887,
   "id": "f4a0ee16",
   "metadata": {},
   "outputs": [],
   "source": [
    "import numpy as np\n",
    "from itertools import permutations\n",
    "from scipy.stats import beta, uniform, expon, lognorm, weibull_min, chi2, t, gumbel_r, skewnorm\n",
    "\n",
    "from src.learner import LinearMDCRL\n",
    "from experiments.rand import rand_model\n",
    "from experiments.utils import plot_hist_noise"
   ]
  },
  {
   "cell_type": "markdown",
   "id": "7084501d",
   "metadata": {},
   "source": [
    "## Create synthetic data"
   ]
  },
  {
   "cell_type": "code",
   "execution_count": 888,
   "id": "272348d6",
   "metadata": {},
   "outputs": [],
   "source": [
    "model_specs = {\n",
    "    \"nr_doms\": 3,\n",
    "    \"joint_idx\": [0,1,2,3],\n",
    "    \"domain_spec_idx\": [[4],[5],[6]],\n",
    "    \"noise_rvs\": [beta(2,3), expon(scale=0.1), skewnorm(a=6), gumbel_r, \n",
    "                  lognorm(s=1), weibull_min(c=2), chi2(df=6)],\n",
    "    \"sample_sizes\":  [10000, 10000, 10000],\n",
    "    \"dims\": [10,10,10],\n",
    "    \"graph_density\": 0.75,\n",
    "    \"mixing_density\": 0.9,\n",
    "    \"mixing_distribution\": 'unif',  # unif or normal\n",
    "    \"indep_domain_spec\": True\n",
    "}"
   ]
  },
  {
   "cell_type": "code",
   "execution_count": 889,
   "id": "24c2e6a2",
   "metadata": {},
   "outputs": [],
   "source": [
    "data, g, B_large = rand_model(model_specs)\n",
    "# Can we plot g with causaldag?"
   ]
  },
  {
   "cell_type": "code",
   "execution_count": 890,
   "id": "00a14142",
   "metadata": {},
   "outputs": [
    {
     "data": {
      "text/plain": [
       "array([[ 0.  ,  0.  ,  0.  ,  0.  ],\n",
       "       [ 0.  ,  0.  ,  0.  ,  0.  ],\n",
       "       [ 0.65, -0.69,  0.  ,  0.  ],\n",
       "       [-0.34,  0.  ,  0.  ,  0.  ]])"
      ]
     },
     "execution_count": 890,
     "metadata": {},
     "output_type": "execute_result"
    }
   ],
   "source": [
    "np.transpose(g.to_amat()).round(2)"
   ]
  },
  {
   "cell_type": "markdown",
   "id": "86a9a793",
   "metadata": {},
   "source": [
    "## Fit model"
   ]
  },
  {
   "cell_type": "code",
   "execution_count": 891,
   "id": "6bd87d92",
   "metadata": {},
   "outputs": [],
   "source": [
    "model = LinearMDCRL(metric=\"1-wasserstein\")\n",
    "model.fit(data)\n",
    "\n",
    "#plot_hist_noise(model.indep_comps)"
   ]
  },
  {
   "cell_type": "code",
   "execution_count": 892,
   "id": "42907705",
   "metadata": {},
   "outputs": [
    {
     "data": {
      "text/plain": [
       "4"
      ]
     },
     "execution_count": 892,
     "metadata": {},
     "output_type": "execute_result"
    }
   ],
   "source": [
    "model.nr_joint"
   ]
  },
  {
   "cell_type": "code",
   "execution_count": 893,
   "id": "f60cb94e",
   "metadata": {},
   "outputs": [
    {
     "data": {
      "text/plain": [
       "(30, 7)"
      ]
     },
     "execution_count": 893,
     "metadata": {},
     "output_type": "execute_result"
    }
   ],
   "source": [
    "model.joint_mixing.shape"
   ]
  },
  {
   "cell_type": "code",
   "execution_count": 894,
   "id": "37126091",
   "metadata": {
    "scrolled": false
   },
   "outputs": [
    {
     "data": {
      "text/plain": [
       "array([[-1.24,  0.15,  0.93, -0.84,  0.28,  0.  ,  0.  ],\n",
       "       [ 0.63,  0.61, -0.91, -0.03,  0.41,  0.  ,  0.  ],\n",
       "       [-0.8 , -0.02, -0.02, -0.02, -0.34,  0.  ,  0.  ],\n",
       "       [-0.01, -0.19, -0.01,  0.62,  0.65,  0.  ,  0.  ],\n",
       "       [-0.46, -0.68,  0.65,  0.82, -0.6 ,  0.  ,  0.  ],\n",
       "       [ 0.33, -0.09, -0.95, -0.26,  0.58,  0.  ,  0.  ],\n",
       "       [ 0.79, -0.16, -0.72,  0.95, -0.29,  0.  ,  0.  ],\n",
       "       [-0.14, -1.9 ,  0.95,  1.08, -0.39,  0.  ,  0.  ],\n",
       "       [-0.02,  0.82,  0.  , -0.03,  0.44,  0.  ,  0.  ],\n",
       "       [-0.64, -1.19,  0.98, -0.73, -0.87,  0.  ,  0.  ],\n",
       "       [ 0.75,  0.61, -0.51,  0.94,  0.  ,  0.62,  0.  ],\n",
       "       [-1.17, -0.91,  0.91, -1.02,  0.  , -0.16,  0.  ],\n",
       "       [ 0.37,  0.33, -0.49, -0.05,  0.  ,  0.66,  0.  ],\n",
       "       [-0.45, -0.01, -0.02,  0.03,  0.  , -0.25,  0.  ],\n",
       "       [ 1.07, -1.01, -0.27,  0.99,  0.  , -0.7 ,  0.  ],\n",
       "       [-0.01,  0.89, -0.04,  0.02,  0.  , -0.01,  0.  ],\n",
       "       [ 0.62,  0.75, -0.23,  0.34,  0.  ,  1.02,  0.  ],\n",
       "       [-0.  , -0.09,  0.01,  0.25,  0.  ,  0.03,  0.  ],\n",
       "       [ 0.57, -0.98,  0.47, -0.13,  0.  ,  0.78,  0.  ],\n",
       "       [ 0.21, -0.26, -0.64, -0.76,  0.  ,  0.87,  0.  ],\n",
       "       [ 1.29,  1.47, -0.46, -0.89,  0.  ,  0.  , -0.04],\n",
       "       [-0.48, -0.53,  0.01, -0.8 ,  0.  ,  0.  ,  0.58],\n",
       "       [ 0.95, -0.19,  0.01,  0.53,  0.  ,  0.  , -0.84],\n",
       "       [ 0.55,  0.03,  0.29, -0.65,  0.  ,  0.  ,  0.37],\n",
       "       [ 0.04,  0.74,  0.71, -0.92,  0.  ,  0.  ,  0.47],\n",
       "       [ 0.36,  0.94,  0.43, -0.87,  0.  ,  0.  ,  0.5 ],\n",
       "       [ 0.19, -0.32,  0.83, -0.64,  0.  ,  0.  ,  0.48],\n",
       "       [ 0.57,  0.88,  0.01,  0.25,  0.  ,  0.  , -0.68],\n",
       "       [ 0.98, -0.32, -0.38, -0.02,  0.  ,  0.  ,  0.8 ],\n",
       "       [ 1.18, -0.45, -0.74,  0.95,  0.  ,  0.  ,  0.01]])"
      ]
     },
     "execution_count": 894,
     "metadata": {},
     "output_type": "execute_result"
    }
   ],
   "source": [
    "model.joint_mixing.round(2)"
   ]
  },
  {
   "cell_type": "code",
   "execution_count": 895,
   "id": "5b994a83",
   "metadata": {},
   "outputs": [
    {
     "data": {
      "text/plain": [
       "array([[ 0. , -0. , -0. ,  0. ],\n",
       "       [ 0. , -0. , -0. , -0. ],\n",
       "       [ 0. , -0.3, -0. ,  0. ],\n",
       "       [-0.7,  0.6, -0. ,  0. ]])"
      ]
     },
     "execution_count": 895,
     "metadata": {},
     "output_type": "execute_result"
    }
   ],
   "source": [
    "model.A.round(1)"
   ]
  },
  {
   "cell_type": "code",
   "execution_count": 896,
   "id": "81e9a064",
   "metadata": {},
   "outputs": [
    {
     "data": {
      "text/plain": [
       "array([[ 0.  ,  0.  ,  0.  ,  0.  ],\n",
       "       [ 0.  ,  0.  ,  0.  ,  0.  ],\n",
       "       [ 0.65, -0.69,  0.  ,  0.  ],\n",
       "       [-0.34,  0.  ,  0.  ,  0.  ]])"
      ]
     },
     "execution_count": 896,
     "metadata": {},
     "output_type": "execute_result"
    }
   ],
   "source": [
    "# Check\n",
    "A = np.transpose(g.to_amat()).round(2)\n",
    "A"
   ]
  },
  {
   "cell_type": "markdown",
   "id": "4db019a0",
   "metadata": {},
   "source": [
    "# Score joint mixing matrix"
   ]
  },
  {
   "cell_type": "code",
   "execution_count": 897,
   "id": "db6c46ce",
   "metadata": {},
   "outputs": [],
   "source": [
    "def score_up_to_signed_perm(mat_hat, mat):\n",
    "    ncols = mat.shape[1]\n",
    "    min_error = float('inf')\n",
    "    for perm in permutations(np.arange(ncols), ncols):\n",
    "        error = np.linalg.norm(abs(mat_hat[:,perm]) - abs(mat))\n",
    "        if error < min_error:\n",
    "            min_error = error\n",
    "            best_perm = perm   \n",
    "    mat_hat = mat_hat[:, best_perm]\n",
    "    for i in range(ncols):\n",
    "        if np.linalg.norm(-mat_hat[:,i] - mat[:,i]) < np.linalg.norm(mat_hat[:,i] - mat[:,i]):\n",
    "            mat_hat[:,i] = -mat_hat[:,i]\n",
    "    return (np.linalg.norm(mat_hat - mat), mat_hat)\n",
    "\n",
    "# This is a two-step approach: \n",
    "# First look for best permutation in terms of comparing absoulte values,\n",
    "# then check if the column itself or multiplies with -1 is favorable"
   ]
  },
  {
   "cell_type": "code",
   "execution_count": 898,
   "id": "e56f202e",
   "metadata": {},
   "outputs": [],
   "source": [
    "def score_joint_mixing(B_hat, B, m):\n",
    "    \n",
    "    B_perm = B_hat.copy()\n",
    "    nr_joint = len(m[\"joint_idx\"])\n",
    "\n",
    "    # Score joint graph\n",
    "    res = score_up_to_signed_perm(B_hat[:,:nr_joint], B[:,:nr_joint])\n",
    "    B_perm[:,:nr_joint] = res[1]\n",
    "    \n",
    "    # Score domain-specific ones\n",
    "    current_col = nr_joint\n",
    "    for i in range(m[\"nr_doms\"]):\n",
    "        nlatents = len(m[\"domain_spec_idx\"][i])\n",
    "        res = score_up_to_signed_perm(B_hat[:,current_col:(current_col+nlatents)], \n",
    "                                      B[:,current_col:(current_col+nlatents)])\n",
    "        B_perm[:,current_col:(current_col+nlatents)] = res[1]\n",
    "        current_col = current_col+nlatents\n",
    "\n",
    "    final_score = np.linalg.norm(B_perm - B)\n",
    "    return (final_score, B_perm)"
   ]
  },
  {
   "cell_type": "code",
   "execution_count": 899,
   "id": "68141b0a",
   "metadata": {},
   "outputs": [],
   "source": [
    "B_hat = model.joint_mixing\n",
    "B = B_large"
   ]
  },
  {
   "cell_type": "code",
   "execution_count": 900,
   "id": "f1933aaf",
   "metadata": {},
   "outputs": [],
   "source": [
    "score, B_perm = score_joint_mixing(B_hat, B, model_specs)"
   ]
  },
  {
   "cell_type": "code",
   "execution_count": 901,
   "id": "20ad0d6a",
   "metadata": {},
   "outputs": [
    {
     "data": {
      "text/plain": [
       "0.45943630933029733"
      ]
     },
     "execution_count": 901,
     "metadata": {},
     "output_type": "execute_result"
    }
   ],
   "source": [
    "score"
   ]
  },
  {
   "cell_type": "code",
   "execution_count": 902,
   "id": "1c4bce89",
   "metadata": {},
   "outputs": [
    {
     "data": {
      "text/plain": [
       "array([[-0.06, -0.01,  0.03, -0.02, -0.01,  0.  , -0.  ],\n",
       "       [ 0.  ,  0.01, -0.02, -0.03,  0.  ,  0.  , -0.  ],\n",
       "       [-0.02, -0.01,  0.02, -0.02, -0.01,  0.  , -0.  ],\n",
       "       [ 0.02,  0.01,  0.01,  0.02,  0.01,  0.  , -0.  ],\n",
       "       [ 0.03, -0.  ,  0.03,  0.04,  0.  ,  0.  , -0.  ],\n",
       "       [-0.01, -0.01, -0.02, -0.01, -0.  ,  0.  , -0.  ],\n",
       "       [ 0.05,  0.01, -0.01,  0.02,  0.01,  0.  , -0.  ],\n",
       "       [ 0.06, -0.02,  0.03,  0.1 ,  0.01,  0.  , -0.  ],\n",
       "       [-0.01,  0.02, -0.  , -0.03,  0.  ,  0.  , -0.  ],\n",
       "       [-0.03, -0.04,  0.01,  0.04, -0.01,  0.  , -0.  ],\n",
       "       [-0.02, -0.  , -0.07, -0.05, -0.  ,  0.14, -0.  ],\n",
       "       [ 0.05, -0.  ,  0.02, -0.03, -0.  , -0.16, -0.  ],\n",
       "       [-0.01, -0.01, -0.04, -0.05, -0.  ,  0.03, -0.  ],\n",
       "       [-0.01,  0.01,  0.02,  0.03, -0.  ,  0.01, -0.  ],\n",
       "       [-0.05, -0.  , -0.03,  0.06, -0.  ,  0.13, -0.  ],\n",
       "       [ 0.01,  0.01,  0.04,  0.02, -0.  , -0.01, -0.  ],\n",
       "       [ 0.01, -0.01, -0.07, -0.1 , -0.  ,  0.05, -0.  ],\n",
       "       [-0.  ,  0.  , -0.01, -0.01, -0.  ,  0.03, -0.  ],\n",
       "       [ 0.04, -0.02, -0.11, -0.13, -0.  , -0.04, -0.  ],\n",
       "       [-0.01, -0.02, -0.06, -0.07, -0.  , -0.02, -0.  ],\n",
       "       [-0.03,  0.02, -0.05, -0.06, -0.  ,  0.  ,  0.04],\n",
       "       [-0.02,  0.  , -0.01,  0.03, -0.  ,  0.  , -0.  ],\n",
       "       [-0.  ,  0.02, -0.01, -0.01, -0.  ,  0.  ,  0.01],\n",
       "       [-0.02,  0.02, -0.03, -0.  , -0.  ,  0.  ,  0.02],\n",
       "       [-0.02,  0.03, -0.02, -0.01, -0.  ,  0.  ,  0.02],\n",
       "       [-0.01,  0.02, -0.02, -0.03, -0.  ,  0.  ,  0.03],\n",
       "       [-0.02,  0.03, -0.02,  0.02, -0.  ,  0.  ,  0.01],\n",
       "       [ 0.  ,  0.01, -0.01, -0.04, -0.  ,  0.  ,  0.02],\n",
       "       [ 0.01, -0.  , -0.02, -0.02, -0.  ,  0.  , -0.  ],\n",
       "       [ 0.02, -0.02, -0.  , -0.03, -0.  ,  0.  , -0.01]])"
      ]
     },
     "execution_count": 902,
     "metadata": {},
     "output_type": "execute_result"
    }
   ],
   "source": [
    "(B_perm - B).round(2)"
   ]
  },
  {
   "cell_type": "code",
   "execution_count": 903,
   "id": "f2d30ee4",
   "metadata": {},
   "outputs": [
    {
     "data": {
      "text/plain": [
       "array([[ 0.21,  1.25, -0.96, -0.82, -0.27,  0.  ,  0.  ],\n",
       "       [ 0.6 , -0.64,  0.93,  0.  , -0.41,  0.  ,  0.  ],\n",
       "       [ 0.  ,  0.8 ,  0.  ,  0.  ,  0.35,  0.  ,  0.  ],\n",
       "       [-0.21,  0.  ,  0.  ,  0.6 , -0.66,  0.  ,  0.  ],\n",
       "       [-0.71,  0.47, -0.68,  0.78,  0.6 ,  0.  ,  0.  ],\n",
       "       [-0.08, -0.32,  0.96, -0.26, -0.58,  0.  ,  0.  ],\n",
       "       [-0.21, -0.8 ,  0.74,  0.93,  0.28,  0.  ,  0.  ],\n",
       "       [-1.95,  0.17, -0.98,  0.97,  0.38,  0.  ,  0.  ],\n",
       "       [ 0.82,  0.  ,  0.  ,  0.  , -0.44,  0.  ,  0.  ],\n",
       "       [-1.16,  0.68, -0.99, -0.77,  0.89,  0.  ,  0.  ],\n",
       "       [ 0.63, -0.75,  0.58,  0.99,  0.  ,  0.48,  0.  ],\n",
       "       [-0.96,  1.17, -0.93, -0.99,  0.  ,  0.  ,  0.  ],\n",
       "       [ 0.35, -0.37,  0.53,  0.  ,  0.  ,  0.63,  0.  ],\n",
       "       [ 0.  ,  0.45,  0.  ,  0.  ,  0.  , -0.26,  0.  ],\n",
       "       [-0.96, -1.07,  0.3 ,  0.93,  0.  , -0.83,  0.  ],\n",
       "       [ 0.89,  0.  ,  0.  ,  0.  ,  0.  ,  0.  ,  0.  ],\n",
       "       [ 0.74, -0.61,  0.3 ,  0.44,  0.  ,  0.98,  0.  ],\n",
       "       [-0.09,  0.  ,  0.  ,  0.26,  0.  ,  0.  ,  0.  ],\n",
       "       [-1.01, -0.55, -0.36,  0.  ,  0.  ,  0.82,  0.  ],\n",
       "       [-0.25, -0.2 ,  0.7 , -0.69,  0.  ,  0.88,  0.  ],\n",
       "       [ 1.5 , -1.31,  0.51, -0.83,  0.  ,  0.  ,  0.  ],\n",
       "       [-0.51,  0.48,  0.  , -0.83,  0.  ,  0.  , -0.58],\n",
       "       [-0.18, -0.97,  0.  ,  0.54,  0.  ,  0.  ,  0.83],\n",
       "       [ 0.05, -0.57, -0.27, -0.65,  0.  ,  0.  , -0.38],\n",
       "       [ 0.75, -0.06, -0.69, -0.92,  0.  ,  0.  , -0.5 ],\n",
       "       [ 0.96, -0.38, -0.4 , -0.84,  0.  ,  0.  , -0.53],\n",
       "       [-0.3 , -0.22, -0.81, -0.66,  0.  ,  0.  , -0.5 ],\n",
       "       [ 0.88, -0.58,  0.  ,  0.29,  0.  ,  0.  ,  0.66],\n",
       "       [-0.32, -0.97,  0.4 ,  0.  ,  0.  ,  0.  , -0.79],\n",
       "       [-0.47, -1.16,  0.74,  0.98,  0.  ,  0.  ,  0.  ]])"
      ]
     },
     "execution_count": 903,
     "metadata": {},
     "output_type": "execute_result"
    }
   ],
   "source": [
    "B.round(2)"
   ]
  },
  {
   "cell_type": "code",
   "execution_count": 904,
   "id": "361c2f9a",
   "metadata": {},
   "outputs": [
    {
     "data": {
      "text/plain": [
       "array([[ 0.15,  1.24, -0.93, -0.84, -0.28,  0.  , -0.  ],\n",
       "       [ 0.61, -0.63,  0.91, -0.03, -0.41,  0.  , -0.  ],\n",
       "       [-0.02,  0.8 ,  0.02, -0.02,  0.34,  0.  , -0.  ],\n",
       "       [-0.19,  0.01,  0.01,  0.62, -0.65,  0.  , -0.  ],\n",
       "       [-0.68,  0.46, -0.65,  0.82,  0.6 ,  0.  , -0.  ],\n",
       "       [-0.09, -0.33,  0.95, -0.26, -0.58,  0.  , -0.  ],\n",
       "       [-0.16, -0.79,  0.72,  0.95,  0.29,  0.  , -0.  ],\n",
       "       [-1.9 ,  0.14, -0.95,  1.08,  0.39,  0.  , -0.  ],\n",
       "       [ 0.82,  0.02, -0.  , -0.03, -0.44,  0.  , -0.  ],\n",
       "       [-1.19,  0.64, -0.98, -0.73,  0.87,  0.  , -0.  ],\n",
       "       [ 0.61, -0.75,  0.51,  0.94, -0.  ,  0.62, -0.  ],\n",
       "       [-0.91,  1.17, -0.91, -1.02, -0.  , -0.16, -0.  ],\n",
       "       [ 0.33, -0.37,  0.49, -0.05, -0.  ,  0.66, -0.  ],\n",
       "       [-0.01,  0.45,  0.02,  0.03, -0.  , -0.25, -0.  ],\n",
       "       [-1.01, -1.07,  0.27,  0.99, -0.  , -0.7 , -0.  ],\n",
       "       [ 0.89,  0.01,  0.04,  0.02, -0.  , -0.01, -0.  ],\n",
       "       [ 0.75, -0.62,  0.23,  0.34, -0.  ,  1.02, -0.  ],\n",
       "       [-0.09,  0.  , -0.01,  0.25, -0.  ,  0.03, -0.  ],\n",
       "       [-0.98, -0.57, -0.47, -0.13, -0.  ,  0.78, -0.  ],\n",
       "       [-0.26, -0.21,  0.64, -0.76, -0.  ,  0.87, -0.  ],\n",
       "       [ 1.47, -1.29,  0.46, -0.89, -0.  ,  0.  ,  0.04],\n",
       "       [-0.53,  0.48, -0.01, -0.8 , -0.  ,  0.  , -0.58],\n",
       "       [-0.19, -0.95, -0.01,  0.53, -0.  ,  0.  ,  0.84],\n",
       "       [ 0.03, -0.55, -0.29, -0.65, -0.  ,  0.  , -0.37],\n",
       "       [ 0.74, -0.04, -0.71, -0.92, -0.  ,  0.  , -0.47],\n",
       "       [ 0.94, -0.36, -0.43, -0.87, -0.  ,  0.  , -0.5 ],\n",
       "       [-0.32, -0.19, -0.83, -0.64, -0.  ,  0.  , -0.48],\n",
       "       [ 0.88, -0.57, -0.01,  0.25, -0.  ,  0.  ,  0.68],\n",
       "       [-0.32, -0.98,  0.38, -0.02, -0.  ,  0.  , -0.8 ],\n",
       "       [-0.45, -1.18,  0.74,  0.95, -0.  ,  0.  , -0.01]])"
      ]
     },
     "execution_count": 904,
     "metadata": {},
     "output_type": "execute_result"
    }
   ],
   "source": [
    "B_perm.round(2)"
   ]
  },
  {
   "cell_type": "markdown",
   "id": "b6f0903a",
   "metadata": {},
   "source": [
    "# Score paramter matrix of latent graph"
   ]
  },
  {
   "cell_type": "code",
   "execution_count": 905,
   "id": "c154693c",
   "metadata": {},
   "outputs": [],
   "source": [
    "def permutations_respecting_graph(A):\n",
    "    l = A.shape[0]\n",
    "    adj = (A!=0)\n",
    "    respecting_perms = []\n",
    "    for perm in permutations(range(l),l):\n",
    "        is_respecting = True\n",
    "        for j in range(l):\n",
    "            for i in range(j+1,l):\n",
    "                if adj[i,j] and perm[j] > perm[i]:\n",
    "                    is_respecting = False\n",
    "                    break\n",
    "        if is_respecting:\n",
    "            respecting_perms.append(perm)\n",
    "    return(respecting_perms)\n",
    "\n",
    "# Attention: transposed mat\n",
    "def get_permutation_matrix(perm: list):\n",
    "    nodes = list(range(len(perm)))\n",
    "    mat = np.zeros((len(perm), len(perm)), dtype=int)\n",
    "    mat[nodes, perm] = 1\n",
    "    return mat.T"
   ]
  },
  {
   "cell_type": "code",
   "execution_count": 906,
   "id": "360f263f",
   "metadata": {},
   "outputs": [],
   "source": [
    "def score_graph_param_matrix(A_hat, A):\n",
    "    l = A.shape[0]\n",
    "    min_error = float('inf')\n",
    "    for perm in permutations_respecting_graph(A):\n",
    "        P = get_permutation_matrix(perm)\n",
    "        A_hat_perm = P @ A_hat @ P.T\n",
    "        error = np.linalg.norm(A_hat_perm - A)\n",
    "        if error < min_error:\n",
    "            min_error = error\n",
    "            best_solution = (min_error, A_hat_perm)\n",
    "    return best_solution"
   ]
  },
  {
   "cell_type": "code",
   "execution_count": 907,
   "id": "71801078",
   "metadata": {},
   "outputs": [
    {
     "data": {
      "text/plain": [
       "0.10054815031637314"
      ]
     },
     "execution_count": 907,
     "metadata": {},
     "output_type": "execute_result"
    }
   ],
   "source": [
    "score_graph_param_matrix(model.A, np.transpose(g.to_amat()))[0]"
   ]
  },
  {
   "cell_type": "code",
   "execution_count": 908,
   "id": "8985bf4c",
   "metadata": {},
   "outputs": [
    {
     "data": {
      "text/plain": [
       "array([[-0.01,  0.03, -0.  , -0.04],\n",
       "       [-0.05,  0.02,  0.03, -0.02],\n",
       "       [ 0.64, -0.7 ,  0.02, -0.02],\n",
       "       [-0.31,  0.04,  0.02, -0.01]])"
      ]
     },
     "execution_count": 908,
     "metadata": {},
     "output_type": "execute_result"
    }
   ],
   "source": [
    "score_graph_param_matrix(model.A, np.transpose(g.to_amat()))[1].round(2)"
   ]
  },
  {
   "cell_type": "code",
   "execution_count": 909,
   "id": "43bd3036",
   "metadata": {},
   "outputs": [
    {
     "data": {
      "text/plain": [
       "array([[ 0.  ,  0.  ,  0.  ,  0.  ],\n",
       "       [ 0.  ,  0.  ,  0.  ,  0.  ],\n",
       "       [ 0.65, -0.69,  0.  ,  0.  ],\n",
       "       [-0.34,  0.  ,  0.  ,  0.  ]])"
      ]
     },
     "execution_count": 909,
     "metadata": {},
     "output_type": "execute_result"
    }
   ],
   "source": [
    "# Check\n",
    "A = np.transpose(g.to_amat()).round(2)\n",
    "A"
   ]
  },
  {
   "cell_type": "markdown",
   "id": "e99bdd6f",
   "metadata": {},
   "source": [
    "TODO: \n",
    "- Implement a routine to check the solution of recovering the joint mixing matrix (involves permutations)\n",
    "- Implement a routine to check the causal order/ the parameter matrix of the graph\n",
    "- Write code for simulations\n",
    "\n",
    "Issues:\n",
    "- With the current implementation it can happen that G has zero rows...\n",
    "- Should be also possible to do first step with not allowing for pure children...\n",
    "- We need that effects on pure children are positive to get exact matrix?! (otherwise \"just\" correct structure)"
   ]
  },
  {
   "cell_type": "markdown",
   "id": "6f3e9376",
   "metadata": {},
   "source": [
    "## Old: Recover graph (in infinite data limit)"
   ]
  },
  {
   "cell_type": "code",
   "execution_count": 270,
   "id": "d9b539c4",
   "metadata": {},
   "outputs": [],
   "source": [
    "B = B_large[:,:4]\n",
    "B = B[:,[2,0,3,1]]  # add a permutation"
   ]
  },
  {
   "cell_type": "code",
   "execution_count": 271,
   "id": "177b0188",
   "metadata": {},
   "outputs": [],
   "source": [
    "def get_row_ranks(matrix):\n",
    "    d = matrix.shape[0]\n",
    "    R = np.zeros((d,d))\n",
    "    for i in range(d):\n",
    "        for j in range(i+1,d):\n",
    "            R[i,j] = np.linalg.matrix_rank(matrix[[i,j],:])\n",
    "    return R"
   ]
  },
  {
   "cell_type": "code",
   "execution_count": 272,
   "id": "7a4fa75e",
   "metadata": {},
   "outputs": [
    {
     "data": {
      "text/plain": [
       "array([[ 0.        , -0.53299559,  0.        ,  0.70059211],\n",
       "       [ 0.21788435, -0.02307926,  0.5478787 ,  0.50780665],\n",
       "       [ 0.        ,  0.42496325,  0.        ,  0.        ],\n",
       "       [ 0.46636378, -0.25776784,  0.        ,  0.        ]])"
      ]
     },
     "execution_count": 272,
     "metadata": {},
     "output_type": "execute_result"
    }
   ],
   "source": [
    "# Find pure children of all (different) latent nodes\n",
    "R = get_row_ranks(B) \n",
    "pos_rows = np.unique(np.where(R==1)[0])\n",
    "\n",
    "# Remove duplicates\n",
    "to_remove_idx = np.where(get_row_ranks(B[pos_rows,:])==1)[1]\n",
    "mask = np.ones(len(pos_rows), dtype=bool)\n",
    "mask[to_remove_idx] = False\n",
    "pos_rows = pos_rows[mask]\n",
    "B = B[pos_rows,:]\n",
    "B"
   ]
  },
  {
   "cell_type": "code",
   "execution_count": 273,
   "id": "cf93f4a1",
   "metadata": {},
   "outputs": [],
   "source": [
    "# Remove permutation indetermancies of rows and columns\n",
    "def single_support_rows(matrix):\n",
    "    d, l = matrix.shape\n",
    "    row_ids = []\n",
    "    max_ids = []\n",
    "    for i in range(d):\n",
    "        m = np.abs(matrix[i,:]).argmax()\n",
    "        mask = np.ones(l, dtype=bool)\n",
    "        mask[m] = False\n",
    "        if np.sum(np.abs(matrix[i,mask])) == 0:\n",
    "            row_ids.append(i)\n",
    "            max_ids.append(m)\n",
    "    return row_ids, max_ids\n",
    "\n",
    "def search_order(matrix):\n",
    "    d = matrix.shape[0]\n",
    "    order_rows = []\n",
    "    order_cols = []\n",
    "    original_idx_rows = np.arange(d)  \n",
    "    original_idx_cols = np.arange(d)  \n",
    "    while 0 < matrix.shape[0]:\n",
    "        # Find rows with all but one element equal to zero\n",
    "        row_ids, max_ids = single_support_rows(matrix)\n",
    "        if len(row_ids) == 0:\n",
    "            break\n",
    "        target_row = row_ids[0]\n",
    "        target_col = max_ids[0]\n",
    "        # Append index to order\n",
    "        order_rows.append(original_idx_rows[target_row])\n",
    "        order_cols.append(original_idx_cols[target_col])\n",
    "        original_idx_rows = np.delete(original_idx_rows, target_row)\n",
    "        original_idx_cols = np.delete(original_idx_cols, target_col)\n",
    "        # Remove the row and the column from B\n",
    "        row_mask = np.delete(np.arange(matrix.shape[0]), target_row)\n",
    "        col_mask = np.delete(np.arange(matrix.shape[1]), target_col)\n",
    "        matrix = matrix[row_mask,:][:, col_mask]\n",
    "    if len(order_rows) != d:\n",
    "            return None, None\n",
    "    return order_rows, order_cols"
   ]
  },
  {
   "cell_type": "code",
   "execution_count": 274,
   "id": "c5ff4f0d",
   "metadata": {},
   "outputs": [
    {
     "data": {
      "text/plain": [
       "array([[ 0.        , -0.53299559,  0.        ,  0.70059211],\n",
       "       [ 0.21788435, -0.02307926,  0.5478787 ,  0.50780665],\n",
       "       [ 0.        ,  0.42496325,  0.        ,  0.        ],\n",
       "       [ 0.46636378, -0.25776784,  0.        ,  0.        ]])"
      ]
     },
     "execution_count": 274,
     "metadata": {},
     "output_type": "execute_result"
    }
   ],
   "source": [
    "B"
   ]
  },
  {
   "cell_type": "code",
   "execution_count": 275,
   "id": "f8962cdc",
   "metadata": {},
   "outputs": [],
   "source": [
    "order_rows, order_cols = search_order(B)\n",
    "if order_rows is not None:\n",
    "    B = B[order_rows, :][:, order_cols]"
   ]
  },
  {
   "cell_type": "code",
   "execution_count": 276,
   "id": "143d01ed",
   "metadata": {},
   "outputs": [
    {
     "data": {
      "text/plain": [
       "array([[ 0.  ,  0.  ,  0.  ,  0.  ],\n",
       "       [-0.76,  0.  ,  0.  ,  0.  ],\n",
       "       [-0.55,  0.  ,  0.  ,  0.  ],\n",
       "       [ 0.88,  0.93,  0.4 ,  0.  ]])"
      ]
     },
     "execution_count": 276,
     "metadata": {},
     "output_type": "execute_result"
    }
   ],
   "source": [
    "# Remove scaling indetermancy and solve for A\n",
    "np.eye(B.shape[0]) - np.linalg.inv(np.matmul(np.diag(1/np.diag(B)), B)).round(2)"
   ]
  },
  {
   "cell_type": "code",
   "execution_count": 277,
   "id": "079ff199",
   "metadata": {},
   "outputs": [
    {
     "data": {
      "text/plain": [
       "array([[ 0.  ,  0.  ,  0.  ,  0.  ],\n",
       "       [-0.76,  0.  ,  0.  ,  0.  ],\n",
       "       [-0.55,  0.  ,  0.  ,  0.  ],\n",
       "       [ 0.88,  0.93,  0.4 ,  0.  ]])"
      ]
     },
     "execution_count": 277,
     "metadata": {},
     "output_type": "execute_result"
    }
   ],
   "source": [
    "# Check\n",
    "np.transpose(g.to_amat()).round(2)"
   ]
  },
  {
   "cell_type": "code",
   "execution_count": 278,
   "id": "249172d0",
   "metadata": {},
   "outputs": [],
   "source": [
    "## okay up to relabeling that preserves causal order, etc"
   ]
  },
  {
   "cell_type": "markdown",
   "id": "fe49a224",
   "metadata": {},
   "source": [
    "## Old: Recover noisy graph"
   ]
  },
  {
   "cell_type": "code",
   "execution_count": 279,
   "id": "c6a58d49",
   "metadata": {},
   "outputs": [],
   "source": [
    "l = len(model.joint_factors)\n",
    "B_hat = model.joint_mixing[:,:l]#B_large[:,:l]#"
   ]
  },
  {
   "cell_type": "code",
   "execution_count": 280,
   "id": "a02c2be2",
   "metadata": {},
   "outputs": [],
   "source": [
    "def score_rows(matrix):\n",
    "    d = matrix.shape[0]\n",
    "    R = np.full(shape=(d,d),fill_value=.0)\n",
    "    for i in range(d):\n",
    "        for j in range(i+1,d):\n",
    "            u, s, v = np.linalg.svd(matrix[[i,j],:])\n",
    "            #s2 = np.sort(s) ** 2\n",
    "            #R[i,j] = s2[-1] / s2.sum()\n",
    "            R[i,j] = 1/(min(s)+0000000.1)\n",
    "    return R"
   ]
  },
  {
   "cell_type": "code",
   "execution_count": 281,
   "id": "16bc88f3",
   "metadata": {},
   "outputs": [],
   "source": [
    "# Having 2*l candidates for the pure children, we have to make sure that they are pure children from different nodes\n",
    "\n",
    "# Checks: \n",
    "# - 8 unique children\n",
    "# - the rank between two children from different nodes should be 2 (p(W)<level)\n",
    "# - If a two-children tuple does not satisfy one of the above checks: \n",
    "#    Remove it from candidate list. Add two-children tuple with next highest p(W) to candidate list"
   ]
  },
  {
   "cell_type": "code",
   "execution_count": 282,
   "id": "d2ff79fa",
   "metadata": {},
   "outputs": [],
   "source": [
    "def get_duplicates(cand_ids, ord_tup):\n",
    "    l = len(cand_ids)\n",
    "    ids0 = ord_tup[0][cand_ids]\n",
    "    ids1 = ord_tup[1][cand_ids]\n",
    "    uniques = np.unique(np.concatenate((ids0, ids1), axis=0))\n",
    "    if len(uniques)==(2*l):\n",
    "        return None\n",
    "    else:\n",
    "        for i in range(l):\n",
    "            for j in range(i+1,l):\n",
    "                if (ids0[i]==ids0[j]) or (ids0[i]==ids1[j]):\n",
    "                    return cand_ids[j]"
   ]
  },
  {
   "cell_type": "code",
   "execution_count": 283,
   "id": "5ae5602e",
   "metadata": {},
   "outputs": [],
   "source": [
    "def get_low_rank(cand_ids, ord_tup, R, level=0.95):\n",
    "    ids0 = ord_tup[0][cand_ids]\n",
    "    ids1 = ord_tup[1][cand_ids]\n",
    "    #print(ids0,  ids1)\n",
    "    for i in range(l):\n",
    "        for j in range(i+1,l):\n",
    "            if (R[ids0[i],ids0[j]] > level) or (R[ids0[i],ids1[j]] > level):\n",
    "                #print(i,j,R[ids0[i],ids0[j]],R[ids0[i],ids1[j]])\n",
    "                return cand_ids[i], cand_ids[j]\n",
    "    return None        "
   ]
  },
  {
   "cell_type": "code",
   "execution_count": 284,
   "id": "068c401d",
   "metadata": {},
   "outputs": [],
   "source": [
    "def update_cand_ids(cand_ids, to_remove):\n",
    "    current_max = max(cand_ids)\n",
    "    cand_ids.remove(to_remove)\n",
    "    cand_ids.append(current_max+1)\n",
    "    return(cand_ids)"
   ]
  },
  {
   "cell_type": "code",
   "execution_count": 285,
   "id": "3a3584d2",
   "metadata": {},
   "outputs": [],
   "source": [
    "def get_pure_children(B):\n",
    "    \n",
    "    # Score all pairs of rows\n",
    "    R = score_rows(B)\n",
    "    d = R.shape[0]\n",
    "    nr_tuples = int(d * (d-1) / 2)\n",
    "    \n",
    "    ord_tup = np.unravel_index(R.ravel().argsort(), R.shape)\n",
    "    ord_tup = (np.flip(ord_tup[0][nr_tuples:]), \n",
    "               np.flip(ord_tup[1][nr_tuples:]))\n",
    "    \n",
    "    # Make R symmetric now (important)\n",
    "    for i in range(d):\n",
    "        for j in range(i+1,d):\n",
    "            R[j,i]=R[i,j]\n",
    "            \n",
    "    # Choose rows that maximize thw \"within-tuple\" score and at the same time have a low \"inter-tuple\" score \n",
    "    cand_ids = list(np.arange(l))\n",
    "    while max(cand_ids) < nr_tuples:\n",
    "        to_remove = get_duplicates(cand_ids, ord_tup)\n",
    "        if to_remove is not None:\n",
    "            cand_ids = update_cand_ids(cand_ids, to_remove)\n",
    "            continue\n",
    "        to_remove = get_low_rank(cand_ids, ord_tup, R, level=10)\n",
    "        if to_remove is not None:\n",
    "            temp_cands = cand_ids.copy()\n",
    "            temp_cands = update_cand_ids(temp_cands, to_remove[0])\n",
    "            if get_low_rank(temp_cands, ord_tup, R, level=10) is None:\n",
    "                cand_ids = update_cand_ids(cand_ids, to_remove[0])\n",
    "            else:\n",
    "                cand_ids = update_cand_ids(cand_ids, to_remove[1])\n",
    "            continue\n",
    "        break   \n",
    "    pure_children_rows = ord_tup[0][cand_ids]\n",
    "    pure_children_rows\n",
    "    \n",
    "    return B[pure_children_rows,:]  "
   ]
  },
  {
   "cell_type": "code",
   "execution_count": 286,
   "id": "67c4a885",
   "metadata": {},
   "outputs": [
    {
     "data": {
      "text/plain": [
       "array([[-0.71,  0.02, -0.02,  0.52],\n",
       "       [ 0.01, -0.02,  0.01, -0.43],\n",
       "       [-0.02,  0.03,  0.45,  0.26],\n",
       "       [-0.52,  0.56,  0.19, -0.01]])"
      ]
     },
     "execution_count": 286,
     "metadata": {},
     "output_type": "execute_result"
    }
   ],
   "source": [
    "B_star = get_pure_children(B_hat)\n",
    "B_star.round(2)"
   ]
  },
  {
   "cell_type": "code",
   "execution_count": 287,
   "id": "b857be61",
   "metadata": {},
   "outputs": [],
   "source": [
    "def l2_without_max(x):\n",
    "    m = np.abs(x).argmax()\n",
    "    mask = np.ones(len(x), dtype=bool)\n",
    "    mask[m] = False\n",
    "    return np.linalg.norm(x[mask])\n",
    "\n",
    "def search_order_noisy(matrix):\n",
    "    d = matrix.shape[0]\n",
    "    order_rows = []\n",
    "    order_cols = []\n",
    "    original_idx_rows = np.arange(d)  \n",
    "    original_idx_cols = np.arange(d)  \n",
    "    while 0 < matrix.shape[0]:\n",
    "        # Find row with lowest l2 norm where all entries but the maximum are considered\n",
    "        target_row = np.apply_along_axis(l2_without_max, 1, matrix).argmin()\n",
    "        target_col = abs(matrix[target_row,:]).argmax()\n",
    "        # Append index to order\n",
    "        order_rows.append(original_idx_rows[target_row])\n",
    "        order_cols.append(original_idx_cols[target_col])\n",
    "        original_idx_rows = np.delete(original_idx_rows, target_row)\n",
    "        original_idx_cols = np.delete(original_idx_cols, target_col)\n",
    "        # Remove the row and the column from B\n",
    "        row_mask = np.delete(np.arange(matrix.shape[0]), target_row)\n",
    "        col_mask = np.delete(np.arange(matrix.shape[1]), target_col)\n",
    "        matrix = matrix[row_mask,:][:, col_mask]\n",
    "    if len(order_rows) != d:\n",
    "            return None, None\n",
    "    return order_rows, order_cols"
   ]
  },
  {
   "cell_type": "code",
   "execution_count": 288,
   "id": "f17efa8d",
   "metadata": {},
   "outputs": [
    {
     "data": {
      "text/plain": [
       "array([[-0.43,  0.01,  0.01, -0.02],\n",
       "       [ 0.52, -0.71, -0.02,  0.02],\n",
       "       [ 0.26, -0.02,  0.45,  0.03],\n",
       "       [-0.01, -0.52,  0.19,  0.56]])"
      ]
     },
     "execution_count": 288,
     "metadata": {},
     "output_type": "execute_result"
    }
   ],
   "source": [
    "order_rows, order_cols = search_order_noisy(B_star)\n",
    "if order_rows is not None:\n",
    "    B_star = B_star[order_rows, :][:, order_cols]\n",
    "B_star.round(2)"
   ]
  },
  {
   "cell_type": "code",
   "execution_count": 291,
   "id": "3d6f4f8a",
   "metadata": {},
   "outputs": [
    {
     "data": {
      "text/plain": [
       "array([[ 0.03,  0.02,  0.03, -0.04],\n",
       "       [-0.75, -0.01, -0.01,  0.  ],\n",
       "       [-0.6 , -0.01, -0.01,  0.05],\n",
       "       [ 0.91,  0.93,  0.35, -0.02]])"
      ]
     },
     "execution_count": 291,
     "metadata": {},
     "output_type": "execute_result"
    }
   ],
   "source": [
    "# Remove sign indetermancy from columns\n",
    "B_star = np.matmul(B_star, np.diag(np.sign(np.diag(B_star))))\n",
    "\n",
    "# Remove scaling indetermancy from rows  and solve for A\n",
    "B_star = np.matmul(np.diag(1/np.diag(B_star)), B_star)\n",
    "\n",
    "# Solve for A\n",
    "A = (np.eye(B_star.shape[0]) - np.linalg.inv(B_star))\n",
    "A.round(2)"
   ]
  },
  {
   "cell_type": "code",
   "execution_count": 292,
   "id": "309ca8c1",
   "metadata": {},
   "outputs": [
    {
     "data": {
      "text/plain": [
       "array([[ 0.  ,  0.  ,  0.  ,  0.  ],\n",
       "       [-0.76,  0.  ,  0.  ,  0.  ],\n",
       "       [-0.55,  0.  ,  0.  ,  0.  ],\n",
       "       [ 0.88,  0.93,  0.4 ,  0.  ]])"
      ]
     },
     "execution_count": 292,
     "metadata": {},
     "output_type": "execute_result"
    }
   ],
   "source": [
    "# Check\n",
    "np.transpose(g.to_amat()).round(2)"
   ]
  },
  {
   "cell_type": "code",
   "execution_count": null,
   "id": "c42598b0",
   "metadata": {},
   "outputs": [],
   "source": []
  },
  {
   "cell_type": "code",
   "execution_count": null,
   "id": "681a7c3a",
   "metadata": {},
   "outputs": [],
   "source": []
  }
 ],
 "metadata": {
  "kernelspec": {
   "display_name": "Python 3 (ipykernel)",
   "language": "python",
   "name": "python3"
  },
  "language_info": {
   "codemirror_mode": {
    "name": "ipython",
    "version": 3
   },
   "file_extension": ".py",
   "mimetype": "text/x-python",
   "name": "python",
   "nbconvert_exporter": "python",
   "pygments_lexer": "ipython3",
   "version": "3.9.12"
  }
 },
 "nbformat": 4,
 "nbformat_minor": 5
}
