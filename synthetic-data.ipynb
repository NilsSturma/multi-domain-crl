{
 "cells": [
  {
   "cell_type": "code",
   "execution_count": 1,
   "id": "e389230a",
   "metadata": {},
   "outputs": [],
   "source": [
    "%matplotlib inline\n",
    "\n",
    "import numpy as np\n",
    "from scipy.stats import uniform, expon, lognorm, weibull_min, chi2, wasserstein_distance\n",
    "from scipy.special import gamma\n",
    "import matplotlib.pyplot as plt\n",
    "from sklearn.decomposition import FastICA"
   ]
  },
  {
   "cell_type": "code",
   "execution_count": 2,
   "id": "fe4932b4",
   "metadata": {},
   "outputs": [],
   "source": [
    "rvs = [uniform(), expon(scale=0.1), lognorm(s=1), weibull_min(c=2), chi2(df=4)]"
   ]
  },
  {
   "cell_type": "code",
   "execution_count": 3,
   "id": "c325c103",
   "metadata": {},
   "outputs": [],
   "source": [
    "def sample_normed(n, rv):\n",
    "    return (rv.rvs(size=n) - rv.mean()) / rv.std()"
   ]
  },
  {
   "cell_type": "code",
   "execution_count": 4,
   "id": "acf3aab3",
   "metadata": {},
   "outputs": [],
   "source": [
    "n = 5000\n",
    "eps = np.zeros((n,len(rvs)))\n",
    "for i, rv in enumerate(rvs):\n",
    "    eps[:,i] = sample_normed(n,rv)"
   ]
  },
  {
   "cell_type": "code",
   "execution_count": 5,
   "id": "f405c1e8",
   "metadata": {},
   "outputs": [],
   "source": [
    "# 1-Wasserstein metric between empirical distributions\n",
    "\n",
    "def wasserstein_dist(X1,X2):\n",
    "    p1 = X1.shape[1]\n",
    "    p2 = X2.shape[1]\n",
    "    D = np.zeros((p1,p2))\n",
    "    for i in range(p1):\n",
    "        for j in range(p2):\n",
    "            D[i,j] = wasserstein_distance(X1[:,i],X2[:,j]) \n",
    "    return D"
   ]
  },
  {
   "cell_type": "code",
   "execution_count": 6,
   "id": "ca6bbf79",
   "metadata": {},
   "outputs": [
    {
     "data": {
      "text/plain": [
       "array([[0.        , 0.37481218, 0.5484035 , 0.16906347, 0.28857013],\n",
       "       [0.37481218, 0.        , 0.22881496, 0.20853596, 0.08940272],\n",
       "       [0.5484035 , 0.22881496, 0.        , 0.39461488, 0.27866645],\n",
       "       [0.16906347, 0.20853596, 0.39461488, 0.        , 0.12460499],\n",
       "       [0.28857013, 0.08940272, 0.27866645, 0.12460499, 0.        ]])"
      ]
     },
     "execution_count": 6,
     "metadata": {},
     "output_type": "execute_result"
    }
   ],
   "source": [
    "wasserstein_dist(eps,eps)"
   ]
  },
  {
   "cell_type": "code",
   "execution_count": 7,
   "id": "d0b72f17",
   "metadata": {},
   "outputs": [],
   "source": [
    "def plot_density(rv):\n",
    "    x = np.linspace(rv.ppf(0.00), rv.ppf(0.999), 100)\n",
    "    plt.plot(x, rv.pdf(x), 'r-', lw=3, alpha=0.6)\n",
    "    plt.show()\n",
    "    \n",
    "def plot_hist(x):\n",
    "    plt.hist(x, bins=50)\n",
    "    plt.show()"
   ]
  },
  {
   "cell_type": "code",
   "execution_count": 8,
   "id": "57edeacd",
   "metadata": {},
   "outputs": [
    {
     "data": {
      "image/png": "[encoded data removed]",
      "text/plain": [
       "<Figure size 432x288 with 1 Axes>"
      ]
     },
     "metadata": {
      "needs_background": "light"
     },
     "output_type": "display_data"
    },
    {
     "data": {
      "image/png": "[encoded data removed]",
      "text/plain": [
       "<Figure size 432x288 with 1 Axes>"
      ]
     },
     "metadata": {
      "needs_background": "light"
     },
     "output_type": "display_data"
    },
    {
     "data": {
      "image/png": "[encoded data removed]",
      "text/plain": [
       "<Figure size 432x288 with 1 Axes>"
      ]
     },
     "metadata": {
      "needs_background": "light"
     },
     "output_type": "display_data"
    },
    {
     "data": {
      "image/png": "[encoded data removed]",
      "text/plain": [
       "<Figure size 432x288 with 1 Axes>"
      ]
     },
     "metadata": {
      "needs_background": "light"
     },
     "output_type": "display_data"
    },
    {
     "data": {
      "image/png": "[encoded data removed]",
      "text/plain": [
       "<Figure size 432x288 with 1 Axes>"
      ]
     },
     "metadata": {
      "needs_background": "light"
     },
     "output_type": "display_data"
    }
   ],
   "source": [
    "for i in range(len(rvs)):\n",
    "    plot_hist(eps[:,i])"
   ]
  },
  {
   "cell_type": "markdown",
   "id": "a8ecd85b",
   "metadata": {},
   "source": [
    "### Create synthetic observations"
   ]
  },
  {
   "cell_type": "code",
   "execution_count": 9,
   "id": "8bae9759",
   "metadata": {},
   "outputs": [],
   "source": [
    "nlat = 5\n",
    "joint_latents = [0,1]\n",
    "env1_specific = [2]\n",
    "env2_specific = [3]\n",
    "env3_specific = [4]\n",
    "d1 = 10\n",
    "d2 = 10\n",
    "d3 = 10\n",
    "\n",
    "env1_latents = joint_latents + env1_specific\n",
    "env2_latents = joint_latents + env2_specific\n",
    "env3_latents = joint_latents + env3_specific"
   ]
  },
  {
   "cell_type": "code",
   "execution_count": 10,
   "id": "efa0a70e",
   "metadata": {},
   "outputs": [],
   "source": [
    "def matrix_from_normal(shape, mu=0, sigma=1):\n",
    "    A = np.random.normal(loc=mu, scale=sigma, size=shape)\n",
    "    return A"
   ]
  },
  {
   "cell_type": "code",
   "execution_count": 11,
   "id": "3c71db2e",
   "metadata": {},
   "outputs": [
    {
     "data": {
      "text/plain": [
       "array([[ 2.70684984,  0.62813271,  0.90796945],\n",
       "       [ 0.50382575,  0.65111795, -0.31931804],\n",
       "       [-0.84807698,  0.60596535, -2.01816824],\n",
       "       [ 0.74012206,  0.52881349, -0.58900053],\n",
       "       [ 0.18869531, -0.75887206, -0.93323722],\n",
       "       [ 0.95505651,  0.19079432,  1.97875732],\n",
       "       [ 2.60596728,  0.68350889,  0.30266545],\n",
       "       [ 1.69372293, -1.70608593, -1.15911942],\n",
       "       [-0.13484072,  0.39052784,  0.16690464],\n",
       "       [ 0.18450186,  0.80770591,  0.07295968]])"
      ]
     },
     "execution_count": 11,
     "metadata": {},
     "output_type": "execute_result"
    }
   ],
   "source": [
    "# Sample entries of G1\n",
    "np.random.seed(101)\n",
    "G1 = matrix_from_normal(shape=(d1,len(env1_latents)))\n",
    "G1"
   ]
  },
  {
   "cell_type": "code",
   "execution_count": 12,
   "id": "c0d7548d",
   "metadata": {},
   "outputs": [],
   "source": [
    "# G2 and G3\n",
    "np.random.seed(102)\n",
    "G2 = matrix_from_normal(shape=(d2,len(env2_latents)))\n",
    "\n",
    "np.random.seed(103)\n",
    "G3 = matrix_from_normal(shape=(d3,len(env3_latents)))"
   ]
  },
  {
   "cell_type": "code",
   "execution_count": 13,
   "id": "44746bda",
   "metadata": {},
   "outputs": [],
   "source": [
    "# Create synthetic data\n",
    "X1 =  np.matmul(G1, np.transpose(eps)[env1_latents,:])\n",
    "X2 =  np.matmul(G2, np.transpose(eps)[env2_latents,:])\n",
    "X3 =  np.matmul(G3, np.transpose(eps)[env3_latents,:])"
   ]
  },
  {
   "cell_type": "code",
   "execution_count": 14,
   "id": "97f4ea98",
   "metadata": {},
   "outputs": [
    {
     "data": {
      "text/plain": [
       "[0, 1, 3]"
      ]
     },
     "execution_count": 14,
     "metadata": {},
     "output_type": "execute_result"
    }
   ],
   "source": [
    "env2_latents"
   ]
  },
  {
   "cell_type": "markdown",
   "id": "3f32a74d",
   "metadata": {},
   "source": [
    "### Apply linear ICA to recover the (empirical) distribution of the sources"
   ]
  },
  {
   "cell_type": "code",
   "execution_count": 15,
   "id": "42e50ffb",
   "metadata": {},
   "outputs": [],
   "source": [
    "def rescale_columns(X):\n",
    "    for i in range(X.shape[1]):\n",
    "        X[:,i] = (X[:,i] - X[:,i].mean()) / X[:,i].std()\n",
    "    return X\n",
    "\n",
    "# X1 has shape p x n\n",
    "def get_sources(X, seed=101):\n",
    "    cov = np.cov(X)\n",
    "    rk = np.linalg.matrix_rank(cov)\n",
    "    print(\"Rank:\", rk)\n",
    "    \n",
    "    ICA = FastICA(n_components=rk, random_state=seed, whiten='unit-variance', max_iter=1000) \n",
    "    ICA.fit(np.transpose(X))\n",
    "    print(\"Iterations:\", ICA.n_iter_)\n",
    "    eps = ICA.transform(np.transpose(X))\n",
    "    scaling = eps.std(axis=0)\n",
    "    \n",
    "    eps = rescale_columns(eps)\n",
    "    mixing = np.matmul(ICA.mixing_, np.diag(scaling))    \n",
    "    \n",
    "    return eps, mixing"
   ]
  },
  {
   "cell_type": "code",
   "execution_count": 16,
   "id": "8eafb47b",
   "metadata": {},
   "outputs": [
    {
     "name": "stdout",
     "output_type": "stream",
     "text": [
      "Rank: 3\n",
      "Iterations: 5\n"
     ]
    }
   ],
   "source": [
    "eps1, mixing1 = get_sources(X1, seed=101)"
   ]
  },
  {
   "cell_type": "code",
   "execution_count": 17,
   "id": "f00137a9",
   "metadata": {},
   "outputs": [
    {
     "data": {
      "text/plain": [
       "array([[-2.686033  ,  0.91756252, -0.60483185],\n",
       "       [-0.51721032, -0.32189491, -0.66136035],\n",
       "       [ 0.79719259, -2.04826756, -0.64071549],\n",
       "       [-0.75538092, -0.59978692, -0.53501842],\n",
       "       [-0.19319752, -0.96155407,  0.77281416],\n",
       "       [-0.91667315,  2.01587942, -0.17269777],\n",
       "       [-2.59767577,  0.3009987 , -0.66599436],\n",
       "       [-1.68007019, -1.21086735,  1.75774962],\n",
       "       [ 0.13119064,  0.17525964, -0.39988845],\n",
       "       [-0.1947062 ,  0.08195649, -0.82305703]])"
      ]
     },
     "execution_count": 17,
     "metadata": {},
     "output_type": "execute_result"
    }
   ],
   "source": [
    "mixing1"
   ]
  },
  {
   "cell_type": "code",
   "execution_count": 18,
   "id": "f1ee2afd",
   "metadata": {},
   "outputs": [
    {
     "name": "stdout",
     "output_type": "stream",
     "text": [
      "Rank: 3\n",
      "Iterations: 7\n"
     ]
    }
   ],
   "source": [
    "eps2, mixing2 = get_sources(X2, seed=102)"
   ]
  },
  {
   "cell_type": "code",
   "execution_count": 20,
   "id": "76e3ead9",
   "metadata": {},
   "outputs": [
    {
     "name": "stdout",
     "output_type": "stream",
     "text": [
      "Rank: 3\n",
      "Iterations: 4\n"
     ]
    }
   ],
   "source": [
    "eps3, mixing3 = get_sources(X3, seed=103)"
   ]
  },
  {
   "cell_type": "markdown",
   "id": "450cd263",
   "metadata": {},
   "source": [
    "### Plot recovered distributions"
   ]
  },
  {
   "cell_type": "code",
   "execution_count": 21,
   "id": "5bfd7eb4",
   "metadata": {},
   "outputs": [
    {
     "data": {
      "image/png": "[encoded data removed]",
      "text/plain": [
       "<Figure size 432x288 with 1 Axes>"
      ]
     },
     "metadata": {
      "needs_background": "light"
     },
     "output_type": "display_data"
    },
    {
     "data": {
      "image/png": "[encoded data removed]",
      "text/plain": [
       "<Figure size 432x288 with 1 Axes>"
      ]
     },
     "metadata": {
      "needs_background": "light"
     },
     "output_type": "display_data"
    },
    {
     "data": {
      "image/png": "[encoded data removed]",
      "text/plain": [
       "<Figure size 432x288 with 1 Axes>"
      ]
     },
     "metadata": {
      "needs_background": "light"
     },
     "output_type": "display_data"
    }
   ],
   "source": [
    "# Domain 1\n",
    "for i in range(eps1.shape[1]):\n",
    "    plot_hist(eps1[:,i])"
   ]
  },
  {
   "cell_type": "code",
   "execution_count": 22,
   "id": "83d6c86b",
   "metadata": {},
   "outputs": [
    {
     "data": {
      "image/png": "[encoded data removed]",
      "text/plain": [
       "<Figure size 432x288 with 1 Axes>"
      ]
     },
     "metadata": {
      "needs_background": "light"
     },
     "output_type": "display_data"
    },
    {
     "data": {
      "image/png": "[encoded data removed]",
      "text/plain": [
       "<Figure size 432x288 with 1 Axes>"
      ]
     },
     "metadata": {
      "needs_background": "light"
     },
     "output_type": "display_data"
    },
    {
     "data": {
      "image/png": "[encoded data removed]",
      "text/plain": [
       "<Figure size 432x288 with 1 Axes>"
      ]
     },
     "metadata": {
      "needs_background": "light"
     },
     "output_type": "display_data"
    }
   ],
   "source": [
    "# Domain 2\n",
    "for i in range(eps2.shape[1]):\n",
    "    plot_hist(eps2[:,i])"
   ]
  },
  {
   "cell_type": "code",
   "execution_count": 23,
   "id": "8926a8e7",
   "metadata": {},
   "outputs": [
    {
     "data": {
      "image/png": "[encoded data removed]",
      "text/plain": [
       "<Figure size 432x288 with 1 Axes>"
      ]
     },
     "metadata": {
      "needs_background": "light"
     },
     "output_type": "display_data"
    },
    {
     "data": {
      "image/png": "[encoded data removed]",
      "text/plain": [
       "<Figure size 432x288 with 1 Axes>"
      ]
     },
     "metadata": {
      "needs_background": "light"
     },
     "output_type": "display_data"
    },
    {
     "data": {
      "image/png": "[encoded data removed]",
      "text/plain": [
       "<Figure size 432x288 with 1 Axes>"
      ]
     },
     "metadata": {
      "needs_background": "light"
     },
     "output_type": "display_data"
    }
   ],
   "source": [
    "# Domain 3\n",
    "for i in range(eps3.shape[1]):\n",
    "    plot_hist(eps3[:,i])"
   ]
  },
  {
   "cell_type": "markdown",
   "id": "1e56b7f4",
   "metadata": {},
   "source": [
    "### Matching\n",
    "#### Domain 1 and 2"
   ]
  },
  {
   "cell_type": "code",
   "execution_count": 24,
   "id": "5062e37d",
   "metadata": {},
   "outputs": [],
   "source": [
    "def wasserstein_dist_signed(X1,X2):\n",
    "    p1 = X1.shape[1]\n",
    "    p2 = X2.shape[1]\n",
    "    D_large = np.zeros((p1,2*p2))\n",
    "    X2_large = np.concatenate((X2,-X2),axis=1)\n",
    "    for i in range(p1):\n",
    "        for j in range(2*p2):\n",
    "            D_large[i,j] = wasserstein_distance(X1[:,i],X2_large[:,j]) \n",
    "    D = np.zeros((p1,p2))\n",
    "    for i in range(p2):\n",
    "        D[:,i] = D_large[:,[i,i+p2]].min(axis=1)\n",
    "    return D"
   ]
  },
  {
   "cell_type": "code",
   "execution_count": null,
   "id": "71d4961d",
   "metadata": {},
   "outputs": [],
   "source": [
    "D12 = wasserstein_dist_signed(eps1,eps2)\n",
    "D12.round(3)"
   ]
  },
  {
   "cell_type": "code",
   "execution_count": 26,
   "id": "14a6116b",
   "metadata": {},
   "outputs": [],
   "source": [
    "def minimum_matching(D):\n",
    "    p1, p2 = D.shape\n",
    "    matching = {}\n",
    "    for i in range(p1):\n",
    "        row_argmin = D[i,:].argmin()\n",
    "        if D[:,row_argmin].argmin() == i:\n",
    "            matching[i] = row_argmin\n",
    "    return matching"
   ]
  },
  {
   "cell_type": "code",
   "execution_count": 27,
   "id": "e87e16b9",
   "metadata": {},
   "outputs": [
    {
     "data": {
      "text/plain": [
       "{0: 0, 2: 1}"
      ]
     },
     "execution_count": 27,
     "metadata": {},
     "output_type": "execute_result"
    }
   ],
   "source": [
    "minimum_matching(D12)"
   ]
  },
  {
   "cell_type": "code",
   "execution_count": 28,
   "id": "c1690555",
   "metadata": {},
   "outputs": [
    {
     "data": {
      "text/plain": [
       "array([[0.279, 0.38 , 0.003],\n",
       "       [0.298, 0.224, 0.55 ],\n",
       "       [0.102, 0.002, 0.38 ]])"
      ]
     },
     "execution_count": 28,
     "metadata": {},
     "output_type": "execute_result"
    }
   ],
   "source": [
    "D13 = wasserstein_dist_signed(eps1,eps3)\n",
    "D13.round(3)"
   ]
  },
  {
   "cell_type": "code",
   "execution_count": 29,
   "id": "8764a181",
   "metadata": {},
   "outputs": [
    {
     "data": {
      "text/plain": [
       "{0: 2, 2: 1}"
      ]
     },
     "execution_count": 29,
     "metadata": {},
     "output_type": "execute_result"
    }
   ],
   "source": [
    "minimum_matching(D13)"
   ]
  },
  {
   "cell_type": "code",
   "execution_count": 30,
   "id": "75b8a44e",
   "metadata": {},
   "outputs": [
    {
     "data": {
      "text/plain": [
       "array([[0.278, 0.379, 0.004],\n",
       "       [0.101, 0.005, 0.379],\n",
       "       [0.117, 0.218, 0.168]])"
      ]
     },
     "execution_count": 30,
     "metadata": {},
     "output_type": "execute_result"
    }
   ],
   "source": [
    "D23 = wasserstein_dist_signed(eps2,eps3)\n",
    "D23.round(3)"
   ]
  },
  {
   "cell_type": "code",
   "execution_count": 31,
   "id": "77502277",
   "metadata": {},
   "outputs": [
    {
     "data": {
      "text/plain": [
       "{0: 2, 1: 1}"
      ]
     },
     "execution_count": 31,
     "metadata": {},
     "output_type": "execute_result"
    }
   ],
   "source": [
    "minimum_matching(D23)"
   ]
  },
  {
   "cell_type": "code",
   "execution_count": 32,
   "id": "a94b1970",
   "metadata": {},
   "outputs": [],
   "source": [
    "# Definition of a joint factor:\n",
    "# A collection of distributions of size |E| such that \n",
    "# - all distibutions within that joint factor match"
   ]
  },
  {
   "cell_type": "code",
   "execution_count": 34,
   "id": "110e6a98",
   "metadata": {},
   "outputs": [],
   "source": [
    "# Collect factors\n",
    "f1 = [0,0,2]\n",
    "f2 = [2,1,1]\n",
    "\n",
    "# joint latent space has size 2"
   ]
  },
  {
   "cell_type": "markdown",
   "id": "8a8c7427",
   "metadata": {},
   "source": [
    "## TODO\n",
    "- collect factors automatically from matching\n",
    "- built joint mixing matrix\n",
    "- recover empirically the joint distribution\n"
   ]
  },
  {
   "cell_type": "code",
   "execution_count": null,
   "id": "b7260247",
   "metadata": {},
   "outputs": [],
   "source": []
  }
 ],
 "metadata": {
  "kernelspec": {
   "display_name": "Python 3 (ipykernel)",
   "language": "python",
   "name": "python3"
  },
  "language_info": {
   "codemirror_mode": {
    "name": "ipython",
    "version": 3
   },
   "file_extension": ".py",
   "mimetype": "text/x-python",
   "name": "python",
   "nbconvert_exporter": "python",
   "pygments_lexer": "ipython3",
   "version": "3.9.12"
  }
 },
 "nbformat": 4,
 "nbformat_minor": 5
}
